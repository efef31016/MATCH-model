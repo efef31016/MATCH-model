{
 "metadata": {
  "language_info": {
   "codemirror_mode": {
    "name": "ipython",
    "version": 3
   },
   "file_extension": ".py",
   "mimetype": "text/x-python",
   "name": "python",
   "nbconvert_exporter": "python",
   "pygments_lexer": "ipython3",
   "version": "3.8.10"
  },
  "orig_nbformat": 2,
  "kernelspec": {
   "name": "python3",
   "display_name": "Python 3.8.10 64-bit ('switch_247': conda)"
  },
  "interpreter": {
   "hash": "b5cd7b7571e6318f5fd6adc9cee12d73eccc93ada83e657cc8f1c05b47d15a2e"
  }
 },
 "nbformat": 4,
 "nbformat_minor": 2,
 "cells": [
  {
   "cell_type": "markdown",
   "source": [
    "This notebook can be used to run the simulation instead of having to type the commands into the command line interface"
   ],
   "metadata": {}
  },
  {
   "cell_type": "code",
   "execution_count": 2,
   "source": [
    "# Copyright (c) 2021 The MATCH Authors. All rights reserved.\r\n",
    "# Licensed under the Apache License, Version 2.0, which is in the LICENSE file.\r\n",
    "\r\n",
    "import multiprocessing as mp\r\n",
    "import os\r\n",
    "from pathlib import Path\r\n",
    "import generate_input_files\r\n",
    "import shutil"
   ],
   "outputs": [],
   "metadata": {}
  },
  {
   "cell_type": "markdown",
   "source": [
    "# Specify the location of your local MODEL_RUNS directory"
   ],
   "metadata": {}
  },
  {
   "cell_type": "code",
   "execution_count": 20,
   "source": [
    "# specify the location of the model runs folder you will be using, relative to the switch_model directory\r\n",
    "# the default location is the MODEL_RUNS directory within the Git repo\r\n",
    "# however, if you want to save model runs in a alternate location, such as a Box folder, you could use something like:\r\n",
    "#model_runs_folder = '../../../Box/Supply/24x7 Time-Coincident Work/MODEL_RUNS'\r\n",
    "model_runs_folder = '../MODEL_RUNS'\r\n",
    "\r\n",
    "# enter the name of the folder within your MODEL_RUNS folder where the input and output files for this specific model run are located\r\n",
    "model_run_name = 'test_PCE'\r\n",
    "\r\n",
    "model_workspace = Path.cwd() / f'{model_runs_folder}/{model_run_name}'"
   ],
   "outputs": [],
   "metadata": {}
  },
  {
   "cell_type": "code",
   "execution_count": 40,
   "source": [
    "import pandas as pd\r\n",
    "\r\n",
    "\r\n",
    "\r\n",
    "model_inputs = model_workspace/ 'model_inputs.xlsx'\r\n",
    "xl_gen = pd.read_excel(io=model_inputs, sheet_name='generation').dropna(axis=1, how='all')\r\n",
    "\r\n",
    "\r\n",
    "xl_nodal_prices = pd.read_excel(io=model_inputs, sheet_name='nodal_prices', index_col='Datetime', skiprows=1).dropna(axis=1, how='all')\r\n",
    "\r\n",
    "\r\n",
    "manual_vcf = pd.read_excel(io=model_inputs, sheet_name='manual_capacity_factors', index_col='Datetime').dropna(axis=1, how='all').reset_index(drop=True)\r\n"
   ],
   "outputs": [],
   "metadata": {}
  },
  {
   "cell_type": "code",
   "execution_count": 56,
   "source": [
    "gen = 'ONWIND_Buena_Extension'\r\n",
    "ppa_price = xl_gen.loc[xl_gen['GENERATION_PROJECT'] == gen, 'ppa_energy_cost'].values[0]\r\n",
    "node = xl_gen.loc[xl_gen['GENERATION_PROJECT'] == gen, 'gen_pricing_node'].values[0]\r\n",
    "nodal_price = xl_nodal_prices.copy()[[node]].reset_index(drop=True)\r\n",
    "profile = manual_vcf.copy()[[gen]].reset_index(drop=True)"
   ],
   "outputs": [],
   "metadata": {}
  },
  {
   "cell_type": "code",
   "execution_count": 57,
   "source": [
    "(profile[gen] * ppa_price).mean()"
   ],
   "outputs": [
    {
     "output_type": "execute_result",
     "data": {
      "text/plain": [
       "16.611089146694137"
      ]
     },
     "metadata": {},
     "execution_count": 57
    }
   ],
   "metadata": {}
  },
  {
   "cell_type": "code",
   "execution_count": 58,
   "source": [
    "(nodal_price[node] * profile[gen]).mean()"
   ],
   "outputs": [
    {
     "output_type": "execute_result",
     "data": {
      "text/plain": [
       "14.005793411906373"
      ]
     },
     "metadata": {},
     "execution_count": 58
    }
   ],
   "metadata": {}
  },
  {
   "cell_type": "markdown",
   "source": [
    "# Generate and Validate model inputs\r\n",
    "1. If input files do not yet exist, create them\r\n",
    "2. If input files exist, check that the current software version matches the version that was used to generate the inputs\r\n",
    "3. If the versions do not match, we need to re-generate the input files to ensure consistency"
   ],
   "metadata": {}
  },
  {
   "cell_type": "code",
   "execution_count": 17,
   "source": [
    "# check if the directory exists\r\n",
    "if os.path.exists(model_workspace / 'inputs'):\r\n",
    "    # check that an inputs version file exists\r\n",
    "    if os.path.exists(model_workspace / 'inputs_version.txt'):\r\n",
    "        # get the version number\r\n",
    "        with open(model_workspace / 'inputs_version.txt', 'r') as i:\r\n",
    "            inputs_version = i.read()\r\n",
    "        # get the current version number\r\n",
    "        version_path = Path.cwd() / 'version.py'\r\n",
    "        version = {}\r\n",
    "        with open(version_path) as f:\r\n",
    "            exec(f.read(), version)\r\n",
    "        version = version['__version__']\r\n",
    "        # check if the versions match\r\n",
    "        if version == inputs_version:\r\n",
    "            print(f'Input files already generated with current software version ({version})')\r\n",
    "        else:\r\n",
    "            print(f'Inputs were generated using version {inputs_version}. Current version is {version}')\r\n",
    "            print('Removing old files and re-generating inputs with current version. Please wait...')\r\n",
    "            old_files = os.listdir(model_workspace)\r\n",
    "            old_files.remove('model_inputs.xlsx')\r\n",
    "            for f in old_files:\r\n",
    "                try:\r\n",
    "                    os.remove(model_workspace / f)\r\n",
    "                except PermissionError:\r\n",
    "                    shutil.rmtree(model_workspace / f)\r\n",
    "            generate_input_files.generate_inputs(model_workspace)\r\n",
    "    else: \r\n",
    "        print('Inputs were generated prior to version 0.1.0. Re-generating inputs now...')\r\n",
    "        old_files = os.listdir(model_workspace)\r\n",
    "        old_files.remove('model_inputs.xlsx')\r\n",
    "        for f in old_files:\r\n",
    "            try:\r\n",
    "                os.remove(model_workspace / f)\r\n",
    "            except PermissionError:\r\n",
    "                shutil.rmtree(model_workspace / f)\r\n",
    "        generate_input_files.generate_inputs(model_workspace)\r\n",
    "# if the directory does not exist, generate the input files\r\n",
    "else:\r\n",
    "    print('Generating inputs now...')\r\n",
    "    generate_input_files.generate_inputs(model_workspace)"
   ],
   "outputs": [
    {
     "output_type": "stream",
     "name": "stdout",
     "text": [
      "Inputs were generated prior to version 0.1.0. Re-generating inputs now...\n",
      "Copying CBC solver to model run directory...\n",
      "Writing options.txt...\n",
      "Creating input and output folders for each scenario...\n",
      "Loading data from excel spreadsheet...\n",
      "Generating capacity factor timeseries for base_set\n",
      "\n",
      "Starting data download for wind using 1 thread workers.\n",
      "Downloading file from WIND Toolkit for 37.74, -121.66.\n"
     ]
    },
    {
     "output_type": "stream",
     "name": "stderr",
     "text": [
      "C:\\Users\\gmiller\\miniconda3\\envs\\switch_247\\lib\\site-packages\\urllib3\\connectionpool.py:1013: InsecureRequestWarning: Unverified HTTPS request is being made to host 'developer.nrel.gov'. Adding certificate verification is strongly advised. See: https://urllib3.readthedocs.io/en/1.26.x/advanced-usage.html#ssl-warnings\n",
      "  warnings.warn(\n",
      "C:\\Users\\gmiller\\miniconda3\\envs\\switch_247\\lib\\site-packages\\urllib3\\connectionpool.py:1013: InsecureRequestWarning: Unverified HTTPS request is being made to host 'mapfiles.nrel.gov'. Adding certificate verification is strongly advised. See: https://urllib3.readthedocs.io/en/1.26.x/advanced-usage.html#ssl-warnings\n",
      "  warnings.warn(\n",
      "C:\\Users\\gmiller\\miniconda3\\envs\\switch_247\\lib\\site-packages\\urllib3\\connectionpool.py:1013: InsecureRequestWarning: Unverified HTTPS request is being made to host 'gds-hsds-wtk-files.nrelcloud.org'. Adding certificate verification is strongly advised. See: https://urllib3.readthedocs.io/en/1.26.x/advanced-usage.html#ssl-warnings\n",
      "  warnings.warn(\n"
     ]
    },
    {
     "output_type": "stream",
     "name": "stdout",
     "text": [
      "Success! File downloaded to c:\\Users\\gmiller\\GitHub\\SWITCH247\\switch_model\\..\\MODEL_RUNS\\generic_office_example\\base_set\\PySAM Downloaded Weather Files\\Wind\\windtoolkit_37.74_-121.66_60min_80m_2010.srw.\n",
      "Downloading file from WIND Toolkit for 34.94, -117.54.\n"
     ]
    },
    {
     "output_type": "stream",
     "name": "stderr",
     "text": [
      "C:\\Users\\gmiller\\miniconda3\\envs\\switch_247\\lib\\site-packages\\urllib3\\connectionpool.py:1013: InsecureRequestWarning: Unverified HTTPS request is being made to host 'developer.nrel.gov'. Adding certificate verification is strongly advised. See: https://urllib3.readthedocs.io/en/1.26.x/advanced-usage.html#ssl-warnings\n",
      "  warnings.warn(\n",
      "C:\\Users\\gmiller\\miniconda3\\envs\\switch_247\\lib\\site-packages\\urllib3\\connectionpool.py:1013: InsecureRequestWarning: Unverified HTTPS request is being made to host 'mapfiles.nrel.gov'. Adding certificate verification is strongly advised. See: https://urllib3.readthedocs.io/en/1.26.x/advanced-usage.html#ssl-warnings\n",
      "  warnings.warn(\n",
      "C:\\Users\\gmiller\\miniconda3\\envs\\switch_247\\lib\\site-packages\\urllib3\\connectionpool.py:1013: InsecureRequestWarning: Unverified HTTPS request is being made to host 'gds-hsds-wtk-files.nrelcloud.org'. Adding certificate verification is strongly advised. See: https://urllib3.readthedocs.io/en/1.26.x/advanced-usage.html#ssl-warnings\n",
      "  warnings.warn(\n"
     ]
    },
    {
     "output_type": "stream",
     "name": "stdout",
     "text": [
      "Success! File downloaded to c:\\Users\\gmiller\\GitHub\\SWITCH247\\switch_model\\..\\MODEL_RUNS\\generic_office_example\\base_set\\PySAM Downloaded Weather Files\\Wind\\windtoolkit_34.94_-117.54_60min_80m_2010.srw.\n",
      "Downloading file from WIND Toolkit for 32.69, -116.33.\n"
     ]
    },
    {
     "output_type": "stream",
     "name": "stderr",
     "text": [
      "C:\\Users\\gmiller\\miniconda3\\envs\\switch_247\\lib\\site-packages\\urllib3\\connectionpool.py:1013: InsecureRequestWarning: Unverified HTTPS request is being made to host 'developer.nrel.gov'. Adding certificate verification is strongly advised. See: https://urllib3.readthedocs.io/en/1.26.x/advanced-usage.html#ssl-warnings\n",
      "  warnings.warn(\n",
      "C:\\Users\\gmiller\\miniconda3\\envs\\switch_247\\lib\\site-packages\\urllib3\\connectionpool.py:1013: InsecureRequestWarning: Unverified HTTPS request is being made to host 'mapfiles.nrel.gov'. Adding certificate verification is strongly advised. See: https://urllib3.readthedocs.io/en/1.26.x/advanced-usage.html#ssl-warnings\n",
      "  warnings.warn(\n",
      "C:\\Users\\gmiller\\miniconda3\\envs\\switch_247\\lib\\site-packages\\urllib3\\connectionpool.py:1013: InsecureRequestWarning: Unverified HTTPS request is being made to host 'gds-hsds-wtk-files.nrelcloud.org'. Adding certificate verification is strongly advised. See: https://urllib3.readthedocs.io/en/1.26.x/advanced-usage.html#ssl-warnings\n",
      "  warnings.warn(\n"
     ]
    },
    {
     "output_type": "stream",
     "name": "stdout",
     "text": [
      "Success! File downloaded to c:\\Users\\gmiller\\GitHub\\SWITCH247\\switch_model\\..\\MODEL_RUNS\\generic_office_example\\base_set\\PySAM Downloaded Weather Files\\Wind\\windtoolkit_32.69_-116.33_60min_80m_2010.srw.\n",
      "Downloading file from WIND Toolkit for 40.94, -121.95.\n"
     ]
    },
    {
     "output_type": "stream",
     "name": "stderr",
     "text": [
      "C:\\Users\\gmiller\\miniconda3\\envs\\switch_247\\lib\\site-packages\\urllib3\\connectionpool.py:1013: InsecureRequestWarning: Unverified HTTPS request is being made to host 'developer.nrel.gov'. Adding certificate verification is strongly advised. See: https://urllib3.readthedocs.io/en/1.26.x/advanced-usage.html#ssl-warnings\n",
      "  warnings.warn(\n",
      "C:\\Users\\gmiller\\miniconda3\\envs\\switch_247\\lib\\site-packages\\urllib3\\connectionpool.py:1013: InsecureRequestWarning: Unverified HTTPS request is being made to host 'mapfiles.nrel.gov'. Adding certificate verification is strongly advised. See: https://urllib3.readthedocs.io/en/1.26.x/advanced-usage.html#ssl-warnings\n",
      "  warnings.warn(\n",
      "C:\\Users\\gmiller\\miniconda3\\envs\\switch_247\\lib\\site-packages\\urllib3\\connectionpool.py:1013: InsecureRequestWarning: Unverified HTTPS request is being made to host 'gds-hsds-wtk-files.nrelcloud.org'. Adding certificate verification is strongly advised. See: https://urllib3.readthedocs.io/en/1.26.x/advanced-usage.html#ssl-warnings\n",
      "  warnings.warn(\n"
     ]
    },
    {
     "output_type": "stream",
     "name": "stdout",
     "text": [
      "Success! File downloaded to c:\\Users\\gmiller\\GitHub\\SWITCH247\\switch_model\\..\\MODEL_RUNS\\generic_office_example\\base_set\\PySAM Downloaded Weather Files\\Wind\\windtoolkit_40.94_-121.95_60min_80m_2010.srw.\n",
      "Downloading file from WIND Toolkit for 35.11, -118.2.\n"
     ]
    },
    {
     "output_type": "stream",
     "name": "stderr",
     "text": [
      "C:\\Users\\gmiller\\miniconda3\\envs\\switch_247\\lib\\site-packages\\urllib3\\connectionpool.py:1013: InsecureRequestWarning: Unverified HTTPS request is being made to host 'developer.nrel.gov'. Adding certificate verification is strongly advised. See: https://urllib3.readthedocs.io/en/1.26.x/advanced-usage.html#ssl-warnings\n",
      "  warnings.warn(\n",
      "C:\\Users\\gmiller\\miniconda3\\envs\\switch_247\\lib\\site-packages\\urllib3\\connectionpool.py:1013: InsecureRequestWarning: Unverified HTTPS request is being made to host 'mapfiles.nrel.gov'. Adding certificate verification is strongly advised. See: https://urllib3.readthedocs.io/en/1.26.x/advanced-usage.html#ssl-warnings\n",
      "  warnings.warn(\n",
      "C:\\Users\\gmiller\\miniconda3\\envs\\switch_247\\lib\\site-packages\\urllib3\\connectionpool.py:1013: InsecureRequestWarning: Unverified HTTPS request is being made to host 'gds-hsds-wtk-files.nrelcloud.org'. Adding certificate verification is strongly advised. See: https://urllib3.readthedocs.io/en/1.26.x/advanced-usage.html#ssl-warnings\n",
      "  warnings.warn(\n"
     ]
    },
    {
     "output_type": "stream",
     "name": "stdout",
     "text": [
      "Success! File downloaded to c:\\Users\\gmiller\\GitHub\\SWITCH247\\switch_model\\..\\MODEL_RUNS\\generic_office_example\\base_set\\PySAM Downloaded Weather Files\\Wind\\windtoolkit_35.11_-118.2_60min_80m_2010.srw.\n",
      "\n",
      "Starting data download for wind using 1 thread workers.\n",
      "Downloading file from WIND Toolkit for 37.74, -121.66.\n"
     ]
    },
    {
     "output_type": "stream",
     "name": "stderr",
     "text": [
      "C:\\Users\\gmiller\\miniconda3\\envs\\switch_247\\lib\\site-packages\\urllib3\\connectionpool.py:1013: InsecureRequestWarning: Unverified HTTPS request is being made to host 'developer.nrel.gov'. Adding certificate verification is strongly advised. See: https://urllib3.readthedocs.io/en/1.26.x/advanced-usage.html#ssl-warnings\n",
      "  warnings.warn(\n",
      "C:\\Users\\gmiller\\miniconda3\\envs\\switch_247\\lib\\site-packages\\urllib3\\connectionpool.py:1013: InsecureRequestWarning: Unverified HTTPS request is being made to host 'mapfiles.nrel.gov'. Adding certificate verification is strongly advised. See: https://urllib3.readthedocs.io/en/1.26.x/advanced-usage.html#ssl-warnings\n",
      "  warnings.warn(\n",
      "C:\\Users\\gmiller\\miniconda3\\envs\\switch_247\\lib\\site-packages\\urllib3\\connectionpool.py:1013: InsecureRequestWarning: Unverified HTTPS request is being made to host 'gds-hsds-wtk-files.nrelcloud.org'. Adding certificate verification is strongly advised. See: https://urllib3.readthedocs.io/en/1.26.x/advanced-usage.html#ssl-warnings\n",
      "  warnings.warn(\n"
     ]
    },
    {
     "output_type": "stream",
     "name": "stdout",
     "text": [
      "Success! File downloaded to c:\\Users\\gmiller\\GitHub\\SWITCH247\\switch_model\\..\\MODEL_RUNS\\generic_office_example\\base_set\\PySAM Downloaded Weather Files\\Wind\\windtoolkit_37.74_-121.66_60min_80m_2011.srw.\n",
      "Downloading file from WIND Toolkit for 34.94, -117.54.\n"
     ]
    },
    {
     "output_type": "stream",
     "name": "stderr",
     "text": [
      "C:\\Users\\gmiller\\miniconda3\\envs\\switch_247\\lib\\site-packages\\urllib3\\connectionpool.py:1013: InsecureRequestWarning: Unverified HTTPS request is being made to host 'developer.nrel.gov'. Adding certificate verification is strongly advised. See: https://urllib3.readthedocs.io/en/1.26.x/advanced-usage.html#ssl-warnings\n",
      "  warnings.warn(\n",
      "C:\\Users\\gmiller\\miniconda3\\envs\\switch_247\\lib\\site-packages\\urllib3\\connectionpool.py:1013: InsecureRequestWarning: Unverified HTTPS request is being made to host 'mapfiles.nrel.gov'. Adding certificate verification is strongly advised. See: https://urllib3.readthedocs.io/en/1.26.x/advanced-usage.html#ssl-warnings\n",
      "  warnings.warn(\n",
      "C:\\Users\\gmiller\\miniconda3\\envs\\switch_247\\lib\\site-packages\\urllib3\\connectionpool.py:1013: InsecureRequestWarning: Unverified HTTPS request is being made to host 'gds-hsds-wtk-files.nrelcloud.org'. Adding certificate verification is strongly advised. See: https://urllib3.readthedocs.io/en/1.26.x/advanced-usage.html#ssl-warnings\n",
      "  warnings.warn(\n"
     ]
    },
    {
     "output_type": "stream",
     "name": "stdout",
     "text": [
      "Success! File downloaded to c:\\Users\\gmiller\\GitHub\\SWITCH247\\switch_model\\..\\MODEL_RUNS\\generic_office_example\\base_set\\PySAM Downloaded Weather Files\\Wind\\windtoolkit_34.94_-117.54_60min_80m_2011.srw.\n",
      "Downloading file from WIND Toolkit for 32.69, -116.33.\n"
     ]
    },
    {
     "output_type": "stream",
     "name": "stderr",
     "text": [
      "C:\\Users\\gmiller\\miniconda3\\envs\\switch_247\\lib\\site-packages\\urllib3\\connectionpool.py:1013: InsecureRequestWarning: Unverified HTTPS request is being made to host 'developer.nrel.gov'. Adding certificate verification is strongly advised. See: https://urllib3.readthedocs.io/en/1.26.x/advanced-usage.html#ssl-warnings\n",
      "  warnings.warn(\n",
      "C:\\Users\\gmiller\\miniconda3\\envs\\switch_247\\lib\\site-packages\\urllib3\\connectionpool.py:1013: InsecureRequestWarning: Unverified HTTPS request is being made to host 'mapfiles.nrel.gov'. Adding certificate verification is strongly advised. See: https://urllib3.readthedocs.io/en/1.26.x/advanced-usage.html#ssl-warnings\n",
      "  warnings.warn(\n",
      "C:\\Users\\gmiller\\miniconda3\\envs\\switch_247\\lib\\site-packages\\urllib3\\connectionpool.py:1013: InsecureRequestWarning: Unverified HTTPS request is being made to host 'gds-hsds-wtk-files.nrelcloud.org'. Adding certificate verification is strongly advised. See: https://urllib3.readthedocs.io/en/1.26.x/advanced-usage.html#ssl-warnings\n",
      "  warnings.warn(\n"
     ]
    },
    {
     "output_type": "stream",
     "name": "stdout",
     "text": [
      "Success! File downloaded to c:\\Users\\gmiller\\GitHub\\SWITCH247\\switch_model\\..\\MODEL_RUNS\\generic_office_example\\base_set\\PySAM Downloaded Weather Files\\Wind\\windtoolkit_32.69_-116.33_60min_80m_2011.srw.\n",
      "Downloading file from WIND Toolkit for 40.94, -121.95.\n"
     ]
    },
    {
     "output_type": "stream",
     "name": "stderr",
     "text": [
      "C:\\Users\\gmiller\\miniconda3\\envs\\switch_247\\lib\\site-packages\\urllib3\\connectionpool.py:1013: InsecureRequestWarning: Unverified HTTPS request is being made to host 'developer.nrel.gov'. Adding certificate verification is strongly advised. See: https://urllib3.readthedocs.io/en/1.26.x/advanced-usage.html#ssl-warnings\n",
      "  warnings.warn(\n",
      "C:\\Users\\gmiller\\miniconda3\\envs\\switch_247\\lib\\site-packages\\urllib3\\connectionpool.py:1013: InsecureRequestWarning: Unverified HTTPS request is being made to host 'mapfiles.nrel.gov'. Adding certificate verification is strongly advised. See: https://urllib3.readthedocs.io/en/1.26.x/advanced-usage.html#ssl-warnings\n",
      "  warnings.warn(\n",
      "C:\\Users\\gmiller\\miniconda3\\envs\\switch_247\\lib\\site-packages\\urllib3\\connectionpool.py:1013: InsecureRequestWarning: Unverified HTTPS request is being made to host 'gds-hsds-wtk-files.nrelcloud.org'. Adding certificate verification is strongly advised. See: https://urllib3.readthedocs.io/en/1.26.x/advanced-usage.html#ssl-warnings\n",
      "  warnings.warn(\n"
     ]
    },
    {
     "output_type": "stream",
     "name": "stdout",
     "text": [
      "Success! File downloaded to c:\\Users\\gmiller\\GitHub\\SWITCH247\\switch_model\\..\\MODEL_RUNS\\generic_office_example\\base_set\\PySAM Downloaded Weather Files\\Wind\\windtoolkit_40.94_-121.95_60min_80m_2011.srw.\n",
      "Downloading file from WIND Toolkit for 35.11, -118.2.\n"
     ]
    },
    {
     "output_type": "stream",
     "name": "stderr",
     "text": [
      "C:\\Users\\gmiller\\miniconda3\\envs\\switch_247\\lib\\site-packages\\urllib3\\connectionpool.py:1013: InsecureRequestWarning: Unverified HTTPS request is being made to host 'developer.nrel.gov'. Adding certificate verification is strongly advised. See: https://urllib3.readthedocs.io/en/1.26.x/advanced-usage.html#ssl-warnings\n",
      "  warnings.warn(\n",
      "C:\\Users\\gmiller\\miniconda3\\envs\\switch_247\\lib\\site-packages\\urllib3\\connectionpool.py:1013: InsecureRequestWarning: Unverified HTTPS request is being made to host 'mapfiles.nrel.gov'. Adding certificate verification is strongly advised. See: https://urllib3.readthedocs.io/en/1.26.x/advanced-usage.html#ssl-warnings\n",
      "  warnings.warn(\n",
      "C:\\Users\\gmiller\\miniconda3\\envs\\switch_247\\lib\\site-packages\\urllib3\\connectionpool.py:1013: InsecureRequestWarning: Unverified HTTPS request is being made to host 'gds-hsds-wtk-files.nrelcloud.org'. Adding certificate verification is strongly advised. See: https://urllib3.readthedocs.io/en/1.26.x/advanced-usage.html#ssl-warnings\n",
      "  warnings.warn(\n"
     ]
    },
    {
     "output_type": "stream",
     "name": "stdout",
     "text": [
      "Success! File downloaded to c:\\Users\\gmiller\\GitHub\\SWITCH247\\switch_model\\..\\MODEL_RUNS\\generic_office_example\\base_set\\PySAM Downloaded Weather Files\\Wind\\windtoolkit_35.11_-118.2_60min_80m_2011.srw.\n",
      "\n",
      "Starting data download for wind using 1 thread workers.\n",
      "Downloading file from WIND Toolkit for 37.74, -121.66.\n"
     ]
    },
    {
     "output_type": "stream",
     "name": "stderr",
     "text": [
      "C:\\Users\\gmiller\\miniconda3\\envs\\switch_247\\lib\\site-packages\\urllib3\\connectionpool.py:1013: InsecureRequestWarning: Unverified HTTPS request is being made to host 'developer.nrel.gov'. Adding certificate verification is strongly advised. See: https://urllib3.readthedocs.io/en/1.26.x/advanced-usage.html#ssl-warnings\n",
      "  warnings.warn(\n",
      "C:\\Users\\gmiller\\miniconda3\\envs\\switch_247\\lib\\site-packages\\urllib3\\connectionpool.py:1013: InsecureRequestWarning: Unverified HTTPS request is being made to host 'mapfiles.nrel.gov'. Adding certificate verification is strongly advised. See: https://urllib3.readthedocs.io/en/1.26.x/advanced-usage.html#ssl-warnings\n",
      "  warnings.warn(\n",
      "C:\\Users\\gmiller\\miniconda3\\envs\\switch_247\\lib\\site-packages\\urllib3\\connectionpool.py:1013: InsecureRequestWarning: Unverified HTTPS request is being made to host 'gds-hsds-wtk-files.nrelcloud.org'. Adding certificate verification is strongly advised. See: https://urllib3.readthedocs.io/en/1.26.x/advanced-usage.html#ssl-warnings\n",
      "  warnings.warn(\n"
     ]
    },
    {
     "output_type": "stream",
     "name": "stdout",
     "text": [
      "Success! File downloaded to c:\\Users\\gmiller\\GitHub\\SWITCH247\\switch_model\\..\\MODEL_RUNS\\generic_office_example\\base_set\\PySAM Downloaded Weather Files\\Wind\\windtoolkit_37.74_-121.66_60min_80m_2012.srw.\n",
      "Downloading file from WIND Toolkit for 34.94, -117.54.\n"
     ]
    },
    {
     "output_type": "stream",
     "name": "stderr",
     "text": [
      "C:\\Users\\gmiller\\miniconda3\\envs\\switch_247\\lib\\site-packages\\urllib3\\connectionpool.py:1013: InsecureRequestWarning: Unverified HTTPS request is being made to host 'developer.nrel.gov'. Adding certificate verification is strongly advised. See: https://urllib3.readthedocs.io/en/1.26.x/advanced-usage.html#ssl-warnings\n",
      "  warnings.warn(\n",
      "C:\\Users\\gmiller\\miniconda3\\envs\\switch_247\\lib\\site-packages\\urllib3\\connectionpool.py:1013: InsecureRequestWarning: Unverified HTTPS request is being made to host 'mapfiles.nrel.gov'. Adding certificate verification is strongly advised. See: https://urllib3.readthedocs.io/en/1.26.x/advanced-usage.html#ssl-warnings\n",
      "  warnings.warn(\n",
      "C:\\Users\\gmiller\\miniconda3\\envs\\switch_247\\lib\\site-packages\\urllib3\\connectionpool.py:1013: InsecureRequestWarning: Unverified HTTPS request is being made to host 'gds-hsds-wtk-files.nrelcloud.org'. Adding certificate verification is strongly advised. See: https://urllib3.readthedocs.io/en/1.26.x/advanced-usage.html#ssl-warnings\n",
      "  warnings.warn(\n"
     ]
    },
    {
     "output_type": "stream",
     "name": "stdout",
     "text": [
      "Success! File downloaded to c:\\Users\\gmiller\\GitHub\\SWITCH247\\switch_model\\..\\MODEL_RUNS\\generic_office_example\\base_set\\PySAM Downloaded Weather Files\\Wind\\windtoolkit_34.94_-117.54_60min_80m_2012.srw.\n",
      "Downloading file from WIND Toolkit for 32.69, -116.33.\n"
     ]
    },
    {
     "output_type": "stream",
     "name": "stderr",
     "text": [
      "C:\\Users\\gmiller\\miniconda3\\envs\\switch_247\\lib\\site-packages\\urllib3\\connectionpool.py:1013: InsecureRequestWarning: Unverified HTTPS request is being made to host 'developer.nrel.gov'. Adding certificate verification is strongly advised. See: https://urllib3.readthedocs.io/en/1.26.x/advanced-usage.html#ssl-warnings\n",
      "  warnings.warn(\n",
      "C:\\Users\\gmiller\\miniconda3\\envs\\switch_247\\lib\\site-packages\\urllib3\\connectionpool.py:1013: InsecureRequestWarning: Unverified HTTPS request is being made to host 'mapfiles.nrel.gov'. Adding certificate verification is strongly advised. See: https://urllib3.readthedocs.io/en/1.26.x/advanced-usage.html#ssl-warnings\n",
      "  warnings.warn(\n",
      "C:\\Users\\gmiller\\miniconda3\\envs\\switch_247\\lib\\site-packages\\urllib3\\connectionpool.py:1013: InsecureRequestWarning: Unverified HTTPS request is being made to host 'gds-hsds-wtk-files.nrelcloud.org'. Adding certificate verification is strongly advised. See: https://urllib3.readthedocs.io/en/1.26.x/advanced-usage.html#ssl-warnings\n",
      "  warnings.warn(\n"
     ]
    },
    {
     "output_type": "stream",
     "name": "stdout",
     "text": [
      "Success! File downloaded to c:\\Users\\gmiller\\GitHub\\SWITCH247\\switch_model\\..\\MODEL_RUNS\\generic_office_example\\base_set\\PySAM Downloaded Weather Files\\Wind\\windtoolkit_32.69_-116.33_60min_80m_2012.srw.\n",
      "Downloading file from WIND Toolkit for 40.94, -121.95.\n"
     ]
    },
    {
     "output_type": "stream",
     "name": "stderr",
     "text": [
      "C:\\Users\\gmiller\\miniconda3\\envs\\switch_247\\lib\\site-packages\\urllib3\\connectionpool.py:1013: InsecureRequestWarning: Unverified HTTPS request is being made to host 'developer.nrel.gov'. Adding certificate verification is strongly advised. See: https://urllib3.readthedocs.io/en/1.26.x/advanced-usage.html#ssl-warnings\n",
      "  warnings.warn(\n",
      "C:\\Users\\gmiller\\miniconda3\\envs\\switch_247\\lib\\site-packages\\urllib3\\connectionpool.py:1013: InsecureRequestWarning: Unverified HTTPS request is being made to host 'mapfiles.nrel.gov'. Adding certificate verification is strongly advised. See: https://urllib3.readthedocs.io/en/1.26.x/advanced-usage.html#ssl-warnings\n",
      "  warnings.warn(\n",
      "C:\\Users\\gmiller\\miniconda3\\envs\\switch_247\\lib\\site-packages\\urllib3\\connectionpool.py:1013: InsecureRequestWarning: Unverified HTTPS request is being made to host 'gds-hsds-wtk-files.nrelcloud.org'. Adding certificate verification is strongly advised. See: https://urllib3.readthedocs.io/en/1.26.x/advanced-usage.html#ssl-warnings\n",
      "  warnings.warn(\n"
     ]
    },
    {
     "output_type": "stream",
     "name": "stdout",
     "text": [
      "Success! File downloaded to c:\\Users\\gmiller\\GitHub\\SWITCH247\\switch_model\\..\\MODEL_RUNS\\generic_office_example\\base_set\\PySAM Downloaded Weather Files\\Wind\\windtoolkit_40.94_-121.95_60min_80m_2012.srw.\n",
      "Downloading file from WIND Toolkit for 35.11, -118.2.\n"
     ]
    },
    {
     "output_type": "stream",
     "name": "stderr",
     "text": [
      "C:\\Users\\gmiller\\miniconda3\\envs\\switch_247\\lib\\site-packages\\urllib3\\connectionpool.py:1013: InsecureRequestWarning: Unverified HTTPS request is being made to host 'developer.nrel.gov'. Adding certificate verification is strongly advised. See: https://urllib3.readthedocs.io/en/1.26.x/advanced-usage.html#ssl-warnings\n",
      "  warnings.warn(\n",
      "C:\\Users\\gmiller\\miniconda3\\envs\\switch_247\\lib\\site-packages\\urllib3\\connectionpool.py:1013: InsecureRequestWarning: Unverified HTTPS request is being made to host 'mapfiles.nrel.gov'. Adding certificate verification is strongly advised. See: https://urllib3.readthedocs.io/en/1.26.x/advanced-usage.html#ssl-warnings\n",
      "  warnings.warn(\n",
      "C:\\Users\\gmiller\\miniconda3\\envs\\switch_247\\lib\\site-packages\\urllib3\\connectionpool.py:1013: InsecureRequestWarning: Unverified HTTPS request is being made to host 'gds-hsds-wtk-files.nrelcloud.org'. Adding certificate verification is strongly advised. See: https://urllib3.readthedocs.io/en/1.26.x/advanced-usage.html#ssl-warnings\n",
      "  warnings.warn(\n"
     ]
    },
    {
     "output_type": "stream",
     "name": "stdout",
     "text": [
      "Success! File downloaded to c:\\Users\\gmiller\\GitHub\\SWITCH247\\switch_model\\..\\MODEL_RUNS\\generic_office_example\\base_set\\PySAM Downloaded Weather Files\\Wind\\windtoolkit_35.11_-118.2_60min_80m_2012.srw.\n",
      "\n",
      "Starting data download for wind using 1 thread workers.\n",
      "Downloading file from WIND Toolkit for 37.74, -121.66.\n"
     ]
    },
    {
     "output_type": "stream",
     "name": "stderr",
     "text": [
      "C:\\Users\\gmiller\\miniconda3\\envs\\switch_247\\lib\\site-packages\\urllib3\\connectionpool.py:1013: InsecureRequestWarning: Unverified HTTPS request is being made to host 'developer.nrel.gov'. Adding certificate verification is strongly advised. See: https://urllib3.readthedocs.io/en/1.26.x/advanced-usage.html#ssl-warnings\n",
      "  warnings.warn(\n",
      "C:\\Users\\gmiller\\miniconda3\\envs\\switch_247\\lib\\site-packages\\urllib3\\connectionpool.py:1013: InsecureRequestWarning: Unverified HTTPS request is being made to host 'mapfiles.nrel.gov'. Adding certificate verification is strongly advised. See: https://urllib3.readthedocs.io/en/1.26.x/advanced-usage.html#ssl-warnings\n",
      "  warnings.warn(\n",
      "C:\\Users\\gmiller\\miniconda3\\envs\\switch_247\\lib\\site-packages\\urllib3\\connectionpool.py:1013: InsecureRequestWarning: Unverified HTTPS request is being made to host 'gds-hsds-wtk-files.nrelcloud.org'. Adding certificate verification is strongly advised. See: https://urllib3.readthedocs.io/en/1.26.x/advanced-usage.html#ssl-warnings\n",
      "  warnings.warn(\n"
     ]
    },
    {
     "output_type": "stream",
     "name": "stdout",
     "text": [
      "Success! File downloaded to c:\\Users\\gmiller\\GitHub\\SWITCH247\\switch_model\\..\\MODEL_RUNS\\generic_office_example\\base_set\\PySAM Downloaded Weather Files\\Wind\\windtoolkit_37.74_-121.66_60min_80m_2013.srw.\n",
      "Downloading file from WIND Toolkit for 34.94, -117.54.\n"
     ]
    },
    {
     "output_type": "stream",
     "name": "stderr",
     "text": [
      "C:\\Users\\gmiller\\miniconda3\\envs\\switch_247\\lib\\site-packages\\urllib3\\connectionpool.py:1013: InsecureRequestWarning: Unverified HTTPS request is being made to host 'developer.nrel.gov'. Adding certificate verification is strongly advised. See: https://urllib3.readthedocs.io/en/1.26.x/advanced-usage.html#ssl-warnings\n",
      "  warnings.warn(\n",
      "C:\\Users\\gmiller\\miniconda3\\envs\\switch_247\\lib\\site-packages\\urllib3\\connectionpool.py:1013: InsecureRequestWarning: Unverified HTTPS request is being made to host 'mapfiles.nrel.gov'. Adding certificate verification is strongly advised. See: https://urllib3.readthedocs.io/en/1.26.x/advanced-usage.html#ssl-warnings\n",
      "  warnings.warn(\n",
      "C:\\Users\\gmiller\\miniconda3\\envs\\switch_247\\lib\\site-packages\\urllib3\\connectionpool.py:1013: InsecureRequestWarning: Unverified HTTPS request is being made to host 'gds-hsds-wtk-files.nrelcloud.org'. Adding certificate verification is strongly advised. See: https://urllib3.readthedocs.io/en/1.26.x/advanced-usage.html#ssl-warnings\n",
      "  warnings.warn(\n"
     ]
    },
    {
     "output_type": "stream",
     "name": "stdout",
     "text": [
      "Success! File downloaded to c:\\Users\\gmiller\\GitHub\\SWITCH247\\switch_model\\..\\MODEL_RUNS\\generic_office_example\\base_set\\PySAM Downloaded Weather Files\\Wind\\windtoolkit_34.94_-117.54_60min_80m_2013.srw.\n",
      "Downloading file from WIND Toolkit for 32.69, -116.33.\n"
     ]
    },
    {
     "output_type": "stream",
     "name": "stderr",
     "text": [
      "C:\\Users\\gmiller\\miniconda3\\envs\\switch_247\\lib\\site-packages\\urllib3\\connectionpool.py:1013: InsecureRequestWarning: Unverified HTTPS request is being made to host 'developer.nrel.gov'. Adding certificate verification is strongly advised. See: https://urllib3.readthedocs.io/en/1.26.x/advanced-usage.html#ssl-warnings\n",
      "  warnings.warn(\n",
      "C:\\Users\\gmiller\\miniconda3\\envs\\switch_247\\lib\\site-packages\\urllib3\\connectionpool.py:1013: InsecureRequestWarning: Unverified HTTPS request is being made to host 'mapfiles.nrel.gov'. Adding certificate verification is strongly advised. See: https://urllib3.readthedocs.io/en/1.26.x/advanced-usage.html#ssl-warnings\n",
      "  warnings.warn(\n",
      "C:\\Users\\gmiller\\miniconda3\\envs\\switch_247\\lib\\site-packages\\urllib3\\connectionpool.py:1013: InsecureRequestWarning: Unverified HTTPS request is being made to host 'gds-hsds-wtk-files.nrelcloud.org'. Adding certificate verification is strongly advised. See: https://urllib3.readthedocs.io/en/1.26.x/advanced-usage.html#ssl-warnings\n",
      "  warnings.warn(\n"
     ]
    },
    {
     "output_type": "stream",
     "name": "stdout",
     "text": [
      "Success! File downloaded to c:\\Users\\gmiller\\GitHub\\SWITCH247\\switch_model\\..\\MODEL_RUNS\\generic_office_example\\base_set\\PySAM Downloaded Weather Files\\Wind\\windtoolkit_32.69_-116.33_60min_80m_2013.srw.\n",
      "Downloading file from WIND Toolkit for 40.94, -121.95.\n"
     ]
    },
    {
     "output_type": "stream",
     "name": "stderr",
     "text": [
      "C:\\Users\\gmiller\\miniconda3\\envs\\switch_247\\lib\\site-packages\\urllib3\\connectionpool.py:1013: InsecureRequestWarning: Unverified HTTPS request is being made to host 'developer.nrel.gov'. Adding certificate verification is strongly advised. See: https://urllib3.readthedocs.io/en/1.26.x/advanced-usage.html#ssl-warnings\n",
      "  warnings.warn(\n",
      "C:\\Users\\gmiller\\miniconda3\\envs\\switch_247\\lib\\site-packages\\urllib3\\connectionpool.py:1013: InsecureRequestWarning: Unverified HTTPS request is being made to host 'mapfiles.nrel.gov'. Adding certificate verification is strongly advised. See: https://urllib3.readthedocs.io/en/1.26.x/advanced-usage.html#ssl-warnings\n",
      "  warnings.warn(\n",
      "C:\\Users\\gmiller\\miniconda3\\envs\\switch_247\\lib\\site-packages\\urllib3\\connectionpool.py:1013: InsecureRequestWarning: Unverified HTTPS request is being made to host 'gds-hsds-wtk-files.nrelcloud.org'. Adding certificate verification is strongly advised. See: https://urllib3.readthedocs.io/en/1.26.x/advanced-usage.html#ssl-warnings\n",
      "  warnings.warn(\n"
     ]
    },
    {
     "output_type": "stream",
     "name": "stdout",
     "text": [
      "Success! File downloaded to c:\\Users\\gmiller\\GitHub\\SWITCH247\\switch_model\\..\\MODEL_RUNS\\generic_office_example\\base_set\\PySAM Downloaded Weather Files\\Wind\\windtoolkit_40.94_-121.95_60min_80m_2013.srw.\n",
      "Downloading file from WIND Toolkit for 35.11, -118.2.\n"
     ]
    },
    {
     "output_type": "stream",
     "name": "stderr",
     "text": [
      "C:\\Users\\gmiller\\miniconda3\\envs\\switch_247\\lib\\site-packages\\urllib3\\connectionpool.py:1013: InsecureRequestWarning: Unverified HTTPS request is being made to host 'developer.nrel.gov'. Adding certificate verification is strongly advised. See: https://urllib3.readthedocs.io/en/1.26.x/advanced-usage.html#ssl-warnings\n",
      "  warnings.warn(\n",
      "C:\\Users\\gmiller\\miniconda3\\envs\\switch_247\\lib\\site-packages\\urllib3\\connectionpool.py:1013: InsecureRequestWarning: Unverified HTTPS request is being made to host 'mapfiles.nrel.gov'. Adding certificate verification is strongly advised. See: https://urllib3.readthedocs.io/en/1.26.x/advanced-usage.html#ssl-warnings\n",
      "  warnings.warn(\n",
      "C:\\Users\\gmiller\\miniconda3\\envs\\switch_247\\lib\\site-packages\\urllib3\\connectionpool.py:1013: InsecureRequestWarning: Unverified HTTPS request is being made to host 'gds-hsds-wtk-files.nrelcloud.org'. Adding certificate verification is strongly advised. See: https://urllib3.readthedocs.io/en/1.26.x/advanced-usage.html#ssl-warnings\n",
      "  warnings.warn(\n"
     ]
    },
    {
     "output_type": "stream",
     "name": "stdout",
     "text": [
      "Success! File downloaded to c:\\Users\\gmiller\\GitHub\\SWITCH247\\switch_model\\..\\MODEL_RUNS\\generic_office_example\\base_set\\PySAM Downloaded Weather Files\\Wind\\windtoolkit_35.11_-118.2_60min_80m_2013.srw.\n",
      "\n",
      "Starting data download for wind using 1 thread workers.\n",
      "Downloading file from WIND Toolkit for 37.74, -121.66.\n"
     ]
    },
    {
     "output_type": "stream",
     "name": "stderr",
     "text": [
      "C:\\Users\\gmiller\\miniconda3\\envs\\switch_247\\lib\\site-packages\\urllib3\\connectionpool.py:1013: InsecureRequestWarning: Unverified HTTPS request is being made to host 'developer.nrel.gov'. Adding certificate verification is strongly advised. See: https://urllib3.readthedocs.io/en/1.26.x/advanced-usage.html#ssl-warnings\n",
      "  warnings.warn(\n",
      "C:\\Users\\gmiller\\miniconda3\\envs\\switch_247\\lib\\site-packages\\urllib3\\connectionpool.py:1013: InsecureRequestWarning: Unverified HTTPS request is being made to host 'mapfiles.nrel.gov'. Adding certificate verification is strongly advised. See: https://urllib3.readthedocs.io/en/1.26.x/advanced-usage.html#ssl-warnings\n",
      "  warnings.warn(\n",
      "C:\\Users\\gmiller\\miniconda3\\envs\\switch_247\\lib\\site-packages\\urllib3\\connectionpool.py:1013: InsecureRequestWarning: Unverified HTTPS request is being made to host 'gds-hsds-wtk-files.nrelcloud.org'. Adding certificate verification is strongly advised. See: https://urllib3.readthedocs.io/en/1.26.x/advanced-usage.html#ssl-warnings\n",
      "  warnings.warn(\n"
     ]
    },
    {
     "output_type": "stream",
     "name": "stdout",
     "text": [
      "Success! File downloaded to c:\\Users\\gmiller\\GitHub\\SWITCH247\\switch_model\\..\\MODEL_RUNS\\generic_office_example\\base_set\\PySAM Downloaded Weather Files\\Wind\\windtoolkit_37.74_-121.66_60min_80m_2014.srw.\n",
      "Downloading file from WIND Toolkit for 34.94, -117.54.\n"
     ]
    },
    {
     "output_type": "stream",
     "name": "stderr",
     "text": [
      "C:\\Users\\gmiller\\miniconda3\\envs\\switch_247\\lib\\site-packages\\urllib3\\connectionpool.py:1013: InsecureRequestWarning: Unverified HTTPS request is being made to host 'developer.nrel.gov'. Adding certificate verification is strongly advised. See: https://urllib3.readthedocs.io/en/1.26.x/advanced-usage.html#ssl-warnings\n",
      "  warnings.warn(\n",
      "C:\\Users\\gmiller\\miniconda3\\envs\\switch_247\\lib\\site-packages\\urllib3\\connectionpool.py:1013: InsecureRequestWarning: Unverified HTTPS request is being made to host 'mapfiles.nrel.gov'. Adding certificate verification is strongly advised. See: https://urllib3.readthedocs.io/en/1.26.x/advanced-usage.html#ssl-warnings\n",
      "  warnings.warn(\n",
      "C:\\Users\\gmiller\\miniconda3\\envs\\switch_247\\lib\\site-packages\\urllib3\\connectionpool.py:1013: InsecureRequestWarning: Unverified HTTPS request is being made to host 'gds-hsds-wtk-files.nrelcloud.org'. Adding certificate verification is strongly advised. See: https://urllib3.readthedocs.io/en/1.26.x/advanced-usage.html#ssl-warnings\n",
      "  warnings.warn(\n"
     ]
    },
    {
     "output_type": "stream",
     "name": "stdout",
     "text": [
      "Success! File downloaded to c:\\Users\\gmiller\\GitHub\\SWITCH247\\switch_model\\..\\MODEL_RUNS\\generic_office_example\\base_set\\PySAM Downloaded Weather Files\\Wind\\windtoolkit_34.94_-117.54_60min_80m_2014.srw.\n",
      "Downloading file from WIND Toolkit for 32.69, -116.33.\n"
     ]
    },
    {
     "output_type": "stream",
     "name": "stderr",
     "text": [
      "C:\\Users\\gmiller\\miniconda3\\envs\\switch_247\\lib\\site-packages\\urllib3\\connectionpool.py:1013: InsecureRequestWarning: Unverified HTTPS request is being made to host 'developer.nrel.gov'. Adding certificate verification is strongly advised. See: https://urllib3.readthedocs.io/en/1.26.x/advanced-usage.html#ssl-warnings\n",
      "  warnings.warn(\n",
      "C:\\Users\\gmiller\\miniconda3\\envs\\switch_247\\lib\\site-packages\\urllib3\\connectionpool.py:1013: InsecureRequestWarning: Unverified HTTPS request is being made to host 'mapfiles.nrel.gov'. Adding certificate verification is strongly advised. See: https://urllib3.readthedocs.io/en/1.26.x/advanced-usage.html#ssl-warnings\n",
      "  warnings.warn(\n",
      "C:\\Users\\gmiller\\miniconda3\\envs\\switch_247\\lib\\site-packages\\urllib3\\connectionpool.py:1013: InsecureRequestWarning: Unverified HTTPS request is being made to host 'gds-hsds-wtk-files.nrelcloud.org'. Adding certificate verification is strongly advised. See: https://urllib3.readthedocs.io/en/1.26.x/advanced-usage.html#ssl-warnings\n",
      "  warnings.warn(\n"
     ]
    },
    {
     "output_type": "stream",
     "name": "stdout",
     "text": [
      "Success! File downloaded to c:\\Users\\gmiller\\GitHub\\SWITCH247\\switch_model\\..\\MODEL_RUNS\\generic_office_example\\base_set\\PySAM Downloaded Weather Files\\Wind\\windtoolkit_32.69_-116.33_60min_80m_2014.srw.\n",
      "Downloading file from WIND Toolkit for 40.94, -121.95.\n"
     ]
    },
    {
     "output_type": "stream",
     "name": "stderr",
     "text": [
      "C:\\Users\\gmiller\\miniconda3\\envs\\switch_247\\lib\\site-packages\\urllib3\\connectionpool.py:1013: InsecureRequestWarning: Unverified HTTPS request is being made to host 'developer.nrel.gov'. Adding certificate verification is strongly advised. See: https://urllib3.readthedocs.io/en/1.26.x/advanced-usage.html#ssl-warnings\n",
      "  warnings.warn(\n",
      "C:\\Users\\gmiller\\miniconda3\\envs\\switch_247\\lib\\site-packages\\urllib3\\connectionpool.py:1013: InsecureRequestWarning: Unverified HTTPS request is being made to host 'mapfiles.nrel.gov'. Adding certificate verification is strongly advised. See: https://urllib3.readthedocs.io/en/1.26.x/advanced-usage.html#ssl-warnings\n",
      "  warnings.warn(\n",
      "C:\\Users\\gmiller\\miniconda3\\envs\\switch_247\\lib\\site-packages\\urllib3\\connectionpool.py:1013: InsecureRequestWarning: Unverified HTTPS request is being made to host 'gds-hsds-wtk-files.nrelcloud.org'. Adding certificate verification is strongly advised. See: https://urllib3.readthedocs.io/en/1.26.x/advanced-usage.html#ssl-warnings\n",
      "  warnings.warn(\n"
     ]
    },
    {
     "output_type": "stream",
     "name": "stdout",
     "text": [
      "Success! File downloaded to c:\\Users\\gmiller\\GitHub\\SWITCH247\\switch_model\\..\\MODEL_RUNS\\generic_office_example\\base_set\\PySAM Downloaded Weather Files\\Wind\\windtoolkit_40.94_-121.95_60min_80m_2014.srw.\n",
      "Downloading file from WIND Toolkit for 35.11, -118.2.\n"
     ]
    },
    {
     "output_type": "stream",
     "name": "stderr",
     "text": [
      "C:\\Users\\gmiller\\miniconda3\\envs\\switch_247\\lib\\site-packages\\urllib3\\connectionpool.py:1013: InsecureRequestWarning: Unverified HTTPS request is being made to host 'developer.nrel.gov'. Adding certificate verification is strongly advised. See: https://urllib3.readthedocs.io/en/1.26.x/advanced-usage.html#ssl-warnings\n",
      "  warnings.warn(\n",
      "C:\\Users\\gmiller\\miniconda3\\envs\\switch_247\\lib\\site-packages\\urllib3\\connectionpool.py:1013: InsecureRequestWarning: Unverified HTTPS request is being made to host 'mapfiles.nrel.gov'. Adding certificate verification is strongly advised. See: https://urllib3.readthedocs.io/en/1.26.x/advanced-usage.html#ssl-warnings\n",
      "  warnings.warn(\n",
      "C:\\Users\\gmiller\\miniconda3\\envs\\switch_247\\lib\\site-packages\\urllib3\\connectionpool.py:1013: InsecureRequestWarning: Unverified HTTPS request is being made to host 'gds-hsds-wtk-files.nrelcloud.org'. Adding certificate verification is strongly advised. See: https://urllib3.readthedocs.io/en/1.26.x/advanced-usage.html#ssl-warnings\n",
      "  warnings.warn(\n"
     ]
    },
    {
     "output_type": "stream",
     "name": "stdout",
     "text": [
      "Success! File downloaded to c:\\Users\\gmiller\\GitHub\\SWITCH247\\switch_model\\..\\MODEL_RUNS\\generic_office_example\\base_set\\PySAM Downloaded Weather Files\\Wind\\windtoolkit_35.11_-118.2_60min_80m_2014.srw.\n",
      "\n",
      "Starting data download for solar using 1 thread workers.\n",
      "Getting list of available NSRDB files for 35.373405, -119.018911.\n"
     ]
    },
    {
     "output_type": "stream",
     "name": "stderr",
     "text": [
      "C:\\Users\\gmiller\\miniconda3\\envs\\switch_247\\lib\\site-packages\\urllib3\\connectionpool.py:1013: InsecureRequestWarning: Unverified HTTPS request is being made to host 'developer.nrel.gov'. Adding certificate verification is strongly advised. See: https://urllib3.readthedocs.io/en/1.26.x/advanced-usage.html#ssl-warnings\n",
      "  warnings.warn(\n"
     ]
    },
    {
     "output_type": "stream",
     "name": "stdout",
     "text": [
      "List of available data saved to c:\\Users\\gmiller\\GitHub\\SWITCH247\\switch_model\\..\\MODEL_RUNS\\generic_office_example\\base_set\\PySAM Downloaded Weather Files\\PV/nsrdb_data_query_response_35.373405_-119.018911.json.\n",
      "https://developer.nrel.gov/api/nsrdb/v2/solar/psm3-download.csv?names=2010&wkt=POINT%28-119.018911+35.373405%29&interval=60&api_key=2a78RNGnLZ6Fy290RlxPPXSSbdUThYuoXBi4pX94&email=grmiller@ucdavis.edu&utc=false\n"
     ]
    },
    {
     "output_type": "stream",
     "name": "stderr",
     "text": [
      "C:\\Users\\gmiller\\miniconda3\\envs\\switch_247\\lib\\site-packages\\urllib3\\connectionpool.py:1013: InsecureRequestWarning: Unverified HTTPS request is being made to host 'developer.nrel.gov'. Adding certificate verification is strongly advised. See: https://urllib3.readthedocs.io/en/1.26.x/advanced-usage.html#ssl-warnings\n",
      "  warnings.warn(\n",
      "C:\\Users\\gmiller\\miniconda3\\envs\\switch_247\\lib\\site-packages\\urllib3\\connectionpool.py:1013: InsecureRequestWarning: Unverified HTTPS request is being made to host 'developer.nrel.gov'. Adding certificate verification is strongly advised. See: https://urllib3.readthedocs.io/en/1.26.x/advanced-usage.html#ssl-warnings\n",
      "  warnings.warn(\n",
      "C:\\Users\\gmiller\\miniconda3\\envs\\switch_247\\lib\\site-packages\\urllib3\\connectionpool.py:1013: InsecureRequestWarning: Unverified HTTPS request is being made to host 'developer.nrel.gov'. Adding certificate verification is strongly advised. See: https://urllib3.readthedocs.io/en/1.26.x/advanced-usage.html#ssl-warnings\n",
      "  warnings.warn(\n",
      "C:\\Users\\gmiller\\miniconda3\\envs\\switch_247\\lib\\site-packages\\urllib3\\connectionpool.py:1013: InsecureRequestWarning: Unverified HTTPS request is being made to host 'mapfiles.nrel.gov'. Adding certificate verification is strongly advised. See: https://urllib3.readthedocs.io/en/1.26.x/advanced-usage.html#ssl-warnings\n",
      "  warnings.warn(\n",
      "C:\\Users\\gmiller\\miniconda3\\envs\\switch_247\\lib\\site-packages\\urllib3\\connectionpool.py:1013: InsecureRequestWarning: Unverified HTTPS request is being made to host 'gds-hsds-nsrdb-files.nrelcloud.org'. Adding certificate verification is strongly advised. See: https://urllib3.readthedocs.io/en/1.26.x/advanced-usage.html#ssl-warnings\n",
      "  warnings.warn(\n"
     ]
    },
    {
     "output_type": "stream",
     "name": "stdout",
     "text": [
      "Downloading file.\n",
      "Success! File downloaded to c:\\Users\\gmiller\\GitHub\\SWITCH247\\switch_model\\..\\MODEL_RUNS\\generic_office_example\\base_set\\PySAM Downloaded Weather Files\\PV\\nsrdb_35.373405_-119.018911_psm3_60_2010.csv.\n",
      "Getting list of available NSRDB files for 33.980534, -117.377025.\n"
     ]
    },
    {
     "output_type": "stream",
     "name": "stderr",
     "text": [
      "C:\\Users\\gmiller\\miniconda3\\envs\\switch_247\\lib\\site-packages\\urllib3\\connectionpool.py:1013: InsecureRequestWarning: Unverified HTTPS request is being made to host 'developer.nrel.gov'. Adding certificate verification is strongly advised. See: https://urllib3.readthedocs.io/en/1.26.x/advanced-usage.html#ssl-warnings\n",
      "  warnings.warn(\n"
     ]
    },
    {
     "output_type": "stream",
     "name": "stdout",
     "text": [
      "List of available data saved to c:\\Users\\gmiller\\GitHub\\SWITCH247\\switch_model\\..\\MODEL_RUNS\\generic_office_example\\base_set\\PySAM Downloaded Weather Files\\PV/nsrdb_data_query_response_33.980534_-117.377025.json.\n",
      "https://developer.nrel.gov/api/nsrdb/v2/solar/psm3-download.csv?names=2010&wkt=POINT%28-117.377025+33.980534%29&interval=60&api_key=2a78RNGnLZ6Fy290RlxPPXSSbdUThYuoXBi4pX94&email=grmiller@ucdavis.edu&utc=false\n"
     ]
    },
    {
     "output_type": "stream",
     "name": "stderr",
     "text": [
      "C:\\Users\\gmiller\\miniconda3\\envs\\switch_247\\lib\\site-packages\\urllib3\\connectionpool.py:1013: InsecureRequestWarning: Unverified HTTPS request is being made to host 'developer.nrel.gov'. Adding certificate verification is strongly advised. See: https://urllib3.readthedocs.io/en/1.26.x/advanced-usage.html#ssl-warnings\n",
      "  warnings.warn(\n",
      "C:\\Users\\gmiller\\miniconda3\\envs\\switch_247\\lib\\site-packages\\urllib3\\connectionpool.py:1013: InsecureRequestWarning: Unverified HTTPS request is being made to host 'developer.nrel.gov'. Adding certificate verification is strongly advised. See: https://urllib3.readthedocs.io/en/1.26.x/advanced-usage.html#ssl-warnings\n",
      "  warnings.warn(\n",
      "C:\\Users\\gmiller\\miniconda3\\envs\\switch_247\\lib\\site-packages\\urllib3\\connectionpool.py:1013: InsecureRequestWarning: Unverified HTTPS request is being made to host 'developer.nrel.gov'. Adding certificate verification is strongly advised. See: https://urllib3.readthedocs.io/en/1.26.x/advanced-usage.html#ssl-warnings\n",
      "  warnings.warn(\n",
      "C:\\Users\\gmiller\\miniconda3\\envs\\switch_247\\lib\\site-packages\\urllib3\\connectionpool.py:1013: InsecureRequestWarning: Unverified HTTPS request is being made to host 'mapfiles.nrel.gov'. Adding certificate verification is strongly advised. See: https://urllib3.readthedocs.io/en/1.26.x/advanced-usage.html#ssl-warnings\n",
      "  warnings.warn(\n",
      "C:\\Users\\gmiller\\miniconda3\\envs\\switch_247\\lib\\site-packages\\urllib3\\connectionpool.py:1013: InsecureRequestWarning: Unverified HTTPS request is being made to host 'gds-hsds-nsrdb-files.nrelcloud.org'. Adding certificate verification is strongly advised. See: https://urllib3.readthedocs.io/en/1.26.x/advanced-usage.html#ssl-warnings\n",
      "  warnings.warn(\n"
     ]
    },
    {
     "output_type": "stream",
     "name": "stdout",
     "text": [
      "Downloading file.\n",
      "Success! File downloaded to c:\\Users\\gmiller\\GitHub\\SWITCH247\\switch_model\\..\\MODEL_RUNS\\generic_office_example\\base_set\\PySAM Downloaded Weather Files\\PV\\nsrdb_33.980534_-117.377025_psm3_60_2010.csv.\n",
      "Getting list of available NSRDB files for 37.640735, -121.002435.\n"
     ]
    },
    {
     "output_type": "stream",
     "name": "stderr",
     "text": [
      "C:\\Users\\gmiller\\miniconda3\\envs\\switch_247\\lib\\site-packages\\urllib3\\connectionpool.py:1013: InsecureRequestWarning: Unverified HTTPS request is being made to host 'developer.nrel.gov'. Adding certificate verification is strongly advised. See: https://urllib3.readthedocs.io/en/1.26.x/advanced-usage.html#ssl-warnings\n",
      "  warnings.warn(\n"
     ]
    },
    {
     "output_type": "stream",
     "name": "stdout",
     "text": [
      "List of available data saved to c:\\Users\\gmiller\\GitHub\\SWITCH247\\switch_model\\..\\MODEL_RUNS\\generic_office_example\\base_set\\PySAM Downloaded Weather Files\\PV/nsrdb_data_query_response_37.640735_-121.002435.json.\n",
      "https://developer.nrel.gov/api/nsrdb/v2/solar/psm3-download.csv?names=2010&wkt=POINT%28-121.002435+37.640735%29&interval=60&api_key=2a78RNGnLZ6Fy290RlxPPXSSbdUThYuoXBi4pX94&email=grmiller@ucdavis.edu&utc=false\n"
     ]
    },
    {
     "output_type": "stream",
     "name": "stderr",
     "text": [
      "C:\\Users\\gmiller\\miniconda3\\envs\\switch_247\\lib\\site-packages\\urllib3\\connectionpool.py:1013: InsecureRequestWarning: Unverified HTTPS request is being made to host 'developer.nrel.gov'. Adding certificate verification is strongly advised. See: https://urllib3.readthedocs.io/en/1.26.x/advanced-usage.html#ssl-warnings\n",
      "  warnings.warn(\n",
      "C:\\Users\\gmiller\\miniconda3\\envs\\switch_247\\lib\\site-packages\\urllib3\\connectionpool.py:1013: InsecureRequestWarning: Unverified HTTPS request is being made to host 'developer.nrel.gov'. Adding certificate verification is strongly advised. See: https://urllib3.readthedocs.io/en/1.26.x/advanced-usage.html#ssl-warnings\n",
      "  warnings.warn(\n",
      "C:\\Users\\gmiller\\miniconda3\\envs\\switch_247\\lib\\site-packages\\urllib3\\connectionpool.py:1013: InsecureRequestWarning: Unverified HTTPS request is being made to host 'developer.nrel.gov'. Adding certificate verification is strongly advised. See: https://urllib3.readthedocs.io/en/1.26.x/advanced-usage.html#ssl-warnings\n",
      "  warnings.warn(\n",
      "C:\\Users\\gmiller\\miniconda3\\envs\\switch_247\\lib\\site-packages\\urllib3\\connectionpool.py:1013: InsecureRequestWarning: Unverified HTTPS request is being made to host 'mapfiles.nrel.gov'. Adding certificate verification is strongly advised. See: https://urllib3.readthedocs.io/en/1.26.x/advanced-usage.html#ssl-warnings\n",
      "  warnings.warn(\n",
      "C:\\Users\\gmiller\\miniconda3\\envs\\switch_247\\lib\\site-packages\\urllib3\\connectionpool.py:1013: InsecureRequestWarning: Unverified HTTPS request is being made to host 'gds-hsds-nsrdb-files.nrelcloud.org'. Adding certificate verification is strongly advised. See: https://urllib3.readthedocs.io/en/1.26.x/advanced-usage.html#ssl-warnings\n",
      "  warnings.warn(\n"
     ]
    },
    {
     "output_type": "stream",
     "name": "stdout",
     "text": [
      "Downloading file.\n",
      "Success! File downloaded to c:\\Users\\gmiller\\GitHub\\SWITCH247\\switch_model\\..\\MODEL_RUNS\\generic_office_example\\base_set\\PySAM Downloaded Weather Files\\PV\\nsrdb_37.640735_-121.002435_psm3_60_2010.csv.\n",
      "\n",
      "Starting data download for solar using 1 thread workers.\n",
      "Getting list of available NSRDB files for 35.373405, -119.018911.\n"
     ]
    },
    {
     "output_type": "stream",
     "name": "stderr",
     "text": [
      "C:\\Users\\gmiller\\miniconda3\\envs\\switch_247\\lib\\site-packages\\urllib3\\connectionpool.py:1013: InsecureRequestWarning: Unverified HTTPS request is being made to host 'developer.nrel.gov'. Adding certificate verification is strongly advised. See: https://urllib3.readthedocs.io/en/1.26.x/advanced-usage.html#ssl-warnings\n",
      "  warnings.warn(\n"
     ]
    },
    {
     "output_type": "stream",
     "name": "stdout",
     "text": [
      "List of available data saved to c:\\Users\\gmiller\\GitHub\\SWITCH247\\switch_model\\..\\MODEL_RUNS\\generic_office_example\\base_set\\PySAM Downloaded Weather Files\\PV/nsrdb_data_query_response_35.373405_-119.018911.json.\n",
      "https://developer.nrel.gov/api/nsrdb/v2/solar/psm3-download.csv?names=2011&wkt=POINT%28-119.018911+35.373405%29&interval=60&api_key=2a78RNGnLZ6Fy290RlxPPXSSbdUThYuoXBi4pX94&email=grmiller@ucdavis.edu&utc=false\n"
     ]
    },
    {
     "output_type": "stream",
     "name": "stderr",
     "text": [
      "C:\\Users\\gmiller\\miniconda3\\envs\\switch_247\\lib\\site-packages\\urllib3\\connectionpool.py:1013: InsecureRequestWarning: Unverified HTTPS request is being made to host 'developer.nrel.gov'. Adding certificate verification is strongly advised. See: https://urllib3.readthedocs.io/en/1.26.x/advanced-usage.html#ssl-warnings\n",
      "  warnings.warn(\n",
      "C:\\Users\\gmiller\\miniconda3\\envs\\switch_247\\lib\\site-packages\\urllib3\\connectionpool.py:1013: InsecureRequestWarning: Unverified HTTPS request is being made to host 'developer.nrel.gov'. Adding certificate verification is strongly advised. See: https://urllib3.readthedocs.io/en/1.26.x/advanced-usage.html#ssl-warnings\n",
      "  warnings.warn(\n",
      "C:\\Users\\gmiller\\miniconda3\\envs\\switch_247\\lib\\site-packages\\urllib3\\connectionpool.py:1013: InsecureRequestWarning: Unverified HTTPS request is being made to host 'developer.nrel.gov'. Adding certificate verification is strongly advised. See: https://urllib3.readthedocs.io/en/1.26.x/advanced-usage.html#ssl-warnings\n",
      "  warnings.warn(\n",
      "C:\\Users\\gmiller\\miniconda3\\envs\\switch_247\\lib\\site-packages\\urllib3\\connectionpool.py:1013: InsecureRequestWarning: Unverified HTTPS request is being made to host 'mapfiles.nrel.gov'. Adding certificate verification is strongly advised. See: https://urllib3.readthedocs.io/en/1.26.x/advanced-usage.html#ssl-warnings\n",
      "  warnings.warn(\n",
      "C:\\Users\\gmiller\\miniconda3\\envs\\switch_247\\lib\\site-packages\\urllib3\\connectionpool.py:1013: InsecureRequestWarning: Unverified HTTPS request is being made to host 'gds-hsds-nsrdb-files.nrelcloud.org'. Adding certificate verification is strongly advised. See: https://urllib3.readthedocs.io/en/1.26.x/advanced-usage.html#ssl-warnings\n",
      "  warnings.warn(\n"
     ]
    },
    {
     "output_type": "stream",
     "name": "stdout",
     "text": [
      "Downloading file.\n",
      "Success! File downloaded to c:\\Users\\gmiller\\GitHub\\SWITCH247\\switch_model\\..\\MODEL_RUNS\\generic_office_example\\base_set\\PySAM Downloaded Weather Files\\PV\\nsrdb_35.373405_-119.018911_psm3_60_2011.csv.\n",
      "Getting list of available NSRDB files for 33.980534, -117.377025.\n"
     ]
    },
    {
     "output_type": "stream",
     "name": "stderr",
     "text": [
      "C:\\Users\\gmiller\\miniconda3\\envs\\switch_247\\lib\\site-packages\\urllib3\\connectionpool.py:1013: InsecureRequestWarning: Unverified HTTPS request is being made to host 'developer.nrel.gov'. Adding certificate verification is strongly advised. See: https://urllib3.readthedocs.io/en/1.26.x/advanced-usage.html#ssl-warnings\n",
      "  warnings.warn(\n"
     ]
    },
    {
     "output_type": "stream",
     "name": "stdout",
     "text": [
      "List of available data saved to c:\\Users\\gmiller\\GitHub\\SWITCH247\\switch_model\\..\\MODEL_RUNS\\generic_office_example\\base_set\\PySAM Downloaded Weather Files\\PV/nsrdb_data_query_response_33.980534_-117.377025.json.\n",
      "https://developer.nrel.gov/api/nsrdb/v2/solar/psm3-download.csv?names=2011&wkt=POINT%28-117.377025+33.980534%29&interval=60&api_key=2a78RNGnLZ6Fy290RlxPPXSSbdUThYuoXBi4pX94&email=grmiller@ucdavis.edu&utc=false\n"
     ]
    },
    {
     "output_type": "stream",
     "name": "stderr",
     "text": [
      "C:\\Users\\gmiller\\miniconda3\\envs\\switch_247\\lib\\site-packages\\urllib3\\connectionpool.py:1013: InsecureRequestWarning: Unverified HTTPS request is being made to host 'developer.nrel.gov'. Adding certificate verification is strongly advised. See: https://urllib3.readthedocs.io/en/1.26.x/advanced-usage.html#ssl-warnings\n",
      "  warnings.warn(\n",
      "C:\\Users\\gmiller\\miniconda3\\envs\\switch_247\\lib\\site-packages\\urllib3\\connectionpool.py:1013: InsecureRequestWarning: Unverified HTTPS request is being made to host 'developer.nrel.gov'. Adding certificate verification is strongly advised. See: https://urllib3.readthedocs.io/en/1.26.x/advanced-usage.html#ssl-warnings\n",
      "  warnings.warn(\n",
      "C:\\Users\\gmiller\\miniconda3\\envs\\switch_247\\lib\\site-packages\\urllib3\\connectionpool.py:1013: InsecureRequestWarning: Unverified HTTPS request is being made to host 'developer.nrel.gov'. Adding certificate verification is strongly advised. See: https://urllib3.readthedocs.io/en/1.26.x/advanced-usage.html#ssl-warnings\n",
      "  warnings.warn(\n",
      "C:\\Users\\gmiller\\miniconda3\\envs\\switch_247\\lib\\site-packages\\urllib3\\connectionpool.py:1013: InsecureRequestWarning: Unverified HTTPS request is being made to host 'mapfiles.nrel.gov'. Adding certificate verification is strongly advised. See: https://urllib3.readthedocs.io/en/1.26.x/advanced-usage.html#ssl-warnings\n",
      "  warnings.warn(\n",
      "C:\\Users\\gmiller\\miniconda3\\envs\\switch_247\\lib\\site-packages\\urllib3\\connectionpool.py:1013: InsecureRequestWarning: Unverified HTTPS request is being made to host 'gds-hsds-nsrdb-files.nrelcloud.org'. Adding certificate verification is strongly advised. See: https://urllib3.readthedocs.io/en/1.26.x/advanced-usage.html#ssl-warnings\n",
      "  warnings.warn(\n"
     ]
    },
    {
     "output_type": "stream",
     "name": "stdout",
     "text": [
      "Downloading file.\n",
      "Success! File downloaded to c:\\Users\\gmiller\\GitHub\\SWITCH247\\switch_model\\..\\MODEL_RUNS\\generic_office_example\\base_set\\PySAM Downloaded Weather Files\\PV\\nsrdb_33.980534_-117.377025_psm3_60_2011.csv.\n",
      "Getting list of available NSRDB files for 37.640735, -121.002435.\n"
     ]
    },
    {
     "output_type": "stream",
     "name": "stderr",
     "text": [
      "C:\\Users\\gmiller\\miniconda3\\envs\\switch_247\\lib\\site-packages\\urllib3\\connectionpool.py:1013: InsecureRequestWarning: Unverified HTTPS request is being made to host 'developer.nrel.gov'. Adding certificate verification is strongly advised. See: https://urllib3.readthedocs.io/en/1.26.x/advanced-usage.html#ssl-warnings\n",
      "  warnings.warn(\n"
     ]
    },
    {
     "output_type": "stream",
     "name": "stdout",
     "text": [
      "List of available data saved to c:\\Users\\gmiller\\GitHub\\SWITCH247\\switch_model\\..\\MODEL_RUNS\\generic_office_example\\base_set\\PySAM Downloaded Weather Files\\PV/nsrdb_data_query_response_37.640735_-121.002435.json.\n",
      "https://developer.nrel.gov/api/nsrdb/v2/solar/psm3-download.csv?names=2011&wkt=POINT%28-121.002435+37.640735%29&interval=60&api_key=2a78RNGnLZ6Fy290RlxPPXSSbdUThYuoXBi4pX94&email=grmiller@ucdavis.edu&utc=false\n"
     ]
    },
    {
     "output_type": "stream",
     "name": "stderr",
     "text": [
      "C:\\Users\\gmiller\\miniconda3\\envs\\switch_247\\lib\\site-packages\\urllib3\\connectionpool.py:1013: InsecureRequestWarning: Unverified HTTPS request is being made to host 'developer.nrel.gov'. Adding certificate verification is strongly advised. See: https://urllib3.readthedocs.io/en/1.26.x/advanced-usage.html#ssl-warnings\n",
      "  warnings.warn(\n",
      "C:\\Users\\gmiller\\miniconda3\\envs\\switch_247\\lib\\site-packages\\urllib3\\connectionpool.py:1013: InsecureRequestWarning: Unverified HTTPS request is being made to host 'developer.nrel.gov'. Adding certificate verification is strongly advised. See: https://urllib3.readthedocs.io/en/1.26.x/advanced-usage.html#ssl-warnings\n",
      "  warnings.warn(\n",
      "C:\\Users\\gmiller\\miniconda3\\envs\\switch_247\\lib\\site-packages\\urllib3\\connectionpool.py:1013: InsecureRequestWarning: Unverified HTTPS request is being made to host 'developer.nrel.gov'. Adding certificate verification is strongly advised. See: https://urllib3.readthedocs.io/en/1.26.x/advanced-usage.html#ssl-warnings\n",
      "  warnings.warn(\n",
      "C:\\Users\\gmiller\\miniconda3\\envs\\switch_247\\lib\\site-packages\\urllib3\\connectionpool.py:1013: InsecureRequestWarning: Unverified HTTPS request is being made to host 'mapfiles.nrel.gov'. Adding certificate verification is strongly advised. See: https://urllib3.readthedocs.io/en/1.26.x/advanced-usage.html#ssl-warnings\n",
      "  warnings.warn(\n",
      "C:\\Users\\gmiller\\miniconda3\\envs\\switch_247\\lib\\site-packages\\urllib3\\connectionpool.py:1013: InsecureRequestWarning: Unverified HTTPS request is being made to host 'gds-hsds-nsrdb-files.nrelcloud.org'. Adding certificate verification is strongly advised. See: https://urllib3.readthedocs.io/en/1.26.x/advanced-usage.html#ssl-warnings\n",
      "  warnings.warn(\n"
     ]
    },
    {
     "output_type": "stream",
     "name": "stdout",
     "text": [
      "Downloading file.\n",
      "Success! File downloaded to c:\\Users\\gmiller\\GitHub\\SWITCH247\\switch_model\\..\\MODEL_RUNS\\generic_office_example\\base_set\\PySAM Downloaded Weather Files\\PV\\nsrdb_37.640735_-121.002435_psm3_60_2011.csv.\n",
      "\n",
      "Starting data download for solar using 1 thread workers.\n",
      "Getting list of available NSRDB files for 35.373405, -119.018911.\n"
     ]
    },
    {
     "output_type": "stream",
     "name": "stderr",
     "text": [
      "C:\\Users\\gmiller\\miniconda3\\envs\\switch_247\\lib\\site-packages\\urllib3\\connectionpool.py:1013: InsecureRequestWarning: Unverified HTTPS request is being made to host 'developer.nrel.gov'. Adding certificate verification is strongly advised. See: https://urllib3.readthedocs.io/en/1.26.x/advanced-usage.html#ssl-warnings\n",
      "  warnings.warn(\n"
     ]
    },
    {
     "output_type": "stream",
     "name": "stdout",
     "text": [
      "List of available data saved to c:\\Users\\gmiller\\GitHub\\SWITCH247\\switch_model\\..\\MODEL_RUNS\\generic_office_example\\base_set\\PySAM Downloaded Weather Files\\PV/nsrdb_data_query_response_35.373405_-119.018911.json.\n",
      "https://developer.nrel.gov/api/nsrdb/v2/solar/psm3-download.csv?names=2012&wkt=POINT%28-119.018911+35.373405%29&interval=60&api_key=2a78RNGnLZ6Fy290RlxPPXSSbdUThYuoXBi4pX94&email=grmiller@ucdavis.edu&utc=false\n"
     ]
    },
    {
     "output_type": "stream",
     "name": "stderr",
     "text": [
      "C:\\Users\\gmiller\\miniconda3\\envs\\switch_247\\lib\\site-packages\\urllib3\\connectionpool.py:1013: InsecureRequestWarning: Unverified HTTPS request is being made to host 'developer.nrel.gov'. Adding certificate verification is strongly advised. See: https://urllib3.readthedocs.io/en/1.26.x/advanced-usage.html#ssl-warnings\n",
      "  warnings.warn(\n",
      "C:\\Users\\gmiller\\miniconda3\\envs\\switch_247\\lib\\site-packages\\urllib3\\connectionpool.py:1013: InsecureRequestWarning: Unverified HTTPS request is being made to host 'developer.nrel.gov'. Adding certificate verification is strongly advised. See: https://urllib3.readthedocs.io/en/1.26.x/advanced-usage.html#ssl-warnings\n",
      "  warnings.warn(\n",
      "C:\\Users\\gmiller\\miniconda3\\envs\\switch_247\\lib\\site-packages\\urllib3\\connectionpool.py:1013: InsecureRequestWarning: Unverified HTTPS request is being made to host 'developer.nrel.gov'. Adding certificate verification is strongly advised. See: https://urllib3.readthedocs.io/en/1.26.x/advanced-usage.html#ssl-warnings\n",
      "  warnings.warn(\n",
      "C:\\Users\\gmiller\\miniconda3\\envs\\switch_247\\lib\\site-packages\\urllib3\\connectionpool.py:1013: InsecureRequestWarning: Unverified HTTPS request is being made to host 'mapfiles.nrel.gov'. Adding certificate verification is strongly advised. See: https://urllib3.readthedocs.io/en/1.26.x/advanced-usage.html#ssl-warnings\n",
      "  warnings.warn(\n",
      "C:\\Users\\gmiller\\miniconda3\\envs\\switch_247\\lib\\site-packages\\urllib3\\connectionpool.py:1013: InsecureRequestWarning: Unverified HTTPS request is being made to host 'gds-hsds-nsrdb-files.nrelcloud.org'. Adding certificate verification is strongly advised. See: https://urllib3.readthedocs.io/en/1.26.x/advanced-usage.html#ssl-warnings\n",
      "  warnings.warn(\n"
     ]
    },
    {
     "output_type": "stream",
     "name": "stdout",
     "text": [
      "Downloading file.\n",
      "Success! File downloaded to c:\\Users\\gmiller\\GitHub\\SWITCH247\\switch_model\\..\\MODEL_RUNS\\generic_office_example\\base_set\\PySAM Downloaded Weather Files\\PV\\nsrdb_35.373405_-119.018911_psm3_60_2012.csv.\n",
      "Getting list of available NSRDB files for 33.980534, -117.377025.\n"
     ]
    },
    {
     "output_type": "stream",
     "name": "stderr",
     "text": [
      "C:\\Users\\gmiller\\miniconda3\\envs\\switch_247\\lib\\site-packages\\urllib3\\connectionpool.py:1013: InsecureRequestWarning: Unverified HTTPS request is being made to host 'developer.nrel.gov'. Adding certificate verification is strongly advised. See: https://urllib3.readthedocs.io/en/1.26.x/advanced-usage.html#ssl-warnings\n",
      "  warnings.warn(\n"
     ]
    },
    {
     "output_type": "stream",
     "name": "stdout",
     "text": [
      "List of available data saved to c:\\Users\\gmiller\\GitHub\\SWITCH247\\switch_model\\..\\MODEL_RUNS\\generic_office_example\\base_set\\PySAM Downloaded Weather Files\\PV/nsrdb_data_query_response_33.980534_-117.377025.json.\n",
      "https://developer.nrel.gov/api/nsrdb/v2/solar/psm3-download.csv?names=2012&wkt=POINT%28-117.377025+33.980534%29&interval=60&api_key=2a78RNGnLZ6Fy290RlxPPXSSbdUThYuoXBi4pX94&email=grmiller@ucdavis.edu&utc=false\n"
     ]
    },
    {
     "output_type": "stream",
     "name": "stderr",
     "text": [
      "C:\\Users\\gmiller\\miniconda3\\envs\\switch_247\\lib\\site-packages\\urllib3\\connectionpool.py:1013: InsecureRequestWarning: Unverified HTTPS request is being made to host 'developer.nrel.gov'. Adding certificate verification is strongly advised. See: https://urllib3.readthedocs.io/en/1.26.x/advanced-usage.html#ssl-warnings\n",
      "  warnings.warn(\n",
      "C:\\Users\\gmiller\\miniconda3\\envs\\switch_247\\lib\\site-packages\\urllib3\\connectionpool.py:1013: InsecureRequestWarning: Unverified HTTPS request is being made to host 'developer.nrel.gov'. Adding certificate verification is strongly advised. See: https://urllib3.readthedocs.io/en/1.26.x/advanced-usage.html#ssl-warnings\n",
      "  warnings.warn(\n",
      "C:\\Users\\gmiller\\miniconda3\\envs\\switch_247\\lib\\site-packages\\urllib3\\connectionpool.py:1013: InsecureRequestWarning: Unverified HTTPS request is being made to host 'developer.nrel.gov'. Adding certificate verification is strongly advised. See: https://urllib3.readthedocs.io/en/1.26.x/advanced-usage.html#ssl-warnings\n",
      "  warnings.warn(\n",
      "C:\\Users\\gmiller\\miniconda3\\envs\\switch_247\\lib\\site-packages\\urllib3\\connectionpool.py:1013: InsecureRequestWarning: Unverified HTTPS request is being made to host 'mapfiles.nrel.gov'. Adding certificate verification is strongly advised. See: https://urllib3.readthedocs.io/en/1.26.x/advanced-usage.html#ssl-warnings\n",
      "  warnings.warn(\n",
      "C:\\Users\\gmiller\\miniconda3\\envs\\switch_247\\lib\\site-packages\\urllib3\\connectionpool.py:1013: InsecureRequestWarning: Unverified HTTPS request is being made to host 'gds-hsds-nsrdb-files.nrelcloud.org'. Adding certificate verification is strongly advised. See: https://urllib3.readthedocs.io/en/1.26.x/advanced-usage.html#ssl-warnings\n",
      "  warnings.warn(\n"
     ]
    },
    {
     "output_type": "stream",
     "name": "stdout",
     "text": [
      "Downloading file.\n",
      "Success! File downloaded to c:\\Users\\gmiller\\GitHub\\SWITCH247\\switch_model\\..\\MODEL_RUNS\\generic_office_example\\base_set\\PySAM Downloaded Weather Files\\PV\\nsrdb_33.980534_-117.377025_psm3_60_2012.csv.\n",
      "Getting list of available NSRDB files for 37.640735, -121.002435.\n"
     ]
    },
    {
     "output_type": "stream",
     "name": "stderr",
     "text": [
      "C:\\Users\\gmiller\\miniconda3\\envs\\switch_247\\lib\\site-packages\\urllib3\\connectionpool.py:1013: InsecureRequestWarning: Unverified HTTPS request is being made to host 'developer.nrel.gov'. Adding certificate verification is strongly advised. See: https://urllib3.readthedocs.io/en/1.26.x/advanced-usage.html#ssl-warnings\n",
      "  warnings.warn(\n"
     ]
    },
    {
     "output_type": "stream",
     "name": "stdout",
     "text": [
      "List of available data saved to c:\\Users\\gmiller\\GitHub\\SWITCH247\\switch_model\\..\\MODEL_RUNS\\generic_office_example\\base_set\\PySAM Downloaded Weather Files\\PV/nsrdb_data_query_response_37.640735_-121.002435.json.\n",
      "https://developer.nrel.gov/api/nsrdb/v2/solar/psm3-download.csv?names=2012&wkt=POINT%28-121.002435+37.640735%29&interval=60&api_key=2a78RNGnLZ6Fy290RlxPPXSSbdUThYuoXBi4pX94&email=grmiller@ucdavis.edu&utc=false\n"
     ]
    },
    {
     "output_type": "stream",
     "name": "stderr",
     "text": [
      "C:\\Users\\gmiller\\miniconda3\\envs\\switch_247\\lib\\site-packages\\urllib3\\connectionpool.py:1013: InsecureRequestWarning: Unverified HTTPS request is being made to host 'developer.nrel.gov'. Adding certificate verification is strongly advised. See: https://urllib3.readthedocs.io/en/1.26.x/advanced-usage.html#ssl-warnings\n",
      "  warnings.warn(\n",
      "C:\\Users\\gmiller\\miniconda3\\envs\\switch_247\\lib\\site-packages\\urllib3\\connectionpool.py:1013: InsecureRequestWarning: Unverified HTTPS request is being made to host 'developer.nrel.gov'. Adding certificate verification is strongly advised. See: https://urllib3.readthedocs.io/en/1.26.x/advanced-usage.html#ssl-warnings\n",
      "  warnings.warn(\n",
      "C:\\Users\\gmiller\\miniconda3\\envs\\switch_247\\lib\\site-packages\\urllib3\\connectionpool.py:1013: InsecureRequestWarning: Unverified HTTPS request is being made to host 'developer.nrel.gov'. Adding certificate verification is strongly advised. See: https://urllib3.readthedocs.io/en/1.26.x/advanced-usage.html#ssl-warnings\n",
      "  warnings.warn(\n",
      "C:\\Users\\gmiller\\miniconda3\\envs\\switch_247\\lib\\site-packages\\urllib3\\connectionpool.py:1013: InsecureRequestWarning: Unverified HTTPS request is being made to host 'mapfiles.nrel.gov'. Adding certificate verification is strongly advised. See: https://urllib3.readthedocs.io/en/1.26.x/advanced-usage.html#ssl-warnings\n",
      "  warnings.warn(\n",
      "C:\\Users\\gmiller\\miniconda3\\envs\\switch_247\\lib\\site-packages\\urllib3\\connectionpool.py:1013: InsecureRequestWarning: Unverified HTTPS request is being made to host 'gds-hsds-nsrdb-files.nrelcloud.org'. Adding certificate verification is strongly advised. See: https://urllib3.readthedocs.io/en/1.26.x/advanced-usage.html#ssl-warnings\n",
      "  warnings.warn(\n"
     ]
    },
    {
     "output_type": "stream",
     "name": "stdout",
     "text": [
      "Downloading file.\n",
      "Success! File downloaded to c:\\Users\\gmiller\\GitHub\\SWITCH247\\switch_model\\..\\MODEL_RUNS\\generic_office_example\\base_set\\PySAM Downloaded Weather Files\\PV\\nsrdb_37.640735_-121.002435_psm3_60_2012.csv.\n",
      "\n",
      "Starting data download for solar using 1 thread workers.\n",
      "Getting list of available NSRDB files for 35.373405, -119.018911.\n"
     ]
    },
    {
     "output_type": "stream",
     "name": "stderr",
     "text": [
      "C:\\Users\\gmiller\\miniconda3\\envs\\switch_247\\lib\\site-packages\\urllib3\\connectionpool.py:1013: InsecureRequestWarning: Unverified HTTPS request is being made to host 'developer.nrel.gov'. Adding certificate verification is strongly advised. See: https://urllib3.readthedocs.io/en/1.26.x/advanced-usage.html#ssl-warnings\n",
      "  warnings.warn(\n"
     ]
    },
    {
     "output_type": "stream",
     "name": "stdout",
     "text": [
      "List of available data saved to c:\\Users\\gmiller\\GitHub\\SWITCH247\\switch_model\\..\\MODEL_RUNS\\generic_office_example\\base_set\\PySAM Downloaded Weather Files\\PV/nsrdb_data_query_response_35.373405_-119.018911.json.\n",
      "https://developer.nrel.gov/api/nsrdb/v2/solar/psm3-download.csv?names=2013&wkt=POINT%28-119.018911+35.373405%29&interval=60&api_key=2a78RNGnLZ6Fy290RlxPPXSSbdUThYuoXBi4pX94&email=grmiller@ucdavis.edu&utc=false\n"
     ]
    },
    {
     "output_type": "stream",
     "name": "stderr",
     "text": [
      "C:\\Users\\gmiller\\miniconda3\\envs\\switch_247\\lib\\site-packages\\urllib3\\connectionpool.py:1013: InsecureRequestWarning: Unverified HTTPS request is being made to host 'developer.nrel.gov'. Adding certificate verification is strongly advised. See: https://urllib3.readthedocs.io/en/1.26.x/advanced-usage.html#ssl-warnings\n",
      "  warnings.warn(\n",
      "C:\\Users\\gmiller\\miniconda3\\envs\\switch_247\\lib\\site-packages\\urllib3\\connectionpool.py:1013: InsecureRequestWarning: Unverified HTTPS request is being made to host 'developer.nrel.gov'. Adding certificate verification is strongly advised. See: https://urllib3.readthedocs.io/en/1.26.x/advanced-usage.html#ssl-warnings\n",
      "  warnings.warn(\n",
      "C:\\Users\\gmiller\\miniconda3\\envs\\switch_247\\lib\\site-packages\\urllib3\\connectionpool.py:1013: InsecureRequestWarning: Unverified HTTPS request is being made to host 'developer.nrel.gov'. Adding certificate verification is strongly advised. See: https://urllib3.readthedocs.io/en/1.26.x/advanced-usage.html#ssl-warnings\n",
      "  warnings.warn(\n",
      "C:\\Users\\gmiller\\miniconda3\\envs\\switch_247\\lib\\site-packages\\urllib3\\connectionpool.py:1013: InsecureRequestWarning: Unverified HTTPS request is being made to host 'mapfiles.nrel.gov'. Adding certificate verification is strongly advised. See: https://urllib3.readthedocs.io/en/1.26.x/advanced-usage.html#ssl-warnings\n",
      "  warnings.warn(\n",
      "C:\\Users\\gmiller\\miniconda3\\envs\\switch_247\\lib\\site-packages\\urllib3\\connectionpool.py:1013: InsecureRequestWarning: Unverified HTTPS request is being made to host 'gds-hsds-nsrdb-files.nrelcloud.org'. Adding certificate verification is strongly advised. See: https://urllib3.readthedocs.io/en/1.26.x/advanced-usage.html#ssl-warnings\n",
      "  warnings.warn(\n"
     ]
    },
    {
     "output_type": "stream",
     "name": "stdout",
     "text": [
      "Downloading file.\n",
      "Success! File downloaded to c:\\Users\\gmiller\\GitHub\\SWITCH247\\switch_model\\..\\MODEL_RUNS\\generic_office_example\\base_set\\PySAM Downloaded Weather Files\\PV\\nsrdb_35.373405_-119.018911_psm3_60_2013.csv.\n",
      "Getting list of available NSRDB files for 33.980534, -117.377025.\n"
     ]
    },
    {
     "output_type": "stream",
     "name": "stderr",
     "text": [
      "C:\\Users\\gmiller\\miniconda3\\envs\\switch_247\\lib\\site-packages\\urllib3\\connectionpool.py:1013: InsecureRequestWarning: Unverified HTTPS request is being made to host 'developer.nrel.gov'. Adding certificate verification is strongly advised. See: https://urllib3.readthedocs.io/en/1.26.x/advanced-usage.html#ssl-warnings\n",
      "  warnings.warn(\n"
     ]
    },
    {
     "output_type": "stream",
     "name": "stdout",
     "text": [
      "List of available data saved to c:\\Users\\gmiller\\GitHub\\SWITCH247\\switch_model\\..\\MODEL_RUNS\\generic_office_example\\base_set\\PySAM Downloaded Weather Files\\PV/nsrdb_data_query_response_33.980534_-117.377025.json.\n",
      "https://developer.nrel.gov/api/nsrdb/v2/solar/psm3-download.csv?names=2013&wkt=POINT%28-117.377025+33.980534%29&interval=60&api_key=2a78RNGnLZ6Fy290RlxPPXSSbdUThYuoXBi4pX94&email=grmiller@ucdavis.edu&utc=false\n"
     ]
    },
    {
     "output_type": "stream",
     "name": "stderr",
     "text": [
      "C:\\Users\\gmiller\\miniconda3\\envs\\switch_247\\lib\\site-packages\\urllib3\\connectionpool.py:1013: InsecureRequestWarning: Unverified HTTPS request is being made to host 'developer.nrel.gov'. Adding certificate verification is strongly advised. See: https://urllib3.readthedocs.io/en/1.26.x/advanced-usage.html#ssl-warnings\n",
      "  warnings.warn(\n",
      "C:\\Users\\gmiller\\miniconda3\\envs\\switch_247\\lib\\site-packages\\urllib3\\connectionpool.py:1013: InsecureRequestWarning: Unverified HTTPS request is being made to host 'developer.nrel.gov'. Adding certificate verification is strongly advised. See: https://urllib3.readthedocs.io/en/1.26.x/advanced-usage.html#ssl-warnings\n",
      "  warnings.warn(\n",
      "C:\\Users\\gmiller\\miniconda3\\envs\\switch_247\\lib\\site-packages\\urllib3\\connectionpool.py:1013: InsecureRequestWarning: Unverified HTTPS request is being made to host 'developer.nrel.gov'. Adding certificate verification is strongly advised. See: https://urllib3.readthedocs.io/en/1.26.x/advanced-usage.html#ssl-warnings\n",
      "  warnings.warn(\n",
      "C:\\Users\\gmiller\\miniconda3\\envs\\switch_247\\lib\\site-packages\\urllib3\\connectionpool.py:1013: InsecureRequestWarning: Unverified HTTPS request is being made to host 'mapfiles.nrel.gov'. Adding certificate verification is strongly advised. See: https://urllib3.readthedocs.io/en/1.26.x/advanced-usage.html#ssl-warnings\n",
      "  warnings.warn(\n",
      "C:\\Users\\gmiller\\miniconda3\\envs\\switch_247\\lib\\site-packages\\urllib3\\connectionpool.py:1013: InsecureRequestWarning: Unverified HTTPS request is being made to host 'gds-hsds-nsrdb-files.nrelcloud.org'. Adding certificate verification is strongly advised. See: https://urllib3.readthedocs.io/en/1.26.x/advanced-usage.html#ssl-warnings\n",
      "  warnings.warn(\n"
     ]
    },
    {
     "output_type": "stream",
     "name": "stdout",
     "text": [
      "Downloading file.\n",
      "Success! File downloaded to c:\\Users\\gmiller\\GitHub\\SWITCH247\\switch_model\\..\\MODEL_RUNS\\generic_office_example\\base_set\\PySAM Downloaded Weather Files\\PV\\nsrdb_33.980534_-117.377025_psm3_60_2013.csv.\n",
      "Getting list of available NSRDB files for 37.640735, -121.002435.\n"
     ]
    },
    {
     "output_type": "stream",
     "name": "stderr",
     "text": [
      "C:\\Users\\gmiller\\miniconda3\\envs\\switch_247\\lib\\site-packages\\urllib3\\connectionpool.py:1013: InsecureRequestWarning: Unverified HTTPS request is being made to host 'developer.nrel.gov'. Adding certificate verification is strongly advised. See: https://urllib3.readthedocs.io/en/1.26.x/advanced-usage.html#ssl-warnings\n",
      "  warnings.warn(\n"
     ]
    },
    {
     "output_type": "stream",
     "name": "stdout",
     "text": [
      "List of available data saved to c:\\Users\\gmiller\\GitHub\\SWITCH247\\switch_model\\..\\MODEL_RUNS\\generic_office_example\\base_set\\PySAM Downloaded Weather Files\\PV/nsrdb_data_query_response_37.640735_-121.002435.json.\n",
      "https://developer.nrel.gov/api/nsrdb/v2/solar/psm3-download.csv?names=2013&wkt=POINT%28-121.002435+37.640735%29&interval=60&api_key=2a78RNGnLZ6Fy290RlxPPXSSbdUThYuoXBi4pX94&email=grmiller@ucdavis.edu&utc=false\n"
     ]
    },
    {
     "output_type": "stream",
     "name": "stderr",
     "text": [
      "C:\\Users\\gmiller\\miniconda3\\envs\\switch_247\\lib\\site-packages\\urllib3\\connectionpool.py:1013: InsecureRequestWarning: Unverified HTTPS request is being made to host 'developer.nrel.gov'. Adding certificate verification is strongly advised. See: https://urllib3.readthedocs.io/en/1.26.x/advanced-usage.html#ssl-warnings\n",
      "  warnings.warn(\n",
      "C:\\Users\\gmiller\\miniconda3\\envs\\switch_247\\lib\\site-packages\\urllib3\\connectionpool.py:1013: InsecureRequestWarning: Unverified HTTPS request is being made to host 'developer.nrel.gov'. Adding certificate verification is strongly advised. See: https://urllib3.readthedocs.io/en/1.26.x/advanced-usage.html#ssl-warnings\n",
      "  warnings.warn(\n",
      "C:\\Users\\gmiller\\miniconda3\\envs\\switch_247\\lib\\site-packages\\urllib3\\connectionpool.py:1013: InsecureRequestWarning: Unverified HTTPS request is being made to host 'developer.nrel.gov'. Adding certificate verification is strongly advised. See: https://urllib3.readthedocs.io/en/1.26.x/advanced-usage.html#ssl-warnings\n",
      "  warnings.warn(\n",
      "C:\\Users\\gmiller\\miniconda3\\envs\\switch_247\\lib\\site-packages\\urllib3\\connectionpool.py:1013: InsecureRequestWarning: Unverified HTTPS request is being made to host 'mapfiles.nrel.gov'. Adding certificate verification is strongly advised. See: https://urllib3.readthedocs.io/en/1.26.x/advanced-usage.html#ssl-warnings\n",
      "  warnings.warn(\n",
      "C:\\Users\\gmiller\\miniconda3\\envs\\switch_247\\lib\\site-packages\\urllib3\\connectionpool.py:1013: InsecureRequestWarning: Unverified HTTPS request is being made to host 'gds-hsds-nsrdb-files.nrelcloud.org'. Adding certificate verification is strongly advised. See: https://urllib3.readthedocs.io/en/1.26.x/advanced-usage.html#ssl-warnings\n",
      "  warnings.warn(\n"
     ]
    },
    {
     "output_type": "stream",
     "name": "stdout",
     "text": [
      "Downloading file.\n",
      "Success! File downloaded to c:\\Users\\gmiller\\GitHub\\SWITCH247\\switch_model\\..\\MODEL_RUNS\\generic_office_example\\base_set\\PySAM Downloaded Weather Files\\PV\\nsrdb_37.640735_-121.002435_psm3_60_2013.csv.\n",
      "\n",
      "Starting data download for solar using 1 thread workers.\n",
      "Getting list of available NSRDB files for 35.373405, -119.018911.\n"
     ]
    },
    {
     "output_type": "stream",
     "name": "stderr",
     "text": [
      "C:\\Users\\gmiller\\miniconda3\\envs\\switch_247\\lib\\site-packages\\urllib3\\connectionpool.py:1013: InsecureRequestWarning: Unverified HTTPS request is being made to host 'developer.nrel.gov'. Adding certificate verification is strongly advised. See: https://urllib3.readthedocs.io/en/1.26.x/advanced-usage.html#ssl-warnings\n",
      "  warnings.warn(\n"
     ]
    },
    {
     "output_type": "stream",
     "name": "stdout",
     "text": [
      "List of available data saved to c:\\Users\\gmiller\\GitHub\\SWITCH247\\switch_model\\..\\MODEL_RUNS\\generic_office_example\\base_set\\PySAM Downloaded Weather Files\\PV/nsrdb_data_query_response_35.373405_-119.018911.json.\n",
      "https://developer.nrel.gov/api/nsrdb/v2/solar/psm3-download.csv?names=2014&wkt=POINT%28-119.018911+35.373405%29&interval=60&api_key=2a78RNGnLZ6Fy290RlxPPXSSbdUThYuoXBi4pX94&email=grmiller@ucdavis.edu&utc=false\n"
     ]
    },
    {
     "output_type": "stream",
     "name": "stderr",
     "text": [
      "C:\\Users\\gmiller\\miniconda3\\envs\\switch_247\\lib\\site-packages\\urllib3\\connectionpool.py:1013: InsecureRequestWarning: Unverified HTTPS request is being made to host 'developer.nrel.gov'. Adding certificate verification is strongly advised. See: https://urllib3.readthedocs.io/en/1.26.x/advanced-usage.html#ssl-warnings\n",
      "  warnings.warn(\n",
      "C:\\Users\\gmiller\\miniconda3\\envs\\switch_247\\lib\\site-packages\\urllib3\\connectionpool.py:1013: InsecureRequestWarning: Unverified HTTPS request is being made to host 'developer.nrel.gov'. Adding certificate verification is strongly advised. See: https://urllib3.readthedocs.io/en/1.26.x/advanced-usage.html#ssl-warnings\n",
      "  warnings.warn(\n",
      "C:\\Users\\gmiller\\miniconda3\\envs\\switch_247\\lib\\site-packages\\urllib3\\connectionpool.py:1013: InsecureRequestWarning: Unverified HTTPS request is being made to host 'developer.nrel.gov'. Adding certificate verification is strongly advised. See: https://urllib3.readthedocs.io/en/1.26.x/advanced-usage.html#ssl-warnings\n",
      "  warnings.warn(\n",
      "C:\\Users\\gmiller\\miniconda3\\envs\\switch_247\\lib\\site-packages\\urllib3\\connectionpool.py:1013: InsecureRequestWarning: Unverified HTTPS request is being made to host 'mapfiles.nrel.gov'. Adding certificate verification is strongly advised. See: https://urllib3.readthedocs.io/en/1.26.x/advanced-usage.html#ssl-warnings\n",
      "  warnings.warn(\n",
      "C:\\Users\\gmiller\\miniconda3\\envs\\switch_247\\lib\\site-packages\\urllib3\\connectionpool.py:1013: InsecureRequestWarning: Unverified HTTPS request is being made to host 'gds-hsds-nsrdb-files.nrelcloud.org'. Adding certificate verification is strongly advised. See: https://urllib3.readthedocs.io/en/1.26.x/advanced-usage.html#ssl-warnings\n",
      "  warnings.warn(\n"
     ]
    },
    {
     "output_type": "stream",
     "name": "stdout",
     "text": [
      "Downloading file.\n",
      "Success! File downloaded to c:\\Users\\gmiller\\GitHub\\SWITCH247\\switch_model\\..\\MODEL_RUNS\\generic_office_example\\base_set\\PySAM Downloaded Weather Files\\PV\\nsrdb_35.373405_-119.018911_psm3_60_2014.csv.\n",
      "Getting list of available NSRDB files for 33.980534, -117.377025.\n"
     ]
    },
    {
     "output_type": "stream",
     "name": "stderr",
     "text": [
      "C:\\Users\\gmiller\\miniconda3\\envs\\switch_247\\lib\\site-packages\\urllib3\\connectionpool.py:1013: InsecureRequestWarning: Unverified HTTPS request is being made to host 'developer.nrel.gov'. Adding certificate verification is strongly advised. See: https://urllib3.readthedocs.io/en/1.26.x/advanced-usage.html#ssl-warnings\n",
      "  warnings.warn(\n"
     ]
    },
    {
     "output_type": "stream",
     "name": "stdout",
     "text": [
      "List of available data saved to c:\\Users\\gmiller\\GitHub\\SWITCH247\\switch_model\\..\\MODEL_RUNS\\generic_office_example\\base_set\\PySAM Downloaded Weather Files\\PV/nsrdb_data_query_response_33.980534_-117.377025.json.\n",
      "https://developer.nrel.gov/api/nsrdb/v2/solar/psm3-download.csv?names=2014&wkt=POINT%28-117.377025+33.980534%29&interval=60&api_key=2a78RNGnLZ6Fy290RlxPPXSSbdUThYuoXBi4pX94&email=grmiller@ucdavis.edu&utc=false\n"
     ]
    },
    {
     "output_type": "stream",
     "name": "stderr",
     "text": [
      "C:\\Users\\gmiller\\miniconda3\\envs\\switch_247\\lib\\site-packages\\urllib3\\connectionpool.py:1013: InsecureRequestWarning: Unverified HTTPS request is being made to host 'developer.nrel.gov'. Adding certificate verification is strongly advised. See: https://urllib3.readthedocs.io/en/1.26.x/advanced-usage.html#ssl-warnings\n",
      "  warnings.warn(\n",
      "C:\\Users\\gmiller\\miniconda3\\envs\\switch_247\\lib\\site-packages\\urllib3\\connectionpool.py:1013: InsecureRequestWarning: Unverified HTTPS request is being made to host 'developer.nrel.gov'. Adding certificate verification is strongly advised. See: https://urllib3.readthedocs.io/en/1.26.x/advanced-usage.html#ssl-warnings\n",
      "  warnings.warn(\n",
      "C:\\Users\\gmiller\\miniconda3\\envs\\switch_247\\lib\\site-packages\\urllib3\\connectionpool.py:1013: InsecureRequestWarning: Unverified HTTPS request is being made to host 'developer.nrel.gov'. Adding certificate verification is strongly advised. See: https://urllib3.readthedocs.io/en/1.26.x/advanced-usage.html#ssl-warnings\n",
      "  warnings.warn(\n",
      "C:\\Users\\gmiller\\miniconda3\\envs\\switch_247\\lib\\site-packages\\urllib3\\connectionpool.py:1013: InsecureRequestWarning: Unverified HTTPS request is being made to host 'mapfiles.nrel.gov'. Adding certificate verification is strongly advised. See: https://urllib3.readthedocs.io/en/1.26.x/advanced-usage.html#ssl-warnings\n",
      "  warnings.warn(\n",
      "C:\\Users\\gmiller\\miniconda3\\envs\\switch_247\\lib\\site-packages\\urllib3\\connectionpool.py:1013: InsecureRequestWarning: Unverified HTTPS request is being made to host 'gds-hsds-nsrdb-files.nrelcloud.org'. Adding certificate verification is strongly advised. See: https://urllib3.readthedocs.io/en/1.26.x/advanced-usage.html#ssl-warnings\n",
      "  warnings.warn(\n"
     ]
    },
    {
     "output_type": "stream",
     "name": "stdout",
     "text": [
      "Downloading file.\n",
      "Success! File downloaded to c:\\Users\\gmiller\\GitHub\\SWITCH247\\switch_model\\..\\MODEL_RUNS\\generic_office_example\\base_set\\PySAM Downloaded Weather Files\\PV\\nsrdb_33.980534_-117.377025_psm3_60_2014.csv.\n",
      "Getting list of available NSRDB files for 37.640735, -121.002435.\n"
     ]
    },
    {
     "output_type": "stream",
     "name": "stderr",
     "text": [
      "C:\\Users\\gmiller\\miniconda3\\envs\\switch_247\\lib\\site-packages\\urllib3\\connectionpool.py:1013: InsecureRequestWarning: Unverified HTTPS request is being made to host 'developer.nrel.gov'. Adding certificate verification is strongly advised. See: https://urllib3.readthedocs.io/en/1.26.x/advanced-usage.html#ssl-warnings\n",
      "  warnings.warn(\n"
     ]
    },
    {
     "output_type": "stream",
     "name": "stdout",
     "text": [
      "List of available data saved to c:\\Users\\gmiller\\GitHub\\SWITCH247\\switch_model\\..\\MODEL_RUNS\\generic_office_example\\base_set\\PySAM Downloaded Weather Files\\PV/nsrdb_data_query_response_37.640735_-121.002435.json.\n",
      "https://developer.nrel.gov/api/nsrdb/v2/solar/psm3-download.csv?names=2014&wkt=POINT%28-121.002435+37.640735%29&interval=60&api_key=2a78RNGnLZ6Fy290RlxPPXSSbdUThYuoXBi4pX94&email=grmiller@ucdavis.edu&utc=false\n"
     ]
    },
    {
     "output_type": "stream",
     "name": "stderr",
     "text": [
      "C:\\Users\\gmiller\\miniconda3\\envs\\switch_247\\lib\\site-packages\\urllib3\\connectionpool.py:1013: InsecureRequestWarning: Unverified HTTPS request is being made to host 'developer.nrel.gov'. Adding certificate verification is strongly advised. See: https://urllib3.readthedocs.io/en/1.26.x/advanced-usage.html#ssl-warnings\n",
      "  warnings.warn(\n",
      "C:\\Users\\gmiller\\miniconda3\\envs\\switch_247\\lib\\site-packages\\urllib3\\connectionpool.py:1013: InsecureRequestWarning: Unverified HTTPS request is being made to host 'developer.nrel.gov'. Adding certificate verification is strongly advised. See: https://urllib3.readthedocs.io/en/1.26.x/advanced-usage.html#ssl-warnings\n",
      "  warnings.warn(\n",
      "C:\\Users\\gmiller\\miniconda3\\envs\\switch_247\\lib\\site-packages\\urllib3\\connectionpool.py:1013: InsecureRequestWarning: Unverified HTTPS request is being made to host 'developer.nrel.gov'. Adding certificate verification is strongly advised. See: https://urllib3.readthedocs.io/en/1.26.x/advanced-usage.html#ssl-warnings\n",
      "  warnings.warn(\n",
      "C:\\Users\\gmiller\\miniconda3\\envs\\switch_247\\lib\\site-packages\\urllib3\\connectionpool.py:1013: InsecureRequestWarning: Unverified HTTPS request is being made to host 'mapfiles.nrel.gov'. Adding certificate verification is strongly advised. See: https://urllib3.readthedocs.io/en/1.26.x/advanced-usage.html#ssl-warnings\n",
      "  warnings.warn(\n",
      "C:\\Users\\gmiller\\miniconda3\\envs\\switch_247\\lib\\site-packages\\urllib3\\connectionpool.py:1013: InsecureRequestWarning: Unverified HTTPS request is being made to host 'gds-hsds-nsrdb-files.nrelcloud.org'. Adding certificate verification is strongly advised. See: https://urllib3.readthedocs.io/en/1.26.x/advanced-usage.html#ssl-warnings\n",
      "  warnings.warn(\n"
     ]
    },
    {
     "output_type": "stream",
     "name": "stdout",
     "text": [
      "Downloading file.\n",
      "Success! File downloaded to c:\\Users\\gmiller\\GitHub\\SWITCH247\\switch_model\\..\\MODEL_RUNS\\generic_office_example\\base_set\\PySAM Downloaded Weather Files\\PV\\nsrdb_37.640735_-121.002435_psm3_60_2014.csv.\n",
      "Writing inputs for annual_goal scenario...\n",
      "Writing inputs for hourly_goal scenario...\n",
      "Writing inputs for hourly_95 scenario...\n"
     ]
    }
   ],
   "metadata": {}
  },
  {
   "cell_type": "markdown",
   "source": [
    "# Solve Model Scenarios"
   ],
   "metadata": {}
  },
  {
   "cell_type": "markdown",
   "source": [
    "### Identify the number of CPU cores (processors) that your computer has\r\n",
    "If you want to solve multiple scenarios in parallel, you should only run n-1 solvers, where n is the number of CPU cores on your machine."
   ],
   "metadata": {}
  },
  {
   "cell_type": "code",
   "execution_count": 8,
   "source": [
    "num_processors = mp.cpu_count()\r\n",
    "print(f'This machine has {num_processors} CPU cores')\r\n",
    "print(f'We recommend running no more than {num_processors-1} threads in parallel')"
   ],
   "outputs": [
    {
     "output_type": "stream",
     "name": "stdout",
     "text": [
      "This machine has 4 CPU cores\n",
      "We recommend running no more than 3 threads in parallel\n"
     ]
    }
   ],
   "metadata": {}
  },
  {
   "cell_type": "markdown",
   "source": [
    "The following cell will actually run the scenarios. Each time you run the following cell, it will open a new parallel solver window."
   ],
   "metadata": {}
  },
  {
   "cell_type": "code",
   "execution_count": 11,
   "source": [
    "os.system(f'start cmd /k \"cd {model_runs_folder}\\{model_run_name} & activate switch_247 & switch solve-scenarios\"') "
   ],
   "outputs": [
    {
     "output_type": "execute_result",
     "data": {
      "text/plain": [
       "0"
      ]
     },
     "metadata": {},
     "execution_count": 11
    }
   ],
   "metadata": {}
  }
 ]
}