{
 "metadata": {
  "language_info": {
   "codemirror_mode": {
    "name": "ipython",
    "version": 3
   },
   "file_extension": ".py",
   "mimetype": "text/x-python",
   "name": "python",
   "nbconvert_exporter": "python",
   "pygments_lexer": "ipython3",
   "version": "3.7.9-final"
  },
  "orig_nbformat": 2,
  "kernelspec": {
   "name": "python3",
   "display_name": "Python 3",
   "language": "python"
  }
 },
 "nbformat": 4,
 "nbformat_minor": 2,
 "cells": [
  {
   "source": [
    "This notebook can be used to run the simulation instead of having to type the commands into the command line interface"
   ],
   "cell_type": "markdown",
   "metadata": {}
  },
  {
   "cell_type": "code",
   "execution_count": null,
   "metadata": {},
   "outputs": [],
   "source": [
    "# Copyright (c) 2021 *****************. All rights reserved.\n",
    "# Licensed under the Apache License, Version 2.0, which is in the LICENSE file.\n",
    "\n",
    "import multiprocessing as mp\n",
    "import os\n",
    "import time\n",
    "from pathlib import Path\n",
    "import generate_input_files"
   ]
  },
  {
   "source": [
    "# Generate Model Inputs"
   ],
   "cell_type": "markdown",
   "metadata": {}
  },
  {
   "source": [
    "### 1. Enter the name of the folder within the MODEL_RUNS directory that contains the files for the scenarios you want to run"
   ],
   "cell_type": "markdown",
   "metadata": {}
  },
  {
   "cell_type": "code",
   "execution_count": null,
   "metadata": {},
   "outputs": [],
   "source": [
    "model_run_name = 'test'"
   ]
  },
  {
   "source": [
    "### 2. Generate the input files\n",
    "\n",
    "Enter the timezone for model inputs"
   ],
   "cell_type": "markdown",
   "metadata": {}
  },
  {
   "cell_type": "code",
   "execution_count": null,
   "metadata": {
    "tags": [
     "outputPrepend"
    ]
   },
   "outputs": [],
   "source": [
    "model_workspace = Path.cwd() / f'../MODEL_RUNS/{model_run_name}'\n",
    "\n",
    "timezone = 'US/Pacific'\n",
    "\n",
    "generate_input_files.generate_inputs(model_workspace, timezone)"
   ]
  },
  {
   "source": [
    "# Solve Model Scenarios"
   ],
   "cell_type": "markdown",
   "metadata": {}
  },
  {
   "source": [
    "### 1. Get the number of CPU cores (processors) that your computer has"
   ],
   "cell_type": "markdown",
   "metadata": {}
  },
  {
   "cell_type": "code",
   "execution_count": null,
   "metadata": {},
   "outputs": [],
   "source": [
    "num_processors = mp.cpu_count()\n",
    "num_processors"
   ]
  },
  {
   "source": [
    "### 2. If you want to solve multiple scenarios in parallel, you should only run n-1 solvers, where n is the number of CPU cores on your machine.\n",
    "This opens as many parallel threads as possible while leaving some processing power available on your machine to do other tasks. Each time you run the following cell, it will open a new parallel solver window."
   ],
   "cell_type": "markdown",
   "metadata": {}
  },
  {
   "cell_type": "code",
   "execution_count": null,
   "metadata": {},
   "outputs": [],
   "source": [
    "os.system(f'start cmd /k \"cd ..\\MODEL_RUNS\\{model_run_name} & activate switch_247 & switch solve-scenarios\"') "
   ]
  }
 ]
}