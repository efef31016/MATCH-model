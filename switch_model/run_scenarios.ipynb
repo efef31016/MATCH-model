{
 "cells": [
  {
   "cell_type": "markdown",
   "metadata": {},
   "source": [
    "This notebook can be used to run the simulation instead of having to type the commands into the command line interface"
   ]
  },
  {
   "cell_type": "code",
   "execution_count": 1,
   "metadata": {},
   "outputs": [],
   "source": [
    "# Copyright (c) 2021 The MATCH Authors. All rights reserved.\n",
    "# Licensed under the Apache License, Version 2.0, which is in the LICENSE file.\n",
    "\n",
    "import multiprocessing as mp\n",
    "import os\n",
    "from pathlib import Path\n",
    "import generate_input_files\n",
    "import shutil\n",
    "import time"
   ]
  },
  {
   "cell_type": "markdown",
   "metadata": {},
   "source": [
    "# Specify the location of your local MODEL_RUNS directory"
   ]
  },
  {
   "cell_type": "code",
   "execution_count": 2,
   "metadata": {},
   "outputs": [],
   "source": [
    "# specify the location of the model runs folder you will be using, relative to the switch_model directory\n",
    "# the default location is the MODEL_RUNS directory within the Git repo\n",
    "# however, if you want to save model runs in a alternate location, such as a Box folder, you could use something like:\n",
    "#model_runs_folder = '../../../Box/Supply/24x7 Time-Coincident Work/MODEL_RUNS'\n",
    "model_runs_folder = '../MODEL_RUNS'\n",
    "\n",
    "# enter the name of the folder within your MODEL_RUNS folder where the input and output files for this specific model run are located\n",
    "model_run_name = 'test_limit_excessgen_no_hedge'\n",
    "\n",
    "model_workspace = Path.cwd() / f'{model_runs_folder}/{model_run_name}'"
   ]
  },
  {
   "cell_type": "markdown",
   "metadata": {},
   "source": [
    "# Generate and Validate model inputs\n",
    "1. If input files do not yet exist, create them\n",
    "2. If input files exist, check that the current software version matches the version that was used to generate the inputs\n",
    "3. If the versions do not match, we need to re-generate the input files to ensure consistency"
   ]
  },
  {
   "cell_type": "code",
   "execution_count": 3,
   "metadata": {},
   "outputs": [
    {
     "name": "stdout",
     "output_type": "stream",
     "text": [
      "Generating inputs now...\n",
      "Loading data from excel spreadsheet...\n",
      "Writing options.txt...\n",
      "Creating input and output folders for each scenario...\n"
     ]
    },
    {
     "name": "stderr",
     "output_type": "stream",
     "text": [
      "C:\\Users\\gmiller\\.conda\\envs\\switch_247\\lib\\site-packages\\openpyxl\\worksheet\\_reader.py:312: UserWarning: Data Validation extension is not supported and will be removed\n",
      "  warn(msg)\n"
     ]
    },
    {
     "name": "stdout",
     "output_type": "stream",
     "text": [
      "Generating capacity factor timeseries for rfo_shape\n",
      "\n",
      "Starting data download for wind using 1 thread workers.\n",
      "File already exists, skipping download: c:\\Users\\gmiller\\GitHub\\SWITCH247\\switch_model\\..\\MODEL_RUNS\\test_limit_excessgen_no_hedge\\rfo_shape\\PySAM Downloaded Weather Files\\Wind\\windtoolkit_38.1475_-121.8519_60min_80m_2012.srw\n",
      "\n",
      "Starting data download for wind using 1 thread workers.\n",
      "File already exists, skipping download: c:\\Users\\gmiller\\GitHub\\SWITCH247\\switch_model\\..\\MODEL_RUNS\\test_limit_excessgen_no_hedge\\rfo_shape\\PySAM Downloaded Weather Files\\Wind\\windtoolkit_38.1475_-121.8519_60min_80m_2013.srw\n",
      "\n",
      "Starting data download for wind using 1 thread workers.\n",
      "File already exists, skipping download: c:\\Users\\gmiller\\GitHub\\SWITCH247\\switch_model\\..\\MODEL_RUNS\\test_limit_excessgen_no_hedge\\rfo_shape\\PySAM Downloaded Weather Files\\Wind\\windtoolkit_38.1475_-121.8519_60min_80m_2014.srw\n",
      "\n",
      "Starting data download for wind using 1 thread workers.\n",
      "File already exists, skipping download: c:\\Users\\gmiller\\GitHub\\SWITCH247\\switch_model\\..\\MODEL_RUNS\\test_limit_excessgen_no_hedge\\rfo_shape\\PySAM Downloaded Weather Files\\Wind\\windtoolkit_35.236883_-118.243414_60min_80m_2012.srw\n",
      "\n",
      "Starting data download for wind using 1 thread workers.\n",
      "File already exists, skipping download: c:\\Users\\gmiller\\GitHub\\SWITCH247\\switch_model\\..\\MODEL_RUNS\\test_limit_excessgen_no_hedge\\rfo_shape\\PySAM Downloaded Weather Files\\Wind\\windtoolkit_35.236883_-118.243414_60min_80m_2013.srw\n",
      "\n",
      "Starting data download for wind using 1 thread workers.\n",
      "File already exists, skipping download: c:\\Users\\gmiller\\GitHub\\SWITCH247\\switch_model\\..\\MODEL_RUNS\\test_limit_excessgen_no_hedge\\rfo_shape\\PySAM Downloaded Weather Files\\Wind\\windtoolkit_35.236883_-118.243414_60min_80m_2014.srw\n",
      "\n",
      "Starting data download for wind using 1 thread workers.\n",
      "File already exists, skipping download: c:\\Users\\gmiller\\GitHub\\SWITCH247\\switch_model\\..\\MODEL_RUNS\\test_limit_excessgen_no_hedge\\rfo_shape\\PySAM Downloaded Weather Files\\Wind\\windtoolkit_35.057553_-118.269247_60min_100m_2012.srw\n",
      "\n",
      "Starting data download for wind using 1 thread workers.\n",
      "File already exists, skipping download: c:\\Users\\gmiller\\GitHub\\SWITCH247\\switch_model\\..\\MODEL_RUNS\\test_limit_excessgen_no_hedge\\rfo_shape\\PySAM Downloaded Weather Files\\Wind\\windtoolkit_35.057553_-118.269247_60min_100m_2013.srw\n",
      "\n",
      "Starting data download for wind using 1 thread workers.\n",
      "File already exists, skipping download: c:\\Users\\gmiller\\GitHub\\SWITCH247\\switch_model\\..\\MODEL_RUNS\\test_limit_excessgen_no_hedge\\rfo_shape\\PySAM Downloaded Weather Files\\Wind\\windtoolkit_35.057553_-118.269247_60min_100m_2014.srw\n",
      "\n",
      "Starting data download for solar using 1 thread workers.\n",
      "File already exists. Skipping download: c:\\Users\\gmiller\\GitHub\\SWITCH247\\switch_model\\..\\MODEL_RUNS\\test_limit_excessgen_no_hedge\\rfo_shape\\PySAM Downloaded Weather Files\\PV\\nsrdb_36.2327_-119.919_psm3_60_2012.csv\n",
      "\n",
      "Starting data download for solar using 1 thread workers.\n",
      "File already exists. Skipping download: c:\\Users\\gmiller\\GitHub\\SWITCH247\\switch_model\\..\\MODEL_RUNS\\test_limit_excessgen_no_hedge\\rfo_shape\\PySAM Downloaded Weather Files\\PV\\nsrdb_36.2327_-119.919_psm3_60_2013.csv\n",
      "\n",
      "Starting data download for solar using 1 thread workers.\n",
      "File already exists. Skipping download: c:\\Users\\gmiller\\GitHub\\SWITCH247\\switch_model\\..\\MODEL_RUNS\\test_limit_excessgen_no_hedge\\rfo_shape\\PySAM Downloaded Weather Files\\PV\\nsrdb_36.2327_-119.919_psm3_60_2014.csv\n",
      "\n",
      "Starting data download for solar using 1 thread workers.\n",
      "File already exists. Skipping download: c:\\Users\\gmiller\\GitHub\\SWITCH247\\switch_model\\..\\MODEL_RUNS\\test_limit_excessgen_no_hedge\\rfo_shape\\PySAM Downloaded Weather Files\\PV\\nsrdb_37.015_-120.9586_psm3_60_2012.csv\n",
      "\n",
      "Starting data download for solar using 1 thread workers.\n",
      "File already exists. Skipping download: c:\\Users\\gmiller\\GitHub\\SWITCH247\\switch_model\\..\\MODEL_RUNS\\test_limit_excessgen_no_hedge\\rfo_shape\\PySAM Downloaded Weather Files\\PV\\nsrdb_37.015_-120.9586_psm3_60_2013.csv\n",
      "\n",
      "Starting data download for solar using 1 thread workers.\n",
      "File already exists. Skipping download: c:\\Users\\gmiller\\GitHub\\SWITCH247\\switch_model\\..\\MODEL_RUNS\\test_limit_excessgen_no_hedge\\rfo_shape\\PySAM Downloaded Weather Files\\PV\\nsrdb_37.015_-120.9586_psm3_60_2014.csv\n",
      "\n",
      "Starting data download for solar using 1 thread workers.\n",
      "File already exists. Skipping download: c:\\Users\\gmiller\\GitHub\\SWITCH247\\switch_model\\..\\MODEL_RUNS\\test_limit_excessgen_no_hedge\\rfo_shape\\PySAM Downloaded Weather Files\\PV\\nsrdb_34.8707647_-118.3195044_psm3_60_2012.csv\n",
      "File already exists. Skipping download: c:\\Users\\gmiller\\GitHub\\SWITCH247\\switch_model\\..\\MODEL_RUNS\\test_limit_excessgen_no_hedge\\rfo_shape\\PySAM Downloaded Weather Files\\PV\\nsrdb_33.698958_-115.312892_psm3_60_2012.csv\n",
      "File already exists. Skipping download: c:\\Users\\gmiller\\GitHub\\SWITCH247\\switch_model\\..\\MODEL_RUNS\\test_limit_excessgen_no_hedge\\rfo_shape\\PySAM Downloaded Weather Files\\PV\\nsrdb_36.14024498_-120.1254637_psm3_60_2012.csv\n",
      "File already exists. Skipping download: c:\\Users\\gmiller\\GitHub\\SWITCH247\\switch_model\\..\\MODEL_RUNS\\test_limit_excessgen_no_hedge\\rfo_shape\\PySAM Downloaded Weather Files\\PV\\nsrdb_33.97589882_-118.1478739_psm3_60_2012.csv\n",
      "File already exists. Skipping download: c:\\Users\\gmiller\\GitHub\\SWITCH247\\switch_model\\..\\MODEL_RUNS\\test_limit_excessgen_no_hedge\\rfo_shape\\PySAM Downloaded Weather Files\\PV\\nsrdb_34.85927794_-118.4352171_psm3_60_2012.csv\n",
      "File already exists. Skipping download: c:\\Users\\gmiller\\GitHub\\SWITCH247\\switch_model\\..\\MODEL_RUNS\\test_limit_excessgen_no_hedge\\rfo_shape\\PySAM Downloaded Weather Files\\PV\\nsrdb_40.18238662_-122.2446177_psm3_60_2012.csv\n",
      "\n",
      "Starting data download for solar using 1 thread workers.\n",
      "File already exists. Skipping download: c:\\Users\\gmiller\\GitHub\\SWITCH247\\switch_model\\..\\MODEL_RUNS\\test_limit_excessgen_no_hedge\\rfo_shape\\PySAM Downloaded Weather Files\\PV\\nsrdb_34.8707647_-118.3195044_psm3_60_2013.csv\n",
      "File already exists. Skipping download: c:\\Users\\gmiller\\GitHub\\SWITCH247\\switch_model\\..\\MODEL_RUNS\\test_limit_excessgen_no_hedge\\rfo_shape\\PySAM Downloaded Weather Files\\PV\\nsrdb_33.698958_-115.312892_psm3_60_2013.csv\n",
      "File already exists. Skipping download: c:\\Users\\gmiller\\GitHub\\SWITCH247\\switch_model\\..\\MODEL_RUNS\\test_limit_excessgen_no_hedge\\rfo_shape\\PySAM Downloaded Weather Files\\PV\\nsrdb_36.14024498_-120.1254637_psm3_60_2013.csv\n",
      "File already exists. Skipping download: c:\\Users\\gmiller\\GitHub\\SWITCH247\\switch_model\\..\\MODEL_RUNS\\test_limit_excessgen_no_hedge\\rfo_shape\\PySAM Downloaded Weather Files\\PV\\nsrdb_33.97589882_-118.1478739_psm3_60_2013.csv\n",
      "File already exists. Skipping download: c:\\Users\\gmiller\\GitHub\\SWITCH247\\switch_model\\..\\MODEL_RUNS\\test_limit_excessgen_no_hedge\\rfo_shape\\PySAM Downloaded Weather Files\\PV\\nsrdb_34.85927794_-118.4352171_psm3_60_2013.csv\n",
      "File already exists. Skipping download: c:\\Users\\gmiller\\GitHub\\SWITCH247\\switch_model\\..\\MODEL_RUNS\\test_limit_excessgen_no_hedge\\rfo_shape\\PySAM Downloaded Weather Files\\PV\\nsrdb_40.18238662_-122.2446177_psm3_60_2013.csv\n",
      "\n",
      "Starting data download for solar using 1 thread workers.\n",
      "File already exists. Skipping download: c:\\Users\\gmiller\\GitHub\\SWITCH247\\switch_model\\..\\MODEL_RUNS\\test_limit_excessgen_no_hedge\\rfo_shape\\PySAM Downloaded Weather Files\\PV\\nsrdb_34.8707647_-118.3195044_psm3_60_2014.csv\n",
      "File already exists. Skipping download: c:\\Users\\gmiller\\GitHub\\SWITCH247\\switch_model\\..\\MODEL_RUNS\\test_limit_excessgen_no_hedge\\rfo_shape\\PySAM Downloaded Weather Files\\PV\\nsrdb_33.698958_-115.312892_psm3_60_2014.csv\n",
      "File already exists. Skipping download: c:\\Users\\gmiller\\GitHub\\SWITCH247\\switch_model\\..\\MODEL_RUNS\\test_limit_excessgen_no_hedge\\rfo_shape\\PySAM Downloaded Weather Files\\PV\\nsrdb_36.14024498_-120.1254637_psm3_60_2014.csv\n",
      "File already exists. Skipping download: c:\\Users\\gmiller\\GitHub\\SWITCH247\\switch_model\\..\\MODEL_RUNS\\test_limit_excessgen_no_hedge\\rfo_shape\\PySAM Downloaded Weather Files\\PV\\nsrdb_33.97589882_-118.1478739_psm3_60_2014.csv\n",
      "File already exists. Skipping download: c:\\Users\\gmiller\\GitHub\\SWITCH247\\switch_model\\..\\MODEL_RUNS\\test_limit_excessgen_no_hedge\\rfo_shape\\PySAM Downloaded Weather Files\\PV\\nsrdb_34.85927794_-118.4352171_psm3_60_2014.csv\n",
      "File already exists. Skipping download: c:\\Users\\gmiller\\GitHub\\SWITCH247\\switch_model\\..\\MODEL_RUNS\\test_limit_excessgen_no_hedge\\rfo_shape\\PySAM Downloaded Weather Files\\PV\\nsrdb_40.18238662_-122.2446177_psm3_60_2014.csv\n",
      "\n",
      "Starting data download for wind using 1 thread workers.\n",
      "File already exists, skipping download: c:\\Users\\gmiller\\GitHub\\SWITCH247\\switch_model\\..\\MODEL_RUNS\\test_limit_excessgen_no_hedge\\rfo_shape\\PySAM Downloaded Weather Files\\Wind\\windtoolkit_37.047_-121.19_60min_100m_2012.srw\n",
      "File already exists, skipping download: c:\\Users\\gmiller\\GitHub\\SWITCH247\\switch_model\\..\\MODEL_RUNS\\test_limit_excessgen_no_hedge\\rfo_shape\\PySAM Downloaded Weather Files\\Wind\\windtoolkit_32.8091042956075_-116.682878833116_60min_100m_2012.srw\n",
      "File already exists, skipping download: c:\\Users\\gmiller\\GitHub\\SWITCH247\\switch_model\\..\\MODEL_RUNS\\test_limit_excessgen_no_hedge\\rfo_shape\\PySAM Downloaded Weather Files\\Wind\\windtoolkit_38.1246519280264_-121.830147829511_60min_100m_2012.srw\n",
      "File already exists, skipping download: c:\\Users\\gmiller\\GitHub\\SWITCH247\\switch_model\\..\\MODEL_RUNS\\test_limit_excessgen_no_hedge\\rfo_shape\\PySAM Downloaded Weather Files\\Wind\\windtoolkit_34.8592779418666_-118.435217147729_60min_100m_2012.srw\n",
      "File already exists, skipping download: c:\\Users\\gmiller\\GitHub\\SWITCH247\\switch_model\\..\\MODEL_RUNS\\test_limit_excessgen_no_hedge\\rfo_shape\\PySAM Downloaded Weather Files\\Wind\\windtoolkit_42.80265_-114.0496_60min_100m_2012.srw\n",
      "File already exists, skipping download: c:\\Users\\gmiller\\GitHub\\SWITCH247\\switch_model\\..\\MODEL_RUNS\\test_limit_excessgen_no_hedge\\rfo_shape\\PySAM Downloaded Weather Files\\Wind\\windtoolkit_33.9369161190981_-116.577326941334_60min_100m_2012.srw\n",
      "File already exists, skipping download: c:\\Users\\gmiller\\GitHub\\SWITCH247\\switch_model\\..\\MODEL_RUNS\\test_limit_excessgen_no_hedge\\rfo_shape\\PySAM Downloaded Weather Files\\Wind\\windtoolkit_37.7123963931528_-121.564857867683_60min_100m_2012.srw\n",
      "File already exists, skipping download: c:\\Users\\gmiller\\GitHub\\SWITCH247\\switch_model\\..\\MODEL_RUNS\\test_limit_excessgen_no_hedge\\rfo_shape\\PySAM Downloaded Weather Files\\Wind\\windtoolkit_37.7974893696317_-121.603310554024_60min_100m_2012.srw\n",
      "File already exists, skipping download: c:\\Users\\gmiller\\GitHub\\SWITCH247\\switch_model\\..\\MODEL_RUNS\\test_limit_excessgen_no_hedge\\rfo_shape\\PySAM Downloaded Weather Files\\Wind\\windtoolkit_42.68942_-114.9983_60min_100m_2012.srw\n",
      "File already exists, skipping download: c:\\Users\\gmiller\\GitHub\\SWITCH247\\switch_model\\..\\MODEL_RUNS\\test_limit_excessgen_no_hedge\\rfo_shape\\PySAM Downloaded Weather Files\\Wind\\windtoolkit_32.6617395295481_-116.273272528912_60min_100m_2012.srw\n",
      "File already exists, skipping download: c:\\Users\\gmiller\\GitHub\\SWITCH247\\switch_model\\..\\MODEL_RUNS\\test_limit_excessgen_no_hedge\\rfo_shape\\PySAM Downloaded Weather Files\\Wind\\windtoolkit_34.8631120226719_-116.854206979763_60min_100m_2012.srw\n",
      "File already exists, skipping download: c:\\Users\\gmiller\\GitHub\\SWITCH247\\switch_model\\..\\MODEL_RUNS\\test_limit_excessgen_no_hedge\\rfo_shape\\PySAM Downloaded Weather Files\\Wind\\windtoolkit_35.3789906748787_-119.917047690148_60min_100m_2012.srw\n",
      "File already exists, skipping download: c:\\Users\\gmiller\\GitHub\\SWITCH247\\switch_model\\..\\MODEL_RUNS\\test_limit_excessgen_no_hedge\\rfo_shape\\PySAM Downloaded Weather Files\\Wind\\windtoolkit_37.808582_-121.668631_60min_100m_2012.srw\n",
      "File already exists, skipping download: c:\\Users\\gmiller\\GitHub\\SWITCH247\\switch_model\\..\\MODEL_RUNS\\test_limit_excessgen_no_hedge\\rfo_shape\\PySAM Downloaded Weather Files\\Wind\\windtoolkit_32.68274_-116.3659_60min_100m_2012.srw\n",
      "File already exists, skipping download: c:\\Users\\gmiller\\GitHub\\SWITCH247\\switch_model\\..\\MODEL_RUNS\\test_limit_excessgen_no_hedge\\rfo_shape\\PySAM Downloaded Weather Files\\Wind\\windtoolkit_40.82138_-121.82166_60min_100m_2012.srw\n",
      "\n",
      "Starting data download for wind using 1 thread workers.\n",
      "File already exists, skipping download: c:\\Users\\gmiller\\GitHub\\SWITCH247\\switch_model\\..\\MODEL_RUNS\\test_limit_excessgen_no_hedge\\rfo_shape\\PySAM Downloaded Weather Files\\Wind\\windtoolkit_37.047_-121.19_60min_100m_2013.srw\n",
      "File already exists, skipping download: c:\\Users\\gmiller\\GitHub\\SWITCH247\\switch_model\\..\\MODEL_RUNS\\test_limit_excessgen_no_hedge\\rfo_shape\\PySAM Downloaded Weather Files\\Wind\\windtoolkit_32.8091042956075_-116.682878833116_60min_100m_2013.srw\n",
      "File already exists, skipping download: c:\\Users\\gmiller\\GitHub\\SWITCH247\\switch_model\\..\\MODEL_RUNS\\test_limit_excessgen_no_hedge\\rfo_shape\\PySAM Downloaded Weather Files\\Wind\\windtoolkit_38.1246519280264_-121.830147829511_60min_100m_2013.srw\n",
      "File already exists, skipping download: c:\\Users\\gmiller\\GitHub\\SWITCH247\\switch_model\\..\\MODEL_RUNS\\test_limit_excessgen_no_hedge\\rfo_shape\\PySAM Downloaded Weather Files\\Wind\\windtoolkit_34.8592779418666_-118.435217147729_60min_100m_2013.srw\n",
      "File already exists, skipping download: c:\\Users\\gmiller\\GitHub\\SWITCH247\\switch_model\\..\\MODEL_RUNS\\test_limit_excessgen_no_hedge\\rfo_shape\\PySAM Downloaded Weather Files\\Wind\\windtoolkit_42.80265_-114.0496_60min_100m_2013.srw\n",
      "File already exists, skipping download: c:\\Users\\gmiller\\GitHub\\SWITCH247\\switch_model\\..\\MODEL_RUNS\\test_limit_excessgen_no_hedge\\rfo_shape\\PySAM Downloaded Weather Files\\Wind\\windtoolkit_33.9369161190981_-116.577326941334_60min_100m_2013.srw\n",
      "File already exists, skipping download: c:\\Users\\gmiller\\GitHub\\SWITCH247\\switch_model\\..\\MODEL_RUNS\\test_limit_excessgen_no_hedge\\rfo_shape\\PySAM Downloaded Weather Files\\Wind\\windtoolkit_37.7123963931528_-121.564857867683_60min_100m_2013.srw\n",
      "File already exists, skipping download: c:\\Users\\gmiller\\GitHub\\SWITCH247\\switch_model\\..\\MODEL_RUNS\\test_limit_excessgen_no_hedge\\rfo_shape\\PySAM Downloaded Weather Files\\Wind\\windtoolkit_37.7974893696317_-121.603310554024_60min_100m_2013.srw\n",
      "File already exists, skipping download: c:\\Users\\gmiller\\GitHub\\SWITCH247\\switch_model\\..\\MODEL_RUNS\\test_limit_excessgen_no_hedge\\rfo_shape\\PySAM Downloaded Weather Files\\Wind\\windtoolkit_42.68942_-114.9983_60min_100m_2013.srw\n",
      "File already exists, skipping download: c:\\Users\\gmiller\\GitHub\\SWITCH247\\switch_model\\..\\MODEL_RUNS\\test_limit_excessgen_no_hedge\\rfo_shape\\PySAM Downloaded Weather Files\\Wind\\windtoolkit_32.6617395295481_-116.273272528912_60min_100m_2013.srw\n",
      "File already exists, skipping download: c:\\Users\\gmiller\\GitHub\\SWITCH247\\switch_model\\..\\MODEL_RUNS\\test_limit_excessgen_no_hedge\\rfo_shape\\PySAM Downloaded Weather Files\\Wind\\windtoolkit_34.8631120226719_-116.854206979763_60min_100m_2013.srw\n",
      "File already exists, skipping download: c:\\Users\\gmiller\\GitHub\\SWITCH247\\switch_model\\..\\MODEL_RUNS\\test_limit_excessgen_no_hedge\\rfo_shape\\PySAM Downloaded Weather Files\\Wind\\windtoolkit_35.3789906748787_-119.917047690148_60min_100m_2013.srw\n",
      "File already exists, skipping download: c:\\Users\\gmiller\\GitHub\\SWITCH247\\switch_model\\..\\MODEL_RUNS\\test_limit_excessgen_no_hedge\\rfo_shape\\PySAM Downloaded Weather Files\\Wind\\windtoolkit_37.808582_-121.668631_60min_100m_2013.srw\n",
      "File already exists, skipping download: c:\\Users\\gmiller\\GitHub\\SWITCH247\\switch_model\\..\\MODEL_RUNS\\test_limit_excessgen_no_hedge\\rfo_shape\\PySAM Downloaded Weather Files\\Wind\\windtoolkit_32.68274_-116.3659_60min_100m_2013.srw\n",
      "File already exists, skipping download: c:\\Users\\gmiller\\GitHub\\SWITCH247\\switch_model\\..\\MODEL_RUNS\\test_limit_excessgen_no_hedge\\rfo_shape\\PySAM Downloaded Weather Files\\Wind\\windtoolkit_40.82138_-121.82166_60min_100m_2013.srw\n",
      "\n",
      "Starting data download for wind using 1 thread workers.\n",
      "File already exists, skipping download: c:\\Users\\gmiller\\GitHub\\SWITCH247\\switch_model\\..\\MODEL_RUNS\\test_limit_excessgen_no_hedge\\rfo_shape\\PySAM Downloaded Weather Files\\Wind\\windtoolkit_37.047_-121.19_60min_100m_2014.srw\n",
      "File already exists, skipping download: c:\\Users\\gmiller\\GitHub\\SWITCH247\\switch_model\\..\\MODEL_RUNS\\test_limit_excessgen_no_hedge\\rfo_shape\\PySAM Downloaded Weather Files\\Wind\\windtoolkit_32.8091042956075_-116.682878833116_60min_100m_2014.srw\n",
      "File already exists, skipping download: c:\\Users\\gmiller\\GitHub\\SWITCH247\\switch_model\\..\\MODEL_RUNS\\test_limit_excessgen_no_hedge\\rfo_shape\\PySAM Downloaded Weather Files\\Wind\\windtoolkit_38.1246519280264_-121.830147829511_60min_100m_2014.srw\n",
      "File already exists, skipping download: c:\\Users\\gmiller\\GitHub\\SWITCH247\\switch_model\\..\\MODEL_RUNS\\test_limit_excessgen_no_hedge\\rfo_shape\\PySAM Downloaded Weather Files\\Wind\\windtoolkit_34.8592779418666_-118.435217147729_60min_100m_2014.srw\n",
      "File already exists, skipping download: c:\\Users\\gmiller\\GitHub\\SWITCH247\\switch_model\\..\\MODEL_RUNS\\test_limit_excessgen_no_hedge\\rfo_shape\\PySAM Downloaded Weather Files\\Wind\\windtoolkit_42.80265_-114.0496_60min_100m_2014.srw\n",
      "File already exists, skipping download: c:\\Users\\gmiller\\GitHub\\SWITCH247\\switch_model\\..\\MODEL_RUNS\\test_limit_excessgen_no_hedge\\rfo_shape\\PySAM Downloaded Weather Files\\Wind\\windtoolkit_33.9369161190981_-116.577326941334_60min_100m_2014.srw\n",
      "File already exists, skipping download: c:\\Users\\gmiller\\GitHub\\SWITCH247\\switch_model\\..\\MODEL_RUNS\\test_limit_excessgen_no_hedge\\rfo_shape\\PySAM Downloaded Weather Files\\Wind\\windtoolkit_37.7123963931528_-121.564857867683_60min_100m_2014.srw\n",
      "File already exists, skipping download: c:\\Users\\gmiller\\GitHub\\SWITCH247\\switch_model\\..\\MODEL_RUNS\\test_limit_excessgen_no_hedge\\rfo_shape\\PySAM Downloaded Weather Files\\Wind\\windtoolkit_37.7974893696317_-121.603310554024_60min_100m_2014.srw\n",
      "File already exists, skipping download: c:\\Users\\gmiller\\GitHub\\SWITCH247\\switch_model\\..\\MODEL_RUNS\\test_limit_excessgen_no_hedge\\rfo_shape\\PySAM Downloaded Weather Files\\Wind\\windtoolkit_42.68942_-114.9983_60min_100m_2014.srw\n",
      "File already exists, skipping download: c:\\Users\\gmiller\\GitHub\\SWITCH247\\switch_model\\..\\MODEL_RUNS\\test_limit_excessgen_no_hedge\\rfo_shape\\PySAM Downloaded Weather Files\\Wind\\windtoolkit_32.6617395295481_-116.273272528912_60min_100m_2014.srw\n",
      "File already exists, skipping download: c:\\Users\\gmiller\\GitHub\\SWITCH247\\switch_model\\..\\MODEL_RUNS\\test_limit_excessgen_no_hedge\\rfo_shape\\PySAM Downloaded Weather Files\\Wind\\windtoolkit_34.8631120226719_-116.854206979763_60min_100m_2014.srw\n",
      "File already exists, skipping download: c:\\Users\\gmiller\\GitHub\\SWITCH247\\switch_model\\..\\MODEL_RUNS\\test_limit_excessgen_no_hedge\\rfo_shape\\PySAM Downloaded Weather Files\\Wind\\windtoolkit_35.3789906748787_-119.917047690148_60min_100m_2014.srw\n",
      "File already exists, skipping download: c:\\Users\\gmiller\\GitHub\\SWITCH247\\switch_model\\..\\MODEL_RUNS\\test_limit_excessgen_no_hedge\\rfo_shape\\PySAM Downloaded Weather Files\\Wind\\windtoolkit_37.808582_-121.668631_60min_100m_2014.srw\n",
      "File already exists, skipping download: c:\\Users\\gmiller\\GitHub\\SWITCH247\\switch_model\\..\\MODEL_RUNS\\test_limit_excessgen_no_hedge\\rfo_shape\\PySAM Downloaded Weather Files\\Wind\\windtoolkit_32.68274_-116.3659_60min_100m_2014.srw\n",
      "File already exists, skipping download: c:\\Users\\gmiller\\GitHub\\SWITCH247\\switch_model\\..\\MODEL_RUNS\\test_limit_excessgen_no_hedge\\rfo_shape\\PySAM Downloaded Weather Files\\Wind\\windtoolkit_40.82138_-121.82166_60min_100m_2014.srw\n",
      "WARNING: Mustang_2 nodal revenue greater than PPA cost\n",
      "This may lead to over-procurement of this resource\n",
      "Mean PPA cost = $31.85 per MWh\n",
      "Mean nodal revenue = $36.674 per MWh\n",
      "WARNING: Wright_Solar nodal revenue greater than PPA cost\n",
      "This may lead to over-procurement of this resource\n",
      "Mean PPA cost = $34.78 per MWh\n",
      "Mean nodal revenue = $36.778 per MWh\n",
      "WARNING: Chaparral_Solar nodal revenue greater than PPA cost\n",
      "This may lead to over-procurement of this resource\n",
      "Mean PPA cost = $28.04 per MWh\n",
      "Mean nodal revenue = $34.345 per MWh\n",
      "WARNING: Arica_Solar nodal revenue greater than PPA cost\n",
      "This may lead to over-procurement of this resource\n",
      "Mean PPA cost = $24.55 per MWh\n",
      "Mean nodal revenue = $31.232 per MWh\n",
      "WARNING: PVHybrid_Central_Valley nodal revenue greater than PPA cost\n",
      "This may lead to over-procurement of this resource\n",
      "Mean PPA cost = $27.21 per MWh\n",
      "Mean nodal revenue = $34.559 per MWh\n",
      "WARNING: PVHybrid_Coastal nodal revenue greater than PPA cost\n",
      "This may lead to over-procurement of this resource\n",
      "Mean PPA cost = $26.5 per MWh\n",
      "Mean nodal revenue = $38.522 per MWh\n",
      "WARNING: PVHybrid_Desert nodal revenue greater than PPA cost\n",
      "This may lead to over-procurement of this resource\n",
      "Mean PPA cost = $26.46 per MWh\n",
      "Mean nodal revenue = $34.415 per MWh\n",
      "WARNING: PVHybrid_Northern_California nodal revenue greater than PPA cost\n",
      "This may lead to over-procurement of this resource\n",
      "Mean PPA cost = $28.12 per MWh\n",
      "Mean nodal revenue = $35.85 per MWh\n",
      "Writing inputs for test_70 scenario...\n",
      "Writing inputs for test_90 scenario...\n"
     ]
    }
   ],
   "source": [
    "# check if the directory exists\n",
    "if os.path.exists(model_workspace / 'inputs'):\n",
    "    # check that an inputs version file exists\n",
    "    if os.path.exists(model_workspace / 'inputs_version.txt'):\n",
    "        # get the version number\n",
    "        with open(model_workspace / 'inputs_version.txt', 'r') as i:\n",
    "            inputs_version = i.read()\n",
    "        # get the current version number\n",
    "        version_path = Path.cwd() / 'version.py'\n",
    "        version = {}\n",
    "        with open(version_path) as f:\n",
    "            exec(f.read(), version)\n",
    "        version = version['__version__']\n",
    "        # check if the versions match\n",
    "        if version == inputs_version:\n",
    "            print(f'Input files already generated with current software version ({version})')\n",
    "        else:\n",
    "            print(f'Inputs were generated using version {inputs_version}. Current version is {version}')\n",
    "            print('Removing old files and re-generating inputs with current version. Please wait...')\n",
    "            old_files = os.listdir(model_workspace)\n",
    "            old_files.remove('model_inputs.xlsx')\n",
    "            for f in old_files:\n",
    "                try:\n",
    "                    os.remove(model_workspace / f)\n",
    "                except PermissionError:\n",
    "                    shutil.rmtree(model_workspace / f)\n",
    "            generate_input_files.generate_inputs(model_workspace)\n",
    "    else: \n",
    "        generate_input_files.generate_inputs(model_workspace)\n",
    "# if the directory does not exist, generate the input files\n",
    "else:\n",
    "    print('Generating inputs now...')\n",
    "    generate_input_files.generate_inputs(model_workspace)"
   ]
  },
  {
   "cell_type": "markdown",
   "metadata": {},
   "source": [
    "# Solve Model Scenarios"
   ]
  },
  {
   "cell_type": "markdown",
   "metadata": {},
   "source": [
    "### Identify the number of CPU cores (processors) that your computer has\n",
    "If you want to solve multiple scenarios in parallel, you should only run n-1 solvers, where n is the number of CPU cores on your machine."
   ]
  },
  {
   "cell_type": "markdown",
   "metadata": {},
   "source": [
    "The following cell will actually run the scenarios. Each time you run the following cell, it will open a new parallel solver window."
   ]
  },
  {
   "cell_type": "code",
   "execution_count": 4,
   "metadata": {},
   "outputs": [
    {
     "data": {
      "text/plain": [
       "0"
      ]
     },
     "execution_count": 4,
     "metadata": {},
     "output_type": "execute_result"
    }
   ],
   "source": [
    "os.system(f'start cmd /k \"cd {model_runs_folder}\\{model_run_name} & activate switch_247 & switch solve-scenarios\"') "
   ]
  },
  {
   "cell_type": "markdown",
   "metadata": {},
   "source": [
    "### Run as many parallel threads as possible"
   ]
  },
  {
   "cell_type": "code",
   "execution_count": null,
   "metadata": {},
   "outputs": [],
   "source": [
    "num_processors = mp.cpu_count()\n",
    "print(f'This machine has {num_processors} CPU cores')\n",
    "# get the number of scenarios to run\n",
    "num_scenarios = len(os.listdir(model_workspace / 'inputs'))\n",
    "print(f'There are {num_scenarios} scenarios to run')\n",
    "# determine how many threads to open\n",
    "parallel_threads = min(num_processors - 1, num_scenarios)\n",
    "print(f'Running {parallel_threads} scenarios in parallel...')\n",
    "i = 0\n",
    "while i < parallel_threads:\n",
    "    os.system(f'start cmd /k \"cd {model_runs_folder}\\{model_run_name} & activate switch_247 & switch solve-scenarios\"') \n",
    "    time.sleep(2)\n",
    "    i += 1\n"
   ]
  }
 ],
 "metadata": {
  "interpreter": {
   "hash": "b1778606320a67ef539dd1b715deb330623331b463bae4e93fc5977f8bb68e72"
  },
  "kernelspec": {
   "display_name": "Python 3.8.10 64-bit ('switch_247': conda)",
   "name": "python3"
  },
  "language_info": {
   "codemirror_mode": {
    "name": "ipython",
    "version": 3
   },
   "file_extension": ".py",
   "mimetype": "text/x-python",
   "name": "python",
   "nbconvert_exporter": "python",
   "pygments_lexer": "ipython3",
   "version": "3.8.10"
  },
  "orig_nbformat": 2
 },
 "nbformat": 4,
 "nbformat_minor": 2
}
