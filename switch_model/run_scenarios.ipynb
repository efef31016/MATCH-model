{
 "metadata": {
  "language_info": {
   "codemirror_mode": {
    "name": "ipython",
    "version": 3
   },
   "file_extension": ".py",
   "mimetype": "text/x-python",
   "name": "python",
   "nbconvert_exporter": "python",
   "pygments_lexer": "ipython3",
   "version": "3.8.10"
  },
  "orig_nbformat": 2,
  "kernelspec": {
   "name": "python3",
   "display_name": "Python 3.8.10 64-bit ('switch_247': conda)"
  },
  "interpreter": {
   "hash": "b5cd7b7571e6318f5fd6adc9cee12d73eccc93ada83e657cc8f1c05b47d15a2e"
  }
 },
 "nbformat": 4,
 "nbformat_minor": 2,
 "cells": [
  {
   "source": [
    "This notebook can be used to run the simulation instead of having to type the commands into the command line interface"
   ],
   "cell_type": "markdown",
   "metadata": {}
  },
  {
   "cell_type": "code",
   "execution_count": 1,
   "metadata": {},
   "outputs": [],
   "source": [
    "# Copyright (c) 2021 *****************. All rights reserved.\n",
    "# Licensed under the Apache License, Version 2.0, which is in the LICENSE file.\n",
    "\n",
    "import multiprocessing as mp\n",
    "import os\n",
    "import time\n",
    "from pathlib import Path\n",
    "import generate_input_files"
   ]
  },
  {
   "source": [
    "# Specify the location of your local MODEL_RUNS directory"
   ],
   "cell_type": "markdown",
   "metadata": {}
  },
  {
   "cell_type": "code",
   "execution_count": 2,
   "metadata": {},
   "outputs": [],
   "source": [
    "\n",
    "# specify the location of the model runs folder you will be using, relative to the switch_model directory\n",
    "# the default location is the MODEL_RUNS directory within the Git repo\n",
    "# however, if you want to save model runs in a alternate location, such as a Box folder, you could use something like:\n",
    "#model_runs_folder = '../../../Box/Supply/24x7 Time-Coincident Work/MODEL_RUNS'\n",
    "model_runs_folder = '../MODEL_RUNS'\n",
    "\n",
    "# enter the name of the folder within your MODEL_RUNS folder where the input and output files for this specific model run are located\n",
    "model_run_name = 'generic_office_example'\n",
    "\n",
    "model_workspace = Path.cwd() / f'{model_runs_folder}/{model_run_name}'"
   ]
  },
  {
   "source": [
    "# Generate Model Inputs"
   ],
   "cell_type": "markdown",
   "metadata": {}
  },
  {
   "cell_type": "code",
   "execution_count": null,
   "metadata": {
    "tags": [
     "outputPrepend"
    ]
   },
   "outputs": [],
   "source": [
    "# Enter the Timezone for your analysis\n",
    "timezone = 'US/Pacific'\n",
    "\n",
    "generate_input_files.generate_inputs(model_workspace, timezone)"
   ]
  },
  {
   "source": [
    "# Solve Model Scenarios"
   ],
   "cell_type": "markdown",
   "metadata": {}
  },
  {
   "source": [
    "### 1. Get the number of CPU cores (processors) that your computer has\n",
    "If you want to solve multiple scenarios in parallel, you should only run n-1 solvers, where n is the number of CPU cores on your machine."
   ],
   "cell_type": "markdown",
   "metadata": {}
  },
  {
   "cell_type": "code",
   "execution_count": 3,
   "metadata": {},
   "outputs": [
    {
     "output_type": "stream",
     "name": "stdout",
     "text": [
      "Max # of parallel threads you can run: 3\n"
     ]
    }
   ],
   "source": [
    "num_processors = mp.cpu_count()\n",
    "print(f'Max # of parallel threads you can run: {num_processors-1}')"
   ]
  },
  {
   "source": [
    "The following cell will actually run the scenarios. Each time you run the following cell, it will open a new parallel solver window."
   ],
   "cell_type": "markdown",
   "metadata": {}
  },
  {
   "cell_type": "code",
   "execution_count": 5,
   "metadata": {},
   "outputs": [
    {
     "output_type": "execute_result",
     "data": {
      "text/plain": [
       "0"
      ]
     },
     "metadata": {},
     "execution_count": 5
    }
   ],
   "source": [
    "os.system(f'start cmd /k \"cd {model_runs_folder}\\{model_run_name} & activate switch_247 & switch solve-scenarios\"') "
   ]
  },
  {
   "cell_type": "code",
   "execution_count": null,
   "metadata": {},
   "outputs": [],
   "source": []
  }
 ]
}