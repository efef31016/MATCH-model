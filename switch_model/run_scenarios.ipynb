{
 "metadata": {
  "language_info": {
   "codemirror_mode": {
    "name": "ipython",
    "version": 3
   },
   "file_extension": ".py",
   "mimetype": "text/x-python",
   "name": "python",
   "nbconvert_exporter": "python",
   "pygments_lexer": "ipython3",
   "version": "3.7.9-final"
  },
  "orig_nbformat": 2,
  "kernelspec": {
   "name": "python3",
   "display_name": "Python 3",
   "language": "python"
  }
 },
 "nbformat": 4,
 "nbformat_minor": 2,
 "cells": [
  {
   "source": [
    "This notebook can be used to run the simulation instead of having to type the commands into the command line interface"
   ],
   "cell_type": "markdown",
   "metadata": {}
  },
  {
   "cell_type": "code",
   "execution_count": 2,
   "metadata": {},
   "outputs": [],
   "source": [
    "# Copyright (c) 2021 *****************. All rights reserved.\n",
    "# Licensed under the Apache License, Version 2.0, which is in the LICENSE file.\n",
    "\n",
    "import multiprocessing as mp\n",
    "import os\n",
    "import time\n",
    "from pathlib import Path\n",
    "import generate_input_files"
   ]
  },
  {
   "source": [
    "# Generate Model Inputs"
   ],
   "cell_type": "markdown",
   "metadata": {}
  },
  {
   "source": [
    "### 1. Enter the name of the folder within the MODEL_RUNS directory that contains the files for the scenarios you want to run"
   ],
   "cell_type": "markdown",
   "metadata": {}
  },
  {
   "cell_type": "code",
   "execution_count": 3,
   "metadata": {},
   "outputs": [],
   "source": [
    "model_run_name = 'QE_example'"
   ]
  },
  {
   "source": [
    "### 2. Generate the input files\n",
    "\n",
    "Enter the timezone for model inputs"
   ],
   "cell_type": "markdown",
   "metadata": {}
  },
  {
   "cell_type": "code",
   "execution_count": 3,
   "metadata": {
    "tags": [
     "outputPrepend"
    ]
   },
   "outputs": [
    {
     "output_type": "stream",
     "name": "stdout",
     "text": [
      "ngs.warn(\n",
      "C:\\Users\\Greg\\Anaconda3\\envs\\switch_247\\lib\\site-packages\\urllib3\\connectionpool.py:1013: InsecureRequestWarning: Unverified HTTPS request is being made to host 'gds-hsds-nsrdb-files.nrelcloud.org'. Adding certificate verification is strongly advised. See: https://urllib3.readthedocs.io/en/latest/advanced-usage.html#ssl-warnings\n",
      "  warnings.warn(\n",
      "Downloading file.\n",
      "Success! File downloaded to c:\\Users\\Greg\\GitHub\\SWITCH247\\switch_model\\..\\MODEL_RUNS\\QE_example\\base_set\\PySAM Downloaded Weather Files\\PV\\nsrdb_33.980534_-117.377025_psm3_60_2012.csv.\n",
      "Getting list of available NSRDB files for 37.640735, -121.002435.\n",
      "C:\\Users\\Greg\\Anaconda3\\envs\\switch_247\\lib\\site-packages\\urllib3\\connectionpool.py:1013: InsecureRequestWarning: Unverified HTTPS request is being made to host 'developer.nrel.gov'. Adding certificate verification is strongly advised. See: https://urllib3.readthedocs.io/en/latest/advanced-usage.html#ssl-warnings\n",
      "  warnings.warn(\n",
      "List of available data saved to c:\\Users\\Greg\\GitHub\\SWITCH247\\switch_model\\..\\MODEL_RUNS\\QE_example\\base_set\\PySAM Downloaded Weather Files\\PV/nsrdb_data_query_response_37.640735_-121.002435.json.\n",
      "https://developer.nrel.gov/api/nsrdb/v2/solar/psm3-download.csv?names=2012&wkt=POINT%28-121.002435+37.640735%29&interval=60&api_key=2a78RNGnLZ6Fy290RlxPPXSSbdUThYuoXBi4pX94&email=grmiller@ucdavis.edu&utc=false\n",
      "C:\\Users\\Greg\\Anaconda3\\envs\\switch_247\\lib\\site-packages\\urllib3\\connectionpool.py:1013: InsecureRequestWarning: Unverified HTTPS request is being made to host 'developer.nrel.gov'. Adding certificate verification is strongly advised. See: https://urllib3.readthedocs.io/en/latest/advanced-usage.html#ssl-warnings\n",
      "  warnings.warn(\n",
      "C:\\Users\\Greg\\Anaconda3\\envs\\switch_247\\lib\\site-packages\\urllib3\\connectionpool.py:1013: InsecureRequestWarning: Unverified HTTPS request is being made to host 'developer.nrel.gov'. Adding certificate verification is strongly advised. See: https://urllib3.readthedocs.io/en/latest/advanced-usage.html#ssl-warnings\n",
      "  warnings.warn(\n",
      "C:\\Users\\Greg\\Anaconda3\\envs\\switch_247\\lib\\site-packages\\urllib3\\connectionpool.py:1013: InsecureRequestWarning: Unverified HTTPS request is being made to host 'developer.nrel.gov'. Adding certificate verification is strongly advised. See: https://urllib3.readthedocs.io/en/latest/advanced-usage.html#ssl-warnings\n",
      "  warnings.warn(\n",
      "C:\\Users\\Greg\\Anaconda3\\envs\\switch_247\\lib\\site-packages\\urllib3\\connectionpool.py:1013: InsecureRequestWarning: Unverified HTTPS request is being made to host 'mapfiles.nrel.gov'. Adding certificate verification is strongly advised. See: https://urllib3.readthedocs.io/en/latest/advanced-usage.html#ssl-warnings\n",
      "  warnings.warn(\n",
      "C:\\Users\\Greg\\Anaconda3\\envs\\switch_247\\lib\\site-packages\\urllib3\\connectionpool.py:1013: InsecureRequestWarning: Unverified HTTPS request is being made to host 'gds-hsds-nsrdb-files.nrelcloud.org'. Adding certificate verification is strongly advised. See: https://urllib3.readthedocs.io/en/latest/advanced-usage.html#ssl-warnings\n",
      "  warnings.warn(\n",
      "Downloading file.\n",
      "Success! File downloaded to c:\\Users\\Greg\\GitHub\\SWITCH247\\switch_model\\..\\MODEL_RUNS\\QE_example\\base_set\\PySAM Downloaded Weather Files\\PV\\nsrdb_37.640735_-121.002435_psm3_60_2012.csv.\n",
      "\n",
      "Starting data download for solar using 1 thread workers.\n",
      "Getting list of available NSRDB files for 35.373405, -119.018911.\n",
      "C:\\Users\\Greg\\Anaconda3\\envs\\switch_247\\lib\\site-packages\\urllib3\\connectionpool.py:1013: InsecureRequestWarning: Unverified HTTPS request is being made to host 'developer.nrel.gov'. Adding certificate verification is strongly advised. See: https://urllib3.readthedocs.io/en/latest/advanced-usage.html#ssl-warnings\n",
      "  warnings.warn(\n",
      "List of available data saved to c:\\Users\\Greg\\GitHub\\SWITCH247\\switch_model\\..\\MODEL_RUNS\\QE_example\\base_set\\PySAM Downloaded Weather Files\\PV/nsrdb_data_query_response_35.373405_-119.018911.json.\n",
      "https://developer.nrel.gov/api/nsrdb/v2/solar/psm3-download.csv?names=2013&wkt=POINT%28-119.018911+35.373405%29&interval=60&api_key=2a78RNGnLZ6Fy290RlxPPXSSbdUThYuoXBi4pX94&email=grmiller@ucdavis.edu&utc=false\n",
      "C:\\Users\\Greg\\Anaconda3\\envs\\switch_247\\lib\\site-packages\\urllib3\\connectionpool.py:1013: InsecureRequestWarning: Unverified HTTPS request is being made to host 'developer.nrel.gov'. Adding certificate verification is strongly advised. See: https://urllib3.readthedocs.io/en/latest/advanced-usage.html#ssl-warnings\n",
      "  warnings.warn(\n",
      "C:\\Users\\Greg\\Anaconda3\\envs\\switch_247\\lib\\site-packages\\urllib3\\connectionpool.py:1013: InsecureRequestWarning: Unverified HTTPS request is being made to host 'developer.nrel.gov'. Adding certificate verification is strongly advised. See: https://urllib3.readthedocs.io/en/latest/advanced-usage.html#ssl-warnings\n",
      "  warnings.warn(\n",
      "C:\\Users\\Greg\\Anaconda3\\envs\\switch_247\\lib\\site-packages\\urllib3\\connectionpool.py:1013: InsecureRequestWarning: Unverified HTTPS request is being made to host 'developer.nrel.gov'. Adding certificate verification is strongly advised. See: https://urllib3.readthedocs.io/en/latest/advanced-usage.html#ssl-warnings\n",
      "  warnings.warn(\n",
      "C:\\Users\\Greg\\Anaconda3\\envs\\switch_247\\lib\\site-packages\\urllib3\\connectionpool.py:1013: InsecureRequestWarning: Unverified HTTPS request is being made to host 'mapfiles.nrel.gov'. Adding certificate verification is strongly advised. See: https://urllib3.readthedocs.io/en/latest/advanced-usage.html#ssl-warnings\n",
      "  warnings.warn(\n",
      "C:\\Users\\Greg\\Anaconda3\\envs\\switch_247\\lib\\site-packages\\urllib3\\connectionpool.py:1013: InsecureRequestWarning: Unverified HTTPS request is being made to host 'gds-hsds-nsrdb-files.nrelcloud.org'. Adding certificate verification is strongly advised. See: https://urllib3.readthedocs.io/en/latest/advanced-usage.html#ssl-warnings\n",
      "  warnings.warn(\n",
      "Downloading file.\n",
      "Success! File downloaded to c:\\Users\\Greg\\GitHub\\SWITCH247\\switch_model\\..\\MODEL_RUNS\\QE_example\\base_set\\PySAM Downloaded Weather Files\\PV\\nsrdb_35.373405_-119.018911_psm3_60_2013.csv.\n",
      "Getting list of available NSRDB files for 33.980534, -117.377025.\n",
      "C:\\Users\\Greg\\Anaconda3\\envs\\switch_247\\lib\\site-packages\\urllib3\\connectionpool.py:1013: InsecureRequestWarning: Unverified HTTPS request is being made to host 'developer.nrel.gov'. Adding certificate verification is strongly advised. See: https://urllib3.readthedocs.io/en/latest/advanced-usage.html#ssl-warnings\n",
      "  warnings.warn(\n",
      "List of available data saved to c:\\Users\\Greg\\GitHub\\SWITCH247\\switch_model\\..\\MODEL_RUNS\\QE_example\\base_set\\PySAM Downloaded Weather Files\\PV/nsrdb_data_query_response_33.980534_-117.377025.json.\n",
      "https://developer.nrel.gov/api/nsrdb/v2/solar/psm3-download.csv?names=2013&wkt=POINT%28-117.377025+33.980534%29&interval=60&api_key=2a78RNGnLZ6Fy290RlxPPXSSbdUThYuoXBi4pX94&email=grmiller@ucdavis.edu&utc=false\n",
      "C:\\Users\\Greg\\Anaconda3\\envs\\switch_247\\lib\\site-packages\\urllib3\\connectionpool.py:1013: InsecureRequestWarning: Unverified HTTPS request is being made to host 'developer.nrel.gov'. Adding certificate verification is strongly advised. See: https://urllib3.readthedocs.io/en/latest/advanced-usage.html#ssl-warnings\n",
      "  warnings.warn(\n",
      "C:\\Users\\Greg\\Anaconda3\\envs\\switch_247\\lib\\site-packages\\urllib3\\connectionpool.py:1013: InsecureRequestWarning: Unverified HTTPS request is being made to host 'developer.nrel.gov'. Adding certificate verification is strongly advised. See: https://urllib3.readthedocs.io/en/latest/advanced-usage.html#ssl-warnings\n",
      "  warnings.warn(\n",
      "C:\\Users\\Greg\\Anaconda3\\envs\\switch_247\\lib\\site-packages\\urllib3\\connectionpool.py:1013: InsecureRequestWarning: Unverified HTTPS request is being made to host 'developer.nrel.gov'. Adding certificate verification is strongly advised. See: https://urllib3.readthedocs.io/en/latest/advanced-usage.html#ssl-warnings\n",
      "  warnings.warn(\n",
      "C:\\Users\\Greg\\Anaconda3\\envs\\switch_247\\lib\\site-packages\\urllib3\\connectionpool.py:1013: InsecureRequestWarning: Unverified HTTPS request is being made to host 'mapfiles.nrel.gov'. Adding certificate verification is strongly advised. See: https://urllib3.readthedocs.io/en/latest/advanced-usage.html#ssl-warnings\n",
      "  warnings.warn(\n",
      "C:\\Users\\Greg\\Anaconda3\\envs\\switch_247\\lib\\site-packages\\urllib3\\connectionpool.py:1013: InsecureRequestWarning: Unverified HTTPS request is being made to host 'gds-hsds-nsrdb-files.nrelcloud.org'. Adding certificate verification is strongly advised. See: https://urllib3.readthedocs.io/en/latest/advanced-usage.html#ssl-warnings\n",
      "  warnings.warn(\n",
      "Downloading file.\n",
      "Success! File downloaded to c:\\Users\\Greg\\GitHub\\SWITCH247\\switch_model\\..\\MODEL_RUNS\\QE_example\\base_set\\PySAM Downloaded Weather Files\\PV\\nsrdb_33.980534_-117.377025_psm3_60_2013.csv.\n",
      "Getting list of available NSRDB files for 37.640735, -121.002435.\n",
      "C:\\Users\\Greg\\Anaconda3\\envs\\switch_247\\lib\\site-packages\\urllib3\\connectionpool.py:1013: InsecureRequestWarning: Unverified HTTPS request is being made to host 'developer.nrel.gov'. Adding certificate verification is strongly advised. See: https://urllib3.readthedocs.io/en/latest/advanced-usage.html#ssl-warnings\n",
      "  warnings.warn(\n",
      "List of available data saved to c:\\Users\\Greg\\GitHub\\SWITCH247\\switch_model\\..\\MODEL_RUNS\\QE_example\\base_set\\PySAM Downloaded Weather Files\\PV/nsrdb_data_query_response_37.640735_-121.002435.json.\n",
      "https://developer.nrel.gov/api/nsrdb/v2/solar/psm3-download.csv?names=2013&wkt=POINT%28-121.002435+37.640735%29&interval=60&api_key=2a78RNGnLZ6Fy290RlxPPXSSbdUThYuoXBi4pX94&email=grmiller@ucdavis.edu&utc=false\n",
      "C:\\Users\\Greg\\Anaconda3\\envs\\switch_247\\lib\\site-packages\\urllib3\\connectionpool.py:1013: InsecureRequestWarning: Unverified HTTPS request is being made to host 'developer.nrel.gov'. Adding certificate verification is strongly advised. See: https://urllib3.readthedocs.io/en/latest/advanced-usage.html#ssl-warnings\n",
      "  warnings.warn(\n",
      "C:\\Users\\Greg\\Anaconda3\\envs\\switch_247\\lib\\site-packages\\urllib3\\connectionpool.py:1013: InsecureRequestWarning: Unverified HTTPS request is being made to host 'developer.nrel.gov'. Adding certificate verification is strongly advised. See: https://urllib3.readthedocs.io/en/latest/advanced-usage.html#ssl-warnings\n",
      "  warnings.warn(\n",
      "C:\\Users\\Greg\\Anaconda3\\envs\\switch_247\\lib\\site-packages\\urllib3\\connectionpool.py:1013: InsecureRequestWarning: Unverified HTTPS request is being made to host 'developer.nrel.gov'. Adding certificate verification is strongly advised. See: https://urllib3.readthedocs.io/en/latest/advanced-usage.html#ssl-warnings\n",
      "  warnings.warn(\n",
      "C:\\Users\\Greg\\Anaconda3\\envs\\switch_247\\lib\\site-packages\\urllib3\\connectionpool.py:1013: InsecureRequestWarning: Unverified HTTPS request is being made to host 'mapfiles.nrel.gov'. Adding certificate verification is strongly advised. See: https://urllib3.readthedocs.io/en/latest/advanced-usage.html#ssl-warnings\n",
      "  warnings.warn(\n",
      "C:\\Users\\Greg\\Anaconda3\\envs\\switch_247\\lib\\site-packages\\urllib3\\connectionpool.py:1013: InsecureRequestWarning: Unverified HTTPS request is being made to host 'gds-hsds-nsrdb-files.nrelcloud.org'. Adding certificate verification is strongly advised. See: https://urllib3.readthedocs.io/en/latest/advanced-usage.html#ssl-warnings\n",
      "  warnings.warn(\n",
      "Downloading file.\n",
      "Success! File downloaded to c:\\Users\\Greg\\GitHub\\SWITCH247\\switch_model\\..\\MODEL_RUNS\\QE_example\\base_set\\PySAM Downloaded Weather Files\\PV\\nsrdb_37.640735_-121.002435_psm3_60_2013.csv.\n",
      "\n",
      "Starting data download for solar using 1 thread workers.\n",
      "Getting list of available NSRDB files for 35.373405, -119.018911.\n",
      "C:\\Users\\Greg\\Anaconda3\\envs\\switch_247\\lib\\site-packages\\urllib3\\connectionpool.py:1013: InsecureRequestWarning: Unverified HTTPS request is being made to host 'developer.nrel.gov'. Adding certificate verification is strongly advised. See: https://urllib3.readthedocs.io/en/latest/advanced-usage.html#ssl-warnings\n",
      "  warnings.warn(\n",
      "List of available data saved to c:\\Users\\Greg\\GitHub\\SWITCH247\\switch_model\\..\\MODEL_RUNS\\QE_example\\base_set\\PySAM Downloaded Weather Files\\PV/nsrdb_data_query_response_35.373405_-119.018911.json.\n",
      "https://developer.nrel.gov/api/nsrdb/v2/solar/psm3-download.csv?names=2014&wkt=POINT%28-119.018911+35.373405%29&interval=60&api_key=2a78RNGnLZ6Fy290RlxPPXSSbdUThYuoXBi4pX94&email=grmiller@ucdavis.edu&utc=false\n",
      "C:\\Users\\Greg\\Anaconda3\\envs\\switch_247\\lib\\site-packages\\urllib3\\connectionpool.py:1013: InsecureRequestWarning: Unverified HTTPS request is being made to host 'developer.nrel.gov'. Adding certificate verification is strongly advised. See: https://urllib3.readthedocs.io/en/latest/advanced-usage.html#ssl-warnings\n",
      "  warnings.warn(\n",
      "C:\\Users\\Greg\\Anaconda3\\envs\\switch_247\\lib\\site-packages\\urllib3\\connectionpool.py:1013: InsecureRequestWarning: Unverified HTTPS request is being made to host 'developer.nrel.gov'. Adding certificate verification is strongly advised. See: https://urllib3.readthedocs.io/en/latest/advanced-usage.html#ssl-warnings\n",
      "  warnings.warn(\n",
      "C:\\Users\\Greg\\Anaconda3\\envs\\switch_247\\lib\\site-packages\\urllib3\\connectionpool.py:1013: InsecureRequestWarning: Unverified HTTPS request is being made to host 'developer.nrel.gov'. Adding certificate verification is strongly advised. See: https://urllib3.readthedocs.io/en/latest/advanced-usage.html#ssl-warnings\n",
      "  warnings.warn(\n",
      "C:\\Users\\Greg\\Anaconda3\\envs\\switch_247\\lib\\site-packages\\urllib3\\connectionpool.py:1013: InsecureRequestWarning: Unverified HTTPS request is being made to host 'mapfiles.nrel.gov'. Adding certificate verification is strongly advised. See: https://urllib3.readthedocs.io/en/latest/advanced-usage.html#ssl-warnings\n",
      "  warnings.warn(\n",
      "C:\\Users\\Greg\\Anaconda3\\envs\\switch_247\\lib\\site-packages\\urllib3\\connectionpool.py:1013: InsecureRequestWarning: Unverified HTTPS request is being made to host 'gds-hsds-nsrdb-files.nrelcloud.org'. Adding certificate verification is strongly advised. See: https://urllib3.readthedocs.io/en/latest/advanced-usage.html#ssl-warnings\n",
      "  warnings.warn(\n",
      "Downloading file.\n",
      "Success! File downloaded to c:\\Users\\Greg\\GitHub\\SWITCH247\\switch_model\\..\\MODEL_RUNS\\QE_example\\base_set\\PySAM Downloaded Weather Files\\PV\\nsrdb_35.373405_-119.018911_psm3_60_2014.csv.\n",
      "Getting list of available NSRDB files for 33.980534, -117.377025.\n",
      "C:\\Users\\Greg\\Anaconda3\\envs\\switch_247\\lib\\site-packages\\urllib3\\connectionpool.py:1013: InsecureRequestWarning: Unverified HTTPS request is being made to host 'developer.nrel.gov'. Adding certificate verification is strongly advised. See: https://urllib3.readthedocs.io/en/latest/advanced-usage.html#ssl-warnings\n",
      "  warnings.warn(\n",
      "List of available data saved to c:\\Users\\Greg\\GitHub\\SWITCH247\\switch_model\\..\\MODEL_RUNS\\QE_example\\base_set\\PySAM Downloaded Weather Files\\PV/nsrdb_data_query_response_33.980534_-117.377025.json.\n",
      "https://developer.nrel.gov/api/nsrdb/v2/solar/psm3-download.csv?names=2014&wkt=POINT%28-117.377025+33.980534%29&interval=60&api_key=2a78RNGnLZ6Fy290RlxPPXSSbdUThYuoXBi4pX94&email=grmiller@ucdavis.edu&utc=false\n",
      "C:\\Users\\Greg\\Anaconda3\\envs\\switch_247\\lib\\site-packages\\urllib3\\connectionpool.py:1013: InsecureRequestWarning: Unverified HTTPS request is being made to host 'developer.nrel.gov'. Adding certificate verification is strongly advised. See: https://urllib3.readthedocs.io/en/latest/advanced-usage.html#ssl-warnings\n",
      "  warnings.warn(\n",
      "C:\\Users\\Greg\\Anaconda3\\envs\\switch_247\\lib\\site-packages\\urllib3\\connectionpool.py:1013: InsecureRequestWarning: Unverified HTTPS request is being made to host 'developer.nrel.gov'. Adding certificate verification is strongly advised. See: https://urllib3.readthedocs.io/en/latest/advanced-usage.html#ssl-warnings\n",
      "  warnings.warn(\n",
      "C:\\Users\\Greg\\Anaconda3\\envs\\switch_247\\lib\\site-packages\\urllib3\\connectionpool.py:1013: InsecureRequestWarning: Unverified HTTPS request is being made to host 'developer.nrel.gov'. Adding certificate verification is strongly advised. See: https://urllib3.readthedocs.io/en/latest/advanced-usage.html#ssl-warnings\n",
      "  warnings.warn(\n",
      "C:\\Users\\Greg\\Anaconda3\\envs\\switch_247\\lib\\site-packages\\urllib3\\connectionpool.py:1013: InsecureRequestWarning: Unverified HTTPS request is being made to host 'mapfiles.nrel.gov'. Adding certificate verification is strongly advised. See: https://urllib3.readthedocs.io/en/latest/advanced-usage.html#ssl-warnings\n",
      "  warnings.warn(\n",
      "C:\\Users\\Greg\\Anaconda3\\envs\\switch_247\\lib\\site-packages\\urllib3\\connectionpool.py:1013: InsecureRequestWarning: Unverified HTTPS request is being made to host 'gds-hsds-nsrdb-files.nrelcloud.org'. Adding certificate verification is strongly advised. See: https://urllib3.readthedocs.io/en/latest/advanced-usage.html#ssl-warnings\n",
      "  warnings.warn(\n",
      "Downloading file.\n",
      "Success! File downloaded to c:\\Users\\Greg\\GitHub\\SWITCH247\\switch_model\\..\\MODEL_RUNS\\QE_example\\base_set\\PySAM Downloaded Weather Files\\PV\\nsrdb_33.980534_-117.377025_psm3_60_2014.csv.\n",
      "Getting list of available NSRDB files for 37.640735, -121.002435.\n",
      "C:\\Users\\Greg\\Anaconda3\\envs\\switch_247\\lib\\site-packages\\urllib3\\connectionpool.py:1013: InsecureRequestWarning: Unverified HTTPS request is being made to host 'developer.nrel.gov'. Adding certificate verification is strongly advised. See: https://urllib3.readthedocs.io/en/latest/advanced-usage.html#ssl-warnings\n",
      "  warnings.warn(\n",
      "List of available data saved to c:\\Users\\Greg\\GitHub\\SWITCH247\\switch_model\\..\\MODEL_RUNS\\QE_example\\base_set\\PySAM Downloaded Weather Files\\PV/nsrdb_data_query_response_37.640735_-121.002435.json.\n",
      "https://developer.nrel.gov/api/nsrdb/v2/solar/psm3-download.csv?names=2014&wkt=POINT%28-121.002435+37.640735%29&interval=60&api_key=2a78RNGnLZ6Fy290RlxPPXSSbdUThYuoXBi4pX94&email=grmiller@ucdavis.edu&utc=false\n",
      "C:\\Users\\Greg\\Anaconda3\\envs\\switch_247\\lib\\site-packages\\urllib3\\connectionpool.py:1013: InsecureRequestWarning: Unverified HTTPS request is being made to host 'developer.nrel.gov'. Adding certificate verification is strongly advised. See: https://urllib3.readthedocs.io/en/latest/advanced-usage.html#ssl-warnings\n",
      "  warnings.warn(\n",
      "C:\\Users\\Greg\\Anaconda3\\envs\\switch_247\\lib\\site-packages\\urllib3\\connectionpool.py:1013: InsecureRequestWarning: Unverified HTTPS request is being made to host 'developer.nrel.gov'. Adding certificate verification is strongly advised. See: https://urllib3.readthedocs.io/en/latest/advanced-usage.html#ssl-warnings\n",
      "  warnings.warn(\n",
      "C:\\Users\\Greg\\Anaconda3\\envs\\switch_247\\lib\\site-packages\\urllib3\\connectionpool.py:1013: InsecureRequestWarning: Unverified HTTPS request is being made to host 'developer.nrel.gov'. Adding certificate verification is strongly advised. See: https://urllib3.readthedocs.io/en/latest/advanced-usage.html#ssl-warnings\n",
      "  warnings.warn(\n",
      "C:\\Users\\Greg\\Anaconda3\\envs\\switch_247\\lib\\site-packages\\urllib3\\connectionpool.py:1013: InsecureRequestWarning: Unverified HTTPS request is being made to host 'mapfiles.nrel.gov'. Adding certificate verification is strongly advised. See: https://urllib3.readthedocs.io/en/latest/advanced-usage.html#ssl-warnings\n",
      "  warnings.warn(\n",
      "C:\\Users\\Greg\\Anaconda3\\envs\\switch_247\\lib\\site-packages\\urllib3\\connectionpool.py:1013: InsecureRequestWarning: Unverified HTTPS request is being made to host 'gds-hsds-nsrdb-files.nrelcloud.org'. Adding certificate verification is strongly advised. See: https://urllib3.readthedocs.io/en/latest/advanced-usage.html#ssl-warnings\n",
      "  warnings.warn(\n",
      "Downloading file.\n",
      "Success! File downloaded to c:\\Users\\Greg\\GitHub\\SWITCH247\\switch_model\\..\\MODEL_RUNS\\QE_example\\base_set\\PySAM Downloaded Weather Files\\PV\\nsrdb_37.640735_-121.002435_psm3_60_2014.csv.\n",
      "Writing inputs for annual_goal scenario...\n",
      "c:\\Users\\Greg\\GitHub\\SWITCH247\\switch_model\\generate_input_files.py:318: SettingWithCopyWarning: \n",
      "A value is trying to be set on a copy of a slice from a DataFrame.\n",
      "Try using .loc[row_indexer,col_indexer] = value instead\n",
      "\n",
      "See the caveats in the documentation: https://pandas.pydata.org/pandas-docs/stable/user_guide/indexing.html#returning-a-view-versus-a-copy\n",
      "  gen_build_years['build_year'] = year\n",
      "Writing inputs for hourly_goal scenario...\n",
      "Writing inputs for hourly_95 scenario...\n"
     ]
    }
   ],
   "source": [
    "model_workspace = Path.cwd() / f'../MODEL_RUNS/{model_run_name}'\n",
    "\n",
    "timezone = 'US/Pacific'\n",
    "\n",
    "generate_input_files.generate_inputs(model_workspace, timezone)"
   ]
  },
  {
   "source": [
    "# Solve Model Scenarios"
   ],
   "cell_type": "markdown",
   "metadata": {}
  },
  {
   "source": [
    "### 1. Get the number of CPU cores (processors) that your computer has"
   ],
   "cell_type": "markdown",
   "metadata": {}
  },
  {
   "cell_type": "code",
   "execution_count": 4,
   "metadata": {},
   "outputs": [
    {
     "output_type": "execute_result",
     "data": {
      "text/plain": [
       "4"
      ]
     },
     "metadata": {},
     "execution_count": 4
    }
   ],
   "source": [
    "num_processors = mp.cpu_count()\n",
    "num_processors"
   ]
  },
  {
   "source": [
    "### 2. If you want to solve multiple scenarios in parallel, you should only run n-1 solvers, where n is the number of CPU cores on your machine.\n",
    "This opens as many parallel threads as possible while leaving some processing power available on your machine to do other tasks. Each time you run the following cell, it will open a new parallel solver window."
   ],
   "cell_type": "markdown",
   "metadata": {}
  },
  {
   "cell_type": "code",
   "execution_count": 4,
   "metadata": {},
   "outputs": [
    {
     "output_type": "execute_result",
     "data": {
      "text/plain": [
       "0"
      ]
     },
     "metadata": {},
     "execution_count": 4
    }
   ],
   "source": [
    "os.system(f'start cmd /k \"cd ..\\MODEL_RUNS\\{model_run_name} & activate switch_247 & switch solve-scenarios\"') "
   ]
  },
  {
   "cell_type": "code",
   "execution_count": null,
   "metadata": {},
   "outputs": [],
   "source": []
  }
 ]
}