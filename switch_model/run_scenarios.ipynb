{
 "metadata": {
  "language_info": {
   "codemirror_mode": {
    "name": "ipython",
    "version": 3
   },
   "file_extension": ".py",
   "mimetype": "text/x-python",
   "name": "python",
   "nbconvert_exporter": "python",
   "pygments_lexer": "ipython3",
   "version": "3.8.10"
  },
  "orig_nbformat": 2,
  "kernelspec": {
   "name": "python3",
   "display_name": "Python 3.8.10 64-bit ('switch_247': conda)"
  },
  "interpreter": {
   "hash": "b5cd7b7571e6318f5fd6adc9cee12d73eccc93ada83e657cc8f1c05b47d15a2e"
  }
 },
 "nbformat": 4,
 "nbformat_minor": 2,
 "cells": [
  {
   "cell_type": "markdown",
   "source": [
    "This notebook can be used to run the simulation instead of having to type the commands into the command line interface"
   ],
   "metadata": {}
  },
  {
   "cell_type": "code",
   "execution_count": null,
   "source": [
    "# Copyright (c) 2021 *****************. All rights reserved.\r\n",
    "# Licensed under the Apache License, Version 2.0, which is in the LICENSE file.\r\n",
    "\r\n",
    "import multiprocessing as mp\r\n",
    "import os\r\n",
    "from pathlib import Path\r\n",
    "import generate_input_files\r\n",
    "import shutil"
   ],
   "outputs": [],
   "metadata": {}
  },
  {
   "cell_type": "markdown",
   "source": [
    "# Specify the location of your local MODEL_RUNS directory"
   ],
   "metadata": {}
  },
  {
   "cell_type": "code",
   "execution_count": null,
   "source": [
    "# specify the location of the model runs folder you will be using, relative to the switch_model directory\r\n",
    "# the default location is the MODEL_RUNS directory within the Git repo\r\n",
    "# however, if you want to save model runs in a alternate location, such as a Box folder, you could use something like:\r\n",
    "#model_runs_folder = '../../../Box/Supply/24x7 Time-Coincident Work/MODEL_RUNS'\r\n",
    "model_runs_folder = '../MODEL_RUNS'\r\n",
    "\r\n",
    "# enter the name of the folder within your MODEL_RUNS folder where the input and output files for this specific model run are located\r\n",
    "model_run_name = 'test_PCE'\r\n",
    "\r\n",
    "model_workspace = Path.cwd() / f'{model_runs_folder}/{model_run_name}'"
   ],
   "outputs": [],
   "metadata": {}
  },
  {
   "cell_type": "markdown",
   "source": [
    "# Generate and Validate model inputs\r\n",
    "1. If input files do not yet exist, create them\r\n",
    "2. If input files exist, check that the current software version matches the version that was used to generate the inputs\r\n",
    "3. If the versions do not match, we need to re-generate the input files to ensure consistency"
   ],
   "metadata": {}
  },
  {
   "cell_type": "code",
   "execution_count": null,
   "source": [
    "# check if the directory exists\r\n",
    "if os.path.exists(model_workspace / 'inputs'):\r\n",
    "    # check that an inputs version file exists\r\n",
    "    if os.path.exists(model_workspace / 'inputs_version.txt'):\r\n",
    "        # get the version number\r\n",
    "        with open(model_workspace / 'inputs_version.txt', 'r') as i:\r\n",
    "            inputs_version = i.read()\r\n",
    "        # get the current version number\r\n",
    "        version_path = Path.cwd() / 'version.py'\r\n",
    "        version = {}\r\n",
    "        with open(version_path) as f:\r\n",
    "            exec(f.read(), version)\r\n",
    "        version = version['__version__']\r\n",
    "        # check if the versions match\r\n",
    "        if version == inputs_version:\r\n",
    "            print(f'Input files already generated with current software version ({version})')\r\n",
    "        else:\r\n",
    "            print(f'Inputs were generated using version {inputs_version}. Current version is {version}')\r\n",
    "            print('Removing old files and re-generating inputs with current version. Please wait...')\r\n",
    "            old_files = os.listdir(model_workspace)\r\n",
    "            old_files.remove('model_inputs.xlsx')\r\n",
    "            for f in old_files:\r\n",
    "                try:\r\n",
    "                    os.remove(model_workspace / f)\r\n",
    "                except PermissionError:\r\n",
    "                    shutil.rmtree(model_workspace / f)\r\n",
    "            generate_input_files.generate_inputs(model_workspace)\r\n",
    "    else: \r\n",
    "        print('Inputs were generated prior to version 0.1.0. Re-generating inputs now...')\r\n",
    "        old_files = os.listdir(model_workspace)\r\n",
    "        old_files.remove('model_inputs.xlsx')\r\n",
    "        for f in old_files:\r\n",
    "            try:\r\n",
    "                os.remove(model_workspace / f)\r\n",
    "            except PermissionError:\r\n",
    "                shutil.rmtree(model_workspace / f)\r\n",
    "        generate_input_files.generate_inputs(model_workspace)\r\n",
    "# if the directory does not exist, generate the input files\r\n",
    "else:\r\n",
    "    print('Generating inputs now...')\r\n",
    "    generate_input_files.generate_inputs(model_workspace)"
   ],
   "outputs": [],
   "metadata": {}
  },
  {
   "cell_type": "markdown",
   "source": [
    "# Solve Model Scenarios"
   ],
   "metadata": {}
  },
  {
   "cell_type": "markdown",
   "source": [
    "### Identify the number of CPU cores (processors) that your computer has\r\n",
    "If you want to solve multiple scenarios in parallel, you should only run n-1 solvers, where n is the number of CPU cores on your machine."
   ],
   "metadata": {}
  },
  {
   "cell_type": "code",
   "execution_count": null,
   "source": [
    "num_processors = mp.cpu_count()\r\n",
    "print(f'This machine has {num_processors} CPU cores')\r\n",
    "print(f'We recommend running no more than {num_processors-1} threads in parallel')"
   ],
   "outputs": [],
   "metadata": {}
  },
  {
   "cell_type": "markdown",
   "source": [
    "The following cell will actually run the scenarios. Each time you run the following cell, it will open a new parallel solver window."
   ],
   "metadata": {}
  },
  {
   "cell_type": "code",
   "execution_count": null,
   "source": [
    "os.system(f'start cmd /k \"cd {model_runs_folder}\\{model_run_name} & activate switch_247 & switch solve-scenarios\"') "
   ],
   "outputs": [],
   "metadata": {}
  }
 ]
}