{
 "metadata": {
  "language_info": {
   "codemirror_mode": {
    "name": "ipython",
    "version": 3
   },
   "file_extension": ".py",
   "mimetype": "text/x-python",
   "name": "python",
   "nbconvert_exporter": "python",
   "pygments_lexer": "ipython3",
   "version": "3.7.7-final"
  },
  "orig_nbformat": 2,
  "kernelspec": {
   "name": "python3",
   "display_name": "Python 3.7.7 64-bit ('time-coincident': conda)",
   "metadata": {
    "interpreter": {
     "hash": "038cbc948c2042cfd9f7416490fb942ef4085a95e6848b8233676c9ff03b2fa0"
    }
   }
  }
 },
 "nbformat": 4,
 "nbformat_minor": 2,
 "cells": [
  {
   "source": [
    "This notebook can be used to run the simulation instead of having to type the commands into the command line interface"
   ],
   "cell_type": "markdown",
   "metadata": {}
  },
  {
   "cell_type": "code",
   "execution_count": null,
   "metadata": {},
   "outputs": [],
   "source": [
<<<<<<< HEAD
    "# Copyright (c) 2021 *****************. All rights reserved.\n",
    "# Licensed under the Apache License, Version 2.0, which is in the LICENSE file.\n",
    "\n",
=======
>>>>>>> 168ccd968ce6d193acd06aefc6fffd0bf666fbf7
    "import multiprocessing as mp\n",
    "import os\n",
    "import time\n",
    "from pathlib import Path\n",
    "import generate_input_files"
   ]
  },
  {
   "source": [
    "# Generate Model Inputs\n",
    "1. In the \"MODEL_RUNS\" directory, create and name a new folder to hold all of the files for your model run \n",
    "2. Copy the model_inputs.xlsx excel file template from the MODEL_RUNS directory into your model run subdirectory\n",
    "3. Configure your inputs in the excel file in your subdirectory\n",
    "4. In the cell below, specify the name of the subdirectory for which you want to generate inputs and run the cell. NOTE: generating inputs can take up to 30 min depending on the number of scenarios you are generating. "
   ],
   "cell_type": "markdown",
   "metadata": {}
  },
  {
   "source": [
    "### 1. Enter the name of the folder within the MODEL_RUNS directory that contains the files for the scenarios you want to run"
   ],
   "cell_type": "markdown",
   "metadata": {}
  },
  {
   "cell_type": "code",
   "execution_count": null,
   "metadata": {},
   "outputs": [],
   "source": [
<<<<<<< HEAD
    "model_run_name = 'dec_27_post_variant'"
=======
    "model_run_name = 'seasonal_subsets'"
>>>>>>> 168ccd968ce6d193acd06aefc6fffd0bf666fbf7
   ]
  },
  {
   "source": [
    "### 2. Generate the input files"
   ],
   "cell_type": "markdown",
   "metadata": {}
  },
  {
   "cell_type": "code",
   "execution_count": null,
   "metadata": {
    "tags": []
   },
   "outputs": [],
   "source": [
    "model_workspace = Path.cwd() / f'../MODEL_RUNS/{model_run_name}'\n",
    "\n",
    "timezone = 'US/Pacific'\n",
    "\n",
    "generate_input_files.generate_inputs(model_workspace, timezone)"
   ]
  },
  {
   "source": [
    "# Solve Model Scenarios"
   ],
   "cell_type": "markdown",
   "metadata": {}
  },
  {
   "source": [
    "### 1. Get the number of CPU cores (processors) that your computer has"
   ],
   "cell_type": "markdown",
   "metadata": {}
  },
  {
   "cell_type": "code",
   "execution_count": null,
   "metadata": {},
   "outputs": [],
   "source": [
    "num_processors = mp.cpu_count()\n",
    "num_processors"
   ]
  },
  {
   "source": [
    "### 2a. If you want to solve multiple scenarios in parallel, this cell will automatically open n-1 solvers, where n is the number of CPU cores on your machine.\n",
    "This opens as many parallel threads as possible while leaving some processing power available on your machine to do other tasks. For example, if your computer has 4 CPU cores, this will open 3 parallel solvers."
   ],
   "cell_type": "markdown",
   "metadata": {}
  },
  {
   "cell_type": "code",
   "execution_count": null,
   "metadata": {},
   "outputs": [],
   "source": [
    "for i in range(num_processors - 1):\n",
    "    os.system(f'start cmd /k \"cd ..\\MODEL_RUNS\\{model_run_name} & activate time-coincident & switch solve-scenarios\"')\n",
    "    time.sleep(5)"
   ]
  },
  {
   "source": [
    "### 2b. If you only want to open a single solver window, run this cell instead of 2a"
   ],
   "cell_type": "markdown",
   "metadata": {}
  },
  {
   "cell_type": "code",
   "execution_count": null,
   "metadata": {},
   "outputs": [],
   "source": [
    "os.system(f'start cmd /k \"cd ..\\MODEL_RUNS\\{model_run_name} & activate time-coincident & switch solve-scenarios\"')"
   ]
  },
  {
   "cell_type": "code",
   "execution_count": null,
   "metadata": {},
   "outputs": [],
   "source": []
  }
 ]
}