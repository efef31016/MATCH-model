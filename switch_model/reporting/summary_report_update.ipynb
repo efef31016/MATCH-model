{
 "cells": [
  {
   "cell_type": "markdown",
   "source": [
    "# Scenario Report\r\n",
    "\r\n",
    "To add:\r\n",
    "- [ ] Hourly carbon emissions heatmap\r\n",
    "- [ ] Total carbon emissions\r\n",
    "- [ ] Percent renewable heatmap\r\n",
    "- [ ] Annual average state of charge\r\n",
    "- [ ] Fixed annual costs \r\n",
    "- [ ] Weighted average cost of power for each hour or TOU period\r\n",
    "- [ ] Cost savings from renewable curtailment\r\n",
    "- [ ] Total MWh and shape of curtailment, compared to wholesale prices\r\n",
    "- [ ] Marginal emisison metrics\r\n",
    "- [ ] Grid impact metrics\r\n",
    "- [ ] Organize into sections: (portfolio, cost, dispatch, impact metrics)\r\n",
    "- [ ] Duals and RC (non-selected generators)\r\n",
    "- [ ] Peak times / binding constraints\r\n",
    "\r\n",
    "\r\n",
    "To update:\r\n",
    "- [ ] Excess generation report (shape, cost, composition)"
   ],
   "metadata": {}
  },
  {
   "cell_type": "code",
   "execution_count": null,
   "source": [
    "# Copyright (c) 2021 *****************. All rights reserved.\r\n",
    "# Licensed under the Apache License, Version 2.0, which is in the LICENSE file.\r\n",
    "\r\n",
    "#TODO: delete this\r\n",
    "%reload_ext autoreload\r\n",
    "%autoreload 2\r\n",
    "\r\n",
    "from pathlib import Path\r\n",
    "import pandas as pd\r\n",
    "import plotly.express as px\r\n",
    "import plotly\r\n",
    "import plotly.graph_objects as go \r\n",
    "import numpy as np\r\n",
    "from switch_model.reporting.report_functions import *\r\n",
    "\r\n",
    "# TODO: remove input folder\r\n",
    "input_folder = '../../MODEL_RUNS/test_PCE/inputs/hourly_90'\r\n",
    "\r\n",
    "#get the name of the current directory to specify the scenario name and identify the output directory\r\n",
    "scenario_name = str(Path.cwd() / input_folder).split('\\\\')[-1]\r\n",
    "if scenario_name == 'inputs':\r\n",
    "    data_dir = Path.cwd() / input_folder / '../outputs/'\r\n",
    "    inputs_dir = Path.cwd() / input_folder / '../inputs/'\r\n",
    "    scenario_name = 'N/A'\r\n",
    "else:\r\n",
    "    data_dir = Path.cwd() / input_folder/ f'../../outputs/{scenario_name}/'\r\n",
    "    inputs_dir = Path.cwd() / input_folder / f'../../inputs/{scenario_name}/'\r\n",
    "\r\n",
    "#define formatting options/functions for outputs\r\n",
    "pd.options.display.float_format = '{:,.2f}'.format\r\n",
    "\r\n",
    "#allow the notebook to display plots in html report\r\n",
    "###################################################\r\n",
    "plotly.offline.init_notebook_mode()\r\n",
    "\r\n",
    "print(f'Scenario Name: {scenario_name}')"
   ],
   "outputs": [],
   "metadata": {
    "execution": {
     "iopub.execute_input": "2021-08-10T22:22:50.646474Z",
     "iopub.status.busy": "2021-08-10T22:22:50.630505Z",
     "iopub.status.idle": "2021-08-10T22:22:51.630435Z",
     "shell.execute_reply": "2021-08-10T22:22:51.630435Z"
    }
   }
  },
  {
   "cell_type": "code",
   "execution_count": null,
   "source": [
    "# load data from csvs\r\n",
    "load_balance = pd.read_csv(data_dir / 'load_balance.csv')\r\n",
    "gen_cap = pd.read_csv(data_dir / 'gen_cap.csv')\r\n",
    "gen_build_predetermined = pd.read_csv(inputs_dir / 'gen_build_predetermined.csv', usecols=['GENERATION_PROJECT'])\r\n",
    "generation_projects_info = pd.read_csv(inputs_dir / 'generation_projects_info.csv')\r\n",
    "hybrid_pair = hybrid_pair_dict(generation_projects_info)\r\n",
    "costs_by_gen = pd.read_csv(data_dir / 'costs_by_gen.csv')\r\n",
    "storage_dispatch = pd.read_csv(data_dir / 'storage_dispatch.csv')\r\n",
    "dispatch = pd.read_csv(data_dir / 'dispatch.csv')\r\n",
    "system_power = pd.read_csv(data_dir / 'system_power.csv')\r\n",
    "costs_by_tp = pd.read_csv(data_dir / 'costs_by_tp.csv')\r\n",
    "RA_summary = pd.read_csv(data_dir / 'RA_summary.csv')\r\n",
    "fixed_costs = pd.read_csv(inputs_dir / 'fixed_costs.csv')\r\n",
    "rec_value = pd.read_csv(inputs_dir / 'rec_value.csv').loc[0,'rec_resale_value'].item()\r\n",
    "ra_summary = pd.read_csv(data_dir / 'RA_summary.csv')\r\n",
    "\r\n",
    "technology_color_map = {\r\n",
    " 'Small Hydro':'Purple',\r\n",
    " 'Consumed Small Hydro':'Purple',\r\n",
    " 'Excess Small Hydro':'Plum',\r\n",
    " 'Onshore Wind':'DeepSkyBlue',\r\n",
    " 'Consumed Onshore Wind':'DeepSkyBlue',\r\n",
    " 'Excess Onshore Wind':'LightSkyBlue',\r\n",
    " 'Offshore Wind':'Navy',\r\n",
    " 'Consumed Offshore Wind':'Navy',\r\n",
    " 'Excess Offshore Wind':'MediumSlateBlue',\r\n",
    " 'Solar PV':'Gold',\r\n",
    " 'Hybrid Solar PV':'Gold',\r\n",
    " 'Consumed Solar PV':'Gold',\r\n",
    " 'Excess Solar PV':'Yellow',\r\n",
    " 'CSP':'Orange',\r\n",
    " 'Geothermal':'Sienna',\r\n",
    " 'Consumed Geothermal':'Sienna',\r\n",
    " 'Storage':'Green',\r\n",
    " 'Storage Discharge':'Green',\r\n",
    " 'Hybrid Storage':'Green',\r\n",
    " 'Grid Energy':'Red',\r\n",
    " '(?)':'Black'}"
   ],
   "outputs": [],
   "metadata": {}
  },
  {
   "cell_type": "code",
   "execution_count": null,
   "source": [
    "for val in fixed_costs['cost_name']:\r\n",
    "    print(val)"
   ],
   "outputs": [],
   "metadata": {}
  },
  {
   "cell_type": "markdown",
   "source": [
    "## Portfolio Renewable Percentage"
   ],
   "metadata": {}
  },
  {
   "cell_type": "code",
   "execution_count": null,
   "source": [
    "  \r\n",
    "print(f'Time-coincident renewable percentage: {format_percent(hourly_renewable_percentage(load_balance))}')\r\n",
    "print(f'Annual volumetric renewable percentage: {format_percent(annual_renewable_percentage(load_balance))}')"
   ],
   "outputs": [],
   "metadata": {}
  },
  {
   "cell_type": "markdown",
   "source": [
    "## Generator Portfolio\n",
    "The sunburst chart describes the built portfolio at various levels of detail, which shows how the outer rings relate to the inner rings\n",
    "- Inner circle: contract status (contracted or additional project)\n",
    "- Middle ring: technology type (e.g. solar, wind, ...)\n",
    "- Outer ring: specific project name\n",
    "\n",
    "For example, individual projects in the outer ring belong to a specific technology type in the middle ring, which can either be part of the existing/contracted portfolio, or the additional portfolio.\n"
   ],
   "metadata": {}
  },
  {
   "cell_type": "code",
   "execution_count": null,
   "source": [
    "portfolio = generator_portfolio(gen_cap, gen_build_predetermined)\r\n",
    "\r\n",
    "portfolio_sunburst = px.sunburst(portfolio, path=['Status','Technology','generation_project'], values='MW', color='Technology', color_discrete_map=technology_color_map,\r\n",
    " width=1000, height=1000,\r\n",
    " title='Energy Portfolio by Project Name, Technology Type, and Contract Status (MW)')\r\n",
    "portfolio_sunburst.update_traces(textinfo='label+value')\r\n",
    "portfolio_sunburst.show()"
   ],
   "outputs": [],
   "metadata": {}
  },
  {
   "cell_type": "markdown",
   "source": [
    "# Generation Cost by Project\r\n",
    "This should show contract costs, Nodal costs, and storage revenues"
   ],
   "metadata": {}
  },
  {
   "cell_type": "code",
   "execution_count": null,
   "source": [
    "gen_costs = generator_costs(costs_by_gen, storage_dispatch, hybrid_pair, gen_cap)\r\n",
    "\r\n",
    "generator_costs_melted = gen_costs.drop(columns='Total Cost').melt(id_vars='generation_project', var_name='Cost', value_name='$/MWh')\r\n",
    "\r\n",
    "generator_cost_fig = px.bar(generator_costs_melted, \r\n",
    "                            title='Average Generator Cost per MWh Generated', \r\n",
    "                            x='generation_project', \r\n",
    "                            y='$/MWh', \r\n",
    "                            color='Cost', \r\n",
    "                            color_discrete_map={'Energy Contract Cost': 'Green',\r\n",
    "                                                'Capacity Contract Cost': 'Orange',\r\n",
    "                                                'Delivery Cost': 'lightblue',\r\n",
    "                                                'Pnode Revenue':'Red', \r\n",
    "                                                'Storage Arbitrage Revenue':'Purple'}).update_yaxes(zeroline=True, zerolinewidth=2, zerolinecolor='black')\r\n",
    "\r\n",
    "generator_cost_fig.add_scatter(x=gen_costs.generation_project, y=gen_costs['Total Cost'], mode='markers+text', text=gen_costs['Total Cost'], textposition='top center', line=dict(color='black', width=1), name='Total Cost')\r\n",
    "\r\n",
    "generator_cost_fig.show()\r\n",
    "\r\n"
   ],
   "outputs": [],
   "metadata": {}
  },
  {
   "cell_type": "markdown",
   "source": [
    "# Power Content Label\r\n"
   ],
   "metadata": {}
  },
  {
   "cell_type": "code",
   "execution_count": null,
   "source": [
    "power_content = power_content_label(load_balance, dispatch, generation_projects_info)\r\n",
    "\r\n",
    "delivered_energy_pie = px.pie(power_content, values='MWh', names='Source', title='Power Content of Delivered Energy (MWh)', color='Source', color_discrete_map=technology_color_map,\r\n",
    "width=600, height=600\r\n",
    " )\r\n",
    "delivered_energy_pie.update_traces(textinfo='percent+label+value')\r\n",
    "delivered_energy_pie.show()"
   ],
   "outputs": [],
   "metadata": {}
  },
  {
   "cell_type": "markdown",
   "source": [
    "## Delivered Electricity Cost Summary"
   ],
   "metadata": {}
  },
  {
   "cell_type": "code",
   "execution_count": null,
   "source": [
    "hourly_costs = hourly_cost_of_power(system_power, costs_by_tp, RA_summary, gen_cap, storage_dispatch, fixed_costs, rec_value, load_balance)\r\n",
    "hourly_cost_plot = build_hourly_cost_plot(hourly_costs, load_balance)\r\n",
    "hourly_cost_plot.show()"
   ],
   "outputs": [],
   "metadata": {}
  },
  {
   "cell_type": "markdown",
   "source": [
    "### Cost Breakdown"
   ],
   "metadata": {}
  },
  {
   "cell_type": "code",
   "execution_count": null,
   "source": [
    "cost_table, resale_table = construct_cost_and_resale_tables(hourly_costs, load_balance, ra_summary)\r\n",
    "display(cost_table.set_index('Cost Component'))\r\n"
   ],
   "outputs": [],
   "metadata": {}
  },
  {
   "cell_type": "markdown",
   "source": [
    "### Resale Values"
   ],
   "metadata": {}
  },
  {
   "cell_type": "code",
   "execution_count": null,
   "source": [
    "display(resale_table.set_index('Cost Component'))"
   ],
   "outputs": [],
   "metadata": {}
  },
  {
   "cell_type": "markdown",
   "source": [
    "## Resource Adequacy Open Position"
   ],
   "metadata": {}
  },
  {
   "cell_type": "code",
   "execution_count": null,
   "source": [
    "build_ra_open_position_plot(ra_summary).show()"
   ],
   "outputs": [],
   "metadata": {}
  },
  {
   "cell_type": "markdown",
   "source": [
    "# Supply and Demand Balance"
   ],
   "metadata": {}
  },
  {
   "cell_type": "code",
   "execution_count": null,
   "source": [
    "build_dispatch_plot(generation_projects_info, dispatch, storage_dispatch, load_balance, system_power, technology_color_map).show()"
   ],
   "outputs": [],
   "metadata": {}
  },
  {
   "cell_type": "code",
   "execution_count": null,
   "source": [
    "#only keep observations greater than 0\r\n",
    "dispatch_by_tech = dispatch_by_tech[dispatch_by_tech['MWh'] > 0]\r\n",
    "\r\n",
    "dispatch_by_tech['timestamp'] = pd.to_datetime(dispatch_by_tech['timestamp'])\r\n",
    "\r\n",
    "px.area(dispatch_by_tech, x='timestamp', y='MWh', color='Technology', color_discrete_map=technology_color_map, labels={'timestamp':'Datetime','Technology':'Key'})\r\n"
   ],
   "outputs": [],
   "metadata": {}
  },
  {
   "cell_type": "code",
   "execution_count": null,
   "source": [
    "# Set up data for dispatch timeseries graph\r\n",
    "###########################################\r\n",
    "\r\n",
    "dispatch = pd.read_csv(data_dir / 'dispatch.csv', usecols=['timestamp','generation_project','DispatchGen_MW'], parse_dates=['timestamp'], infer_datetime_format=True)\r\n",
    "\r\n",
    "\"\"\"\r\n",
    "\r\n",
    "#create a dictionary that matches hybrid storage to generator\r\n",
    "hybrid_pair = pd.read_csv('generation_projects_info.csv', usecols=['GENERATION_PROJECT','storage_hybrid_generation_project'])\r\n",
    "hybrid_pair = hybrid_pair[hybrid_pair['storage_hybrid_generation_project'] != \".\"]\r\n",
    "hybrid_pair = dict(zip(hybrid_pair.GENERATION_PROJECT, hybrid_pair.storage_hybrid_generation_project))\r\n",
    "\"\"\"\r\n",
    "\r\n",
    "try:\r\n",
    "    storage = pd.read_csv(data_dir / 'storage_dispatch.csv', parse_dates=['timestamp'], infer_datetime_format=True)\r\n",
    "    \"\"\"\r\n",
    "    #merge charging data for hybrid storage projects into the dataframe\r\n",
    "    hybrid_dispatch = storage.copy()[['generation_project','timestamp','ChargeMW','DispatchMW']]\r\n",
    "    hybrid_dispatch.loc[:,'generation_project'] = hybrid_dispatch['generation_project'].replace(hybrid_pair)\r\n",
    "    dispatch = dispatch.merge(hybrid_dispatch, how='left', on=['generation_project','timestamp']).fillna(0)\r\n",
    "\r\n",
    "    # subtract out charging energy from generation from hybrid projects to get true generation\r\n",
    "    dispatch.loc[:,'DispatchGen_MW'] = dispatch['DispatchGen_MW'] - dispatch['ChargeMW'] + dispatch['DispatchMW']\r\n",
    "    #drop the hybrid columns\r\n",
    "    dispatch = dispatch.drop(columns=['ChargeMW','DispatchMW'])\r\n",
    "    \"\"\"\r\n",
    "    # rename the column\r\n",
    "    dispatch = dispatch.rename(columns={'DispatchGen_MW':'DispatchMW'})\r\n",
    "\r\n",
    "\r\n",
    "    #append storage \r\n",
    "    storage_dispatch = storage[['generation_project','timestamp','DischargeMW']]\r\n",
    "    #storage_dispatch = storage_dispatch[~storage_dispatch['generation_project'].str.contains('HYBRID')]\r\n",
    "    dispatch = dispatch.append(storage_dispatch)\r\n",
    "\r\n",
    "    # Setup storage charging timeseries data\r\n",
    "    ########################################\r\n",
    "    storage_charge = storage[['generation_project','timestamp','ChargeMW']]\r\n",
    "    #storage_charge = storage_charge[~storage_charge['generation_project'].str.contains('HYBRID')]\r\n",
    "    storage_charge = storage_charge.groupby('timestamp').sum().reset_index()\r\n",
    "\r\n",
    "except FileNotFoundError:\r\n",
    "    #calculate total generation\r\n",
    "    dispatch = dispatch.rename(columns={'DispatchGen_MW':'DispatchMW'})\r\n",
    "\r\n",
    "#add system power data if available\r\n",
    "try:\r\n",
    "    system_power_use = pd.read_csv(data_dir / 'system_power.csv', usecols=['timestamp','System_Power_MW'], parse_dates=['timestamp'], infer_datetime_format=True)\r\n",
    "    system_power_use.loc[:,'generation_project'] = 'SYSTEM_POWER'\r\n",
    "    system_power_use = system_power_use.rename(columns={'System_Power_MW':'DispatchMW'})\r\n",
    "    dispatch = dispatch.append(system_power_use)\r\n",
    "\r\n",
    "except FileNotFoundError:\r\n",
    "    pass\r\n",
    "\r\n",
    "#add technology column\r\n",
    "dispatch['Technology'] = [i.split('_')[0] for i in dispatch['generation_project']]\r\n",
    "\r\n",
    "# replace the technology name of the RE portion of a hybrid with just the name of the technology\r\n",
    "for tech in list(dispatch['Technology'].unique()):\r\n",
    "    if 'HYBRID' in tech and 'STORAGE' not in tech:\r\n",
    "        dispatch.loc[dispatch['Technology'] == tech, 'Technology'] = tech.replace('HYBRID','')\r\n",
    "\r\n",
    "# group the data by technology type\r\n",
    "dispatch_by_tech = dispatch.groupby(['Technology','timestamp']).sum().reset_index()\r\n",
    "#only keep observations greater than 0\r\n",
    "dispatch_by_tech = dispatch_by_tech[dispatch_by_tech['DispatchMW'] > 0]\r\n",
    "# Setup load timeseries data\r\n",
    "############################\r\n",
    "\r\n",
    "load = pd.read_csv(data_dir / 'load_balance.csv', usecols=['timestamp','zone_demand_mw'], parse_dates=['timestamp'], infer_datetime_format=True)\r\n",
    "\r\n",
    "# Create Figure\r\n",
    "###############\r\n",
    "\r\n",
    "color_map = {'HYDRO':'Purple',\r\n",
    " 'ONWIND':'Blue',\r\n",
    " 'OFFWIND':'Navy',\r\n",
    " 'PV':'Yellow',\r\n",
    " 'CSP':'Orange',\r\n",
    " 'GEO':'Sienna',\r\n",
    " 'STORAGE':'Green',\r\n",
    " 'STORAGEHYBRID':'GreenYellow',\r\n",
    " 'SYSTEM':'Red'}\r\n",
    "\r\n",
    "dispatch_fig = px.area(dispatch_by_tech, x='timestamp', y='DispatchMW', color='Technology', color_discrete_map=color_map, labels={'DispatchMW':'MW','timestamp':'Datetime','Technology':'Key'})\r\n",
    "dispatch_fig.update_traces(line={'width':0})\r\n",
    "#dispatch_fig.update_traces(hoveron=\"points+fills\")\r\n",
    "dispatch_fig.layout.template = 'plotly_white'\r\n",
    "#hoveron = 'points+fills'\r\n",
    "\r\n",
    "try:\r\n",
    "    # add charging line\r\n",
    "    dispatch_fig.add_scatter(x=storage_charge.timestamp, y=(storage_charge.ChargeMW + load.zone_demand_mw), line=dict(color='green', width=4), name='Load + Storage Charge')\r\n",
    "except NameError:\r\n",
    "    pass\r\n",
    "\r\n",
    "# add load line\r\n",
    "dispatch_fig.add_scatter(x=load.timestamp, y=load.zone_demand_mw, line=dict(color='black', width=4), name='Demand')\r\n",
    "\r\n",
    "dispatch_fig.update_xaxes(\r\n",
    "    rangeslider_visible=True,\r\n",
    "    rangeselector=dict(\r\n",
    "        buttons=list([\r\n",
    "            dict(count=1, label=\"1d\", step=\"day\", stepmode=\"backward\"),\r\n",
    "            dict(count=7, label=\"1w\", step=\"day\", stepmode=\"backward\"),\r\n",
    "            dict(count=1, label=\"1m\", step=\"month\", stepmode=\"backward\"),\r\n",
    "            dict(step=\"all\")\r\n",
    "        ])))\r\n",
    "\r\n",
    "dispatch_fig.show()"
   ],
   "outputs": [],
   "metadata": {}
  },
  {
   "cell_type": "code",
   "execution_count": null,
   "source": [
    "# Nodal Energy Cost data\r\n",
    "nodal_prices = pd.read_csv(inputs_dir / 'nodal_prices.csv')\r\n",
    "timestamps = pd.read_csv(inputs_dir / 'timepoints.csv', parse_dates=['timestamp'], usecols=['timepoint_id','timestamp'])\r\n",
    "# merge the timestamp data\r\n",
    "nodal_prices = nodal_prices.merge(timestamps, how='left', left_on='timepoint', right_on='timepoint_id')\r\n",
    "\r\n",
    "nodal_fig = px.line(nodal_prices, x='timestamp', y='nodal_price', color='pricing_node', labels={'nodal_price':'$/MWh','timestamp':'Datetime','pricing_node':'Node'}, title='Nodal Prices', template='plotly_white')\r\n",
    "nodal_fig.update_xaxes(\r\n",
    "    rangeslider_visible=True,\r\n",
    "    rangeselector=dict(\r\n",
    "        buttons=list([\r\n",
    "            dict(count=1, label=\"1d\", step=\"day\", stepmode=\"backward\"),\r\n",
    "            dict(count=7, label=\"1w\", step=\"day\", stepmode=\"backward\"),\r\n",
    "            dict(count=1, label=\"1m\", step=\"month\", stepmode=\"backward\"),\r\n",
    "            dict(step=\"all\")\r\n",
    "        ])))\r\n",
    "nodal_fig.show()"
   ],
   "outputs": [],
   "metadata": {}
  },
  {
   "cell_type": "code",
   "execution_count": null,
   "source": [
    "# Battery State of Charge data\r\n",
    "##############################\r\n",
    "\r\n",
    "try:\r\n",
    "\r\n",
    "    storage = pd.read_csv(data_dir / 'storage_dispatch.csv', parse_dates=['timestamp'], infer_datetime_format=True)\r\n",
    "    \r\n",
    "    soc = storage.pivot(index='timestamp', columns='generation_project', values='StateOfCharge')\r\n",
    "    #remove columns where all values are 0\r\n",
    "    soc = soc.loc[:, (soc != 0).any(axis=0)]\r\n",
    "    \r\n",
    "    #load storage capacity\r\n",
    "    storage_energy_capacity = pd.read_csv(data_dir / 'storage_builds.csv', usecols=['generation_project','OnlineEnergyCapacityMWh'], index_col='generation_project')\r\n",
    "\r\n",
    "    #create another dictionary of storage energy capacity summed by storage type\r\n",
    "    storage_energy_capacity = storage_energy_capacity.reset_index()\r\n",
    "    storage_energy_capacity['generation_project'] = [i.split('_')[0] for i in storage_energy_capacity['generation_project']]\r\n",
    "    storage_energy_capacity = storage_energy_capacity.groupby('generation_project').sum()\r\n",
    "    grouped_storage_energy_capacity_dict = storage_energy_capacity.to_dict()['OnlineEnergyCapacityMWh']\r\n",
    "\r\n",
    "\r\n",
    "    #sum by storage type\r\n",
    "    soc.columns = [i.split('_')[0] for i in soc.columns]\r\n",
    "    \r\n",
    "    soc = soc.groupby(soc.columns, axis=1).sum()\r\n",
    "    \r\n",
    "    #divide by the total capacity to get state of charge\r\n",
    "    soc = soc.div(soc.assign(**grouped_storage_energy_capacity_dict))\r\n",
    "    \r\n",
    "    #soc.index = pd.to_datetime(soc.index)\r\n",
    "    \r\n",
    "    soc.head(5)\r\n",
    "\r\n",
    "    soc_fig = px.line(soc, x=soc.index, y=list(soc.columns), color_discrete_map={'STORAGE':'green','STORAGEHYBRID':'yellowgreen'}, labels={'timestamp':'Datetime','value':'%'}, title='Storage State of Charge')\r\n",
    "\r\n",
    "    soc_fig.update_xaxes(\r\n",
    "    rangeslider_visible=True,\r\n",
    "    rangeselector=dict(\r\n",
    "        buttons=list([\r\n",
    "            dict(count=1, label=\"1d\", step=\"day\", stepmode=\"backward\"),\r\n",
    "            dict(count=7, label=\"1w\", step=\"day\", stepmode=\"backward\"),\r\n",
    "            dict(count=1, label=\"1m\", step=\"month\", stepmode=\"backward\"),\r\n",
    "            dict(step=\"all\")\r\n",
    "        ])))\r\n",
    "\r\n",
    "    soc_fig.show()\r\n",
    "    \r\n",
    "except FileNotFoundError:\r\n",
    "    pass"
   ],
   "outputs": [],
   "metadata": {
    "execution": {
     "iopub.execute_input": "2021-08-10T22:22:59.841686Z",
     "iopub.status.busy": "2021-08-10T22:22:59.840686Z",
     "iopub.status.idle": "2021-08-10T22:23:01.240157Z",
     "shell.execute_reply": "2021-08-10T22:23:01.241155Z"
    }
   }
  },
  {
   "cell_type": "code",
   "execution_count": null,
   "source": [
    "mh_dispatch = dispatch.copy()\r\n",
    "mh_dispatch = mh_dispatch.set_index('timestamp')\r\n",
    "\r\n",
    "#groupby month and hour\r\n",
    "mh_dispatch = mh_dispatch.groupby(['generation_project', mh_dispatch.index.month, mh_dispatch.index.hour], axis=0).mean()\r\n",
    "mh_dispatch.index = mh_dispatch.index.rename(['Project','Month','Hour'])\r\n",
    "mh_dispatch = mh_dispatch.reset_index()\r\n",
    "\r\n",
    "#add a technology column\r\n",
    "mh_dispatch['Technology'] = mh_dispatch['Project'].str.split('_', expand=True)[0]\r\n",
    "\r\n",
    "mh_dispatch = mh_dispatch[mh_dispatch['DispatchMW'] > 0]\r\n",
    "\r\n",
    "\r\n",
    "#load data\r\n",
    "mh_load = pd.read_csv(data_dir / 'load_balance.csv', usecols=['timestamp','zone_demand_mw'], index_col='timestamp', parse_dates=True, infer_datetime_format=True).rename(columns={'zone_demand_mw':'DEMAND'})\r\n",
    "mh_load = mh_load.groupby([mh_load.index.month, mh_load.index.hour], axis=0).mean()\r\n",
    "mh_load.index = mh_load.index.rename(['Month','Hour'])\r\n",
    "mh_load = mh_load.reset_index()\r\n",
    "\r\n",
    "try:\r\n",
    "    mh_charge = storage_charge.copy().set_index('timestamp')\r\n",
    "    mh_charge = mh_charge.groupby([mh_charge.index.month, mh_charge.index.hour], axis=0).mean()\r\n",
    "    mh_charge.index = mh_charge.index.rename(['Month','Hour'])\r\n",
    "    mh_charge = mh_charge.reset_index()\r\n",
    "    #merge load data\r\n",
    "    mh_charge = mh_charge.merge(mh_load, how='left', on=['Month','Hour'])\r\n",
    "    mh_charge['ChargeMW'] = mh_charge['ChargeMW'] + mh_charge['DEMAND']\r\n",
    "except NameError:\r\n",
    "    pass\r\n",
    "\r\n",
    "\r\n",
    "# Generate the Figure\r\n",
    "#####################\r\n",
    "\r\n",
    "color_map = {'HYDRO':'Purple',\r\n",
    " 'ONWIND':'Blue',\r\n",
    " 'OFFWIND':'Navy',\r\n",
    " 'PV':'Yellow',\r\n",
    " 'PVHYBRID':'GreenYellow',\r\n",
    " 'CSP':'Orange',\r\n",
    " 'GEO':'Sienna',\r\n",
    " 'STORAGE':'Green',\r\n",
    " 'STORAGEHYBRID':'GreenYellow',\r\n",
    " 'SYSTEM':'Red'}\r\n",
    "\r\n",
    "mh_fig = px.area(mh_dispatch, x='Hour', y='DispatchMW', facet_col='Month', color='Technology', line_group='Project', color_discrete_map=color_map, facet_col_wrap=6, width=1000, height=600, title='Month-Hour Average Generation Profiles')\r\n",
    "mh_fig.layout.template = 'plotly_white'\r\n",
    "mh_fig.update_traces(line={'dash':'dot'})\r\n",
    "\r\n",
    "try:\r\n",
    "    mh_fig.add_scatter(x=mh_charge.loc[mh_charge['Month'] == 1, 'Hour'], y=mh_charge.loc[mh_charge['Month'] == 1, 'ChargeMW'], line=dict(color='green', width=4), row=2, col=1, name='STORAGE_Charge', showlegend=True)\r\n",
    "    mh_fig.add_scatter(x=mh_charge.loc[mh_charge['Month'] == 2, 'Hour'], y=mh_charge.loc[mh_charge['Month'] == 2, 'ChargeMW'], line=dict(color='green', width=4), row=2, col=2, name='STORAGE_Charge', showlegend=False)\r\n",
    "    mh_fig.add_scatter(x=mh_charge.loc[mh_charge['Month'] == 3, 'Hour'], y=mh_charge.loc[mh_charge['Month'] == 3, 'ChargeMW'], line=dict(color='green', width=4), row=2, col=3, name='STORAGE_Charge', showlegend=False)\r\n",
    "    mh_fig.add_scatter(x=mh_charge.loc[mh_charge['Month'] == 4, 'Hour'], y=mh_charge.loc[mh_charge['Month'] == 4, 'ChargeMW'], line=dict(color='green', width=4), row=2, col=4, name='STORAGE_Charge', showlegend=False)\r\n",
    "    mh_fig.add_scatter(x=mh_charge.loc[mh_charge['Month'] == 5, 'Hour'], y=mh_charge.loc[mh_charge['Month'] == 5, 'ChargeMW'], line=dict(color='green', width=4), row=2, col=5, name='STORAGE_Charge', showlegend=False)\r\n",
    "    mh_fig.add_scatter(x=mh_charge.loc[mh_charge['Month'] == 6, 'Hour'], y=mh_charge.loc[mh_charge['Month'] == 6, 'ChargeMW'], line=dict(color='green', width=4), row=2, col=6, name='STORAGE_Charge', showlegend=False)\r\n",
    "    mh_fig.add_scatter(x=mh_charge.loc[mh_charge['Month'] == 7, 'Hour'], y=mh_charge.loc[mh_charge['Month'] == 7, 'ChargeMW'], line=dict(color='green', width=4), row=1, col=1, name='STORAGE_Charge', showlegend=False)\r\n",
    "    mh_fig.add_scatter(x=mh_charge.loc[mh_charge['Month'] == 8, 'Hour'], y=mh_charge.loc[mh_charge['Month'] == 8, 'ChargeMW'], line=dict(color='green', width=4), row=1, col=2, name='STORAGE_Charge', showlegend=False)\r\n",
    "    mh_fig.add_scatter(x=mh_charge.loc[mh_charge['Month'] == 9, 'Hour'], y=mh_charge.loc[mh_charge['Month'] == 9, 'ChargeMW'], line=dict(color='green', width=4), row=1, col=3, name='STORAGE_Charge', showlegend=False)\r\n",
    "    mh_fig.add_scatter(x=mh_charge.loc[mh_charge['Month'] == 10, 'Hour'], y=mh_charge.loc[mh_charge['Month'] == 10, 'ChargeMW'], line=dict(color='green', width=4), row=1, col=4, name='STORAGE_Charge', showlegend=False)\r\n",
    "    mh_fig.add_scatter(x=mh_charge.loc[mh_charge['Month'] == 11, 'Hour'], y=mh_charge.loc[mh_charge['Month'] == 11, 'ChargeMW'], line=dict(color='green', width=4), row=1, col=5, name='STORAGE_Charge', showlegend=False)\r\n",
    "    mh_fig.add_scatter(x=mh_charge.loc[mh_charge['Month'] == 12, 'Hour'], y=mh_charge.loc[mh_charge['Month'] == 12, 'ChargeMW'], line=dict(color='green', width=4), row=1, col=6, name='STORAGE_Charge', showlegend=False)\r\n",
    "except (NameError, KeyError) as e:\r\n",
    "    pass\r\n",
    "\r\n",
    "mh_fig.add_scatter(x=mh_load.loc[mh_load['Month'] == 1, 'Hour'], y=mh_load.loc[mh_load['Month'] == 1, 'DEMAND'], line=dict(color='black', width=4), row=2, col=1, name='Demand', showlegend=True)\r\n",
    "mh_fig.add_scatter(x=mh_load.loc[mh_load['Month'] == 2, 'Hour'], y=mh_load.loc[mh_load['Month'] == 2, 'DEMAND'], line=dict(color='black', width=4), row=2, col=2, name='Demand',showlegend=False)\r\n",
    "mh_fig.add_scatter(x=mh_load.loc[mh_load['Month'] == 3, 'Hour'], y=mh_load.loc[mh_load['Month'] == 3, 'DEMAND'], line=dict(color='black', width=4), row=2, col=3, name='Demand', showlegend=False)\r\n",
    "mh_fig.add_scatter(x=mh_load.loc[mh_load['Month'] == 4, 'Hour'], y=mh_load.loc[mh_load['Month'] == 4, 'DEMAND'], line=dict(color='black', width=4), row=2, col=4, name='Demand', showlegend=False)\r\n",
    "mh_fig.add_scatter(x=mh_load.loc[mh_load['Month'] == 5, 'Hour'], y=mh_load.loc[mh_load['Month'] == 5, 'DEMAND'], line=dict(color='black', width=4), row=2, col=5, name='Demand', showlegend=False)\r\n",
    "mh_fig.add_scatter(x=mh_load.loc[mh_load['Month'] == 6, 'Hour'], y=mh_load.loc[mh_load['Month'] == 6, 'DEMAND'], line=dict(color='black', width=4), row=2, col=6, name='Demand', showlegend=False)\r\n",
    "mh_fig.add_scatter(x=mh_load.loc[mh_load['Month'] == 7, 'Hour'], y=mh_load.loc[mh_load['Month'] == 7, 'DEMAND'], line=dict(color='black', width=4), row=1, col=1, name='Demand', showlegend=False)\r\n",
    "mh_fig.add_scatter(x=mh_load.loc[mh_load['Month'] == 8, 'Hour'], y=mh_load.loc[mh_load['Month'] == 8, 'DEMAND'], line=dict(color='black', width=4), row=1, col=2, name='Demand', showlegend=False)\r\n",
    "mh_fig.add_scatter(x=mh_load.loc[mh_load['Month'] == 9, 'Hour'], y=mh_load.loc[mh_load['Month'] == 9, 'DEMAND'], line=dict(color='black', width=4), row=1, col=3, name='Demand', showlegend=False)\r\n",
    "mh_fig.add_scatter(x=mh_load.loc[mh_load['Month'] == 10, 'Hour'], y=mh_load.loc[mh_load['Month'] == 10, 'DEMAND'], line=dict(color='black', width=4), row=1, col=4, name='Demand', showlegend=False)\r\n",
    "mh_fig.add_scatter(x=mh_load.loc[mh_load['Month'] == 11, 'Hour'], y=mh_load.loc[mh_load['Month'] == 11, 'DEMAND'], line=dict(color='black', width=4), row=1, col=5, name='Demand', showlegend=False)\r\n",
    "mh_fig.add_scatter(x=mh_load.loc[mh_load['Month'] == 12, 'Hour'], y=mh_load.loc[mh_load['Month'] == 12, 'DEMAND'], line=dict(color='black', width=4), row=1, col=6, name='Demand', showlegend=False)\r\n",
    "\r\n",
    "month_names = ['July', 'August', 'September', 'October', 'November', 'December','January', 'February', 'March', 'April', 'May', 'June']\r\n",
    "for i, a in enumerate(mh_fig.layout.annotations):\r\n",
    "    a.text = month_names[i]\r\n",
    "\r\n",
    "\r\n",
    "mh_fig.update_xaxes(dtick=3)\r\n",
    "mh_fig.show()"
   ],
   "outputs": [],
   "metadata": {
    "execution": {
     "iopub.execute_input": "2021-08-10T22:23:01.284959Z",
     "iopub.status.busy": "2021-08-10T22:23:01.253513Z",
     "iopub.status.idle": "2021-08-10T22:23:03.330070Z",
     "shell.execute_reply": "2021-08-10T22:23:03.334067Z"
    }
   }
  },
  {
   "cell_type": "code",
   "execution_count": null,
   "source": [
    "# get month-hour shape of open energy position\r\n",
    "##############################################\r\n",
    "\r\n",
    "dispatch_gen = pd.read_csv(data_dir / 'dispatch.csv', usecols=['timestamp','DispatchGen_MW'], parse_dates=['timestamp'], infer_datetime_format=True)\r\n",
    "\r\n",
    "#sum by timestamp\r\n",
    "dispatch_gen = dispatch_gen.groupby('timestamp').sum().reset_index()\r\n",
    "\r\n",
    "#sum to get total generation\r\n",
    "dispatch_gen['Generation_MW'] = dispatch_gen['DispatchGen_MW']\r\n",
    "\r\n",
    "#merge generation_load_mismatch data\r\n",
    "generation_load_mismatch = pd.read_csv(data_dir / 'load_balance.csv', usecols=['timestamp','zone_demand_mw'], parse_dates=['timestamp'], infer_datetime_format=True)\r\n",
    "\r\n",
    "generation_load_mismatch = generation_load_mismatch.merge(dispatch_gen[['timestamp','Generation_MW']], how='left', on='timestamp')\r\n",
    "\r\n",
    "#subtract generation from generation_load_mismatch to get open position and replace negative values with zero\r\n",
    "generation_load_mismatch['Overgeneration_MW'] = generation_load_mismatch['Generation_MW'] - generation_load_mismatch['zone_demand_mw']\r\n",
    "#generation_load_mismatch.loc[generation_load_mismatch['generation_load_mismatch_MW'] < 0, 'generation_load_mismatch_MW'] = 0\r\n",
    "\r\n",
    "#generation_load_mismatch['timestamp'] = pd.to_datetime(generation_load_mismatch['timestamp'])\r\n",
    "\r\n",
    "generation_load_mismatch = generation_load_mismatch.set_index('timestamp')\r\n",
    "\r\n",
    "generation_load_mismatch_mh = generation_load_mismatch.groupby([generation_load_mismatch.index.month, generation_load_mismatch.index.hour], axis=0).mean()\r\n",
    "generation_load_mismatch_mh.index = generation_load_mismatch_mh.index.rename(['Month','Hour'])\r\n",
    "generation_load_mismatch_mh = generation_load_mismatch_mh.reset_index()\r\n",
    "\r\n",
    "mh_mismatch_fig = px.area(generation_load_mismatch_mh, x='Hour', y='Overgeneration_MW', facet_col='Month', facet_col_wrap=6, width=1000, height=600, title='Shape of over- and under-generation, excluding energy storage')\r\n",
    "mh_mismatch_fig.update_xaxes(dtick=3)\r\n",
    "month_names = ['July', 'August', 'September', 'October', 'November', 'December','January', 'February', 'March', 'April', 'May', 'June']\r\n",
    "for i, a in enumerate(mh_mismatch_fig.layout.annotations):\r\n",
    "    a.text = month_names[i]\r\n",
    "\r\n",
    "mh_mismatch_fig.show()\r\n",
    "\r\n"
   ],
   "outputs": [],
   "metadata": {
    "execution": {
     "iopub.execute_input": "2021-08-10T22:23:03.342055Z",
     "iopub.status.busy": "2021-08-10T22:23:03.342055Z",
     "iopub.status.idle": "2021-08-10T22:23:04.722972Z",
     "shell.execute_reply": "2021-08-10T22:23:04.723970Z"
    }
   }
  },
  {
   "cell_type": "markdown",
   "source": [
    "## Battery Cycles"
   ],
   "metadata": {}
  },
  {
   "cell_type": "code",
   "execution_count": null,
   "source": [
    "try:\r\n",
    "    cycles = pd.read_csv(data_dir / 'storage_cycle_count.csv', usecols=['generation_project','storage_max_annual_cycles','Battery_Cycle_Count'])\r\n",
    "    cycles = cycles.round(decimals=2)\r\n",
    "    cycles = cycles[cycles['Battery_Cycle_Count'] > 0]\r\n",
    "    storage_energy_capacity = pd.read_csv(data_dir / 'storage_builds.csv', usecols=['generation_project','OnlineEnergyCapacityMWh'])\r\n",
    "    cycles = cycles.merge(storage_energy_capacity, how='left', on='generation_project')\r\n",
    "    cycles['Battery_Cycle_Count'] = cycles['Battery_Cycle_Count'] / cycles['OnlineEnergyCapacityMWh']\r\n",
    "    cycles = cycles.drop(columns=['OnlineEnergyCapacityMWh']).set_index('generation_project').round(decimals=0)\r\n",
    "    cycles['Battery_Cycle_Count'] = cycles['Battery_Cycle_Count'].astype(int)\r\n",
    "except FileNotFoundError:\r\n",
    "    cycles = \"No batteries in model\"\r\n",
    "cycles"
   ],
   "outputs": [],
   "metadata": {
    "execution": {
     "iopub.execute_input": "2021-08-10T22:23:04.730982Z",
     "iopub.status.busy": "2021-08-10T22:23:04.729956Z",
     "iopub.status.idle": "2021-08-10T22:23:04.756364Z",
     "shell.execute_reply": "2021-08-10T22:23:04.755369Z"
    }
   }
  },
  {
   "cell_type": "markdown",
   "source": [
    "# Generator Assumptions"
   ],
   "metadata": {}
  },
  {
   "cell_type": "code",
   "execution_count": null,
   "source": [
    "pd.set_option('display.max_rows',100)\r\n",
    "gen_assumptions = pd.read_csv('generation_projects_info.csv', usecols=['GENERATION_PROJECT','gen_tech','gen_energy_source','gen_reliability_area','ppa_energy_cost','gen_capacity_limit_mw'])\r\n",
    "gen_assumptions = gen_assumptions[gen_assumptions['gen_energy_source'] != 'Electricity']\r\n",
    "gen_assumptions = gen_assumptions.sort_values(by='GENERATION_PROJECT')\r\n",
    "gen_assumptions = gen_assumptions.set_index('GENERATION_PROJECT')\r\n",
    "gen_assumptions"
   ],
   "outputs": [],
   "metadata": {
    "execution": {
     "iopub.execute_input": "2021-08-10T22:23:04.764345Z",
     "iopub.status.busy": "2021-08-10T22:23:04.763356Z",
     "iopub.status.idle": "2021-08-10T22:23:04.786411Z",
     "shell.execute_reply": "2021-08-10T22:23:04.787409Z"
    },
    "tags": []
   }
  },
  {
   "cell_type": "markdown",
   "source": [
    "# Storage Assumptions"
   ],
   "metadata": {}
  },
  {
   "cell_type": "code",
   "execution_count": null,
   "source": [
    "storage_assumptions = pd.read_csv('generation_projects_info.csv', usecols=['GENERATION_PROJECT','gen_tech','gen_energy_source','gen_reliability_area','ppa_capacity_cost','gen_capacity_limit_mw', 'storage_roundtrip_efficiency','storage_charge_to_discharge_ratio','storage_energy_to_power_ratio','storage_leakage_loss','storage_hybrid_generation_project','storage_hybrid_capacity_ratio'])\r\n",
    "#change capacity cost to $/kw-mo\r\n",
    "storage_assumptions['ppa_capacity_cost'] = storage_assumptions['ppa_capacity_cost'] / 12000\r\n",
    "\r\n",
    "storage_assumptions = storage_assumptions.rename(columns={\r\n",
    "    'storage_roundtrip_efficiency':'RTE',\r\n",
    "    'storage_charge_to_discharge_ratio':'charge/discharge_ratio',\r\n",
    "    'storage_energy_to_power_ratio':'storage_hours',\r\n",
    "    'storage_leakage_loss':'soc_leakage_loss',\r\n",
    "    'storage_hybrid_generation_project':'paired_hybrid_gen',\r\n",
    "    'storage_hybrid_capacity_ratio':'hybrid_capacity_ratio'\r\n",
    "})\r\n",
    "\r\n",
    "storage_assumptions = storage_assumptions[storage_assumptions['gen_energy_source'] == 'Electricity']\r\n",
    "storage_assumptions = storage_assumptions.sort_values(by='GENERATION_PROJECT')\r\n",
    "storage_assumptions = storage_assumptions.set_index('GENERATION_PROJECT')\r\n",
    "storage_assumptions = storage_assumptions[['gen_tech','gen_reliability_area','ppa_capacity_cost','gen_capacity_limit_mw', 'RTE','storage_hours','charge/discharge_ratio','soc_leakage_loss','paired_hybrid_gen','hybrid_capacity_ratio']]\r\n",
    "storage_assumptions"
   ],
   "outputs": [],
   "metadata": {
    "execution": {
     "iopub.execute_input": "2021-08-10T22:23:04.795387Z",
     "iopub.status.busy": "2021-08-10T22:23:04.794355Z",
     "iopub.status.idle": "2021-08-10T22:23:04.817875Z",
     "shell.execute_reply": "2021-08-10T22:23:04.816878Z"
    }
   }
  },
  {
   "cell_type": "code",
   "execution_count": null,
   "source": [
    "summary = pd.DataFrame(columns=['Scenario Name'], data=['test'])\r\n",
    "\r\n",
    "summary['Scenario Name'] = scenario_name\r\n",
    "\r\n",
    "#Goal Data\r\n",
    "summary['Time-coincident Delivered %'] = tc_percent_renewable\r\n",
    "summary['Time-coincident Generation %'] = tc_no_storage_percent_renewable\r\n",
    "summary['Annual Volumetric Renewable %'] = annual_percent_renewable\r\n",
    "\r\n",
    "unformatted_cost = unformatted_cost.rename(columns={'Annual Real Cost': ' (Annual)',\t'Delivered Cost per MWh': ' (per MWh)'}).melt(id_vars=['Cost Component'], var_name='type', value_name=0)\r\n",
    "unformatted_cost['col_name'] = unformatted_cost['Cost Component'] + unformatted_cost['type']\r\n",
    "\r\n",
    "\r\n",
    "summary = pd.concat([summary, unformatted_cost[['col_name',0]].set_index('col_name').T], axis=1)\r\n",
    "\r\n",
    "#Portfolio Mix\r\n",
    "portfolio_summary = portfolio[['MW','Status','Technology']].groupby(['Status','Technology']).sum().reset_index()\r\n",
    "portfolio_summary['Description'] = portfolio_summary['Status'] + \" \" + portfolio_summary['Technology']\r\n",
    "portfolio_summary = portfolio_summary.drop(columns=['Status','Technology'])\r\n",
    "portfolio_summary = portfolio_summary.set_index('Description').transpose().reset_index(drop=True).add_prefix('MW Capacity from ')\r\n",
    "\r\n",
    "summary = pd.concat([summary, portfolio_summary], axis=1)\r\n",
    "\r\n",
    "#Load\r\n",
    "summary['Customer Load GWh'] = load['zone_demand_mw'].sum(axis=0) / 1000\r\n",
    "try:\r\n",
    "    summary['Total Load with Storage GWh'] = (load['zone_demand_mw'].sum(axis=0) + storage_charge['ChargeMW'].sum(axis=0)) / 1000\r\n",
    "except (KeyError, NameError):\r\n",
    "    summary['Total Load with Storage GWh'] = summary['Customer Load GWh']\r\n",
    "\r\n",
    "#Generation Mix\r\n",
    "generation_summary = generation_mix.set_index('Source').transpose().reset_index(drop=True).add_prefix('GWh Generation from ')\r\n",
    "summary = pd.concat([summary, generation_summary], axis=1)\r\n",
    "\r\n",
    "summary = summary.transpose()\r\n",
    "summary.columns = [f'{scenario_name}']\r\n",
    "\r\n",
    "summary.to_csv(data_dir / 'scenario_summary.csv')"
   ],
   "outputs": [],
   "metadata": {
    "execution": {
     "iopub.execute_input": "2021-08-10T22:23:04.846798Z",
     "iopub.status.busy": "2021-08-10T22:23:04.845800Z",
     "iopub.status.idle": "2021-08-10T22:23:04.864748Z",
     "shell.execute_reply": "2021-08-10T22:23:04.863717Z"
    }
   }
  }
 ],
 "metadata": {
  "interpreter": {
   "hash": "b1778606320a67ef539dd1b715deb330623331b463bae4e93fc5977f8bb68e72"
  },
  "kernelspec": {
   "name": "python3",
   "display_name": "Python 3.8.10 64-bit ('switch_247': conda)"
  },
  "language_info": {
   "codemirror_mode": {
    "name": "ipython",
    "version": 3
   },
   "file_extension": ".py",
   "mimetype": "text/x-python",
   "name": "python",
   "nbconvert_exporter": "python",
   "pygments_lexer": "ipython3",
   "version": "3.8.10"
  }
 },
 "nbformat": 4,
 "nbformat_minor": 2
}