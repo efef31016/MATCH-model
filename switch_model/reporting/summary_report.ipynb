{
 "cells": [
  {
   "cell_type": "markdown",
   "metadata": {},
   "source": [
    "# Scenario Report"
   ]
  },
  {
   "cell_type": "code",
   "execution_count": null,
   "metadata": {
    "execution": {
     "iopub.execute_input": "2021-10-08T00:16:41.969642Z",
     "iopub.status.busy": "2021-10-08T00:16:41.968645Z",
     "iopub.status.idle": "2021-10-08T00:16:42.935148Z",
     "shell.execute_reply": "2021-10-08T00:16:42.935148Z"
    }
   },
   "outputs": [],
   "source": [
    "# Copyright (c) 2021 The MATCH Authors. All rights reserved.\n",
    "# Licensed under the Apache License, Version 2.0, which is in the LICENSE file.\n",
    "\n",
    "%reload_ext autoreload\n",
    "%autoreload 2\n",
    "\n",
    "from pathlib import Path\n",
    "import pandas as pd\n",
    "import plotly.express as px\n",
    "import plotly\n",
    "import plotly.graph_objects as go \n",
    "import numpy as np\n",
    "from switch_model.reporting.report_functions import *\n",
    "import pickle\n",
    "\n",
    "# TODO: remove input folder = '../../MODEL_RUNS/test_PCE/inputs/hourly_90'\n",
    "\n",
    "#get the name of the current directory to specify the scenario name and identify the output directory\n",
    "scenario_name = str(Path.cwd()).split('\\\\')[-1]\n",
    "if scenario_name == 'inputs':\n",
    "    data_dir = Path.cwd() / '../outputs/'\n",
    "    inputs_dir = Path.cwd() / '../inputs/'\n",
    "    scenario_name = 'N/A'\n",
    "else:\n",
    "    data_dir = Path.cwd()/ f'../../outputs/{scenario_name}/'\n",
    "    inputs_dir = Path.cwd() / f'../../inputs/{scenario_name}/'\n",
    "\n",
    "#define formatting options/functions for outputs\n",
    "pd.options.display.float_format = '{:,.2f}'.format\n",
    "\n",
    "#allow the notebook to display plots in html report\n",
    "###################################################\n",
    "plotly.offline.init_notebook_mode()\n",
    "\n",
    "print(f'Scenario Name: {scenario_name}')"
   ]
  },
  {
   "cell_type": "code",
   "execution_count": null,
   "metadata": {
    "execution": {
     "iopub.execute_input": "2021-10-08T00:16:42.949115Z",
     "iopub.status.busy": "2021-10-08T00:16:42.939138Z",
     "iopub.status.idle": "2021-10-08T00:16:45.180495Z",
     "shell.execute_reply": "2021-10-08T00:16:45.179495Z"
    }
   },
   "outputs": [],
   "source": [
    "# load data from csvs\n",
    "baseload_capacity_factors = pd.read_csv(inputs_dir / 'baseload_capacity_factors.csv')\n",
    "costs_by_gen = pd.read_csv(data_dir / 'costs_by_gen.csv')\n",
    "costs_by_tp = pd.read_csv(data_dir / 'costs_by_tp.csv')\n",
    "dispatch = pd.read_csv(data_dir / 'dispatch.csv')\n",
    "emissions = pd.read_csv(data_dir / 'emissions.csv')\n",
    "with open(inputs_dir / 'ghg_emissions_unit.txt', 'r') as unit:\n",
    "    emissions_unit = unit.read()\n",
    "fixed_costs = pd.read_csv(inputs_dir / 'fixed_costs.csv')\n",
    "gen_build_predetermined = pd.read_csv(inputs_dir / 'gen_build_predetermined.csv')\n",
    "gen_cap = pd.read_csv(data_dir / 'gen_cap.csv')\n",
    "generation_projects_info = pd.read_csv(inputs_dir / 'generation_projects_info.csv')\n",
    "with open(inputs_dir / 'gen_set.txt', 'r') as set_name:\n",
    "    gen_set = set_name.read()\n",
    "grid_emissions = pd.read_csv(inputs_dir / 'grid_emissions.csv')\n",
    "hybrid_pair = hybrid_pair_dict(generation_projects_info)\n",
    "load_balance = pd.read_csv(data_dir / 'load_balance.csv')\n",
    "marginal_emissions = pd.read_csv(inputs_dir / 'marginal_emissions.csv')\n",
    "nodal_prices = pd.read_csv(inputs_dir / 'nodal_prices.csv')\n",
    "with open((data_dir / 'results.pickle'), 'rb') as file:\n",
    "    results = pickle.load(file)\n",
    "ra_summary = pd.read_csv(data_dir / 'RA_summary.csv')\n",
    "rec_value = pd.read_csv(inputs_dir / 'rec_value.csv').loc[0,'rec_resale_value'].item()\n",
    "storage_builds = pd.read_csv(data_dir / 'storage_builds.csv')\n",
    "storage_cycle_count = pd.read_csv(data_dir / 'storage_cycle_count.csv')\n",
    "storage_dispatch = pd.read_csv(data_dir / 'storage_dispatch.csv')\n",
    "system_power = pd.read_csv(data_dir / 'system_power.csv')\n",
    "timestamps = pd.read_csv(inputs_dir / 'timepoints.csv', parse_dates=['timestamp'], usecols=['timepoint_id','timestamp'])\n",
    "variable_capacity_factors = pd.read_csv(inputs_dir / 'variable_capacity_factors.csv')\n",
    "\n",
    "\n",
    "\n",
    "technology_color_map = {\n",
    " 'Small Hydro':'Purple',\n",
    " 'Consumed Small Hydro':'Purple',\n",
    " 'Excess Small Hydro':'Plum',\n",
    " 'Onshore Wind':'DeepSkyBlue',\n",
    " 'Consumed Onshore Wind':'DeepSkyBlue',\n",
    " 'Excess Onshore Wind':'LightSkyBlue',\n",
    " 'Offshore Wind':'Navy',\n",
    " 'Consumed Offshore Wind':'Navy',\n",
    " 'Excess Offshore Wind':'MediumSlateBlue',\n",
    " 'Solar PV':'Gold',\n",
    " 'Hybrid Solar PV':'Gold',\n",
    " 'Consumed Solar PV':'Gold',\n",
    " 'Excess Solar PV':'Yellow',\n",
    " 'CSP':'Orange',\n",
    " 'Geothermal':'Sienna',\n",
    " 'Consumed Geothermal':'Sienna',\n",
    " 'Storage':'Green',\n",
    " 'Storage Discharge':'Green',\n",
    " 'Hybrid Storage':'Green',\n",
    " 'Grid Energy':'Red',\n",
    " '(?)':'Black'}"
   ]
  },
  {
   "cell_type": "markdown",
   "metadata": {},
   "source": [
    "# Renewable Energy Goal"
   ]
  },
  {
   "cell_type": "markdown",
   "metadata": {},
   "source": [
    "## Portfolio Renewable Percentage"
   ]
  },
  {
   "cell_type": "code",
   "execution_count": null,
   "metadata": {
    "execution": {
     "iopub.execute_input": "2021-10-08T00:16:45.189470Z",
     "iopub.status.busy": "2021-10-08T00:16:45.188473Z",
     "iopub.status.idle": "2021-10-08T00:16:45.256897Z",
     "shell.execute_reply": "2021-10-08T00:16:45.257894Z"
    }
   },
   "outputs": [],
   "source": [
    "  \n",
    "print(f'Time-coincident renewable percentage: {format_percent(hourly_renewable_percentage(load_balance))}')\n",
    "print(f'Annual volumetric renewable percentage: {format_percent(annual_renewable_percentage(load_balance))}')"
   ]
  },
  {
   "cell_type": "markdown",
   "metadata": {},
   "source": [
    "## Sensitivity Analysis\n",
    "The following shows how well the selected portfolio would perform in specific resource years, considering the full intermittency and variability of wind and solar resources. "
   ]
  },
  {
   "cell_type": "code",
   "execution_count": null,
   "metadata": {
    "execution": {
     "iopub.execute_input": "2021-10-08T00:16:45.265872Z",
     "iopub.status.busy": "2021-10-08T00:16:45.263879Z",
     "iopub.status.idle": "2021-10-08T00:17:41.007731Z",
     "shell.execute_reply": "2021-10-08T00:17:41.009725Z"
    }
   },
   "outputs": [],
   "source": [
    "sensitivity_table = run_sensitivity_analysis(gen_set, gen_cap, dispatch, generation_projects_info, load_balance, storage_builds)"
   ]
  },
  {
   "cell_type": "markdown",
   "metadata": {},
   "source": [
    "## Carbon Emissions"
   ]
  },
  {
   "cell_type": "code",
   "execution_count": null,
   "metadata": {
    "execution": {
     "iopub.execute_input": "2021-10-08T00:17:41.080060Z",
     "iopub.status.busy": "2021-10-08T00:17:41.079063Z",
     "iopub.status.idle": "2021-10-08T00:17:41.164151Z",
     "shell.execute_reply": "2021-10-08T00:17:41.165148Z"
    }
   },
   "outputs": [],
   "source": [
    "print(f'Total Annual Emissions: {emissions[\"Emission Rate\"].sum().round(1)} {emissions_unit.split(\"/\")[0]}')\n",
    "print(f'Delivered Emission Factor: {emissions[\"Delivered Emission Factor\"].mean().round(3)} {emissions_unit}')"
   ]
  },
  {
   "cell_type": "code",
   "execution_count": null,
   "metadata": {
    "execution": {
     "iopub.execute_input": "2021-10-08T00:17:41.173126Z",
     "iopub.status.busy": "2021-10-08T00:17:41.172131Z",
     "iopub.status.idle": "2021-10-08T00:17:42.416517Z",
     "shell.execute_reply": "2021-10-08T00:17:42.418578Z"
    }
   },
   "outputs": [],
   "source": [
    "build_hourly_emissions_heatmap(grid_emissions, emissions, emissions_unit).show()"
   ]
  },
  {
   "cell_type": "markdown",
   "metadata": {},
   "source": [
    "# Portfolio"
   ]
  },
  {
   "cell_type": "markdown",
   "metadata": {},
   "source": [
    "## Generator Portfolio\n",
    "The sunburst chart describes the built portfolio at various levels of detail, which shows how the outer rings relate to the inner rings\n",
    "- Inner circle: contract status (contracted or additional project)\n",
    "- Middle ring: technology type (e.g. solar, wind, ...)\n",
    "- Outer ring: specific project name\n",
    "\n",
    "For example, individual projects in the outer ring belong to a specific technology type in the middle ring, which can either be part of the existing/contracted portfolio, or the additional portfolio.\n"
   ]
  },
  {
   "cell_type": "code",
   "execution_count": null,
   "metadata": {
    "execution": {
     "iopub.execute_input": "2021-10-08T00:17:42.428551Z",
     "iopub.status.busy": "2021-10-08T00:17:42.427555Z",
     "iopub.status.idle": "2021-10-08T00:17:42.633666Z",
     "shell.execute_reply": "2021-10-08T00:17:42.634664Z"
    }
   },
   "outputs": [],
   "source": [
    "portfolio = generator_portfolio(gen_cap, gen_build_predetermined)\n",
    "\n",
    "portfolio_sunburst = px.sunburst(portfolio, path=['Status','Technology','generation_project'], values='MW', color='Technology', color_discrete_map=technology_color_map,\n",
    " width=1000, height=1000,\n",
    " title='Energy Portfolio by Project Name, Technology Type, and Contract Status (MW)')\n",
    "portfolio_sunburst.update_traces(textinfo='label+value')\n",
    "portfolio_sunburst.show()"
   ]
  },
  {
   "cell_type": "markdown",
   "metadata": {},
   "source": [
    "## Generation Cost by Project\n",
    "This should show contract costs, Nodal costs, and storage revenues"
   ]
  },
  {
   "cell_type": "code",
   "execution_count": null,
   "metadata": {
    "execution": {
     "iopub.execute_input": "2021-10-08T00:17:42.646631Z",
     "iopub.status.busy": "2021-10-08T00:17:42.645634Z",
     "iopub.status.idle": "2021-10-08T00:17:42.833145Z",
     "shell.execute_reply": "2021-10-08T00:17:42.834145Z"
    }
   },
   "outputs": [],
   "source": [
    "gen_costs = generator_costs(costs_by_gen, storage_dispatch, hybrid_pair, gen_cap)\n",
    "\n",
    "generator_costs_melted = gen_costs.drop(columns='Total Cost').melt(id_vars='generation_project', var_name='Cost', value_name='$/MWh')\n",
    "\n",
    "generator_cost_fig = px.bar(generator_costs_melted, \n",
    "                            title='Average Generator Cost per MWh Generated', \n",
    "                            x='generation_project', \n",
    "                            y='$/MWh', \n",
    "                            color='Cost', \n",
    "                            color_discrete_map={'Energy Contract Cost': 'Green',\n",
    "                                                'Capacity Contract Cost': 'Orange',\n",
    "                                                'Delivery Cost': 'lightblue',\n",
    "                                                'Pnode Revenue':'Red', \n",
    "                                                'Storage Arbitrage Revenue':'Purple'}).update_yaxes(zeroline=True, zerolinewidth=2, zerolinecolor='black')\n",
    "\n",
    "generator_cost_fig.add_scatter(x=gen_costs.generation_project, y=gen_costs['Total Cost'], mode='markers+text', text=gen_costs['Total Cost'], textposition='top center', line=dict(color='black', width=1), name='Total Cost')\n",
    "\n",
    "generator_cost_fig.show()\n",
    "\n"
   ]
  },
  {
   "cell_type": "markdown",
   "metadata": {},
   "source": [
    "## Generator Reduced Costs\n",
    "Reduced costs for generator build decisions are valuable because they can provide an idea of how the costs of each generator would need to change in order to be built or to improve the cost of the portfolio. These values should be interpreted carefully, based on a good understanding of optimization and reduced costs in the context of linear programming."
   ]
  },
  {
   "cell_type": "code",
   "execution_count": null,
   "metadata": {
    "execution": {
     "iopub.execute_input": "2021-10-08T00:17:42.843120Z",
     "iopub.status.busy": "2021-10-08T00:17:42.842053Z",
     "iopub.status.idle": "2021-10-08T00:17:47.006611Z",
     "shell.execute_reply": "2021-10-08T00:17:47.007538Z"
    }
   },
   "outputs": [],
   "source": [
    "pos_rc_lower, pos_rc_upper, neg_rc, alternate_optima = calculate_BuildGen_reduced_costs(results, generation_projects_info, variable_capacity_factors, baseload_capacity_factors, dispatch)"
   ]
  },
  {
   "cell_type": "markdown",
   "metadata": {},
   "source": [
    "### Non-built generators\n",
    "In order for the following generators to be built, their PPA costs would have to be reduced by the following amounts"
   ]
  },
  {
   "cell_type": "code",
   "execution_count": null,
   "metadata": {
    "execution": {
     "iopub.execute_input": "2021-10-08T00:17:47.015517Z",
     "iopub.status.busy": "2021-10-08T00:17:47.014521Z",
     "iopub.status.idle": "2021-10-08T00:17:47.114306Z",
     "shell.execute_reply": "2021-10-08T00:17:47.115303Z"
    }
   },
   "outputs": [],
   "source": [
    "pos_rc_lower"
   ]
  },
  {
   "cell_type": "markdown",
   "metadata": {},
   "source": [
    "### Non-optimal built resources\n",
    "The following resources were required to be built at the following quantities, but otherwise would be too expensive to build. In order to be part of the optimal portfolio without the minimum build constraint, their PPA price would need to be reduced by the following amounts"
   ]
  },
  {
   "cell_type": "code",
   "execution_count": null,
   "metadata": {
    "execution": {
     "iopub.execute_input": "2021-10-08T00:17:47.123281Z",
     "iopub.status.busy": "2021-10-08T00:17:47.122284Z",
     "iopub.status.idle": "2021-10-08T00:17:47.191102Z",
     "shell.execute_reply": "2021-10-08T00:17:47.192100Z"
    }
   },
   "outputs": [],
   "source": [
    "pos_rc_upper"
   ]
  },
  {
   "cell_type": "markdown",
   "metadata": {},
   "source": [
    "### Alternate Optima\n",
    "If there are any generators in the below table, it means that that generator could be substituted for another generator that was built, without increasing the overall portfolio cost."
   ]
  },
  {
   "cell_type": "code",
   "execution_count": null,
   "metadata": {
    "execution": {
     "iopub.execute_input": "2021-10-08T00:17:47.200078Z",
     "iopub.status.busy": "2021-10-08T00:17:47.198084Z",
     "iopub.status.idle": "2021-10-08T00:17:47.298186Z",
     "shell.execute_reply": "2021-10-08T00:17:47.299181Z"
    }
   },
   "outputs": [],
   "source": [
    "alternate_optima"
   ]
  },
  {
   "cell_type": "markdown",
   "metadata": {},
   "source": [
    "### Most valuable capacity-limited generators\n",
    "The following generators were built at their maximum allowable capacity, but would reduce the portfolio cost if more capacity were available. In this case, the reduced cost should be interpreted as the amount that the objective function value would increase if 1 MW of additional capacity were allowed to be built. The generators are sorted from highest to lowest value, so the generators at the top would be the most valuable to have more of in the portfolio."
   ]
  },
  {
   "cell_type": "code",
   "execution_count": null,
   "metadata": {
    "execution": {
     "iopub.execute_input": "2021-10-08T00:17:47.307160Z",
     "iopub.status.busy": "2021-10-08T00:17:47.306163Z",
     "iopub.status.idle": "2021-10-08T00:17:47.407083Z",
     "shell.execute_reply": "2021-10-08T00:17:47.405160Z"
    }
   },
   "outputs": [],
   "source": [
    "display(neg_rc)"
   ]
  },
  {
   "cell_type": "markdown",
   "metadata": {},
   "source": [
    "## Power Content Label\n"
   ]
  },
  {
   "cell_type": "code",
   "execution_count": null,
   "metadata": {
    "execution": {
     "iopub.execute_input": "2021-10-08T00:17:47.417055Z",
     "iopub.status.busy": "2021-10-08T00:17:47.416129Z",
     "iopub.status.idle": "2021-10-08T00:17:47.591812Z",
     "shell.execute_reply": "2021-10-08T00:17:47.592813Z"
    }
   },
   "outputs": [],
   "source": [
    "power_content = power_content_label(load_balance, dispatch, generation_projects_info)\n",
    "\n",
    "delivered_energy_pie = px.pie(power_content, values='MWh', names='Source', title='Power Content of Delivered Energy (MWh)', color='Source', color_discrete_map=technology_color_map,\n",
    "width=600, height=600\n",
    " )\n",
    "delivered_energy_pie.update_traces(textinfo='percent+label+value')\n",
    "delivered_energy_pie.show()"
   ]
  },
  {
   "cell_type": "markdown",
   "metadata": {},
   "source": [
    "# Costs"
   ]
  },
  {
   "cell_type": "markdown",
   "metadata": {},
   "source": [
    "## Cost Breakdown"
   ]
  },
  {
   "cell_type": "code",
   "execution_count": null,
   "metadata": {
    "execution": {
     "iopub.execute_input": "2021-10-08T00:17:49.329640Z",
     "iopub.status.busy": "2021-10-08T00:17:49.328644Z",
     "iopub.status.idle": "2021-10-08T00:17:49.415068Z",
     "shell.execute_reply": "2021-10-08T00:17:49.416065Z"
    }
   },
   "outputs": [],
   "source": [
    "hourly_costs = hourly_cost_of_power(system_power, costs_by_tp, ra_summary, gen_cap, storage_dispatch, fixed_costs, rec_value, load_balance)\n",
    "cost_table, resale_table = construct_cost_and_resale_tables(hourly_costs, load_balance)\n",
    "display(cost_table.set_index('Cost Component'))"
   ]
  },
  {
   "cell_type": "markdown",
   "metadata": {},
   "source": [
    "## Hourly average cost of power"
   ]
  },
  {
   "cell_type": "code",
   "execution_count": null,
   "metadata": {
    "execution": {
     "iopub.execute_input": "2021-10-08T00:17:47.602716Z",
     "iopub.status.busy": "2021-10-08T00:17:47.601719Z",
     "iopub.status.idle": "2021-10-08T00:17:49.321663Z",
     "shell.execute_reply": "2021-10-08T00:17:49.321663Z"
    }
   },
   "outputs": [],
   "source": [
    "hourly_cost_plot = build_hourly_cost_plot(hourly_costs, load_balance)\n",
    "hourly_cost_plot.show()"
   ]
  },
  {
   "cell_type": "markdown",
   "metadata": {},
   "source": [
    "## Resale Values"
   ]
  },
  {
   "cell_type": "code",
   "execution_count": null,
   "metadata": {
    "execution": {
     "iopub.execute_input": "2021-10-08T00:17:49.425041Z",
     "iopub.status.busy": "2021-10-08T00:17:49.423047Z",
     "iopub.status.idle": "2021-10-08T00:17:49.507919Z",
     "shell.execute_reply": "2021-10-08T00:17:49.508916Z"
    }
   },
   "outputs": [],
   "source": [
    "display(resale_table.set_index('Cost Component'))"
   ]
  },
  {
   "cell_type": "markdown",
   "metadata": {},
   "source": [
    "# Resource Adequacy Position"
   ]
  },
  {
   "cell_type": "code",
   "execution_count": null,
   "metadata": {
    "execution": {
     "iopub.execute_input": "2021-10-08T00:17:49.516896Z",
     "iopub.status.busy": "2021-10-08T00:17:49.515899Z",
     "iopub.status.idle": "2021-10-08T00:17:49.661166Z",
     "shell.execute_reply": "2021-10-08T00:17:49.662163Z"
    }
   },
   "outputs": [],
   "source": [
    "build_ra_open_position_plot(ra_summary).show()"
   ]
  },
  {
   "cell_type": "markdown",
   "metadata": {},
   "source": [
    "# Portfolio Dispatch"
   ]
  },
  {
   "cell_type": "code",
   "execution_count": null,
   "metadata": {
    "execution": {
     "iopub.execute_input": "2021-10-08T00:17:49.669145Z",
     "iopub.status.busy": "2021-10-08T00:17:49.668148Z",
     "iopub.status.idle": "2021-10-08T00:17:57.664017Z",
     "shell.execute_reply": "2021-10-08T00:17:57.665014Z"
    }
   },
   "outputs": [],
   "source": [
    "dispatch_by_tech, load_line, storage_charge, dispatch_fig = build_dispatch_plot(generation_projects_info, dispatch, storage_dispatch, load_balance, system_power, technology_color_map)\n",
    "\n",
    "dispatch_fig.show()"
   ]
  },
  {
   "cell_type": "markdown",
   "metadata": {},
   "source": [
    "## Wholesale prices"
   ]
  },
  {
   "cell_type": "code",
   "execution_count": null,
   "metadata": {
    "execution": {
     "iopub.execute_input": "2021-10-08T00:17:57.671065Z",
     "iopub.status.busy": "2021-10-08T00:17:57.669070Z",
     "iopub.status.idle": "2021-10-08T00:18:10.744262Z",
     "shell.execute_reply": "2021-10-08T00:18:10.729302Z"
    }
   },
   "outputs": [],
   "source": [
    "build_nodal_prices_plot(nodal_prices, timestamps, generation_projects_info).show()"
   ]
  },
  {
   "cell_type": "markdown",
   "metadata": {},
   "source": [
    "### Month hour average dispatch"
   ]
  },
  {
   "cell_type": "code",
   "execution_count": null,
   "metadata": {
    "execution": {
     "iopub.execute_input": "2021-10-08T00:18:19.199587Z",
     "iopub.status.busy": "2021-10-08T00:18:19.198590Z",
     "iopub.status.idle": "2021-10-08T00:18:19.297406Z",
     "shell.execute_reply": "2021-10-08T00:18:19.298404Z"
    }
   },
   "outputs": [],
   "source": [
    "build_month_hour_dispatch_plot(dispatch_by_tech, load_line, storage_charge, technology_color_map).show()"
   ]
  },
  {
   "cell_type": "markdown",
   "metadata": {},
   "source": [
    "## Shadow Price of Energy Efficiency\n",
    "The following plot shows the month-hour average value of decreasing load by 1 MW for each hour of the year"
   ]
  },
  {
   "cell_type": "code",
   "execution_count": null,
   "metadata": {
    "execution": {
     "iopub.execute_input": "2021-10-08T00:18:15.737311Z",
     "iopub.status.busy": "2021-10-08T00:18:15.736311Z",
     "iopub.status.idle": "2021-10-08T00:18:19.190611Z",
     "shell.execute_reply": "2021-10-08T00:18:19.191609Z"
    }
   },
   "outputs": [],
   "source": [
    "calculate_load_shadow_price(results, timestamps).show()"
   ]
  },
  {
   "cell_type": "markdown",
   "metadata": {},
   "source": [
    "### Month-hour average net position\n",
    "\n",
    "Positive values represent excess generation  \n",
    "Negative values represent an open position"
   ]
  },
  {
   "cell_type": "code",
   "execution_count": null,
   "metadata": {
    "execution": {
     "iopub.execute_input": "2021-10-08T00:18:19.306383Z",
     "iopub.status.busy": "2021-10-08T00:18:19.305387Z",
     "iopub.status.idle": "2021-10-08T00:18:20.318502Z",
     "shell.execute_reply": "2021-10-08T00:18:20.320496Z"
    }
   },
   "outputs": [],
   "source": [
    "build_open_position_plot(load_balance).show()"
   ]
  },
  {
   "cell_type": "markdown",
   "metadata": {},
   "source": [
    "# Energy Storage Metrics"
   ]
  },
  {
   "cell_type": "markdown",
   "metadata": {},
   "source": [
    "## Battery state of charge"
   ]
  },
  {
   "cell_type": "code",
   "execution_count": null,
   "metadata": {
    "execution": {
     "iopub.execute_input": "2021-10-08T00:18:10.751243Z",
     "iopub.status.busy": "2021-10-08T00:18:10.750247Z",
     "iopub.status.idle": "2021-10-08T00:18:15.730328Z",
     "shell.execute_reply": "2021-10-08T00:18:15.730328Z"
    }
   },
   "outputs": [],
   "source": [
    "build_state_of_charge_plot(storage_dispatch, storage_builds, generation_projects_info).show()"
   ]
  },
  {
   "cell_type": "markdown",
   "metadata": {},
   "source": [
    "## Battery Cycling and State of Charge Stats"
   ]
  },
  {
   "cell_type": "code",
   "execution_count": null,
   "metadata": {
    "execution": {
     "iopub.execute_input": "2021-10-08T00:18:20.328544Z",
     "iopub.status.busy": "2021-10-08T00:18:20.327477Z",
     "iopub.status.idle": "2021-10-08T00:18:20.442545Z",
     "shell.execute_reply": "2021-10-08T00:18:20.443613Z"
    }
   },
   "outputs": [],
   "source": [
    "display(construct_storage_stats_table(storage_cycle_count, storage_builds, storage_dispatch))"
   ]
  },
  {
   "cell_type": "markdown",
   "metadata": {},
   "source": [
    "# Impact Metrics\n",
    "- Duck curve impacts (curtailment, ramping, etc)\n",
    "- Avoided Emissions"
   ]
  },
  {
   "cell_type": "markdown",
   "metadata": {},
   "source": [
    "## Avoided Emissions\n",
    "Based on the levelized Long-run marginal emission rates calculated by NREL's Cambium model, including results from Cambium's low-cost renewable, mid-cost renewable, and high-cost renewable scenarios. These values should only be used for decision-support purposes, and not for making any public claims about avoided emissions.  \n",
    "\n",
    "NOTE: This treats all generation from projects that were not pre-determined as \"additional\" even if these projects were existing generators, and are only new to this portfolio. Thus, these results should be interpreted with this caveat in mind."
   ]
  },
  {
   "cell_type": "code",
   "execution_count": null,
   "metadata": {},
   "outputs": [],
   "source": [
    "avoided_emissions = calculate_avoided_emissions(portfolio, dispatch, marginal_emissions)\n",
    "print(f'Estimated avoided emissions from additional generators (low case):  {avoided_emissions.low_case.astype(int)} {emissions_unit.split(\"/\")[0]}')\n",
    "print(f'Estimated avoided emissions from additional generators (mid case):  {avoided_emissions.mid_case.astype(int)} {emissions_unit.split(\"/\")[0]}')\n",
    "print(f'Estimated avoided emissions from additional generators (high case): {avoided_emissions.high_case.astype(int)} {emissions_unit.split(\"/\")[0]}')"
   ]
  },
  {
   "cell_type": "markdown",
   "metadata": {},
   "source": [
    "## Curtailment summary"
   ]
  },
  {
   "cell_type": "markdown",
   "metadata": {},
   "source": [
    "# Assumptions"
   ]
  },
  {
   "cell_type": "code",
   "execution_count": null,
   "metadata": {
    "execution": {
     "iopub.execute_input": "2021-10-08T00:18:20.453585Z",
     "iopub.status.busy": "2021-10-08T00:18:20.449595Z",
     "iopub.status.idle": "2021-10-08T00:18:20.567979Z",
     "shell.execute_reply": "2021-10-08T00:18:20.568977Z"
    },
    "tags": []
   },
   "outputs": [],
   "source": [
    "pd.set_option('display.max_rows',100)\n",
    "gen_assumptions = pd.read_csv(inputs_dir / 'generation_projects_info.csv', usecols=['GENERATION_PROJECT','gen_tech','gen_energy_source','ppa_energy_cost','gen_capacity_limit_mw'])\n",
    "gen_assumptions = gen_assumptions[gen_assumptions['gen_energy_source'] != 'Electricity']\n",
    "gen_assumptions = gen_assumptions.sort_values(by='GENERATION_PROJECT')\n",
    "gen_assumptions = gen_assumptions.set_index('GENERATION_PROJECT')\n",
    "gen_assumptions"
   ]
  },
  {
   "cell_type": "markdown",
   "metadata": {},
   "source": [
    "# Storage Assumptions"
   ]
  },
  {
   "cell_type": "code",
   "execution_count": null,
   "metadata": {
    "execution": {
     "iopub.execute_input": "2021-10-08T00:18:20.581943Z",
     "iopub.status.busy": "2021-10-08T00:18:20.580877Z",
     "iopub.status.idle": "2021-10-08T00:18:20.691357Z",
     "shell.execute_reply": "2021-10-08T00:18:20.692422Z"
    }
   },
   "outputs": [],
   "source": [
    "storage_assumptions = pd.read_csv(inputs_dir / 'generation_projects_info.csv', usecols=['GENERATION_PROJECT','gen_tech','gen_energy_source','ppa_capacity_cost','gen_capacity_limit_mw', 'storage_roundtrip_efficiency','storage_charge_to_discharge_ratio','storage_energy_to_power_ratio','storage_leakage_loss','storage_hybrid_generation_project','storage_hybrid_min_capacity_ratio','storage_hybrid_max_capacity_ratio'])\n",
    "#change capacity cost to $/kw-mo\n",
    "storage_assumptions['ppa_capacity_cost'] = storage_assumptions['ppa_capacity_cost'] / 12000\n",
    "\n",
    "storage_assumptions = storage_assumptions.rename(columns={\n",
    "    'storage_roundtrip_efficiency':'RTE',\n",
    "    'storage_charge_to_discharge_ratio':'charge/discharge_ratio',\n",
    "    'storage_energy_to_power_ratio':'storage_hours',\n",
    "    'storage_leakage_loss':'soc_leakage_loss',\n",
    "    'storage_hybrid_generation_project':'paired_hybrid_gen',\n",
    "    'storage_hybrid_min_capacity_ratio':'hybrid_min_capacity_ratio',\n",
    "    'storage_hybrid_max_capacity_ratio':'hybrid_max_capacity_ratio',\n",
    "})\n",
    "\n",
    "storage_assumptions = storage_assumptions[storage_assumptions['gen_energy_source'] == 'Electricity']\n",
    "storage_assumptions = storage_assumptions.sort_values(by='GENERATION_PROJECT')\n",
    "storage_assumptions = storage_assumptions.set_index('GENERATION_PROJECT')\n",
    "storage_assumptions = storage_assumptions[['gen_tech','ppa_capacity_cost','gen_capacity_limit_mw', 'RTE','storage_hours','charge/discharge_ratio','soc_leakage_loss','paired_hybrid_gen','hybrid_min_capacity_ratio','hybrid_max_capacity_ratio']]\n",
    "storage_assumptions"
   ]
  },
  {
   "cell_type": "code",
   "execution_count": null,
   "metadata": {
    "execution": {
     "iopub.execute_input": "2021-10-08T00:18:20.701398Z",
     "iopub.status.busy": "2021-10-08T00:18:20.700399Z",
     "iopub.status.idle": "2021-10-08T00:18:20.800633Z",
     "shell.execute_reply": "2021-10-08T00:18:20.802624Z"
    }
   },
   "outputs": [],
   "source": [
    "# export scenario summary\n",
    "# create an output summary table\n",
    "construct_summary_output_table(scenario_name, cost_table, load_balance, portfolio, sensitivity_table, avoided_emissions, emissions, emissions_unit).to_csv(data_dir / 'scenario_summary.csv')"
   ]
  }
 ],
 "metadata": {
  "interpreter": {
   "hash": "b1778606320a67ef539dd1b715deb330623331b463bae4e93fc5977f8bb68e72"
  },
  "kernelspec": {
   "display_name": "Python 3.8.10 64-bit ('switch_247': conda)",
   "name": "python3"
  },
  "language_info": {
   "codemirror_mode": {
    "name": "ipython",
    "version": 3
   },
   "file_extension": ".py",
   "mimetype": "text/x-python",
   "name": "python",
   "nbconvert_exporter": "python",
   "pygments_lexer": "ipython3",
   "version": "3.8.10"
  }
 },
 "nbformat": 4,
 "nbformat_minor": 2
}
