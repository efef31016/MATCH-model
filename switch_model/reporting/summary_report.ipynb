{
 "cells": [
  {
   "cell_type": "markdown",
   "source": [
    "# Scenario Report"
   ],
   "metadata": {}
  },
  {
   "cell_type": "code",
   "execution_count": null,
   "source": [
    "# Copyright (c) 2021 *****************. All rights reserved.\r\n",
    "# Licensed under the Apache License, Version 2.0, which is in the LICENSE file.\r\n",
    "\r\n",
    "%reload_ext autoreload\r\n",
    "%autoreload 2\r\n",
    "\r\n",
    "from pathlib import Path\r\n",
    "import pandas as pd\r\n",
    "import plotly.express as px\r\n",
    "import plotly\r\n",
    "import plotly.graph_objects as go \r\n",
    "import numpy as np\r\n",
    "from switch_model.reporting.report_functions import *\r\n",
    "import pickle\r\n",
    "\r\n",
    "# TODO: remove input folder = '../../MODEL_RUNS/test_PCE/inputs/hourly_90'\r\n",
    "\r\n",
    "#get the name of the current directory to specify the scenario name and identify the output directory\r\n",
    "scenario_name = str(Path.cwd()).split('\\\\')[-1]\r\n",
    "if scenario_name == 'inputs':\r\n",
    "    data_dir = Path.cwd() / '../outputs/'\r\n",
    "    inputs_dir = Path.cwd() / '../inputs/'\r\n",
    "    scenario_name = 'N/A'\r\n",
    "else:\r\n",
    "    data_dir = Path.cwd()/ f'../../outputs/{scenario_name}/'\r\n",
    "    inputs_dir = Path.cwd() / f'../../inputs/{scenario_name}/'\r\n",
    "\r\n",
    "#define formatting options/functions for outputs\r\n",
    "pd.options.display.float_format = '{:,.2f}'.format\r\n",
    "\r\n",
    "#allow the notebook to display plots in html report\r\n",
    "###################################################\r\n",
    "plotly.offline.init_notebook_mode()\r\n",
    "\r\n",
    "print(f'Scenario Name: {scenario_name}')"
   ],
   "outputs": [],
   "metadata": {
    "execution": {
     "iopub.execute_input": "2021-10-08T00:16:41.969642Z",
     "iopub.status.busy": "2021-10-08T00:16:41.968645Z",
     "iopub.status.idle": "2021-10-08T00:16:42.935148Z",
     "shell.execute_reply": "2021-10-08T00:16:42.935148Z"
    }
   }
  },
  {
   "cell_type": "code",
   "execution_count": null,
   "source": [
    "# load data from csvs\r\n",
    "baseload_capacity_factors = pd.read_csv(inputs_dir / 'baseload_capacity_factors.csv')\r\n",
    "costs_by_gen = pd.read_csv(data_dir / 'costs_by_gen.csv')\r\n",
    "costs_by_tp = pd.read_csv(data_dir / 'costs_by_tp.csv')\r\n",
    "dispatch = pd.read_csv(data_dir / 'dispatch.csv')\r\n",
    "emissions = pd.read_csv(data_dir / 'emissions.csv')\r\n",
    "with open(inputs_dir / 'ghg_emissions_unit.txt', 'r') as unit:\r\n",
    "    emissions_unit = unit.read()\r\n",
    "fixed_costs = pd.read_csv(inputs_dir / 'fixed_costs.csv')\r\n",
    "gen_build_predetermined = pd.read_csv(inputs_dir / 'gen_build_predetermined.csv', usecols=['GENERATION_PROJECT'])\r\n",
    "gen_cap = pd.read_csv(data_dir / 'gen_cap.csv')\r\n",
    "generation_projects_info = pd.read_csv(inputs_dir / 'generation_projects_info.csv')\r\n",
    "with open(inputs_dir / 'gen_set.txt', 'r') as set_name:\r\n",
    "    gen_set = set_name.read()\r\n",
    "grid_emissions = pd.read_csv(inputs_dir / 'grid_emissions.csv')\r\n",
    "hybrid_pair = hybrid_pair_dict(generation_projects_info)\r\n",
    "load_balance = pd.read_csv(data_dir / 'load_balance.csv')\r\n",
    "nodal_prices = pd.read_csv(inputs_dir / 'nodal_prices.csv')\r\n",
    "with open((data_dir / 'results.pickle'), 'rb') as file:\r\n",
    "    results = pickle.load(file)\r\n",
    "RA_summary = pd.read_csv(data_dir / 'RA_summary.csv')\r\n",
    "rec_value = pd.read_csv(inputs_dir / 'rec_value.csv').loc[0,'rec_resale_value'].item()\r\n",
    "storage_builds = pd.read_csv(data_dir / 'storage_builds.csv')\r\n",
    "storage_cycle_count = pd.read_csv(data_dir / 'storage_cycle_count.csv')\r\n",
    "storage_dispatch = pd.read_csv(data_dir / 'storage_dispatch.csv')\r\n",
    "system_power = pd.read_csv(data_dir / 'system_power.csv')\r\n",
    "timestamps = pd.read_csv(inputs_dir / 'timepoints.csv', parse_dates=['timestamp'], usecols=['timepoint_id','timestamp'])\r\n",
    "variable_capacity_factors = pd.read_csv(inputs_dir / 'variable_capacity_factors.csv')\r\n",
    "\r\n",
    "\r\n",
    "\r\n",
    "technology_color_map = {\r\n",
    " 'Small Hydro':'Purple',\r\n",
    " 'Consumed Small Hydro':'Purple',\r\n",
    " 'Excess Small Hydro':'Plum',\r\n",
    " 'Onshore Wind':'DeepSkyBlue',\r\n",
    " 'Consumed Onshore Wind':'DeepSkyBlue',\r\n",
    " 'Excess Onshore Wind':'LightSkyBlue',\r\n",
    " 'Offshore Wind':'Navy',\r\n",
    " 'Consumed Offshore Wind':'Navy',\r\n",
    " 'Excess Offshore Wind':'MediumSlateBlue',\r\n",
    " 'Solar PV':'Gold',\r\n",
    " 'Hybrid Solar PV':'Gold',\r\n",
    " 'Consumed Solar PV':'Gold',\r\n",
    " 'Excess Solar PV':'Yellow',\r\n",
    " 'CSP':'Orange',\r\n",
    " 'Geothermal':'Sienna',\r\n",
    " 'Consumed Geothermal':'Sienna',\r\n",
    " 'Storage':'Green',\r\n",
    " 'Storage Discharge':'Green',\r\n",
    " 'Hybrid Storage':'Green',\r\n",
    " 'Grid Energy':'Red',\r\n",
    " '(?)':'Black'}"
   ],
   "outputs": [],
   "metadata": {
    "execution": {
     "iopub.execute_input": "2021-10-08T00:16:42.949115Z",
     "iopub.status.busy": "2021-10-08T00:16:42.939138Z",
     "iopub.status.idle": "2021-10-08T00:16:45.180495Z",
     "shell.execute_reply": "2021-10-08T00:16:45.179495Z"
    }
   }
  },
  {
   "cell_type": "markdown",
   "source": [
    "# Renewable Energy Goal"
   ],
   "metadata": {}
  },
  {
   "cell_type": "markdown",
   "source": [
    "## Portfolio Renewable Percentage"
   ],
   "metadata": {}
  },
  {
   "cell_type": "code",
   "execution_count": null,
   "source": [
    "  \r\n",
    "print(f'Time-coincident renewable percentage: {format_percent(hourly_renewable_percentage(load_balance))}')\r\n",
    "print(f'Annual volumetric renewable percentage: {format_percent(annual_renewable_percentage(load_balance))}')"
   ],
   "outputs": [],
   "metadata": {
    "execution": {
     "iopub.execute_input": "2021-10-08T00:16:45.189470Z",
     "iopub.status.busy": "2021-10-08T00:16:45.188473Z",
     "iopub.status.idle": "2021-10-08T00:16:45.256897Z",
     "shell.execute_reply": "2021-10-08T00:16:45.257894Z"
    }
   }
  },
  {
   "cell_type": "markdown",
   "source": [
    "## Sensitivity Analysis\r\n",
    "The following shows how well the selected portfolio would perform in specific resource years, considering the full intermittency and variability of wind and solar resources. "
   ],
   "metadata": {}
  },
  {
   "cell_type": "code",
   "execution_count": null,
   "source": [
    "sensitivity_table = run_sensitivity_analysis(gen_set, gen_cap, dispatch, generation_projects_info, load_balance, storage_builds)"
   ],
   "outputs": [],
   "metadata": {
    "execution": {
     "iopub.execute_input": "2021-10-08T00:16:45.265872Z",
     "iopub.status.busy": "2021-10-08T00:16:45.263879Z",
     "iopub.status.idle": "2021-10-08T00:17:41.007731Z",
     "shell.execute_reply": "2021-10-08T00:17:41.009725Z"
    }
   }
  },
  {
   "cell_type": "markdown",
   "source": [
    "## Carbon Emissions"
   ],
   "metadata": {}
  },
  {
   "cell_type": "code",
   "execution_count": null,
   "source": [
    "print(f'Total Annual Emissions: {emissions[\"Emission Rate\"].sum().round(1)} {emissions_unit.split(\"/\")[0]}')\r\n",
    "print(f'Delivered Emission Factor: {emissions[\"Delivered Emission Factor\"].mean().round(3)} {emissions_unit}')"
   ],
   "outputs": [],
   "metadata": {
    "execution": {
     "iopub.execute_input": "2021-10-08T00:17:41.080060Z",
     "iopub.status.busy": "2021-10-08T00:17:41.079063Z",
     "iopub.status.idle": "2021-10-08T00:17:41.164151Z",
     "shell.execute_reply": "2021-10-08T00:17:41.165148Z"
    }
   }
  },
  {
   "cell_type": "code",
   "execution_count": null,
   "source": [
    "build_hourly_emissions_heatmap(grid_emissions, emissions, emissions_unit).show()"
   ],
   "outputs": [],
   "metadata": {
    "execution": {
     "iopub.execute_input": "2021-10-08T00:17:41.173126Z",
     "iopub.status.busy": "2021-10-08T00:17:41.172131Z",
     "iopub.status.idle": "2021-10-08T00:17:42.416517Z",
     "shell.execute_reply": "2021-10-08T00:17:42.418578Z"
    }
   }
  },
  {
   "cell_type": "markdown",
   "source": [
    "# Portfolio"
   ],
   "metadata": {}
  },
  {
   "cell_type": "markdown",
   "source": [
    "## Generator Portfolio\n",
    "The sunburst chart describes the built portfolio at various levels of detail, which shows how the outer rings relate to the inner rings\n",
    "- Inner circle: contract status (contracted or additional project)\n",
    "- Middle ring: technology type (e.g. solar, wind, ...)\n",
    "- Outer ring: specific project name\n",
    "\n",
    "For example, individual projects in the outer ring belong to a specific technology type in the middle ring, which can either be part of the existing/contracted portfolio, or the additional portfolio.\n"
   ],
   "metadata": {}
  },
  {
   "cell_type": "code",
   "execution_count": null,
   "source": [
    "portfolio = generator_portfolio(gen_cap, gen_build_predetermined)\r\n",
    "\r\n",
    "portfolio_sunburst = px.sunburst(portfolio, path=['Status','Technology','generation_project'], values='MW', color='Technology', color_discrete_map=technology_color_map,\r\n",
    " width=1000, height=1000,\r\n",
    " title='Energy Portfolio by Project Name, Technology Type, and Contract Status (MW)')\r\n",
    "portfolio_sunburst.update_traces(textinfo='label+value')\r\n",
    "portfolio_sunburst.show()"
   ],
   "outputs": [],
   "metadata": {
    "execution": {
     "iopub.execute_input": "2021-10-08T00:17:42.428551Z",
     "iopub.status.busy": "2021-10-08T00:17:42.427555Z",
     "iopub.status.idle": "2021-10-08T00:17:42.633666Z",
     "shell.execute_reply": "2021-10-08T00:17:42.634664Z"
    }
   }
  },
  {
   "cell_type": "markdown",
   "source": [
    "## Generation Cost by Project\r\n",
    "This should show contract costs, Nodal costs, and storage revenues"
   ],
   "metadata": {}
  },
  {
   "cell_type": "code",
   "execution_count": null,
   "source": [
    "gen_costs = generator_costs(costs_by_gen, storage_dispatch, hybrid_pair, gen_cap)\r\n",
    "\r\n",
    "generator_costs_melted = gen_costs.drop(columns='Total Cost').melt(id_vars='generation_project', var_name='Cost', value_name='$/MWh')\r\n",
    "\r\n",
    "generator_cost_fig = px.bar(generator_costs_melted, \r\n",
    "                            title='Average Generator Cost per MWh Generated', \r\n",
    "                            x='generation_project', \r\n",
    "                            y='$/MWh', \r\n",
    "                            color='Cost', \r\n",
    "                            color_discrete_map={'Energy Contract Cost': 'Green',\r\n",
    "                                                'Capacity Contract Cost': 'Orange',\r\n",
    "                                                'Delivery Cost': 'lightblue',\r\n",
    "                                                'Pnode Revenue':'Red', \r\n",
    "                                                'Storage Arbitrage Revenue':'Purple'}).update_yaxes(zeroline=True, zerolinewidth=2, zerolinecolor='black')\r\n",
    "\r\n",
    "generator_cost_fig.add_scatter(x=gen_costs.generation_project, y=gen_costs['Total Cost'], mode='markers+text', text=gen_costs['Total Cost'], textposition='top center', line=dict(color='black', width=1), name='Total Cost')\r\n",
    "\r\n",
    "generator_cost_fig.show()\r\n",
    "\r\n"
   ],
   "outputs": [],
   "metadata": {
    "execution": {
     "iopub.execute_input": "2021-10-08T00:17:42.646631Z",
     "iopub.status.busy": "2021-10-08T00:17:42.645634Z",
     "iopub.status.idle": "2021-10-08T00:17:42.833145Z",
     "shell.execute_reply": "2021-10-08T00:17:42.834145Z"
    }
   }
  },
  {
   "cell_type": "markdown",
   "source": [
    "## Generator Reduced Costs\r\n",
    "Reduced costs for generator build decisions are valuable because they can provide an idea of how the costs of each generator would need to change in order to be built or to improve the cost of the portfolio. These values should be interpreted carefully, based on a good understanding of optimization and reduced costs in the context of linear programming."
   ],
   "metadata": {}
  },
  {
   "cell_type": "code",
   "execution_count": null,
   "source": [
    "pos_rc_lower, pos_rc_upper, neg_rc, alternate_optima = calculate_BuildGen_reduced_costs(results, generation_projects_info, variable_capacity_factors, baseload_capacity_factors, dispatch)"
   ],
   "outputs": [],
   "metadata": {
    "execution": {
     "iopub.execute_input": "2021-10-08T00:17:42.843120Z",
     "iopub.status.busy": "2021-10-08T00:17:42.842053Z",
     "iopub.status.idle": "2021-10-08T00:17:47.006611Z",
     "shell.execute_reply": "2021-10-08T00:17:47.007538Z"
    }
   }
  },
  {
   "cell_type": "markdown",
   "source": [
    "### Non-built generators\r\n",
    "In order for the following generators to be built, their PPA costs would have to be reduced by the following amounts"
   ],
   "metadata": {}
  },
  {
   "cell_type": "code",
   "execution_count": null,
   "source": [
    "pos_rc_lower"
   ],
   "outputs": [],
   "metadata": {
    "execution": {
     "iopub.execute_input": "2021-10-08T00:17:47.015517Z",
     "iopub.status.busy": "2021-10-08T00:17:47.014521Z",
     "iopub.status.idle": "2021-10-08T00:17:47.114306Z",
     "shell.execute_reply": "2021-10-08T00:17:47.115303Z"
    }
   }
  },
  {
   "cell_type": "markdown",
   "source": [
    "### Non-optimal built resources\r\n",
    "The following resources were required to be built at the following quantities, but otherwise would be too expensive to build. In order to be part of the optimal portfolio without the minimum build constraint, their PPA price would need to be reduced by the following amounts"
   ],
   "metadata": {}
  },
  {
   "cell_type": "code",
   "execution_count": null,
   "source": [
    "pos_rc_upper"
   ],
   "outputs": [],
   "metadata": {
    "execution": {
     "iopub.execute_input": "2021-10-08T00:17:47.123281Z",
     "iopub.status.busy": "2021-10-08T00:17:47.122284Z",
     "iopub.status.idle": "2021-10-08T00:17:47.191102Z",
     "shell.execute_reply": "2021-10-08T00:17:47.192100Z"
    }
   }
  },
  {
   "cell_type": "markdown",
   "source": [
    "### Alternate Optima\r\n",
    "If there are any generators in the below table, it means that that generator could be substituted for another generator that was built, without increasing the overall portfolio cost."
   ],
   "metadata": {}
  },
  {
   "cell_type": "code",
   "execution_count": null,
   "source": [
    "alternate_optima"
   ],
   "outputs": [],
   "metadata": {
    "execution": {
     "iopub.execute_input": "2021-10-08T00:17:47.200078Z",
     "iopub.status.busy": "2021-10-08T00:17:47.198084Z",
     "iopub.status.idle": "2021-10-08T00:17:47.298186Z",
     "shell.execute_reply": "2021-10-08T00:17:47.299181Z"
    }
   }
  },
  {
   "cell_type": "markdown",
   "source": [
    "### Most valuable capacity-limited generators\r\n",
    "The following generators were built at their maximum allowable capacity, but would reduce the portfolio cost if more capacity were available. In this case, the reduced cost should be interpreted as the amount that the objective function value would increase if 1 MW of additional capacity were allowed to be built. The generators are sorted from highest to lowest value, so the generators at the top would be the most valuable to have more of in the portfolio."
   ],
   "metadata": {}
  },
  {
   "cell_type": "code",
   "execution_count": null,
   "source": [
    "display(neg_rc)"
   ],
   "outputs": [],
   "metadata": {
    "execution": {
     "iopub.execute_input": "2021-10-08T00:17:47.307160Z",
     "iopub.status.busy": "2021-10-08T00:17:47.306163Z",
     "iopub.status.idle": "2021-10-08T00:17:47.407083Z",
     "shell.execute_reply": "2021-10-08T00:17:47.405160Z"
    }
   }
  },
  {
   "cell_type": "markdown",
   "source": [
    "## Power Content Label\r\n"
   ],
   "metadata": {}
  },
  {
   "cell_type": "code",
   "execution_count": null,
   "source": [
    "power_content = power_content_label(load_balance, dispatch, generation_projects_info)\r\n",
    "\r\n",
    "delivered_energy_pie = px.pie(power_content, values='MWh', names='Source', title='Power Content of Delivered Energy (MWh)', color='Source', color_discrete_map=technology_color_map,\r\n",
    "width=600, height=600\r\n",
    " )\r\n",
    "delivered_energy_pie.update_traces(textinfo='percent+label+value')\r\n",
    "delivered_energy_pie.show()"
   ],
   "outputs": [],
   "metadata": {
    "execution": {
     "iopub.execute_input": "2021-10-08T00:17:47.417055Z",
     "iopub.status.busy": "2021-10-08T00:17:47.416129Z",
     "iopub.status.idle": "2021-10-08T00:17:47.591812Z",
     "shell.execute_reply": "2021-10-08T00:17:47.592813Z"
    }
   }
  },
  {
   "cell_type": "markdown",
   "source": [
    "# Costs"
   ],
   "metadata": {}
  },
  {
   "cell_type": "markdown",
   "source": [
    "## Cost Breakdown"
   ],
   "metadata": {}
  },
  {
   "cell_type": "code",
   "execution_count": null,
   "source": [
    "cost_table, resale_table = construct_cost_and_resale_tables(hourly_costs, load_balance, RA_summary)\r\n",
    "display(cost_table.set_index('Cost Component'))\r\n"
   ],
   "outputs": [],
   "metadata": {
    "execution": {
     "iopub.execute_input": "2021-10-08T00:17:49.329640Z",
     "iopub.status.busy": "2021-10-08T00:17:49.328644Z",
     "iopub.status.idle": "2021-10-08T00:17:49.415068Z",
     "shell.execute_reply": "2021-10-08T00:17:49.416065Z"
    }
   }
  },
  {
   "cell_type": "markdown",
   "source": [
    "## Hourly average cost of power"
   ],
   "metadata": {}
  },
  {
   "cell_type": "code",
   "execution_count": null,
   "source": [
    "hourly_costs = hourly_cost_of_power(system_power, costs_by_tp, RA_summary, gen_cap, storage_dispatch, fixed_costs, rec_value, load_balance)\r\n",
    "hourly_cost_plot = build_hourly_cost_plot(hourly_costs, load_balance)\r\n",
    "hourly_cost_plot.show()"
   ],
   "outputs": [],
   "metadata": {
    "execution": {
     "iopub.execute_input": "2021-10-08T00:17:47.602716Z",
     "iopub.status.busy": "2021-10-08T00:17:47.601719Z",
     "iopub.status.idle": "2021-10-08T00:17:49.321663Z",
     "shell.execute_reply": "2021-10-08T00:17:49.321663Z"
    }
   }
  },
  {
   "cell_type": "markdown",
   "source": [
    "## Resale Values"
   ],
   "metadata": {}
  },
  {
   "cell_type": "code",
   "execution_count": null,
   "source": [
    "display(resale_table.set_index('Cost Component'))"
   ],
   "outputs": [],
   "metadata": {
    "execution": {
     "iopub.execute_input": "2021-10-08T00:17:49.425041Z",
     "iopub.status.busy": "2021-10-08T00:17:49.423047Z",
     "iopub.status.idle": "2021-10-08T00:17:49.507919Z",
     "shell.execute_reply": "2021-10-08T00:17:49.508916Z"
    }
   }
  },
  {
   "cell_type": "markdown",
   "source": [
    "# Resource Adequacy Position"
   ],
   "metadata": {}
  },
  {
   "cell_type": "code",
   "execution_count": null,
   "source": [
    "build_ra_open_position_plot(RA_summary).show()"
   ],
   "outputs": [],
   "metadata": {
    "execution": {
     "iopub.execute_input": "2021-10-08T00:17:49.516896Z",
     "iopub.status.busy": "2021-10-08T00:17:49.515899Z",
     "iopub.status.idle": "2021-10-08T00:17:49.661166Z",
     "shell.execute_reply": "2021-10-08T00:17:49.662163Z"
    }
   }
  },
  {
   "cell_type": "markdown",
   "source": [
    "# Portfolio Dispatch"
   ],
   "metadata": {}
  },
  {
   "cell_type": "code",
   "execution_count": null,
   "source": [
    "build_dispatch_plot(generation_projects_info, dispatch, storage_dispatch, load_balance, system_power, technology_color_map).show()"
   ],
   "outputs": [],
   "metadata": {
    "execution": {
     "iopub.execute_input": "2021-10-08T00:17:49.669145Z",
     "iopub.status.busy": "2021-10-08T00:17:49.668148Z",
     "iopub.status.idle": "2021-10-08T00:17:57.664017Z",
     "shell.execute_reply": "2021-10-08T00:17:57.665014Z"
    }
   }
  },
  {
   "cell_type": "markdown",
   "source": [
    "## Wholesale prices"
   ],
   "metadata": {}
  },
  {
   "cell_type": "code",
   "execution_count": null,
   "source": [
    "build_nodal_prices_plot(nodal_prices, timestamps, generation_projects_info).show()"
   ],
   "outputs": [],
   "metadata": {
    "execution": {
     "iopub.execute_input": "2021-10-08T00:17:57.671065Z",
     "iopub.status.busy": "2021-10-08T00:17:57.669070Z",
     "iopub.status.idle": "2021-10-08T00:18:10.744262Z",
     "shell.execute_reply": "2021-10-08T00:18:10.729302Z"
    }
   }
  },
  {
   "cell_type": "markdown",
   "source": [
    "### Month hour average dispatch"
   ],
   "metadata": {}
  },
  {
   "cell_type": "code",
   "execution_count": null,
   "source": [
    "# under construction"
   ],
   "outputs": [],
   "metadata": {
    "execution": {
     "iopub.execute_input": "2021-10-08T00:18:19.199587Z",
     "iopub.status.busy": "2021-10-08T00:18:19.198590Z",
     "iopub.status.idle": "2021-10-08T00:18:19.297406Z",
     "shell.execute_reply": "2021-10-08T00:18:19.298404Z"
    }
   }
  },
  {
   "cell_type": "markdown",
   "source": [
    "## Shadow Price of Energy Efficiency\r\n",
    "The following plot shows the month-hour average value of decreasing load by 1 MW for each hour of the year"
   ],
   "metadata": {}
  },
  {
   "cell_type": "code",
   "execution_count": null,
   "source": [
    "calculate_load_shadow_price(results, timestamps).show()"
   ],
   "outputs": [],
   "metadata": {
    "execution": {
     "iopub.execute_input": "2021-10-08T00:18:15.737311Z",
     "iopub.status.busy": "2021-10-08T00:18:15.736311Z",
     "iopub.status.idle": "2021-10-08T00:18:19.190611Z",
     "shell.execute_reply": "2021-10-08T00:18:19.191609Z"
    }
   }
  },
  {
   "cell_type": "markdown",
   "source": [
    "### Month-hour average net position\r\n",
    "\r\n",
    "Positive values represent excess generation  \r\n",
    "Negative values represent an open position"
   ],
   "metadata": {}
  },
  {
   "cell_type": "code",
   "execution_count": null,
   "source": [
    "build_open_position_plot(load_balance).show()"
   ],
   "outputs": [],
   "metadata": {
    "execution": {
     "iopub.execute_input": "2021-10-08T00:18:19.306383Z",
     "iopub.status.busy": "2021-10-08T00:18:19.305387Z",
     "iopub.status.idle": "2021-10-08T00:18:20.318502Z",
     "shell.execute_reply": "2021-10-08T00:18:20.320496Z"
    }
   }
  },
  {
   "cell_type": "markdown",
   "source": [
    "# Energy Storage Metrics"
   ],
   "metadata": {}
  },
  {
   "cell_type": "markdown",
   "source": [
    "## Battery state of charge"
   ],
   "metadata": {}
  },
  {
   "cell_type": "code",
   "execution_count": null,
   "source": [
    "build_state_of_charge_plot(storage_dispatch, storage_builds, generation_projects_info).show()"
   ],
   "outputs": [],
   "metadata": {
    "execution": {
     "iopub.execute_input": "2021-10-08T00:18:10.751243Z",
     "iopub.status.busy": "2021-10-08T00:18:10.750247Z",
     "iopub.status.idle": "2021-10-08T00:18:15.730328Z",
     "shell.execute_reply": "2021-10-08T00:18:15.730328Z"
    }
   }
  },
  {
   "cell_type": "markdown",
   "source": [
    "## Battery Cycling and State of Charge Stats"
   ],
   "metadata": {}
  },
  {
   "cell_type": "code",
   "execution_count": null,
   "source": [
    "display(construct_storage_stats_table(storage_cycle_count, storage_builds, storage_dispatch))"
   ],
   "outputs": [],
   "metadata": {
    "execution": {
     "iopub.execute_input": "2021-10-08T00:18:20.328544Z",
     "iopub.status.busy": "2021-10-08T00:18:20.327477Z",
     "iopub.status.idle": "2021-10-08T00:18:20.442545Z",
     "shell.execute_reply": "2021-10-08T00:18:20.443613Z"
    }
   }
  },
  {
   "cell_type": "markdown",
   "source": [
    "# Impact Metrics\r\n",
    "- Duck curve impacts (curtailment, ramping, etc)\r\n",
    "- Avoided Emissions"
   ],
   "metadata": {}
  },
  {
   "cell_type": "markdown",
   "source": [
    "## Curtailment summary"
   ],
   "metadata": {}
  },
  {
   "cell_type": "markdown",
   "source": [
    "# Assumptions"
   ],
   "metadata": {}
  },
  {
   "cell_type": "code",
   "execution_count": null,
   "source": [
    "pd.set_option('display.max_rows',100)\r\n",
    "gen_assumptions = pd.read_csv(inputs_dir / 'generation_projects_info.csv', usecols=['GENERATION_PROJECT','gen_tech','gen_energy_source','ppa_energy_cost','gen_capacity_limit_mw'])\r\n",
    "gen_assumptions = gen_assumptions[gen_assumptions['gen_energy_source'] != 'Electricity']\r\n",
    "gen_assumptions = gen_assumptions.sort_values(by='GENERATION_PROJECT')\r\n",
    "gen_assumptions = gen_assumptions.set_index('GENERATION_PROJECT')\r\n",
    "gen_assumptions"
   ],
   "outputs": [],
   "metadata": {
    "execution": {
     "iopub.execute_input": "2021-10-08T00:18:20.453585Z",
     "iopub.status.busy": "2021-10-08T00:18:20.449595Z",
     "iopub.status.idle": "2021-10-08T00:18:20.567979Z",
     "shell.execute_reply": "2021-10-08T00:18:20.568977Z"
    },
    "tags": []
   }
  },
  {
   "cell_type": "markdown",
   "source": [
    "# Storage Assumptions"
   ],
   "metadata": {}
  },
  {
   "cell_type": "code",
   "execution_count": null,
   "source": [
    "storage_assumptions = pd.read_csv(inputs_dir / 'generation_projects_info.csv', usecols=['GENERATION_PROJECT','gen_tech','gen_energy_source','ppa_capacity_cost','gen_capacity_limit_mw', 'storage_roundtrip_efficiency','storage_charge_to_discharge_ratio','storage_energy_to_power_ratio','storage_leakage_loss','storage_hybrid_generation_project','storage_hybrid_min_capacity_ratio','storage_hybrid_max_capacity_ratio'])\r\n",
    "#change capacity cost to $/kw-mo\r\n",
    "storage_assumptions['ppa_capacity_cost'] = storage_assumptions['ppa_capacity_cost'] / 12000\r\n",
    "\r\n",
    "storage_assumptions = storage_assumptions.rename(columns={\r\n",
    "    'storage_roundtrip_efficiency':'RTE',\r\n",
    "    'storage_charge_to_discharge_ratio':'charge/discharge_ratio',\r\n",
    "    'storage_energy_to_power_ratio':'storage_hours',\r\n",
    "    'storage_leakage_loss':'soc_leakage_loss',\r\n",
    "    'storage_hybrid_generation_project':'paired_hybrid_gen',\r\n",
    "    'storage_hybrid_min_capacity_ratio':'hybrid_min_capacity_ratio',\r\n",
    "    'storage_hybrid_max_capacity_ratio':'hybrid_max_capacity_ratio',\r\n",
    "})\r\n",
    "\r\n",
    "storage_assumptions = storage_assumptions[storage_assumptions['gen_energy_source'] == 'Electricity']\r\n",
    "storage_assumptions = storage_assumptions.sort_values(by='GENERATION_PROJECT')\r\n",
    "storage_assumptions = storage_assumptions.set_index('GENERATION_PROJECT')\r\n",
    "storage_assumptions = storage_assumptions[['gen_tech','ppa_capacity_cost','gen_capacity_limit_mw', 'RTE','storage_hours','charge/discharge_ratio','soc_leakage_loss','paired_hybrid_gen','hybrid_min_capacity_ratio','hybrid_max_capacity_ratio']]\r\n",
    "storage_assumptions"
   ],
   "outputs": [],
   "metadata": {
    "execution": {
     "iopub.execute_input": "2021-10-08T00:18:20.581943Z",
     "iopub.status.busy": "2021-10-08T00:18:20.580877Z",
     "iopub.status.idle": "2021-10-08T00:18:20.691357Z",
     "shell.execute_reply": "2021-10-08T00:18:20.692422Z"
    }
   }
  },
  {
   "cell_type": "code",
   "execution_count": null,
   "source": [
    "# export scenario summary\r\n",
    "# create an output summary table\r\n",
    "construct_summary_output_table(scenario_name, cost_table, load_balance, portfolio, sensitivity_table).to_csv(data_dir / 'scenario_summary.csv')"
   ],
   "outputs": [],
   "metadata": {
    "execution": {
     "iopub.execute_input": "2021-10-08T00:18:20.701398Z",
     "iopub.status.busy": "2021-10-08T00:18:20.700399Z",
     "iopub.status.idle": "2021-10-08T00:18:20.800633Z",
     "shell.execute_reply": "2021-10-08T00:18:20.802624Z"
    }
   }
  }
 ],
 "metadata": {
  "interpreter": {
   "hash": "b1778606320a67ef539dd1b715deb330623331b463bae4e93fc5977f8bb68e72"
  },
  "kernelspec": {
   "name": "python3",
   "display_name": "Python 3.8.10 64-bit ('switch_247': conda)"
  },
  "language_info": {
   "codemirror_mode": {
    "name": "ipython",
    "version": 3
   },
   "file_extension": ".py",
   "mimetype": "text/x-python",
   "name": "python",
   "nbconvert_exporter": "python",
   "pygments_lexer": "ipython3",
   "version": "3.8.10"
  }
 },
 "nbformat": 4,
 "nbformat_minor": 2
}