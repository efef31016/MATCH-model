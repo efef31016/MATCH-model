{
 "cells": [
  {
   "cell_type": "code",
   "execution_count": null,
   "metadata": {
    "execution": {
     "iopub.execute_input": "2020-09-16T18:20:08.406842Z",
     "iopub.status.busy": "2020-09-16T18:20:08.405845Z",
     "iopub.status.idle": "2020-09-16T18:20:08.950011Z",
     "shell.execute_reply": "2020-09-16T18:20:08.949015Z"
    }
   },
   "outputs": [],
   "source": [
    "from pathlib import Path\n",
    "import pandas as pd\n",
    "import plotly.express as px\n",
    "import plotly\n",
    "\n",
    "#need to configure to use outdir and get scenario name\n",
    "data_dir = Path.cwd() / '../../time_coincident/outputs/'\n",
    "\n",
    "#define formatting options/functions\n",
    "pd.options.display.float_format = '{:,.2f}'.format\n",
    "def format_currency(x): return '$ {:,.2f}'.format(x)\n",
    "def format_percent(x): return '{:,.2f}%'.format(x)"
   ]
  },
  {
   "cell_type": "code",
   "execution_count": null,
   "metadata": {
    "execution": {
     "iopub.execute_input": "2020-09-16T18:20:08.970956Z",
     "iopub.status.busy": "2020-09-16T18:20:08.964971Z",
     "iopub.status.idle": "2020-09-16T18:20:09.012844Z",
     "shell.execute_reply": "2020-09-16T18:20:09.011846Z"
    }
   },
   "outputs": [],
   "source": [
    "# Summarize generation and generation costs by generator\n",
    "########################################################\n",
    "\n",
    "generation = pd.read_csv(data_dir / 'generation.csv')\n",
    "generation = generation.round(decimals=2)\n",
    "generation = generation[generation['Energy_GWh_typical_yr'] > 0]\n",
    "\n",
    "#add system power data\n",
    "try:\n",
    "    system_power = pd.read_csv(data_dir / 'system_power_summary.csv')\n",
    "    system_power_data = 1\n",
    "except:\n",
    "    system_power_data = 0\n",
    "if system_power_data == 1:\n",
    "    system_power = system_power.rename(columns={'System_Power_GWh_per_year':'Energy_GWh_typical_yr', 'Annual_System_Power_Cost':'Total_Annual_Cost'})\n",
    "    system_power = system_power.drop(columns=['load_zone'])\n",
    "    system_power['generation_project'] = 'SYSTEM_POWER'\n",
    "\n",
    "#load capacity costs\n",
    "capacity_cost = pd.read_csv(data_dir / 'gen_cap.csv', usecols=['generation_project','Annual_PPA_Capacity_Cost'])\n",
    "\n",
    "generation = generation.merge(capacity_cost, how='left', on='generation_project')\n",
    "\n",
    "#calculate total cost by generator\n",
    "generation['Total_Annual_Cost'] = generation['Annual_PPA_Energy_Cost'] + generation['Annual_Excess_Energy_Cost'] + generation['Annual_PPA_Capacity_Cost']\n",
    "\n",
    "#append system power data to generation data\n",
    "if system_power_data == 1:\n",
    "    generation = generation.append(system_power, ignore_index=True).fillna(0)\n",
    "\n",
    "#calculate total cost\n",
    "total_cost = generation['Total_Annual_Cost'].sum()\n",
    "\n",
    "#calculate total generation\n",
    "generation['Total_Generation_GWh_per_year'] = generation['Energy_GWh_typical_yr'] + generation['Excess_Energy_GWh_per_yr']\n",
    "\n",
    "#calculate percent of generation that is excess for each resource\n",
    "generation['Percent_Excess'] = (generation['Excess_Energy_GWh_per_yr'] / generation['Total_Generation_GWh_per_year'] * 100).round(decimals=2)\n",
    "\n",
    "#calculate % of supply provided by each generator\n",
    "total_GWh = generation['Energy_GWh_typical_yr'].sum()\n",
    "generation['Percent_of_Consumption'] = (generation['Energy_GWh_typical_yr'] / total_GWh * 100).round(decimals=2)\n",
    "\n",
    "#calculate % of cost from each generator\n",
    "generation['Percent_of_Cost'] = (generation['Total_Annual_Cost'] / total_cost * 100).round(decimals=2)\n",
    "\n",
    "#total row\n",
    "generation = generation.append(generation.sum(numeric_only=True, axis=0), ignore_index=True).fillna('Total')\n",
    "\n",
    "#recalculate total % excess\n",
    "generation.at[(generation[generation['generation_project'] == 'Total']).index[0], 'Percent_Excess'] = ((generation[generation['generation_project'] == 'Total']['Excess_Energy_GWh_per_yr']).to_numpy()[0] / (generation[generation['generation_project'] == 'Total']['Total_Generation_GWh_per_year']).to_numpy()[0]) * 100\n",
    "\n",
    "generation = generation[['generation_project','Energy_GWh_typical_yr','Excess_Energy_GWh_per_yr','Total_Generation_GWh_per_year','Percent_Excess','Annual_PPA_Energy_Cost','Annual_PPA_Capacity_Cost','Annual_Excess_Energy_Cost','Total_Annual_Cost','Percent_of_Cost']]\n",
    "generation = generation.rename(columns={'generation_project':'Generator','Energy_GWh_typical_yr':'Consumed_Generation_GWh','Excess_Energy_GWh_per_yr':'Excess_Generation_GWh','Total_Generation_GWh_per_year':'Total_Generation_GWh','Annual_Excess_Energy_Cost':'Annual_Excess_Generation_Cost'})\n",
    "\n",
    "generation = generation.round(decimals=2)"
   ]
  },
  {
   "cell_type": "code",
   "execution_count": null,
   "metadata": {
    "execution": {
     "iopub.execute_input": "2020-09-16T18:20:09.023816Z",
     "iopub.status.busy": "2020-09-16T18:20:09.022817Z",
     "iopub.status.idle": "2020-09-16T18:20:09.057724Z",
     "shell.execute_reply": "2020-09-16T18:20:09.058722Z"
    }
   },
   "outputs": [],
   "source": [
    "# Summarize the composition of the portfolio by generation project\n",
    "##################################################################\n",
    "\n",
    "portfolio = pd.read_csv(data_dir / 'BuildGen.csv', names=['Generator','Build_Year','MW'], skiprows=[0])\n",
    "portfolio = portfolio.drop(columns=['Build_Year'])\n",
    "#keep rows that are greater than 0\n",
    "portfolio = portfolio[portfolio['MW'] > 0]\n",
    "\n",
    "total_MW = portfolio['MW'].sum()\n",
    "\n",
    "#Add percentage column\n",
    "portfolio['Capacity_Percent'] = (portfolio['MW'] / total_MW * 100)\n",
    "portfolio['MW'] = portfolio['MW'].round(decimals=2)\n",
    "\n",
    "#merge generation data\n",
    "portfolio = portfolio.merge(generation[['Generator','Consumed_Generation_GWh']], how='right', on='Generator').fillna(0)\n",
    "#drop the total row\n",
    "portfolio = portfolio.drop(portfolio.tail(1).index)\n",
    "\n",
    "total_GWh = portfolio['Consumed_Generation_GWh'].sum()\n",
    "portfolio['Energy_Percent'] = (portfolio['Consumed_Generation_GWh'] / total_GWh * 100)\n",
    "\n",
    "#append a total column\n",
    "portfolio = portfolio.append(portfolio.sum(numeric_only=True, axis=0), ignore_index=True).fillna('Total')\n"
   ]
  },
  {
   "cell_type": "code",
   "execution_count": null,
   "metadata": {
    "execution": {
     "iopub.execute_input": "2020-09-16T18:20:09.070696Z",
     "iopub.status.busy": "2020-09-16T18:20:09.068695Z",
     "iopub.status.idle": "2020-09-16T18:20:09.073681Z",
     "shell.execute_reply": "2020-09-16T18:20:09.073681Z"
    }
   },
   "outputs": [],
   "source": [
    "# Summarize portfolio mix by technology\n",
    "#######################################\n",
    "\n",
    "tech_portfolio = portfolio.copy()\n",
    "\n",
    "#split the prefix of the generator name from the rest of the string\n",
    "tech_column = [i.split('_')[0] for i in tech_portfolio['Generator']]\n",
    "\n",
    "#create a new tecnhology column based on the prefix and drop the generator name\n",
    "tech_portfolio['Technology'] = tech_column\n",
    "tech_portfolio = tech_portfolio.drop(columns=['Generator'])\n",
    "\n",
    "#group by technology type and sum\n",
    "tech_portfolio = tech_portfolio.groupby('Technology').sum()\n"
   ]
  },
  {
   "cell_type": "code",
   "execution_count": null,
   "metadata": {
    "execution": {
     "iopub.execute_input": "2020-09-16T18:20:09.084653Z",
     "iopub.status.busy": "2020-09-16T18:20:09.083654Z",
     "iopub.status.idle": "2020-09-16T18:20:09.138509Z",
     "shell.execute_reply": "2020-09-16T18:20:09.139505Z"
    }
   },
   "outputs": [],
   "source": [
    "# Summarize RA Value by generation project\n",
    "##########################################\n",
    "\n",
    "ra_value = pd.read_csv(data_dir / 'RA_value_by_generator.csv', index_col=[\"Period\",\"Generation_Project\",\"Local_Reliability_Area\",\"Month\"])\n",
    "\n",
    "#pivot the data\n",
    "ra_value_pivot = ra_value.pivot(columns=\"RA_Requirement\")[\"RA_Value\"].fillna(0)\n",
    "#drop any rows where all values are zero\n",
    "ra_value_pivot = ra_value_pivot.loc[(ra_value_pivot != 0).any(axis=1)]\n",
    "ra_value_pivot = ra_value_pivot.reset_index().rename_axis(None, axis=1)\n",
    "\n",
    "#average the values across all months\n",
    "ra_value_pivot = ra_value_pivot.groupby([\"Period\",\"Generation_Project\",\"Local_Reliability_Area\"]).mean().drop(columns=['Month']).round(decimals=1).reset_index()\n",
    "\n",
    "# #add built capacity\n",
    "ra_value_pivot = ra_value_pivot.merge(portfolio[['Generator','MW']], how='left', left_on='Generation_Project', right_on='Generator')\n",
    "\n",
    "ra_value_pivot = ra_value_pivot[['Generation_Project','Local_Reliability_Area','MW','system_RA','local_PGE_other_RA','local_greater_bay_RA','flexible_RA']]\n",
    "\n",
    "#append a total column\n",
    "ra_value_pivot = ra_value_pivot.append(ra_value_pivot.sum(numeric_only=True, axis=0), ignore_index=True).fillna('Total')"
   ]
  },
  {
   "cell_type": "code",
   "execution_count": null,
   "metadata": {
    "execution": {
     "iopub.execute_input": "2020-09-16T18:20:09.148483Z",
     "iopub.status.busy": "2020-09-16T18:20:09.146491Z",
     "iopub.status.idle": "2020-09-16T18:20:09.169425Z",
     "shell.execute_reply": "2020-09-16T18:20:09.170422Z"
    }
   },
   "outputs": [],
   "source": [
    "# Summarize RA Cost by requirement type\n",
    "#######################################\n",
    "\n",
    "ra_cost = pd.read_csv(data_dir / 'RA_open_position.csv')\n",
    "#groupby RA requirement\n",
    "ra_cost = ra_cost.groupby('RA_Requirement').mean().drop(columns=['Period','Month'])\n",
    "#rename columns\n",
    "ra_cost = ra_cost.rename(columns={'Open_Position_MW': 'Monthly_Open_Position_MW', 'Open_Position_Cost': 'Monthly_Open_Position_Cost'})\n",
    "#calculate teh annual\n",
    "ra_cost['Annual_Open_Position_Cost'] = ra_cost['Monthly_Open_Position_Cost'] * 12"
   ]
  },
  {
   "cell_type": "code",
   "execution_count": null,
   "metadata": {
    "execution": {
     "iopub.execute_input": "2020-09-16T18:20:09.187377Z",
     "iopub.status.busy": "2020-09-16T18:20:09.172416Z",
     "iopub.status.idle": "2020-09-16T18:20:09.217297Z",
     "shell.execute_reply": "2020-09-16T18:20:09.218296Z"
    }
   },
   "outputs": [],
   "source": [
    "# Summarize Portfolio Cost\n",
    "##########################\n",
    "\n",
    "electricty_cost_df = pd.read_csv(data_dir / 'electricity_cost.csv')\n",
    "energy_cost_total = electricty_cost_df['EnergyCostReal_per_MWh'].to_numpy()[0]\n",
    "system_demand_mwh = electricty_cost_df['SystemDemand_MWh'].to_numpy()[0]\n",
    "\n",
    "#calculate delivered costs\n",
    "costs_itemized_df = pd.read_csv(data_dir / 'costs_itemized.csv')\n",
    "generation_cost = costs_itemized_df[costs_itemized_df['Component'] == 'GenPPACostInTP']['AnnualCost_Real'].to_numpy()[0] / system_demand_mwh\n",
    "storage_cost = costs_itemized_df[costs_itemized_df['Component'] == 'TotalGenCapacityCost']['AnnualCost_Real'].to_numpy()[0] / system_demand_mwh\n",
    "excess_generation_cost = costs_itemized_df[costs_itemized_df['Component'] == 'ExcessGenCostInTP']['AnnualCost_Real'].to_numpy()[0] / system_demand_mwh\n",
    "ra_cost = costs_itemized_df[costs_itemized_df['Component'] == 'TotalRAOpenPositionCost']['AnnualCost_Real'].to_numpy()[0] / system_demand_mwh\n",
    "try:\n",
    "    system_power_cost = costs_itemized_df[costs_itemized_df['Component'] == 'SystemPowerCost']['AnnualCost_Real'].to_numpy()[0] / system_demand_mwh\n",
    "except:\n",
    "    system_power_cost = 0\n",
    "\n",
    "#calculate weighted component cost\n",
    "#generation  = cost / Energy_GWh_typical_yr\n",
    "weighted_generation = costs_itemized_df[costs_itemized_df['Component'] == 'GenPPACostInTP']['AnnualCost_Real'].to_numpy()[0] / (generation[generation['Generator'] == 'Total']['Consumed_Generation_GWh'] * 1000).to_numpy()[0]\n",
    "#excess generation = cost / Excess_GWh\n",
    "weighted_excess = costs_itemized_df[costs_itemized_df['Component'] == 'ExcessGenCostInTP']['AnnualCost_Real'].to_numpy()[0] / (generation[generation['Generator'] == 'Total']['Excess_Generation_GWh'] * 1000).to_numpy()[0]\n",
    "#storage = cost / BuildGen ($/MW-year)\n",
    "weighted_storage = costs_itemized_df[costs_itemized_df['Component'] == 'TotalGenCapacityCost']['AnnualCost_Real'].to_numpy()[0] / tech_portfolio[tech_portfolio.index == 'STORAGE']['MW'].to_numpy()[0] / 12000\n",
    "weighted_RA = costs_itemized_df[costs_itemized_df['Component'] == 'TotalRAOpenPositionCost']['AnnualCost_Real'].to_numpy()[0] / tech_portfolio[tech_portfolio.index == 'Total']['MW'].to_numpy()[0] / 12000\n",
    "#system power = cost / system power GWh\n",
    "try:\n",
    "    weighted_system = costs_itemized_df[costs_itemized_df['Component'] == 'SystemPowerCost']['AnnualCost_Real'].to_numpy()[0] / (system_power['Energy_GWh_typical_yr'].to_numpy()[0] * 1000)\n",
    "except:\n",
    "    weighted_system = 0\n",
    "\n",
    "cost = {\n",
    "    'Cost Component': ['Portfolio Total','Generation','Excess Generation','Storage','RA Open Position','System Power'],\n",
    "    '$/MWh delivered': [energy_cost_total, generation_cost, excess_generation_cost, storage_cost, ra_cost, system_power_cost],\n",
    "    'Weighted Cost': [energy_cost_total, weighted_generation, weighted_excess, weighted_storage, weighted_RA, weighted_system],\n",
    "    'Unit': ['$/MWh','$/MWh','$/MWh','$/kW-mo', '$/kW-mo','$/MWh']\n",
    "}\n",
    "\n",
    "cost_summary = pd.DataFrame(cost)\n",
    "cost_summary = cost_summary.round(decimals=2)"
   ]
  },
  {
   "cell_type": "code",
   "execution_count": null,
   "metadata": {
    "execution": {
     "iopub.execute_input": "2020-09-16T18:20:09.230263Z",
     "iopub.status.busy": "2020-09-16T18:20:09.228268Z",
     "iopub.status.idle": "2020-09-16T18:20:09.234252Z",
     "shell.execute_reply": "2020-09-16T18:20:09.234772Z"
    },
    "tags": []
   },
   "outputs": [],
   "source": [
    "# Calculate Time-coincident renewable % and annual renewable %\n",
    "##############################################################\n",
    "\n",
    "if system_power_data == 0:\n",
    "    tc_percent_renewable = 100\n",
    "else:\n",
    "    tc_percent_renewable = 100 - (portfolio[portfolio['Generator'] == 'SYSTEM_POWER']['Energy_Percent']).to_numpy()[0]\n",
    "\n",
    "\n",
    "if system_power_data == 1:\n",
    "    system_power_mwh = (generation[generation['Generator'] == 'SYSTEM_POWER']['Total_Generation_GWh']).to_numpy()[0] * 1000\n",
    "else:\n",
    "    system_power_mwh = 0\n",
    "annual_percent_renewable = (((generation[generation['Generator'] == 'Total']['Total_Generation_GWh']).to_numpy()[0] * 1000) - system_power_mwh) / system_demand_mwh\n",
    "annual_percent_renewable = annual_percent_renewable * 100\n",
    "\n",
    "percent_renewable = (f'The portfolio is {tc_percent_renewable}% renewable on a time-coincident basis and {annual_percent_renewable.round(decimals=2)}% renewable on an annual basis')"
   ]
  },
  {
   "cell_type": "code",
   "execution_count": null,
   "metadata": {
    "execution": {
     "iopub.execute_input": "2020-09-16T18:20:09.250231Z",
     "iopub.status.busy": "2020-09-16T18:20:09.250231Z",
     "iopub.status.idle": "2020-09-16T18:20:10.531487Z",
     "shell.execute_reply": "2020-09-16T18:20:10.531487Z"
    }
   },
   "outputs": [],
   "source": [
    "# Create a heatmap of net load without storage\n",
    "##############################################\n",
    "\n",
    "total_generation = pd.read_csv(data_dir / 'dispatch.csv', usecols=['timestamp','gen_energy_source','DispatchGen_MW', 'Excess_Gen_MW'])\n",
    "#drop dispatch from storage resources\n",
    "total_generation = total_generation[total_generation['gen_energy_source'] != 'Electricity']\n",
    "total_generation = total_generation.drop(columns=['gen_energy_source'])\n",
    "#groupby timestamp and sum\n",
    "total_generation = total_generation.groupby('timestamp').sum()\n",
    "#convert the index to a datetimeindex\n",
    "total_generation.index = pd.to_datetime(total_generation.index)\n",
    "total_generation['Generation_MW'] = total_generation['DispatchGen_MW'] + total_generation['Excess_Gen_MW']\n",
    "total_generation = total_generation.drop(columns=['DispatchGen_MW','Excess_Gen_MW'])\n",
    "\n",
    "total_load = pd.read_csv(data_dir / 'load_balance.csv', usecols=['timestamp','zone_demand_mw'], index_col='timestamp', parse_dates=True)\n",
    "\n",
    "net_load = total_load.merge(total_generation, how='left', left_index=True, right_index=True)\n",
    "net_load['Gen_Bal_MW'] = net_load['Generation_MW'] - net_load['zone_demand_mw']\n",
    "\n",
    "net_load['day'] = net_load.index.dayofyear\n",
    "net_load['hour'] = net_load.index.hour\n",
    "\n",
    "net_load_array = net_load.pivot(index='hour',columns='day',values='Gen_Bal_MW').to_numpy()\n",
    "\n",
    "fig_net_gen = px.imshow(net_load_array, labels=dict(x=\"Day of Year\",y='Hour of Day',color='MW'), aspect='auto', color_continuous_scale='RdBu', color_continuous_midpoint=0, title='Net Generation without storage')\n"
   ]
  },
  {
   "cell_type": "code",
   "execution_count": null,
   "metadata": {
    "execution": {
     "iopub.execute_input": "2020-09-16T18:20:10.540462Z",
     "iopub.status.busy": "2020-09-16T18:20:10.539466Z",
     "iopub.status.idle": "2020-09-16T18:20:11.211416Z",
     "shell.execute_reply": "2020-09-16T18:20:11.210419Z"
    }
   },
   "outputs": [],
   "source": [
    "#Create a heatmap of excess generation after storage charging\n",
    "#############################################################\n",
    "\n",
    "excess_generation = pd.read_csv(data_dir / 'dispatch.csv', usecols=['timestamp','gen_energy_source', 'Excess_Gen_MW'])\n",
    "#drop dispatch from storage resources\n",
    "excess_generation = excess_generation.drop(columns=['gen_energy_source'])\n",
    "#groupby timestamp and sum\n",
    "excess_generation = excess_generation.groupby('timestamp').sum()\n",
    "#convert the index to a datetimeindex\n",
    "excess_generation.index = pd.to_datetime(excess_generation.index)\n",
    "\n",
    "excess_generation['day'] = excess_generation.index.dayofyear\n",
    "excess_generation['hour'] = excess_generation.index.hour\n",
    "\n",
    "excess_generation_array = excess_generation.pivot(index='hour',columns='day',values='Excess_Gen_MW').to_numpy()\n",
    "excess_generation_array = excess_generation_array.round(decimals=1)\n",
    "\n",
    "fig_excess_gen = px.imshow(excess_generation_array, labels=dict(x=\"Day of Year\",y='Hour of Day',color='MW'), aspect='auto', color_continuous_scale='Blues',range_color=[0,650], title='Excess Generation')\n"
   ]
  },
  {
   "cell_type": "code",
   "execution_count": null,
   "metadata": {
    "execution": {
     "iopub.execute_input": "2020-09-16T18:20:11.220428Z",
     "iopub.status.busy": "2020-09-16T18:20:11.219434Z",
     "iopub.status.idle": "2020-09-16T18:20:11.241975Z",
     "shell.execute_reply": "2020-09-16T18:20:11.240978Z"
    }
   },
   "outputs": [],
   "source": [
    "# Calculate weighted average cost of system power in hours of negative net generation\n",
    "#####################################################################################\n",
    "\n",
    "try:\n",
    "    system_power_costs = pd.read_csv(data_dir / 'system_power.csv', usecols=['timestamp','System_Power_Cost_per_MWh'], index_col='timestamp', parse_dates=True)\n",
    "except FileNotFoundError:\n",
    "    system_power_costs = pd.read_csv(Path.cwd() / '../../time_coincident/inputs/system_power_cost.csv', usecols=['system_power_cost'])\n",
    "    system_power_costs = system_power_costs.rename(columns={'system_power_cost': 'System_Power_Cost_per_MWh'})\n",
    "    system_power_costs.index = total_generation.index\n",
    "\n",
    "undergeneration_cost = system_power_costs.merge(net_load[['Gen_Bal_MW']], how='left', left_index=True, right_index=True)\n",
    "undergeneration_cost.loc[undergeneration_cost['Gen_Bal_MW'] > 0, 'Gen_Bal_MW'] = 0\n",
    "undergeneration_cost['Gen_Bal_MW'] = - undergeneration_cost['Gen_Bal_MW']\n",
    "undergeneration_cost['Product'] = undergeneration_cost['System_Power_Cost_per_MWh'] * undergeneration_cost['Gen_Bal_MW']\n",
    "weighted_cost = undergeneration_cost['Product'].sum() / undergeneration_cost['Gen_Bal_MW'].sum()\n",
    "weighted_cost_message = (f'The weighted cost of system power during periods of undergeneration is ${weighted_cost.round(decimals=2)} per MWh')"
   ]
  },
  {
   "cell_type": "code",
   "execution_count": null,
   "metadata": {
    "execution": {
     "iopub.execute_input": "2020-09-16T18:20:11.250952Z",
     "iopub.status.busy": "2020-09-16T18:20:11.249954Z",
     "iopub.status.idle": "2020-09-16T18:20:11.257051Z",
     "shell.execute_reply": "2020-09-16T18:20:11.258082Z"
    }
   },
   "outputs": [],
   "source": [
    "# Calculate weighted average value of system power in hours of excess net generation\n",
    "####################################################################################\n",
    "\n",
    "excess_value = system_power_costs.merge(excess_generation[['Excess_Gen_MW']], how='left', left_index=True, right_index=True)\n",
    "\n",
    "excess_value['Product'] = excess_value['System_Power_Cost_per_MWh'] * excess_value['Excess_Gen_MW']\n",
    "weighted_value = excess_value['Product'].sum() / excess_value['Excess_Gen_MW'].sum()\n",
    "weighted_value_message = (f'The weighted value of excess generation (at system power prices) is ${weighted_value.round(decimals=2)} per MWh')"
   ]
  },
  {
   "cell_type": "code",
   "execution_count": null,
   "metadata": {
    "execution": {
     "iopub.execute_input": "2020-09-16T18:20:11.275002Z",
     "iopub.status.busy": "2020-09-16T18:20:11.272011Z",
     "iopub.status.idle": "2020-09-16T18:20:12.801831Z",
     "shell.execute_reply": "2020-09-16T18:20:12.800834Z"
    }
   },
   "outputs": [],
   "source": [
    "# Set up data for dispatch timeseries graph\n",
    "###########################################\n",
    "\n",
    "#load generation data\n",
    "dispatch = pd.read_csv(data_dir / 'dispatch.csv', usecols=['timestamp','generation_project','DispatchGen_MW', 'Excess_Gen_MW'])\n",
    "\n",
    "#pivot the data to wide format\n",
    "excess = dispatch.pivot(index='timestamp',columns='generation_project',values='Excess_Gen_MW')\n",
    "dispatch = dispatch.pivot(index='timestamp',columns='generation_project',values='DispatchGen_MW')\n",
    "\n",
    "#round values to nearest hundredth of a MW\n",
    "dispatch = dispatch.round(decimals=2)\n",
    "excess = excess.round(decimals=2)\n",
    "\n",
    "#remove any columns that are all zeros\n",
    "dispatch = dispatch.loc[:, (dispatch != 0).any(axis=0)]\n",
    "excess = excess.loc[:, (excess != 0).any(axis=0)]\n",
    "\n",
    "#rename the columns by technology type\n",
    "dispatch.columns = [i.split('_')[0] for i in dispatch.columns]\n",
    "excess.columns = [i.split('_')[0] for i in excess.columns]\n",
    "\n",
    "#groupby the column names\n",
    "dispatch = dispatch.groupby(dispatch.columns, axis=1).sum()\n",
    "excess = excess.groupby(excess.columns, axis=1).sum()\n",
    "excess = excess.add_suffix('_Excess')\n",
    "\n",
    "#need to add system power data\n",
    "try:\n",
    "    system_power_use = pd.read_csv(data_dir / 'system_power.csv', usecols=['timestamp','System_Power_MW'], index_col='timestamp', parse_dates=True)\n",
    "    system_power_use.columns = ['SYSTEM_POWER']\n",
    "    dispatch = dispatch.merge(system_power_use, how='left', left_index=True, right_index=True)\n",
    "\n",
    "    #merge excess data\n",
    "    dispatch = dispatch.merge(excess, how='left', left_index=True, right_index=True)\n",
    "except:\n",
    "    dispatch = dispatch.merge(excess, how='left', left_index=True, right_index=True)\n",
    "\n",
    "#load storage charge data\n",
    "charge = pd.read_csv(data_dir / 'storage_dispatch.csv', parse_dates=True)\n",
    "charge = charge.pivot(index='timepoint', columns='generation_project',values='ChargeMW')\n",
    "charge = charge.loc[:, (charge != 0).any(axis=0)]\n",
    "charge.index = pd.to_datetime(charge.index)\n",
    "charge.index = charge.index.rename('timestamp')\n",
    "#rename the columns by technology type\n",
    "charge.columns = [i.split('_')[0] for i in charge.columns]\n",
    "charge = charge.groupby(charge.columns, axis=1).sum()\n",
    "charge = charge.add_suffix('_Charge')\n",
    "\n",
    "dispatch = dispatch.merge(charge, how='left', left_index=True, right_index=True)\n",
    "\n",
    "#load load\n",
    "load = pd.read_csv(data_dir / 'load_balance.csv', usecols=['timestamp','zone_demand_mw'], index_col='timestamp', parse_dates=True)\n",
    "load.columns = ['DEMAND']\n",
    "\n",
    "dispatch = dispatch.merge(load, how='left', left_index=True, right_index=True)\n"
   ]
  },
  {
   "cell_type": "code",
   "execution_count": null,
   "metadata": {
    "execution": {
     "iopub.execute_input": "2020-09-16T18:20:12.818785Z",
     "iopub.status.busy": "2020-09-16T18:20:12.814797Z",
     "iopub.status.idle": "2020-09-16T18:20:12.831933Z",
     "shell.execute_reply": "2020-09-16T18:20:12.832929Z"
    }
   },
   "outputs": [],
   "source": [
    "# Format the currency and percent values in the tables\n",
    "######################################################\n",
    "portfolio['Energy_Percent'] = portfolio['Energy_Percent'].apply(format_percent)\n",
    "portfolio['Capacity_Percent'] = portfolio['Capacity_Percent'].apply(format_percent)\n",
    "\n",
    "tech_portfolio['Energy_Percent'] = tech_portfolio['Energy_Percent'].apply(format_percent)\n",
    "tech_portfolio['Capacity_Percent'] = tech_portfolio['Capacity_Percent'].apply(format_percent)\n",
    "\n",
    "generation['Percent_Excess'] = generation['Percent_Excess'].apply(format_percent)\n",
    "generation['Annual_PPA_Energy_Cost'] = generation['Annual_PPA_Energy_Cost'].apply(format_currency)\n",
    "generation['Annual_PPA_Capacity_Cost'] = generation['Annual_PPA_Capacity_Cost'].apply(format_currency)\n",
    "generation['Annual_Excess_Generation_Cost'] = generation['Annual_Excess_Generation_Cost'].apply(format_currency)\n",
    "generation['Total_Annual_Cost'] = generation['Total_Annual_Cost'].apply(format_currency)\n",
    "generation['Percent_of_Cost'] = generation['Percent_of_Cost'].apply(format_percent)\n",
    "\n",
    "cost_summary['$/MWh delivered'] = cost_summary['$/MWh delivered'].apply(format_currency)\n",
    "cost_summary['Weighted Cost'] = cost_summary['Weighted Cost'].apply(format_currency)\n",
    "\n"
   ]
  },
  {
   "cell_type": "code",
   "execution_count": null,
   "metadata": {
    "execution": {
     "iopub.execute_input": "2020-09-16T18:20:12.836954Z",
     "iopub.status.busy": "2020-09-16T18:20:12.835962Z",
     "iopub.status.idle": "2020-09-16T18:20:13.283264Z",
     "shell.execute_reply": "2020-09-16T18:20:13.284247Z"
    }
   },
   "outputs": [],
   "source": [
    "#allow the notebook to display plots in html report\n",
    "plotly.offline.init_notebook_mode()"
   ]
  },
  {
   "cell_type": "markdown",
   "metadata": {},
   "source": [
    "# Scenario Report"
   ]
  },
  {
   "cell_type": "code",
   "execution_count": null,
   "metadata": {
    "tags": []
   },
   "outputs": [],
   "source": [
    "scenario_name = str(Path.cwd()).split('\\\\')[-1]\n",
    "\n",
    "print(f'Scenario Name: {scenario_name}')"
   ]
  },
  {
   "cell_type": "markdown",
   "metadata": {},
   "source": [
    "## Portfolio Renewable Percentage"
   ]
  },
  {
   "cell_type": "code",
   "execution_count": null,
   "metadata": {
    "execution": {
     "iopub.execute_input": "2020-09-16T18:20:13.288236Z",
     "iopub.status.busy": "2020-09-16T18:20:13.287240Z",
     "iopub.status.idle": "2020-09-16T18:20:13.308187Z",
     "shell.execute_reply": "2020-09-16T18:20:13.310179Z"
    },
    "tags": []
   },
   "outputs": [],
   "source": [
    "print(percent_renewable)"
   ]
  },
  {
   "cell_type": "markdown",
   "metadata": {},
   "source": [
    "## Portfolio Mix by Technology"
   ]
  },
  {
   "cell_type": "code",
   "execution_count": null,
   "metadata": {
    "execution": {
     "iopub.execute_input": "2020-09-16T18:20:13.328135Z",
     "iopub.status.busy": "2020-09-16T18:20:13.326136Z",
     "iopub.status.idle": "2020-09-16T18:20:13.339100Z",
     "shell.execute_reply": "2020-09-16T18:20:13.339100Z"
    }
   },
   "outputs": [],
   "source": [
    "tech_portfolio"
   ]
  },
  {
   "cell_type": "markdown",
   "metadata": {},
   "source": [
    "## Portfolio Mix by Generator"
   ]
  },
  {
   "cell_type": "code",
   "execution_count": null,
   "metadata": {
    "execution": {
     "iopub.execute_input": "2020-09-16T18:20:13.356055Z",
     "iopub.status.busy": "2020-09-16T18:20:13.355057Z",
     "iopub.status.idle": "2020-09-16T18:20:13.372067Z",
     "shell.execute_reply": "2020-09-16T18:20:13.371071Z"
    }
   },
   "outputs": [],
   "source": [
    "portfolio"
   ]
  },
  {
   "cell_type": "markdown",
   "metadata": {},
   "source": [
    "## Interactive Plot of Portfolio Dispatch and Load"
   ]
  },
  {
   "cell_type": "code",
   "execution_count": null,
   "metadata": {
    "execution": {
     "iopub.execute_input": "2020-09-16T18:20:13.401020Z",
     "iopub.status.busy": "2020-09-16T18:20:13.392014Z",
     "iopub.status.idle": "2020-09-16T18:20:17.711492Z",
     "shell.execute_reply": "2020-09-16T18:20:17.711492Z"
    }
   },
   "outputs": [],
   "source": [
    "dispatch_columns = [i for i in dispatch.columns if (('Charge' not in i) & ('DEMAND' not in i))]\n",
    "color_map = {'HYDRO':'Purple',\n",
    " 'ONWIND':'Blue',\n",
    " 'PV':'Yellow',\n",
    " 'STORAGE':'Green',\n",
    " 'HYDRO_Excess':'Plum',\n",
    " 'ONWIND_Excess':'SkyBlue',\n",
    " 'PV_Excess':'LemonChiffon',\n",
    " 'SYSTEM_POWER':'Red'}\n",
    "\n",
    "fig = px.area(dispatch, x=dispatch.index, y=dispatch_columns, color_discrete_map=color_map, labels={'timestamp':'Datetime','value':'MW'})\n",
    "fig.layout.template = 'plotly_white'\n",
    "fig.add_scatter(x=dispatch.index, y=(dispatch['DEMAND']+dispatch['STORAGE_Charge']), line=dict(color='Green', width=4), name='STORAGE_Charge')\n",
    "fig.add_scatter(x=dispatch.index, y=dispatch['DEMAND'], line=dict(color='black', width=4), name='Demand')\n",
    "fig.update_xaxes(\n",
    "    rangeslider_visible=True,\n",
    "    rangeselector=dict(\n",
    "        buttons=list([\n",
    "            dict(count=1, label=\"1d\", step=\"day\", stepmode=\"backward\"),\n",
    "            dict(count=7, label=\"1w\", step=\"day\", stepmode=\"backward\"),\n",
    "            dict(count=1, label=\"1m\", step=\"month\", stepmode=\"backward\"),\n",
    "            dict(step=\"all\")\n",
    "        ])))\n",
    "\n",
    "fig.show()"
   ]
  },
  {
   "cell_type": "markdown",
   "metadata": {},
   "source": [
    "## Delivered Electricity Cost Summary"
   ]
  },
  {
   "cell_type": "code",
   "execution_count": null,
   "metadata": {
    "execution": {
     "iopub.execute_input": "2020-09-16T18:20:17.721467Z",
     "iopub.status.busy": "2020-09-16T18:20:17.720469Z",
     "iopub.status.idle": "2020-09-16T18:20:17.737789Z",
     "shell.execute_reply": "2020-09-16T18:20:17.738779Z"
    }
   },
   "outputs": [],
   "source": [
    "cost_summary"
   ]
  },
  {
   "cell_type": "markdown",
   "metadata": {},
   "source": [
    "## Generation and Cost by Generator"
   ]
  },
  {
   "cell_type": "code",
   "execution_count": null,
   "metadata": {
    "execution": {
     "iopub.execute_input": "2020-09-16T18:20:17.757726Z",
     "iopub.status.busy": "2020-09-16T18:20:17.756731Z",
     "iopub.status.idle": "2020-09-16T18:20:17.769076Z",
     "shell.execute_reply": "2020-09-16T18:20:17.769076Z"
    }
   },
   "outputs": [],
   "source": [
    "generation"
   ]
  },
  {
   "cell_type": "markdown",
   "metadata": {},
   "source": [
    "## Monthly Average RA Value by Generator"
   ]
  },
  {
   "cell_type": "code",
   "execution_count": null,
   "metadata": {
    "execution": {
     "iopub.execute_input": "2020-09-16T18:20:17.784034Z",
     "iopub.status.busy": "2020-09-16T18:20:17.783037Z",
     "iopub.status.idle": "2020-09-16T18:20:17.801176Z",
     "shell.execute_reply": "2020-09-16T18:20:17.800143Z"
    },
    "tags": []
   },
   "outputs": [],
   "source": [
    "ra_value_pivot"
   ]
  },
  {
   "cell_type": "markdown",
   "metadata": {},
   "source": [
    "## RA Open Position Cost by Requirement"
   ]
  },
  {
   "cell_type": "code",
   "execution_count": null,
   "metadata": {
    "execution": {
     "iopub.execute_input": "2020-09-16T18:20:17.805131Z",
     "iopub.status.busy": "2020-09-16T18:20:17.804133Z",
     "iopub.status.idle": "2020-09-16T18:20:17.815281Z",
     "shell.execute_reply": "2020-09-16T18:20:17.815281Z"
    }
   },
   "outputs": [],
   "source": [
    "ra_cost"
   ]
  },
  {
   "cell_type": "markdown",
   "metadata": {},
   "source": [
    "## Hourly Net Generation Heat Map\n",
    "- Shows when we are over- and under-procured\n",
    "- Generation - Demand, ignoring storage charging and discharging\n"
   ]
  },
  {
   "cell_type": "code",
   "execution_count": null,
   "metadata": {
    "execution": {
     "iopub.execute_input": "2020-09-16T18:20:17.819186Z",
     "iopub.status.busy": "2020-09-16T18:20:17.819186Z",
     "iopub.status.idle": "2020-09-16T18:20:17.831720Z",
     "shell.execute_reply": "2020-09-16T18:20:17.830686Z"
    },
    "tags": []
   },
   "outputs": [],
   "source": [
    "print(weighted_cost_message)"
   ]
  },
  {
   "cell_type": "code",
   "execution_count": null,
   "metadata": {
    "execution": {
     "iopub.execute_input": "2020-09-16T18:20:17.835672Z",
     "iopub.status.busy": "2020-09-16T18:20:17.834712Z",
     "iopub.status.idle": "2020-09-16T18:20:17.943027Z",
     "shell.execute_reply": "2020-09-16T18:20:17.943027Z"
    }
   },
   "outputs": [],
   "source": [
    "fig_net_gen.show()"
   ]
  },
  {
   "cell_type": "markdown",
   "metadata": {},
   "source": [
    "## Hourly Excess Generation\n",
    "- Shows how much excess generation is left over after dispatching storage"
   ]
  },
  {
   "cell_type": "code",
   "execution_count": null,
   "metadata": {
    "execution": {
     "iopub.execute_input": "2020-09-16T18:20:17.948049Z",
     "iopub.status.busy": "2020-09-16T18:20:17.947015Z",
     "iopub.status.idle": "2020-09-16T18:20:17.958167Z",
     "shell.execute_reply": "2020-09-16T18:20:17.957171Z"
    },
    "tags": []
   },
   "outputs": [],
   "source": [
    "print(weighted_value_message)"
   ]
  },
  {
   "cell_type": "code",
   "execution_count": null,
   "metadata": {
    "execution": {
     "iopub.execute_input": "2020-09-16T18:20:17.971068Z",
     "iopub.status.busy": "2020-09-16T18:20:17.962193Z",
     "iopub.status.idle": "2020-09-16T18:20:18.035082Z",
     "shell.execute_reply": "2020-09-16T18:20:18.034082Z"
    }
   },
   "outputs": [],
   "source": [
    "fig_excess_gen.show()"
   ]
  }
 ],
 "metadata": {
  "kernelspec": {
   "display_name": "Python 3.7.7 64-bit ('time-coincident': conda)",
   "name": "python_defaultSpec_1600364135040"
  },
  "language_info": {
   "codemirror_mode": {
    "name": "ipython",
    "version": 3
   },
   "file_extension": ".py",
   "mimetype": "text/x-python",
   "name": "python",
   "nbconvert_exporter": "python",
   "pygments_lexer": "ipython3",
   "version": "3.7.7-final"
  }
 },
 "nbformat": 4,
 "nbformat_minor": 2
}