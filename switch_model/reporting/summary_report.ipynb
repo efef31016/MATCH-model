{
 "cells": [
  {
   "cell_type": "markdown",
   "metadata": {},
   "source": [
    "# Scenario Report"
   ]
  },
  {
   "cell_type": "code",
   "execution_count": null,
   "metadata": {
    "execution": {
     "iopub.execute_input": "2021-11-18T17:15:39.774108Z",
     "iopub.status.busy": "2021-11-18T17:15:39.763574Z",
     "iopub.status.idle": "2021-11-18T17:15:41.101854Z",
     "shell.execute_reply": "2021-11-18T17:15:41.101854Z"
    }
   },
   "outputs": [],
   "source": [
    "# Copyright (c) 2021 The MATCH Authors. All rights reserved.\n",
    "# Licensed under the Apache License, Version 2.0, which is in the LICENSE file.\n",
    "\n",
    "%reload_ext autoreload\n",
    "%autoreload 2\n",
    "\n",
    "from pathlib import Path\n",
    "import pandas as pd\n",
    "import plotly.express as px\n",
    "import plotly\n",
    "import plotly.graph_objects as go \n",
    "import numpy as np\n",
    "from switch_model.reporting.report_functions import *\n",
    "import pickle\n",
    "\n",
    "# TODO: remove input folder = '../../MODEL_RUNS/test_PCE/inputs/hourly_90'\n",
    "\n",
    "#get the name of the current directory to specify the scenario name and identify the output directory\n",
    "scenario_name = str(Path.cwd()).split('\\\\')[-1]\n",
    "if scenario_name == 'inputs':\n",
    "    data_dir = Path.cwd() / '../outputs/'\n",
    "    inputs_dir = Path.cwd() / '../inputs/'\n",
    "    scenario_name = 'N/A'\n",
    "else:\n",
    "    data_dir = Path.cwd()/ f'../../outputs/{scenario_name}/'\n",
    "    inputs_dir = Path.cwd() / f'../../inputs/{scenario_name}/'\n",
    "\n",
    "#define formatting options/functions for outputs\n",
    "pd.options.display.float_format = '{:,.2f}'.format\n",
    "\n",
    "#allow the notebook to display plots in html report\n",
    "###################################################\n",
    "plotly.offline.init_notebook_mode()\n",
    "\n",
    "print(f'Scenario Name: {scenario_name}')"
   ]
  },
  {
   "cell_type": "code",
   "execution_count": null,
   "metadata": {
    "execution": {
     "iopub.execute_input": "2021-11-18T17:15:41.117475Z",
     "iopub.status.busy": "2021-11-18T17:15:41.117475Z",
     "iopub.status.idle": "2021-11-18T17:15:44.679914Z",
     "shell.execute_reply": "2021-11-18T17:15:44.679914Z"
    }
   },
   "outputs": [],
   "source": [
    "# load data from csvs\n",
    "baseload_capacity_factors = pd.read_csv(inputs_dir / 'baseload_capacity_factors.csv')\n",
    "with open(inputs_dir / 'cambium_region.txt', 'r') as file:\n",
    "    cambium_region = file.read()\n",
    "costs_by_gen = pd.read_csv(data_dir / 'costs_by_gen.csv')\n",
    "costs_by_tp = pd.read_csv(data_dir / 'costs_by_tp.csv')\n",
    "dispatch = pd.read_csv(data_dir / 'dispatch.csv')\n",
    "with open(inputs_dir / 'ghg_emissions_unit.txt', 'r') as unit:\n",
    "    emissions_unit = unit.read()\n",
    "financials = pd.read_csv(inputs_dir / 'financials.csv')\n",
    "fixed_costs = pd.read_csv(inputs_dir / 'fixed_costs.csv')\n",
    "gen_build_predetermined = pd.read_csv(inputs_dir / 'gen_build_predetermined.csv')\n",
    "gen_cap = pd.read_csv(data_dir / 'gen_cap.csv')\n",
    "generation_projects_info = pd.read_csv(inputs_dir / 'generation_projects_info.csv')\n",
    "with open(inputs_dir / 'gen_set.txt', 'r') as set_name:\n",
    "    gen_set = set_name.read()\n",
    "load_balance = pd.read_csv(data_dir / 'load_balance.csv')\n",
    "nodal_prices = pd.read_csv(inputs_dir / 'nodal_prices.csv')\n",
    "periods = pd.read_csv(inputs_dir / 'periods.csv')\n",
    "with open((data_dir / 'results.pickle'), 'rb') as file:\n",
    "    results = pickle.load(file)\n",
    "# load RA data if modeled\n",
    "try:\n",
    "    ra_summary = pd.read_csv(data_dir / 'RA_summary.csv')\n",
    "    ra_exists = True\n",
    "except FileNotFoundError:\n",
    "    ra_exists = False\n",
    "    ra_summary = pd.DataFrame()\n",
    "rec_value = pd.read_csv(inputs_dir / 'rec_value.csv')\n",
    "\n",
    "system_power = pd.read_csv(data_dir / 'system_power.csv')\n",
    "timestamps = pd.read_csv(inputs_dir / 'timepoints.csv', parse_dates=['timestamp'], usecols=['timepoint_id','timestamp'])\n",
    "variable_capacity_factors = pd.read_csv(inputs_dir / 'variable_capacity_factors.csv')\n",
    "try:\n",
    "    storage_builds = pd.read_csv(data_dir / 'storage_builds.csv')\n",
    "    storage_cycle_count = pd.read_csv(data_dir / 'storage_cycle_count.csv')\n",
    "    storage_dispatch = pd.read_csv(data_dir / 'storage_dispatch.csv')\n",
    "    # there may not be any hybrid storage\n",
    "    try:\n",
    "        hybrid_pair = hybrid_pair_dict(generation_projects_info)\n",
    "    except KeyError:\n",
    "        hybrid_pair = dict()\n",
    "    storage_exists = True\n",
    "except:\n",
    "    storage_exists = False\n",
    "    storage_builds = pd.DataFrame()\n",
    "    storage_cycle_count = pd.DataFrame()\n",
    "    storage_dispatch = pd.DataFrame()\n",
    "    hybrid_pair = dict()\n",
    "\n",
    "model_year = periods.loc[0,'period_start']\n",
    "base_year = financials.loc[0,'base_financial_year']\n",
    "\n",
    "technology_color_map = {\n",
    " 'Small Hydro':'Purple',\n",
    " 'Consumed Small Hydro':'Purple',\n",
    " 'Excess Small Hydro':'Plum',\n",
    " 'Onshore Wind':'DeepSkyBlue',\n",
    " 'Consumed Onshore Wind':'DeepSkyBlue',\n",
    " 'Excess Onshore Wind':'LightSkyBlue',\n",
    " 'Offshore Wind':'Navy',\n",
    " 'Consumed Offshore Wind':'Navy',\n",
    " 'Excess Offshore Wind':'MediumSlateBlue',\n",
    " 'Solar PV':'Gold',\n",
    " 'Hybrid Solar PV':'Gold',\n",
    " 'Consumed Solar PV':'Gold',\n",
    " 'Excess Solar PV':'Yellow',\n",
    " 'CSP':'Orange',\n",
    " 'Geothermal':'Sienna',\n",
    " 'Consumed Geothermal':'Sienna',\n",
    " 'Storage':'Green',\n",
    " 'Storage Discharge':'Green',\n",
    " 'Hybrid Storage':'Green',\n",
    " 'Grid Energy':'Red',\n",
    " '(?)':'Black'}"
   ]
  },
  {
   "cell_type": "markdown",
   "metadata": {},
   "source": [
    "# Renewable Energy Goal"
   ]
  },
  {
   "cell_type": "markdown",
   "metadata": {},
   "source": [
    "## Portfolio Renewable Percentage"
   ]
  },
  {
   "cell_type": "code",
   "execution_count": null,
   "metadata": {
    "execution": {
     "iopub.execute_input": "2021-11-18T17:15:44.679914Z",
     "iopub.status.busy": "2021-11-18T17:15:44.679914Z",
     "iopub.status.idle": "2021-11-18T17:15:44.789172Z",
     "shell.execute_reply": "2021-11-18T17:15:44.789172Z"
    }
   },
   "outputs": [],
   "source": [
    "  \n",
    "print(f'Time-coincident renewable percentage: {format_percent(hourly_renewable_percentage(load_balance))}')\n",
    "print(f'Annual volumetric renewable percentage: {format_percent(annual_renewable_percentage(load_balance))}')"
   ]
  },
  {
   "cell_type": "markdown",
   "metadata": {},
   "source": [
    "## Sensitivity Analysis\n",
    "The following shows how well the selected portfolio would perform in specific resource years, considering the full intermittency and variability of wind and solar resources. "
   ]
  },
  {
   "cell_type": "code",
   "execution_count": null,
   "metadata": {
    "execution": {
     "iopub.execute_input": "2021-11-18T17:15:44.789172Z",
     "iopub.status.busy": "2021-11-18T17:15:44.789172Z",
     "iopub.status.idle": "2021-11-18T17:16:25.666377Z",
     "shell.execute_reply": "2021-11-18T17:16:25.666377Z"
    }
   },
   "outputs": [],
   "source": [
    "sensitivity_table = run_sensitivity_analysis(gen_set, gen_cap, dispatch, generation_projects_info, load_balance, storage_builds, storage_exists)"
   ]
  },
  {
   "cell_type": "markdown",
   "metadata": {},
   "source": [
    "## Carbon footprint of delivered energy"
   ]
  },
  {
   "cell_type": "code",
   "execution_count": null,
   "metadata": {},
   "outputs": [],
   "source": [
    "cambium_mid_model_year = load_cambium_data(scenario='MidCase', year=model_year, region=cambium_region)\n",
    "total_emissions = calculate_emissions(dispatch, generation_projects_info, system_power, load_balance, cambium_mid_model_year, emissions_unit)\n",
    "print(f'Total Annual Emissions: {total_emissions[\"Total Emission Rate\"].sum().round(1):,} {emissions_unit.split(\"/\")[0]}')\n",
    "print(f'Delivered Emission Factor: {total_emissions[\"Delivered Emission Factor\"].mean().round(3)} {emissions_unit}')"
   ]
  },
  {
   "cell_type": "code",
   "execution_count": null,
   "metadata": {
    "execution": {
     "iopub.execute_input": "2021-11-18T17:16:25.743320Z",
     "iopub.status.busy": "2021-11-18T17:16:25.743320Z",
     "iopub.status.idle": "2021-11-18T17:16:26.914273Z",
     "shell.execute_reply": "2021-11-18T17:16:26.914273Z"
    }
   },
   "outputs": [],
   "source": [
    "build_hourly_emissions_heatmap(total_emissions, emissions_unit).show()"
   ]
  },
  {
   "cell_type": "markdown",
   "metadata": {},
   "source": [
    "# Generator Portfolio"
   ]
  },
  {
   "cell_type": "markdown",
   "metadata": {},
   "source": [
    "The sunburst chart describes the built portfolio at various levels of detail, which shows how the outer rings relate to the inner rings\n",
    "- Inner circle: contract status (contracted or additional project)\n",
    "- Middle ring: technology type (e.g. solar, wind, ...)\n",
    "- Outer ring: specific project name\n",
    "\n",
    "For example, individual projects in the outer ring belong to a specific technology type in the middle ring, which can either be part of the existing/contracted portfolio, or the additional portfolio."
   ]
  },
  {
   "cell_type": "code",
   "execution_count": null,
   "metadata": {
    "execution": {
     "iopub.execute_input": "2021-11-18T17:16:26.914273Z",
     "iopub.status.busy": "2021-11-18T17:16:26.914273Z",
     "iopub.status.idle": "2021-11-18T17:16:27.086331Z",
     "shell.execute_reply": "2021-11-18T17:16:27.086331Z"
    }
   },
   "outputs": [],
   "source": [
    "portfolio = generator_portfolio(gen_cap, gen_build_predetermined, generation_projects_info, base_year)\n",
    "\n",
    "portfolio_sunburst = px.sunburst(portfolio, path=['Contract Status', 'Build Status','Technology','generation_project'], values='MW', color='Technology', color_discrete_map=technology_color_map,\n",
    " width=1000, height=1000,\n",
    " title='Energy Portfolio by Project Name, Technology Type, Build Status, and Contract Status (MW)')\n",
    "portfolio_sunburst.update_traces(textinfo='label+value')\n",
    "portfolio_sunburst.show()"
   ]
  },
  {
   "cell_type": "markdown",
   "metadata": {},
   "source": [
    "## Power Content Label\n"
   ]
  },
  {
   "cell_type": "code",
   "execution_count": null,
   "metadata": {
    "execution": {
     "iopub.execute_input": "2021-11-18T17:16:34.899419Z",
     "iopub.status.busy": "2021-11-18T17:16:34.899419Z",
     "iopub.status.idle": "2021-11-18T17:16:35.117588Z",
     "shell.execute_reply": "2021-11-18T17:16:35.117588Z"
    }
   },
   "outputs": [],
   "source": [
    "power_content = power_content_label(load_balance, dispatch, generation_projects_info)\n",
    "\n",
    "delivered_energy_pie = px.pie(power_content, values='MWh', names='Source', title='Power Content of Delivered Energy (MWh)', color='Source', color_discrete_map=technology_color_map,\n",
    "width=600, height=600\n",
    " )\n",
    "delivered_energy_pie.update_traces(textinfo='percent+label+value')\n",
    "delivered_energy_pie.show()"
   ]
  },
  {
   "cell_type": "markdown",
   "metadata": {},
   "source": [
    "## Generation Cost by Project\n",
    "This shows contract costs, Nodal costs, and storage revenues"
   ]
  },
  {
   "cell_type": "code",
   "execution_count": null,
   "metadata": {
    "execution": {
     "iopub.execute_input": "2021-11-18T17:16:27.086331Z",
     "iopub.status.busy": "2021-11-18T17:16:27.086331Z",
     "iopub.status.idle": "2021-11-18T17:16:27.431706Z",
     "shell.execute_reply": "2021-11-18T17:16:27.431706Z"
    }
   },
   "outputs": [],
   "source": [
    "gen_costs = generator_costs(costs_by_gen, storage_dispatch, hybrid_pair, gen_cap, generation_projects_info, storage_exists)\n",
    "\n",
    "generator_costs_melted = gen_costs.drop(columns=['Congestion Cost','Total Cost']).melt(id_vars='generation_project', var_name='Cost', value_name='$/MWh')\n",
    "\n",
    "generator_cost_fig = px.bar(generator_costs_melted, \n",
    "                            title=f'Average Generator Cost per MWh Generated ({model_year}$)', \n",
    "                            x='generation_project', \n",
    "                            y='$/MWh', \n",
    "                            text='$/MWh',\n",
    "                            color='Cost', \n",
    "                            category_orders={'Cost':['Energy Contract Cost', 'Capacity Contract Cost', 'Pnode Revenue', 'Delivery Cost','Congestion Cost','Storage Arbitrage Revenue']},\n",
    "                            color_discrete_map={'Energy Contract Cost': 'Red',\n",
    "                                                'Capacity Contract Cost': 'Orange',\n",
    "                                                'Delivery Cost': 'lightblue',\n",
    "                                                'Pnode Revenue':'blue', \n",
    "                                                'Congestion Cost':'Pink',\n",
    "                                                'Storage Arbitrage Revenue':'purple'}).update_yaxes(zeroline=True, zerolinewidth=2, zerolinecolor='black')\n",
    "generator_cost_fig.update_traces(textposition='inside')\n",
    "generator_cost_fig.add_scatter(x=gen_costs.generation_project, y=gen_costs['Total Cost'], mode='markers+text', text=gen_costs['Total Cost'], textposition='top center', line=dict(color='black', width=1), name='Total Cost')\n",
    "\n",
    "generator_cost_fig.show()\n",
    "\n"
   ]
  },
  {
   "cell_type": "markdown",
   "metadata": {},
   "source": [
    "## Generator Utilization"
   ]
  },
  {
   "cell_type": "code",
   "execution_count": null,
   "metadata": {
    "execution": {
     "iopub.execute_input": "2021-11-18T17:16:27.431706Z",
     "iopub.status.busy": "2021-11-18T17:16:27.431706Z",
     "iopub.status.idle": "2021-11-18T17:16:27.588615Z",
     "shell.execute_reply": "2021-11-18T17:16:27.588615Z"
    }
   },
   "outputs": [],
   "source": [
    "utilization = calculate_generator_utilization(dispatch)\n",
    "utilization"
   ]
  },
  {
   "cell_type": "markdown",
   "metadata": {},
   "source": [
    "# Costs"
   ]
  },
  {
   "cell_type": "code",
   "execution_count": null,
   "metadata": {
    "execution": {
     "iopub.execute_input": "2021-11-18T17:16:35.133290Z",
     "iopub.status.busy": "2021-11-18T17:16:35.117588Z",
     "iopub.status.idle": "2021-11-18T17:16:35.883145Z",
     "shell.execute_reply": "2021-11-18T17:16:35.883145Z"
    }
   },
   "outputs": [],
   "source": [
    "hourly_costs = hourly_cost_of_power(system_power, costs_by_tp, ra_summary, gen_cap, storage_dispatch, fixed_costs, storage_exists)\n",
    "cost_table = construct_cost_table(hourly_costs, load_balance, rec_value, financials, model_year)\n",
    "print(f'Model year ({model_year}) costs are discounted to present value in {base_year} using a {financials.loc[0,\"discount_rate\"]*100}% discount rate')\n",
    "display(cost_table.set_index('Cost Component'))"
   ]
  },
  {
   "cell_type": "markdown",
   "metadata": {},
   "source": [
    "# Portfolio Dispatch"
   ]
  },
  {
   "cell_type": "code",
   "execution_count": null,
   "metadata": {
    "execution": {
     "iopub.execute_input": "2021-11-18T17:16:37.227201Z",
     "iopub.status.busy": "2021-11-18T17:16:37.227201Z",
     "iopub.status.idle": "2021-11-18T17:16:44.351923Z",
     "shell.execute_reply": "2021-11-18T17:16:44.351923Z"
    }
   },
   "outputs": [],
   "source": [
    "dispatch_by_tech, load_line, storage_charge, dispatch_fig = build_dispatch_plot(generation_projects_info, dispatch, storage_dispatch, load_balance, system_power, technology_color_map, storage_exists)\n",
    "dispatch_fig.show()"
   ]
  },
  {
   "cell_type": "markdown",
   "metadata": {},
   "source": [
    "## Wholesale prices"
   ]
  },
  {
   "cell_type": "code",
   "execution_count": null,
   "metadata": {
    "execution": {
     "iopub.execute_input": "2021-11-18T17:16:44.351923Z",
     "iopub.status.busy": "2021-11-18T17:16:44.351923Z",
     "iopub.status.idle": "2021-11-18T17:16:57.383213Z",
     "shell.execute_reply": "2021-11-18T17:16:55.759484Z"
    }
   },
   "outputs": [],
   "source": [
    "build_nodal_prices_plot(nodal_prices, timestamps, generation_projects_info, model_year).show()"
   ]
  },
  {
   "cell_type": "markdown",
   "metadata": {},
   "source": [
    "# Energy Storage Metrics"
   ]
  },
  {
   "cell_type": "markdown",
   "metadata": {},
   "source": [
    "## Battery state of charge"
   ]
  },
  {
   "cell_type": "code",
   "execution_count": null,
   "metadata": {
    "execution": {
     "iopub.execute_input": "2021-11-18T17:17:03.086239Z",
     "iopub.status.busy": "2021-11-18T17:17:03.086239Z",
     "iopub.status.idle": "2021-11-18T17:17:10.211269Z",
     "shell.execute_reply": "2021-11-18T17:17:10.211269Z"
    }
   },
   "outputs": [],
   "source": [
    "if storage_exists:\n",
    "    build_state_of_charge_plot(storage_dispatch, storage_builds, generation_projects_info).show()\n",
    "else:\n",
    "    print(\"Storage not modeled\")"
   ]
  },
  {
   "cell_type": "markdown",
   "metadata": {},
   "source": [
    "## Battery Cycling and State of Charge Stats"
   ]
  },
  {
   "cell_type": "code",
   "execution_count": null,
   "metadata": {
    "execution": {
     "iopub.execute_input": "2021-11-18T17:17:10.211269Z",
     "iopub.status.busy": "2021-11-18T17:17:10.211269Z",
     "iopub.status.idle": "2021-11-18T17:17:10.336031Z",
     "shell.execute_reply": "2021-11-18T17:17:10.336031Z"
    }
   },
   "outputs": [],
   "source": [
    "if storage_exists:\n",
    "    display(construct_storage_stats_table(storage_cycle_count, storage_builds, storage_dispatch))\n",
    "else:\n",
    "    print(\"Storage not modeled\")"
   ]
  },
  {
   "cell_type": "markdown",
   "metadata": {},
   "source": [
    "# Monthly positions"
   ]
  },
  {
   "cell_type": "markdown",
   "metadata": {},
   "source": [
    "### Month hour average dispatch"
   ]
  },
  {
   "cell_type": "code",
   "execution_count": null,
   "metadata": {
    "execution": {
     "iopub.execute_input": "2021-11-18T17:16:57.383213Z",
     "iopub.status.busy": "2021-11-18T17:16:57.383213Z",
     "iopub.status.idle": "2021-11-18T17:16:58.023886Z",
     "shell.execute_reply": "2021-11-18T17:16:58.023886Z"
    }
   },
   "outputs": [],
   "source": [
    "build_month_hour_dispatch_plot(dispatch_by_tech, load_line, storage_charge, technology_color_map, storage_exists).show()"
   ]
  },
  {
   "cell_type": "markdown",
   "metadata": {},
   "source": [
    "### Month-hour average net position\n",
    "\n",
    "Positive values represent excess generation  \n",
    "Negative values represent an open position"
   ]
  },
  {
   "cell_type": "code",
   "execution_count": null,
   "metadata": {
    "execution": {
     "iopub.execute_input": "2021-11-18T17:17:02.070879Z",
     "iopub.status.busy": "2021-11-18T17:17:02.070879Z",
     "iopub.status.idle": "2021-11-18T17:17:03.086239Z",
     "shell.execute_reply": "2021-11-18T17:17:03.086239Z"
    }
   },
   "outputs": [],
   "source": [
    "build_open_position_plot(load_balance, storage_exists).show()"
   ]
  },
  {
   "cell_type": "markdown",
   "metadata": {},
   "source": [
    "## Resource Adequacy Position"
   ]
  },
  {
   "cell_type": "code",
   "execution_count": null,
   "metadata": {
    "execution": {
     "iopub.execute_input": "2021-11-18T17:16:37.070761Z",
     "iopub.status.busy": "2021-11-18T17:16:37.070761Z",
     "iopub.status.idle": "2021-11-18T17:16:37.227201Z",
     "shell.execute_reply": "2021-11-18T17:16:37.227201Z"
    }
   },
   "outputs": [],
   "source": [
    "if ra_exists:\n",
    "    build_ra_open_position_plot(ra_summary).show()\n",
    "else:\n",
    "    print('Resource Adequacy was not modeled')"
   ]
  },
  {
   "cell_type": "markdown",
   "metadata": {},
   "source": [
    "# Shadow Price of Energy Efficiency\n",
    "The following plot shows the month-hour average value of decreasing load by 1 MW for each hour of the year"
   ]
  },
  {
   "cell_type": "code",
   "execution_count": null,
   "metadata": {
    "execution": {
     "iopub.execute_input": "2021-11-18T17:16:58.023886Z",
     "iopub.status.busy": "2021-11-18T17:16:58.023886Z",
     "iopub.status.idle": "2021-11-18T17:17:02.070879Z",
     "shell.execute_reply": "2021-11-18T17:17:02.070879Z"
    }
   },
   "outputs": [],
   "source": [
    "try:\n",
    "    calculate_load_shadow_price(results, timestamps, model_year).show()\n",
    "except ValueError:\n",
    "    print('Shadow prices not generated')"
   ]
  },
  {
   "cell_type": "markdown",
   "metadata": {},
   "source": [
    "# Impact Metrics"
   ]
  },
  {
   "cell_type": "markdown",
   "metadata": {},
   "source": [
    "## Consequential Emissions Impact"
   ]
  },
  {
   "cell_type": "markdown",
   "metadata": {},
   "source": [
    "### Long Run Marginal Emissions Impact\n",
    "Estimates the consequential long run impact of additional generation and storage dispatch in the portfolio for the lifetime of the contract. This metric quantifies emissions impacts resulting from changes in generator dispatch, commitment, investments, and retirements."
   ]
  },
  {
   "cell_type": "code",
   "execution_count": null,
   "metadata": {},
   "outputs": [],
   "source": [
    "# determine which generation is additional\n",
    "addl_dispatch, addl_storage_dispatch = determine_additional_dispatch(portfolio, dispatch, storage_dispatch, storage_exists)\n",
    "\n",
    "# load LRMER data\n",
    "lrmer_data = calculate_levelized_lrmer(model_year, 20, 0.03, emissions_unit, cambium_region)\n",
    "\n",
    "lr_impact = pd.DataFrame()\n",
    "# calculate the impacts for storage and generation\n",
    "lr_generation_impact = lrmer_data.mul(addl_dispatch['Total_Dispatch'], axis=0).sum()\n",
    "lr_storage_impact = lrmer_data.mul(addl_storage_dispatch['Storage_Dispatch'], axis=0).sum()\n",
    "\n",
    "lr_impact[f'Generation {emissions_unit.split(\"/\")[0]}'] = lr_generation_impact\n",
    "lr_impact[f'Storage {emissions_unit.split(\"/\")[0]}'] = lr_storage_impact\n",
    "lr_impact[f'Total {emissions_unit.split(\"/\")[0]}'] = lr_impact.sum(axis=1)\n",
    "lr_impact[f'Total {emissions_unit}'] = lr_impact[f'Total {emissions_unit.split(\"/\")[0]}'] / (addl_dispatch['Total_Dispatch'].sum(axis=0) + addl_storage_dispatch['Storage_Dispatch'].sum(axis=0)) * -1\n",
    "\n",
    "# append the average values\n",
    "lr_impact = lr_impact.append(lr_impact.mean(axis=0).rename('Average'))\n",
    "\n",
    "lr_impact"
   ]
  },
  {
   "cell_type": "markdown",
   "metadata": {},
   "source": [
    "### Short Run Marginal Emissions Impact\n",
    "This metric estimates the short-run consequential emissions impact of additional generation and storage for a single year (the model year). This metric only represents estimated imapcts on generator dispatch and commitment, and not generator build decisions. Generally, the long-run metric is more appropriate for analyzing the consequential impact of the portfolio, but this metric is provided for comparison."
   ]
  },
  {
   "cell_type": "code",
   "execution_count": null,
   "metadata": {},
   "outputs": [],
   "source": [
    "srmer_data = load_srmer_data(model_year, emissions_unit, cambium_region)\n",
    "\n",
    "sr_impact = pd.DataFrame()\n",
    "# calculate the impacts for storage and generation\n",
    "sr_generation_impact = srmer_data.mul(addl_dispatch['Total_Dispatch'], axis=0).sum()\n",
    "sr_storage_impact = srmer_data.mul(addl_storage_dispatch['Storage_Dispatch'], axis=0).sum()\n",
    "\n",
    "sr_impact[f'Generation {emissions_unit.split(\"/\")[0]}'] = sr_generation_impact\n",
    "sr_impact[f'Storage {emissions_unit.split(\"/\")[0]}'] = sr_storage_impact\n",
    "sr_impact[f'Total {emissions_unit.split(\"/\")[0]}'] = sr_impact.sum(axis=1)\n",
    "sr_impact[f'Total {emissions_unit}'] = sr_impact[f'Total {emissions_unit.split(\"/\")[0]}'] / (addl_dispatch['Total_Dispatch'].sum(axis=0) + addl_storage_dispatch['Storage_Dispatch'].sum(axis=0)) * -1\n",
    "\n",
    "# append the average values\n",
    "sr_impact = sr_impact.append(sr_impact.mean(axis=0).rename('Average'))\n",
    "\n",
    "sr_impact"
   ]
  },
  {
   "cell_type": "markdown",
   "metadata": {},
   "source": [
    "## Impact on the Systemwide Daily Net Demand Peak\n",
    "This metric shows how additional wind and solar generation (categorized as \"future\" builds in the generator portfolio chart) affect the CAISO system net demand profile, specifically how the addition of these resources increase or decrease the systemwide net demand peak. Impacts are shown both based just on wind and solar generation, and for wind, solar, and storage dispatch."
   ]
  },
  {
   "cell_type": "code",
   "execution_count": null,
   "metadata": {},
   "outputs": [],
   "source": [
    "# use the cambium mid case for the base year\n",
    "cambium_mid = load_cambium_data('MidCase', base_year, cambium_region)\n",
    "\n",
    "# calculate system metrics\n",
    "if not addl_dispatch.empty:\n",
    "    display(compare_system_peaks(cambium_mid, addl_dispatch, addl_storage_dispatch))\n",
    "else:\n",
    "    print('No additional generators')"
   ]
  },
  {
   "cell_type": "markdown",
   "metadata": {},
   "source": [
    "## Impact on Steepness of the Systemwide Daily Maximum Net Demand Ramp\n",
    "This metric shows how additional wind and solar generation (categorized as \"future\" builds in the generator portfolio chart) affect the CAISO system net demand profile, specifically how the addition of these resources increase or decrease the steepness of the daily maximum 3 hour ramp. This ramp typically occurs in the evening as the sun goes down, and is one of the challenges of renewable integration. Impacts are shown both based just on wind and solar generation, and for wind, solar, and storage dispatch."
   ]
  },
  {
   "cell_type": "code",
   "execution_count": null,
   "metadata": {},
   "outputs": [],
   "source": [
    "# calculate daily 3 hour ramp\n",
    "ramp_length = 3\n",
    "\n",
    "if not addl_dispatch.empty:\n",
    "    display(compare_system_ramps(cambium_mid, addl_dispatch, addl_storage_dispatch, ramp_length))\n",
    "else:\n",
    "    print('No additional generators')"
   ]
  },
  {
   "cell_type": "markdown",
   "metadata": {},
   "source": [
    "# Assumptions"
   ]
  },
  {
   "cell_type": "code",
   "execution_count": null,
   "metadata": {
    "execution": {
     "iopub.execute_input": "2021-11-18T17:17:10.477728Z",
     "iopub.status.busy": "2021-11-18T17:17:10.477112Z",
     "iopub.status.idle": "2021-11-18T17:17:10.555908Z",
     "shell.execute_reply": "2021-11-18T17:17:10.555908Z"
    },
    "tags": []
   },
   "outputs": [],
   "source": [
    "pd.set_option('display.max_rows',100)\n",
    "gen_assumptions = pd.read_csv(inputs_dir / 'generation_projects_info.csv', usecols=['GENERATION_PROJECT','gen_tech','gen_energy_source','ppa_energy_cost','gen_capacity_limit_mw'])\n",
    "gen_assumptions = gen_assumptions[gen_assumptions['gen_energy_source'] != 'Electricity']\n",
    "gen_assumptions = gen_assumptions.sort_values(by='GENERATION_PROJECT')\n",
    "gen_assumptions = gen_assumptions.set_index('GENERATION_PROJECT')\n",
    "display(gen_assumptions)"
   ]
  },
  {
   "cell_type": "markdown",
   "metadata": {},
   "source": [
    "# Storage Assumptions"
   ]
  },
  {
   "cell_type": "code",
   "execution_count": null,
   "metadata": {
    "execution": {
     "iopub.execute_input": "2021-11-18T17:17:10.571467Z",
     "iopub.status.busy": "2021-11-18T17:17:10.571467Z",
     "iopub.status.idle": "2021-11-18T17:17:10.649643Z",
     "shell.execute_reply": "2021-11-18T17:17:10.649643Z"
    }
   },
   "outputs": [],
   "source": [
    "if storage_exists:\n",
    "    storage_assumptions = pd.read_csv(inputs_dir / 'generation_projects_info.csv', usecols=['GENERATION_PROJECT','gen_tech','gen_energy_source','ppa_capacity_cost','gen_capacity_limit_mw', 'storage_roundtrip_efficiency','storage_charge_to_discharge_ratio','storage_energy_to_power_ratio','storage_leakage_loss','storage_hybrid_generation_project','storage_hybrid_min_capacity_ratio','storage_hybrid_max_capacity_ratio'])\n",
    "    #change capacity cost to $/kw-mo\n",
    "    storage_assumptions['ppa_capacity_cost'] = storage_assumptions['ppa_capacity_cost'] / 12000\n",
    "\n",
    "    storage_assumptions = storage_assumptions.rename(columns={\n",
    "        'storage_roundtrip_efficiency':'RTE',\n",
    "        'storage_charge_to_discharge_ratio':'charge/discharge_ratio',\n",
    "        'storage_energy_to_power_ratio':'storage_hours',\n",
    "        'storage_leakage_loss':'soc_leakage_loss',\n",
    "        'storage_hybrid_generation_project':'paired_hybrid_gen',\n",
    "        'storage_hybrid_min_capacity_ratio':'hybrid_min_capacity_ratio',\n",
    "        'storage_hybrid_max_capacity_ratio':'hybrid_max_capacity_ratio',\n",
    "    })\n",
    "\n",
    "    storage_assumptions = storage_assumptions[storage_assumptions['gen_tech'] == 'Storage']\n",
    "    storage_assumptions = storage_assumptions.sort_values(by='GENERATION_PROJECT')\n",
    "    storage_assumptions = storage_assumptions.set_index('GENERATION_PROJECT')\n",
    "    storage_assumptions = storage_assumptions[['gen_tech','ppa_capacity_cost','gen_capacity_limit_mw', 'RTE','storage_hours','charge/discharge_ratio','soc_leakage_loss','paired_hybrid_gen','hybrid_min_capacity_ratio','hybrid_max_capacity_ratio']]\n",
    "    display(storage_assumptions)\n",
    "else:\n",
    "    print(\"Storage not modeled\")"
   ]
  },
  {
   "cell_type": "code",
   "execution_count": null,
   "metadata": {
    "execution": {
     "iopub.execute_input": "2021-11-18T17:17:10.649643Z",
     "iopub.status.busy": "2021-11-18T17:17:10.649643Z",
     "iopub.status.idle": "2021-11-18T17:17:10.790235Z",
     "shell.execute_reply": "2021-11-18T17:17:10.790235Z"
    }
   },
   "outputs": [],
   "source": [
    "# export scenario summary\n",
    "# create an output summary table\n",
    "construct_summary_output_table(scenario_name, cost_table, load_balance, portfolio, sensitivity_table, lr_impact, sr_impact, total_emissions, emissions_unit, base_year).to_csv(data_dir / 'scenario_summary.csv')"
   ]
  }
 ],
 "metadata": {
  "interpreter": {
   "hash": "b1778606320a67ef539dd1b715deb330623331b463bae4e93fc5977f8bb68e72"
  },
  "kernelspec": {
   "display_name": "Python 3.8.10 64-bit ('switch_247': conda)",
   "name": "python3"
  },
  "language_info": {
   "codemirror_mode": {
    "name": "ipython",
    "version": 3
   },
   "file_extension": ".py",
   "mimetype": "text/x-python",
   "name": "python",
   "nbconvert_exporter": "python",
   "pygments_lexer": "ipython3",
   "version": "3.8.10"
  }
 },
 "nbformat": 4,
 "nbformat_minor": 2
}
