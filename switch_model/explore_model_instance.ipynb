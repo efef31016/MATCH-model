{
 "cells": [
  {
   "cell_type": "markdown",
   "source": [
    "# Explore Model Instance\r\n",
    "After a model is run, this notebook can be used to explore the model instance and results, if exported as pickle files.\r\n",
    "\r\n",
    "To export the model instance as a pickle file, `--save-instance` must be added to `options.txt` (NOTE: this will be a large file!)  \r\n",
    "Switch will automatically export the model results as a pickle file unless the `--no-save-solution` is specified in `options.txt`  \r\n",
    "\r\n",
    "In order to explore duals and reduced costs, `-suffixes dual rc` must be added to `options.txt`"
   ],
   "metadata": {}
  },
  {
   "cell_type": "code",
   "execution_count": null,
   "source": [
    "from pathlib import Path\r\n",
    "import pickle\r\n",
    "import cloudpickle\r\n",
    "import pyomo.environ as pyo\r\n",
    "import pandas as pd\r\n",
    "\r\n",
    "# specify where the pickle file is located\r\n",
    "model_path = '../MODEL_RUNS/generic_office_example/outputs/hourly_95/'"
   ],
   "outputs": [],
   "metadata": {}
  },
  {
   "cell_type": "markdown",
   "source": [
    "# Explore Model Instance"
   ],
   "metadata": {}
  },
  {
   "cell_type": "code",
   "execution_count": null,
   "source": [
    "# read instance file\r\n",
    "with open((Path.cwd() / model_path / 'instance.pickle'), mode='rb') as file:\r\n",
    "    instance = cloudpickle.load(file)"
   ],
   "outputs": [],
   "metadata": {}
  },
  {
   "cell_type": "markdown",
   "source": [
    "## Explore Sets"
   ],
   "metadata": {}
  },
  {
   "cell_type": "code",
   "execution_count": null,
   "source": [
    "i = 0\r\n",
    "for setobject in instance.component_objects(pyo.Set, active=True):\r\n",
    "    nametoprint = str(str(setobject.name))\r\n",
    "    if '_index' in nametoprint:\r\n",
    "        pass\r\n",
    "    else:\r\n",
    "        print (\"Set \", nametoprint)  \r\n",
    "        i+=1\r\n",
    "print(f'Total Number of sets: {i}')"
   ],
   "outputs": [],
   "metadata": {}
  },
  {
   "cell_type": "code",
   "execution_count": null,
   "source": [
    "# to examine the set\r\n",
    "instance.GENS_BY_TECHNOLOGY.pprint()"
   ],
   "outputs": [],
   "metadata": {}
  },
  {
   "cell_type": "markdown",
   "source": [
    "## Explore Parameters, Expressions, and Vars"
   ],
   "metadata": {}
  },
  {
   "cell_type": "code",
   "execution_count": null,
   "source": [
    "for ExpObject in instance.component_objects(pyo.Expression, active=True):\r\n",
    "    nametoprint = str(str(ExpObject.name))\r\n",
    "    print (\"Expression \", nametoprint) "
   ],
   "outputs": [],
   "metadata": {}
  },
  {
   "cell_type": "code",
   "execution_count": null,
   "source": [
    "instance.DLAPLoadCostInTP.pprint()"
   ],
   "outputs": [],
   "metadata": {}
  },
  {
   "cell_type": "code",
   "execution_count": null,
   "source": [
    "pyo.value(instance.VariableGen['PV_Kern', 12])"
   ],
   "outputs": [],
   "metadata": {}
  },
  {
   "cell_type": "code",
   "execution_count": null,
   "source": [
    "# print all parameters\r\n",
    "i=0\r\n",
    "for parmobject in instance.component_objects(pyo.Param, active=True):\r\n",
    "    nametoprint = str(str(parmobject.name))\r\n",
    "    print (\"Parameter \", nametoprint)  \r\n",
    "    i+=1\r\n",
    "print(f'Total Number of parameters: {i}')"
   ],
   "outputs": [],
   "metadata": {}
  },
  {
   "cell_type": "code",
   "execution_count": null,
   "source": [
    "instance.add_one_to_period_end.pprint()"
   ],
   "outputs": [],
   "metadata": {}
  },
  {
   "cell_type": "markdown",
   "source": [
    "## Explore Constraints\r\n",
    "I might not be able to access constraint values: https://stackoverflow.com/questions/50703321/how-to-retrieve-value-of-constraint-from-pyomo"
   ],
   "metadata": {}
  },
  {
   "cell_type": "code",
   "execution_count": null,
   "source": [
    "# list all of the constraints\r\n",
    "for c in instance.component_objects(pyo.Constraint, active=True):\r\n",
    "    print (\"Constraint\",c)"
   ],
   "outputs": [],
   "metadata": {}
  },
  {
   "cell_type": "code",
   "execution_count": null,
   "source": [
    "instance.Enforce_Hourly_Renewable_Target.pprint()"
   ],
   "outputs": [],
   "metadata": {}
  },
  {
   "cell_type": "code",
   "execution_count": null,
   "source": [
    "# can get numerical values of single constraint through lower, body, upper\r\n",
    "c = instance.Zone_Energy_Balance\r\n",
    "print (\"   Constraint\",c)\r\n",
    "i = 1\r\n",
    "for index in c:\r\n",
    "    if i < 5:\r\n",
    "        print (\"      \", index, c[index].upper)\r\n",
    "        i+=1\r\n",
    "    else:\r\n",
    "        break"
   ],
   "outputs": [],
   "metadata": {}
  },
  {
   "cell_type": "markdown",
   "source": [
    "## Explore Slack Values"
   ],
   "metadata": {}
  },
  {
   "cell_type": "code",
   "execution_count": null,
   "source": [
    "# https://pyomo.readthedocs.io/en/stable/working_models.html#accessing-slacks\r\n",
    "\r\n",
    "c = instance.Zone_Energy_Balance\r\n",
    "print (\"   Constraint\",c)\r\n",
    "for index in c:\r\n",
    "    print (\"      \", index, c[index].lslack(), round(c[index].uslack(),4))\r\n"
   ],
   "outputs": [],
   "metadata": {}
  },
  {
   "cell_type": "markdown",
   "source": [
    "# Explore Results"
   ],
   "metadata": {}
  },
  {
   "cell_type": "markdown",
   "source": [
    "The SolverResults object contains four main pieces of data:\r\n",
    " - Problem\r\n",
    " - Solver\r\n",
    " - Solution\r\n",
    " - Pyomo solve time"
   ],
   "metadata": {}
  },
  {
   "cell_type": "code",
   "execution_count": null,
   "source": [
    "# read results file\r\n",
    "with open((Path.cwd() / model_path / 'results.pickle'), 'rb') as file:\r\n",
    "    results = pickle.load(file)\r\n",
    "\r\n",
    "print(results.problem)"
   ],
   "outputs": [],
   "metadata": {}
  },
  {
   "cell_type": "code",
   "execution_count": null,
   "source": [
    "print(results.solver)"
   ],
   "outputs": [],
   "metadata": {}
  },
  {
   "cell_type": "code",
   "execution_count": null,
   "source": [
    "print(results.solution)"
   ],
   "outputs": [],
   "metadata": {}
  },
  {
   "cell_type": "markdown",
   "source": [
    "## Explore Reduced Costs"
   ],
   "metadata": {}
  },
  {
   "cell_type": "code",
   "execution_count": null,
   "source": [
    "variable_rc = pd.DataFrame.from_dict(results.solution.Variable, orient='index')\r\n",
    "variable_rc = variable_rc.reset_index()\r\n",
    "variable_rc[['Variable','index']] = variable_rc['index'].str.split('[', expand=True)\r\n",
    "variable_rc['index'] = '[' + variable_rc['index']\r\n",
    "variable_rc = variable_rc[['Variable','index','Value','Rc']]\r\n",
    "variable_rc"
   ],
   "outputs": [],
   "metadata": {}
  },
  {
   "cell_type": "markdown",
   "source": [
    "## Explore Duals"
   ],
   "metadata": {}
  },
  {
   "cell_type": "code",
   "execution_count": null,
   "source": [
    "constraint_duals = pd.DataFrame.from_dict(results.solution.Constraint, orient='index')\r\n",
    "constraint_duals = constraint_duals.reset_index()\r\n",
    "constraint_duals[['Variable','index']] = constraint_duals['index'].str.split('[', expand=True)\r\n",
    "constraint_duals['index'] = '[' + constraint_duals['index']\r\n",
    "#constraint_duals = constraint_duals[['Variable','index','Value','Rc']]\r\n",
    "constraint_duals"
   ],
   "outputs": [],
   "metadata": {}
  }
 ],
 "metadata": {
  "orig_nbformat": 4,
  "language_info": {
   "name": "python",
   "version": "3.8.10",
   "mimetype": "text/x-python",
   "codemirror_mode": {
    "name": "ipython",
    "version": 3
   },
   "pygments_lexer": "ipython3",
   "nbconvert_exporter": "python",
   "file_extension": ".py"
  },
  "kernelspec": {
   "name": "python3",
   "display_name": "Python 3.8.10 64-bit ('switch_247': conda)"
  },
  "interpreter": {
   "hash": "b5cd7b7571e6318f5fd6adc9cee12d73eccc93ada83e657cc8f1c05b47d15a2e"
  }
 },
 "nbformat": 4,
 "nbformat_minor": 2
}