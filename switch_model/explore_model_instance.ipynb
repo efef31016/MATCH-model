{
 "cells": [
  {
   "cell_type": "markdown",
   "metadata": {},
   "source": [
    "# Explore Model Instance\n",
    "After a model is run, this notebook can be used to explore the model instance and results, if exported as pickle files.\n",
    "\n",
    "To export the model instance as a pickle file, `--save-instance` must be added to `options.txt` (NOTE: this will be a large file!)  \n",
    "Switch will automatically export the model results as a pickle file unless the `--no-save-solution` is specified in `options.txt`  \n",
    "\n",
    "In order to explore duals and reduced costs, `-suffixes dual rc` must be added to `options.txt`"
   ]
  },
  {
   "cell_type": "code",
   "execution_count": null,
   "metadata": {},
   "outputs": [],
   "source": [
    "from pathlib import Path\n",
    "import pickle\n",
    "import cloudpickle\n",
    "import pyomo.environ as pyo\n",
    "import pandas as pd\n",
    "\n",
    "# specify where the pickle file is located\n",
    "model_path = '../MODEL_RUNS/2021_rfo_shapes/outputs/rfo_shape_70/'"
   ]
  },
  {
   "cell_type": "markdown",
   "metadata": {},
   "source": [
    "# Explore Model Instance"
   ]
  },
  {
   "cell_type": "code",
   "execution_count": null,
   "metadata": {},
   "outputs": [],
   "source": [
    "# read instance file\n",
    "with open((Path.cwd() / model_path / 'instance.pickle'), mode='rb') as file:\n",
    "    instance = cloudpickle.load(file)"
   ]
  },
  {
   "cell_type": "code",
   "execution_count": null,
   "metadata": {},
   "outputs": [],
   "source": [
    "len(instance.GENERATION_PROJECTS)"
   ]
  },
  {
   "cell_type": "markdown",
   "metadata": {},
   "source": [
    "## Explore Sets"
   ]
  },
  {
   "cell_type": "code",
   "execution_count": null,
   "metadata": {},
   "outputs": [],
   "source": [
    "i = 0\n",
    "for setobject in instance.component_objects(pyo.Set, active=True):\n",
    "    nametoprint = str(str(setobject.name))\n",
    "    if '_index' in nametoprint:\n",
    "        pass\n",
    "    else:\n",
    "        print (\"Set \", nametoprint)  \n",
    "        i+=1\n",
    "print(f'Total Number of sets: {i}')"
   ]
  },
  {
   "cell_type": "code",
   "execution_count": null,
   "metadata": {},
   "outputs": [],
   "source": [
    "# to examine the set\n",
    "instance.GENS_BY_TECHNOLOGY.pprint()"
   ]
  },
  {
   "cell_type": "markdown",
   "metadata": {},
   "source": [
    "## Explore Parameters, Expressions, and Vars"
   ]
  },
  {
   "cell_type": "code",
   "execution_count": null,
   "metadata": {},
   "outputs": [],
   "source": [
    "for ExpObject in instance.component_objects(pyo.Expression, active=True):\n",
    "    nametoprint = str(str(ExpObject.name))\n",
    "    print (\"Expression \", nametoprint) "
   ]
  },
  {
   "cell_type": "code",
   "execution_count": null,
   "metadata": {},
   "outputs": [],
   "source": [
    "instance.DLAPLoadCostInTP.pprint()"
   ]
  },
  {
   "cell_type": "code",
   "execution_count": null,
   "metadata": {},
   "outputs": [],
   "source": [
    "pyo.value(instance.BuildGen['PVHYBRID_Chaparral_Springs', 2025])"
   ]
  },
  {
   "cell_type": "code",
   "execution_count": null,
   "metadata": {},
   "outputs": [],
   "source": [
    "# print all parameters\n",
    "i=0\n",
    "for parmobject in instance.component_objects(pyo.Param, active=True):\n",
    "    nametoprint = str(str(parmobject.name))\n",
    "    print (\"Parameter \", nametoprint)  \n",
    "    i+=1\n",
    "print(f'Total Number of parameters: {i}')"
   ]
  },
  {
   "cell_type": "code",
   "execution_count": null,
   "metadata": {},
   "outputs": [],
   "source": [
    "instance.add_one_to_period_end.pprint()"
   ]
  },
  {
   "cell_type": "markdown",
   "metadata": {},
   "source": [
    "## Explore Constraints\n",
    "I might not be able to access constraint values: https://stackoverflow.com/questions/50703321/how-to-retrieve-value-of-constraint-from-pyomo"
   ]
  },
  {
   "cell_type": "code",
   "execution_count": null,
   "metadata": {},
   "outputs": [],
   "source": [
    "# list all of the constraints\n",
    "for c in instance.component_objects(pyo.Constraint, active=True):\n",
    "    print (\"Constraint\",c)"
   ]
  },
  {
   "cell_type": "code",
   "execution_count": null,
   "metadata": {},
   "outputs": [],
   "source": [
    "instance.Zone_Energy_Balance.pprint()"
   ]
  },
  {
   "cell_type": "code",
   "execution_count": null,
   "metadata": {},
   "outputs": [],
   "source": [
    "# can get numerical values of single constraint through lower, body, upper\n",
    "c = instance.Zone_Energy_Balance\n",
    "print (\"   Constraint\",c)\n",
    "i = 1\n",
    "for index in c:\n",
    "    if i < 5:\n",
    "        print (\"      \", index, c[index].upper)\n",
    "        i+=1\n",
    "    else:\n",
    "        break"
   ]
  },
  {
   "cell_type": "markdown",
   "metadata": {},
   "source": [
    "## Explore Slack Values"
   ]
  },
  {
   "cell_type": "code",
   "execution_count": null,
   "metadata": {},
   "outputs": [],
   "source": [
    "# https://pyomo.readthedocs.io/en/stable/working_models.html#accessing-slacks\n",
    "\n",
    "c = instance.Zone_Energy_Balance\n",
    "print (\"   Constraint\",c)\n",
    "for index in c:\n",
    "    print (\"      \", index, round(c[index].lslack(),4), round(c[index].uslack(),4))\n"
   ]
  },
  {
   "cell_type": "code",
   "execution_count": null,
   "metadata": {},
   "outputs": [],
   "source": [
    "instance.dual[instance.Zone_Energy_Balance[('DLAPPGAE', 6789)]]"
   ]
  },
  {
   "cell_type": "markdown",
   "metadata": {},
   "source": [
    "# Explore Results"
   ]
  },
  {
   "cell_type": "markdown",
   "metadata": {},
   "source": [
    "The SolverResults object contains four main pieces of data:\n",
    " - Problem\n",
    " - Solver\n",
    " - Solution\n",
    " - Pyomo solve time"
   ]
  },
  {
   "cell_type": "code",
   "execution_count": null,
   "metadata": {},
   "outputs": [],
   "source": [
    "# read results file\n",
    "with open((Path.cwd() / model_path / 'results.pickle'), 'rb') as file:\n",
    "    results = pickle.load(file)\n",
    "\n",
    "print(results.problem)"
   ]
  },
  {
   "cell_type": "code",
   "execution_count": null,
   "metadata": {},
   "outputs": [],
   "source": [
    "print(results.solver)"
   ]
  },
  {
   "cell_type": "code",
   "execution_count": null,
   "metadata": {},
   "outputs": [],
   "source": [
    "print(results.pyomo_solve_time)"
   ]
  },
  {
   "cell_type": "code",
   "execution_count": null,
   "metadata": {},
   "outputs": [],
   "source": [
    "print(results.solution)"
   ]
  },
  {
   "cell_type": "markdown",
   "metadata": {},
   "source": [
    "## Explore Reduced Costs"
   ]
  },
  {
   "cell_type": "code",
   "execution_count": null,
   "metadata": {},
   "outputs": [],
   "source": [
    "variable = 'BuildGen'\n",
    "variable_rc = pd.DataFrame.from_dict(results.solution.Variable, orient='index')\n",
    "variable_rc = variable_rc.reset_index()\n",
    "variable_rc[['Variable','index']] = variable_rc['index'].str.split('[', expand=True)\n",
    "variable_rc['index'] = variable_rc['index'].str.strip(']')\n",
    "\n",
    "variable_rc = variable_rc[['Variable','index','Value','Rc']]\n",
    "\n",
    "variable_rc = variable_rc[variable_rc['Variable'] == variable]\n",
    "\n",
    "# split the index into the load zone and timepoint components\n",
    "variable_rc[['generation_project','period']] = variable_rc['index'].str.split(',', expand=True)\n",
    "variable_rc = variable_rc.drop(columns=['period','index'])\n",
    "\n",
    "\"\"\"\n",
    "# load the variable capacity factor data\n",
    "vcf = pd.read_csv('../MODEL_RUNS/test_PCE/inputs/hourly_90/variable_capacity_factors.csv')\n",
    "\n",
    "# sum capacity factors by generator\n",
    "vcf = vcf.groupby('GENERATION_PROJECT').sum()[['variable_capacity_factor']].reset_index()\n",
    "\n",
    "gen_list = list(variable_rc['generation_project'].unique())\n",
    "\n",
    "for g in gen_list:\n",
    "    variable_rc.loc[variable_rc['generation_project'] == g, 'Rc'] = variable_rc.loc[variable_rc['generation_project'] == g, 'Rc'].item() / vcf.loc[vcf['GENERATION_PROJECT'] == g, 'variable_capacity_factor'].item()\n",
    "\"\"\"\n",
    "variable_rc"
   ]
  },
  {
   "cell_type": "code",
   "execution_count": null,
   "metadata": {},
   "outputs": [],
   "source": [
    "g = 'WAVE_Calwave'\n",
    "variable_rc.loc[variable_rc['generation_project'] == g, 'Rc'].item() / vcf.loc[vcf['GENERATION_PROJECT'] == g, 'variable_capacity_factor'].item()"
   ]
  },
  {
   "cell_type": "code",
   "execution_count": null,
   "metadata": {},
   "outputs": [],
   "source": [
    "variable_rc.loc[variable_rc['generation_project'] == g, 'Rc']"
   ]
  },
  {
   "cell_type": "markdown",
   "metadata": {},
   "source": [
    "## Explore Duals"
   ]
  },
  {
   "cell_type": "code",
   "execution_count": null,
   "metadata": {},
   "outputs": [],
   "source": [
    "# load the duals into a dataframe and reset the index\n",
    "constraint_duals = pd.DataFrame.from_dict(results.solution.Constraint, orient='index')\n",
    "constraint_duals = constraint_duals.reset_index()\n",
    "\n",
    "# split the index into columns for the constraint name and the index value\n",
    "constraint_duals[['Constraint','index']] = constraint_duals['index'].str.split('[', expand=True)\n",
    "#constraint_duals['index'] = '[' + constraint_duals['index']\n",
    "constraint_duals['index'] = constraint_duals['index'].str.strip(']')"
   ]
  },
  {
   "cell_type": "code",
   "execution_count": null,
   "metadata": {},
   "outputs": [],
   "source": [
    "constraint_duals.Constraint.unique()"
   ]
  },
  {
   "cell_type": "code",
   "execution_count": null,
   "metadata": {},
   "outputs": [],
   "source": [
    "constraint = 'MidtermReliabilityRequirement_Constraint'\n",
    "# filter the constraints to the zone energy balance\n",
    "constraint_duals[constraint_duals['Constraint'] == constraint]"
   ]
  },
  {
   "cell_type": "code",
   "execution_count": null,
   "metadata": {},
   "outputs": [],
   "source": [
    "constraint = 'Zone_Energy_Balance'\n",
    "\n",
    "# load the duals into a dataframe and reset the index\n",
    "constraint_duals = pd.DataFrame.from_dict(results.solution.Constraint, orient='index')\n",
    "constraint_duals = constraint_duals.reset_index()\n",
    "\n",
    "# split the index into columns for the constraint name and the index value\n",
    "constraint_duals[['Constraint','index']] = constraint_duals['index'].str.split('[', expand=True)\n",
    "#constraint_duals['index'] = '[' + constraint_duals['index']\n",
    "constraint_duals['index'] = constraint_duals['index'].str.strip(']')\n",
    "\n",
    "# filter the constraints to the zone energy balance\n",
    "constraint_duals = constraint_duals[constraint_duals['Constraint'] == constraint]\n",
    "\n",
    "# split the index into the load zone and timepoint components\n",
    "constraint_duals[['load_zone','timepoint']] = constraint_duals['index'].str.split(',', expand=True)\n",
    "constraint_duals['timepoint'] = constraint_duals['timepoint'].astype(int)\n",
    "constraint_duals = constraint_duals.drop(columns=['index'])\n",
    "\n",
    "# sort the values\n",
    "constraint_duals = constraint_duals.sort_values(by=['load_zone','timepoint'])\n",
    "\n",
    "#re-order columns\n",
    "constraint_duals = constraint_duals[['Constraint', 'load_zone','timepoint','Dual']]\n",
    "\n",
    "\n",
    "constraint_duals"
   ]
  },
  {
   "cell_type": "code",
   "execution_count": null,
   "metadata": {},
   "outputs": [],
   "source": [
    "import plotly.express as px\n",
    "\n",
    "px.line(constraint_duals, x='timepoint', y='Dual')"
   ]
  }
 ],
 "metadata": {
  "interpreter": {
   "hash": "b1778606320a67ef539dd1b715deb330623331b463bae4e93fc5977f8bb68e72"
  },
  "kernelspec": {
   "display_name": "Python 3.8.10 64-bit ('switch_247': conda)",
   "name": "python3"
  },
  "language_info": {
   "codemirror_mode": {
    "name": "ipython",
    "version": 3
   },
   "file_extension": ".py",
   "mimetype": "text/x-python",
   "name": "python",
   "nbconvert_exporter": "python",
   "pygments_lexer": "ipython3",
   "version": "3.8.10"
  },
  "orig_nbformat": 4
 },
 "nbformat": 4,
 "nbformat_minor": 2
}
