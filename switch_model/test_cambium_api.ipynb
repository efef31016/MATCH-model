{
 "cells": [
  {
   "cell_type": "code",
   "execution_count": 1,
   "metadata": {},
   "outputs": [],
   "source": [
    "import requests\n",
    "import pandas as pd\n",
    "import zipfile\n",
    "import os"
   ]
  },
  {
   "cell_type": "code",
   "execution_count": 3,
   "metadata": {},
   "outputs": [],
   "source": [
    "cambium_region_list = ['CAMXc']\n",
    "\n",
    "# specify the file ids for the five scenarios\n",
    "file_ids = [32096,32098,32103,32110,32104]\n",
    "\n",
    "for region in cambium_region_list:\n",
    "    # if data has already been downloaded for this region, remove it from the region list\n",
    "    if os.path.exists(f'../MODEL_RUNS/nrel_cambium_{region}'):\n",
    "        cambium_region_list.remove(region)\n",
    "\n",
    "# if there are no regions in the region list, skip this, otherwise download the data\n",
    "if len(cambium_region_list) > 0:\n",
    "\n",
    "    for file_id in file_ids:\n",
    "\n",
    "        # specify the file information\n",
    "        body = {'project_uuid':'a3e2f719-dd5a-4c3e-9bbf-f24fef563f45', 'file_ids':f'{file_id}'}\n",
    "\n",
    "        # download and save the data to a zip file\n",
    "        with open('../MODEL_RUNS/cambium_download.zip','wb') as output_file:\n",
    "            output_file.write(requests.post('https://cambium.nrel.gov/api/download/', data=body, stream=True).content)\n",
    "\n",
    "        with zipfile.ZipFile('../MODEL_RUNS/cambium_download.zip', 'r') as z:\n",
    "            for file in z.infolist():\n",
    "                for region in cambium_region_list:\n",
    "                    if region in file.filename:\n",
    "                        file.filename = os.path.basename(file.filename)\n",
    "                        z.extract(file, f'../MODEL_RUNS/nrel_cambium_{region}')\n",
    "\n",
    "        # delete the downloaded zip file\n",
    "        os.remove('../MODEL_RUNS/cambium_download.zip')\n",
    "        \n"
   ]
  }
 ],
 "metadata": {
  "interpreter": {
   "hash": "b1778606320a67ef539dd1b715deb330623331b463bae4e93fc5977f8bb68e72"
  },
  "kernelspec": {
   "display_name": "Python 3.8.10 64-bit ('switch_247': conda)",
   "language": "python",
   "name": "python3"
  },
  "language_info": {
   "codemirror_mode": {
    "name": "ipython",
    "version": 3
   },
   "file_extension": ".py",
   "mimetype": "text/x-python",
   "name": "python",
   "nbconvert_exporter": "python",
   "pygments_lexer": "ipython3",
   "version": "3.8.10"
  },
  "orig_nbformat": 4
 },
 "nbformat": 4,
 "nbformat_minor": 2
}
