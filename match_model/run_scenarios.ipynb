{
 "cells": [
  {
   "cell_type": "markdown",
   "metadata": {},
   "source": [
    "This notebook can be used to run the simulation instead of having to type the commands into the command line interface"
   ]
  },
  {
   "cell_type": "code",
   "execution_count": 1,
   "metadata": {},
   "outputs": [],
   "source": [
    "# Copyright (c) 2021 The MATCH Authors. All rights reserved.\n",
    "# Licensed under the Apache License, Version 2.0, which is in the LICENSE file.\n",
    "\n",
    "import multiprocessing as mp\n",
    "import os\n",
    "from pathlib import Path\n",
    "import generate_input_files\n",
    "import shutil\n",
    "import time"
   ]
  },
  {
   "cell_type": "markdown",
   "metadata": {},
   "source": [
    "# Specify the location of your local MODEL_RUNS directory"
   ]
  },
  {
   "cell_type": "code",
   "execution_count": 2,
   "metadata": {},
   "outputs": [],
   "source": [
    "# specify the location of the model runs folder you will be using, relative to the match_model directory\n",
    "# the default location is the MODEL_RUNS directory within the Git repo\n",
    "# however, if you want to save model runs in a alternate location, such as a Box folder, you could use something like:\n",
    "#model_runs_folder = '../../../../Public/MODEL_RUNS'\n",
    "model_runs_folder = '../MODEL_RUNS'\n",
    "\n",
    "# enter the name of the folder within your MODEL_RUNS folder where the input and output files for this specific model run are located\n",
    "model_run_name = 'shortlist_run_9'\n",
    "\n",
    "model_workspace = Path.cwd() / f'{model_runs_folder}/{model_run_name}'"
   ]
  },
  {
   "cell_type": "markdown",
   "metadata": {},
   "source": [
    "# Generate and Validate model inputs\n",
    "\n",
    "The following cell will load all of the input data from the `model_inputs.xlsx` file in your run folder, validate the inputs, and create all of the required input files in the format required by the solver. \n",
    "\n",
    "This cell will perform the following steps:  \n",
    "1. If input files do not yet exist, create them\n",
    "2. If input files exist, check that the current software version matches the version that was used to generate the inputs\n",
    "3. If the versions do not match, re-generate the input files to ensure consistency"
   ]
  },
  {
   "cell_type": "code",
   "execution_count": 3,
   "metadata": {},
   "outputs": [
    {
     "name": "stdout",
     "output_type": "stream",
     "text": [
      "Generating inputs now...\n",
      "Loading data from excel spreadsheet...\n"
     ]
    },
    {
     "name": "stderr",
     "output_type": "stream",
     "text": [
      "C:\\Users\\gmiller\\.conda\\envs\\match_model\\lib\\site-packages\\openpyxl\\worksheet\\_reader.py:312: UserWarning: Data Validation extension is not supported and will be removed\n",
      "  warn(msg)\n"
     ]
    },
    {
     "name": "stdout",
     "output_type": "stream",
     "text": [
      "Writing options.txt...\n",
      "Creating input and output folders for each scenario...\n",
      "Generating capacity factor timeseries for run_5\n",
      "\n",
      "Starting data download for wind using 4 thread workers.\n",
      "File already exists, skipping download: c:\\Users\\gmiller\\GitHub\\SWITCH247\\match_model\\..\\MODEL_RUNS\\shortlist_run_9\\run_5\\PySAM Downloaded Weather Files\\Wind\\windtoolkit_38.1475_-121.8519_60min_80m_2011.srw\n",
      "\n",
      "Starting data download for wind using 4 thread workers.\n",
      "File already exists, skipping download: c:\\Users\\gmiller\\GitHub\\SWITCH247\\match_model\\..\\MODEL_RUNS\\shortlist_run_9\\run_5\\PySAM Downloaded Weather Files\\Wind\\windtoolkit_38.1475_-121.8519_60min_80m_2012.srw\n",
      "\n",
      "Starting data download for wind using 4 thread workers.\n",
      "File already exists, skipping download: c:\\Users\\gmiller\\GitHub\\SWITCH247\\match_model\\..\\MODEL_RUNS\\shortlist_run_9\\run_5\\PySAM Downloaded Weather Files\\Wind\\windtoolkit_38.1475_-121.8519_60min_80m_2013.srw\n",
      "\n",
      "Starting data download for wind using 4 thread workers.\n",
      "File already exists, skipping download: c:\\Users\\gmiller\\GitHub\\SWITCH247\\match_model\\..\\MODEL_RUNS\\shortlist_run_9\\run_5\\PySAM Downloaded Weather Files\\Wind\\windtoolkit_35.240468984662584_-118.23983574846625_60min_80m_2011.srw\n",
      "\n",
      "Starting data download for wind using 4 thread workers.\n",
      "File already exists, skipping download: c:\\Users\\gmiller\\GitHub\\SWITCH247\\match_model\\..\\MODEL_RUNS\\shortlist_run_9\\run_5\\PySAM Downloaded Weather Files\\Wind\\windtoolkit_35.240468984662584_-118.23983574846625_60min_80m_2012.srw\n",
      "\n",
      "Starting data download for wind using 4 thread workers.\n",
      "File already exists, skipping download: c:\\Users\\gmiller\\GitHub\\SWITCH247\\match_model\\..\\MODEL_RUNS\\shortlist_run_9\\run_5\\PySAM Downloaded Weather Files\\Wind\\windtoolkit_35.240468984662584_-118.23983574846625_60min_80m_2013.srw\n",
      "\n",
      "Starting data download for wind using 4 thread workers.\n",
      "File already exists, skipping download: c:\\Users\\gmiller\\GitHub\\SWITCH247\\match_model\\..\\MODEL_RUNS\\shortlist_run_9\\run_5\\PySAM Downloaded Weather Files\\Wind\\windtoolkit_35.07222841_-118.2659675_60min_100m_2011.srw\n",
      "\n",
      "Starting data download for wind using 4 thread workers.\n",
      "File already exists, skipping download: c:\\Users\\gmiller\\GitHub\\SWITCH247\\match_model\\..\\MODEL_RUNS\\shortlist_run_9\\run_5\\PySAM Downloaded Weather Files\\Wind\\windtoolkit_35.07222841_-118.2659675_60min_100m_2012.srw\n",
      "\n",
      "Starting data download for wind using 4 thread workers.\n",
      "File already exists, skipping download: c:\\Users\\gmiller\\GitHub\\SWITCH247\\match_model\\..\\MODEL_RUNS\\shortlist_run_9\\run_5\\PySAM Downloaded Weather Files\\Wind\\windtoolkit_35.07222841_-118.2659675_60min_100m_2013.srw\n",
      "\n",
      "Starting data download for solar using 4 thread workers.\n",
      "File already exists. Skipping download: c:\\Users\\gmiller\\GitHub\\SWITCH247\\match_model\\..\\MODEL_RUNS\\shortlist_run_9\\run_5\\PySAM Downloaded Weather Files\\PV\\nsrdb_36.2327_-119.919_psm3_60_2011.csv\n",
      "\n",
      "Starting data download for solar using 4 thread workers.\n",
      "File already exists. Skipping download: c:\\Users\\gmiller\\GitHub\\SWITCH247\\match_model\\..\\MODEL_RUNS\\shortlist_run_9\\run_5\\PySAM Downloaded Weather Files\\PV\\nsrdb_36.2327_-119.919_psm3_60_2012.csv\n",
      "\n",
      "Starting data download for solar using 4 thread workers.\n",
      "File already exists. Skipping download: c:\\Users\\gmiller\\GitHub\\SWITCH247\\match_model\\..\\MODEL_RUNS\\shortlist_run_9\\run_5\\PySAM Downloaded Weather Files\\PV\\nsrdb_36.2327_-119.919_psm3_60_2013.csv\n",
      "\n",
      "Starting data download for solar using 4 thread workers.\n",
      "File already exists. Skipping download: c:\\Users\\gmiller\\GitHub\\SWITCH247\\match_model\\..\\MODEL_RUNS\\shortlist_run_9\\run_5\\PySAM Downloaded Weather Files\\PV\\nsrdb_37.015_-120.9586_psm3_60_2011.csv\n",
      "\n",
      "Starting data download for solar using 4 thread workers.\n",
      "File already exists. Skipping download: c:\\Users\\gmiller\\GitHub\\SWITCH247\\match_model\\..\\MODEL_RUNS\\shortlist_run_9\\run_5\\PySAM Downloaded Weather Files\\PV\\nsrdb_37.015_-120.9586_psm3_60_2012.csv\n",
      "\n",
      "Starting data download for solar using 4 thread workers.\n",
      "File already exists. Skipping download: c:\\Users\\gmiller\\GitHub\\SWITCH247\\match_model\\..\\MODEL_RUNS\\shortlist_run_9\\run_5\\PySAM Downloaded Weather Files\\PV\\nsrdb_37.015_-120.9586_psm3_60_2013.csv\n",
      "\n",
      "Starting data download for solar using 4 thread workers.\n",
      "File already exists. Skipping download: c:\\Users\\gmiller\\GitHub\\SWITCH247\\match_model\\..\\MODEL_RUNS\\shortlist_run_9\\run_5\\PySAM Downloaded Weather Files\\PV\\nsrdb_34.8707647_-118.3195044_psm3_60_2011.csv\n",
      "File already exists. Skipping download: c:\\Users\\gmiller\\GitHub\\SWITCH247\\match_model\\..\\MODEL_RUNS\\shortlist_run_9\\run_5\\PySAM Downloaded Weather Files\\PV\\nsrdb_33.698958_-115.312892_psm3_60_2011.csv\n",
      "File already exists. Skipping download: c:\\Users\\gmiller\\GitHub\\SWITCH247\\match_model\\..\\MODEL_RUNS\\shortlist_run_9\\run_5\\PySAM Downloaded Weather Files\\PV\\nsrdb_36.3855_-120.2294_psm3_60_2011.csv\n",
      "File already exists. Skipping download: c:\\Users\\gmiller\\GitHub\\SWITCH247\\match_model\\..\\MODEL_RUNS\\shortlist_run_9\\run_5\\PySAM Downloaded Weather Files\\PV\\nsrdb_36.1345_-120.1178_psm3_60_2011.csv\n",
      "File already exists. Skipping download: c:\\Users\\gmiller\\GitHub\\SWITCH247\\match_model\\..\\MODEL_RUNS\\shortlist_run_9\\run_5\\PySAM Downloaded Weather Files\\PV\\nsrdb_36.911894_-120.810111_psm3_60_2011.csvFile already exists. Skipping download: c:\\Users\\gmiller\\GitHub\\SWITCH247\\match_model\\..\\MODEL_RUNS\\shortlist_run_9\\run_5\\PySAM Downloaded Weather Files\\PV\\nsrdb_33.3372_-112.8097_psm3_60_2011.csvFile already exists. Skipping download: c:\\Users\\gmiller\\GitHub\\SWITCH247\\match_model\\..\\MODEL_RUNS\\shortlist_run_9\\run_5\\PySAM Downloaded Weather Files\\PV\\nsrdb_36.603312_-120.388439_psm3_60_2011.csv\n",
      "\n",
      "\n",
      "\n",
      "Starting data download for solar using 4 thread workers.\n",
      "File already exists. Skipping download: c:\\Users\\gmiller\\GitHub\\SWITCH247\\match_model\\..\\MODEL_RUNS\\shortlist_run_9\\run_5\\PySAM Downloaded Weather Files\\PV\\nsrdb_34.8707647_-118.3195044_psm3_60_2012.csv\n",
      "File already exists. Skipping download: c:\\Users\\gmiller\\GitHub\\SWITCH247\\match_model\\..\\MODEL_RUNS\\shortlist_run_9\\run_5\\PySAM Downloaded Weather Files\\PV\\nsrdb_33.698958_-115.312892_psm3_60_2012.csv\n",
      "File already exists. Skipping download: c:\\Users\\gmiller\\GitHub\\SWITCH247\\match_model\\..\\MODEL_RUNS\\shortlist_run_9\\run_5\\PySAM Downloaded Weather Files\\PV\\nsrdb_36.3855_-120.2294_psm3_60_2012.csvFile already exists. Skipping download: c:\\Users\\gmiller\\GitHub\\SWITCH247\\match_model\\..\\MODEL_RUNS\\shortlist_run_9\\run_5\\PySAM Downloaded Weather Files\\PV\\nsrdb_36.1345_-120.1178_psm3_60_2012.csv\n",
      "File already exists. Skipping download: c:\\Users\\gmiller\\GitHub\\SWITCH247\\match_model\\..\\MODEL_RUNS\\shortlist_run_9\\run_5\\PySAM Downloaded Weather Files\\PV\\nsrdb_36.911894_-120.810111_psm3_60_2012.csv\n",
      "\n",
      "File already exists. Skipping download: c:\\Users\\gmiller\\GitHub\\SWITCH247\\match_model\\..\\MODEL_RUNS\\shortlist_run_9\\run_5\\PySAM Downloaded Weather Files\\PV\\nsrdb_33.3372_-112.8097_psm3_60_2012.csv\n",
      "File already exists. Skipping download: c:\\Users\\gmiller\\GitHub\\SWITCH247\\match_model\\..\\MODEL_RUNS\\shortlist_run_9\\run_5\\PySAM Downloaded Weather Files\\PV\\nsrdb_36.603312_-120.388439_psm3_60_2012.csv\n",
      "\n",
      "Starting data download for solar using 4 thread workers.\n",
      "File already exists. Skipping download: c:\\Users\\gmiller\\GitHub\\SWITCH247\\match_model\\..\\MODEL_RUNS\\shortlist_run_9\\run_5\\PySAM Downloaded Weather Files\\PV\\nsrdb_34.8707647_-118.3195044_psm3_60_2013.csv\n",
      "File already exists. Skipping download: c:\\Users\\gmiller\\GitHub\\SWITCH247\\match_model\\..\\MODEL_RUNS\\shortlist_run_9\\run_5\\PySAM Downloaded Weather Files\\PV\\nsrdb_33.698958_-115.312892_psm3_60_2013.csvFile already exists. Skipping download: c:\\Users\\gmiller\\GitHub\\SWITCH247\\match_model\\..\\MODEL_RUNS\\shortlist_run_9\\run_5\\PySAM Downloaded Weather Files\\PV\\nsrdb_36.3855_-120.2294_psm3_60_2013.csv\n",
      "\n",
      "File already exists. Skipping download: c:\\Users\\gmiller\\GitHub\\SWITCH247\\match_model\\..\\MODEL_RUNS\\shortlist_run_9\\run_5\\PySAM Downloaded Weather Files\\PV\\nsrdb_36.1345_-120.1178_psm3_60_2013.csvFile already exists. Skipping download: c:\\Users\\gmiller\\GitHub\\SWITCH247\\match_model\\..\\MODEL_RUNS\\shortlist_run_9\\run_5\\PySAM Downloaded Weather Files\\PV\\nsrdb_36.911894_-120.810111_psm3_60_2013.csv\n",
      "\n",
      "File already exists. Skipping download: c:\\Users\\gmiller\\GitHub\\SWITCH247\\match_model\\..\\MODEL_RUNS\\shortlist_run_9\\run_5\\PySAM Downloaded Weather Files\\PV\\nsrdb_33.3372_-112.8097_psm3_60_2013.csvFile already exists. Skipping download: c:\\Users\\gmiller\\GitHub\\SWITCH247\\match_model\\..\\MODEL_RUNS\\shortlist_run_9\\run_5\\PySAM Downloaded Weather Files\\PV\\nsrdb_36.603312_-120.388439_psm3_60_2013.csv\n",
      "\n",
      "\n",
      "Starting data download for wind using 4 thread workers.\n",
      "File already exists, skipping download: c:\\Users\\gmiller\\GitHub\\SWITCH247\\match_model\\..\\MODEL_RUNS\\shortlist_run_9\\run_5\\PySAM Downloaded Weather Files\\Wind\\windtoolkit_37.047_-121.19_60min_80m_2011.srw\n",
      "\n",
      "Starting data download for wind using 4 thread workers.\n",
      "File already exists, skipping download: c:\\Users\\gmiller\\GitHub\\SWITCH247\\match_model\\..\\MODEL_RUNS\\shortlist_run_9\\run_5\\PySAM Downloaded Weather Files\\Wind\\windtoolkit_37.047_-121.19_60min_80m_2012.srw\n",
      "\n",
      "Starting data download for wind using 4 thread workers.\n",
      "File already exists, skipping download: c:\\Users\\gmiller\\GitHub\\SWITCH247\\match_model\\..\\MODEL_RUNS\\shortlist_run_9\\run_5\\PySAM Downloaded Weather Files\\Wind\\windtoolkit_37.047_-121.19_60min_80m_2013.srw\n",
      "\n",
      "Starting data download for wind using 4 thread workers.\n",
      "File already exists, skipping download: c:\\Users\\gmiller\\GitHub\\SWITCH247\\match_model\\..\\MODEL_RUNS\\shortlist_run_9\\run_5\\PySAM Downloaded Weather Files\\Wind\\windtoolkit_35.11635278_-118.2948889_60min_100m_2011.srw\n",
      "File already exists, skipping download: c:\\Users\\gmiller\\GitHub\\SWITCH247\\match_model\\..\\MODEL_RUNS\\shortlist_run_9\\run_5\\PySAM Downloaded Weather Files\\Wind\\windtoolkit_34.99_-105.37_60min_100m_2011.srw\n",
      "File already exists, skipping download: c:\\Users\\gmiller\\GitHub\\SWITCH247\\match_model\\..\\MODEL_RUNS\\shortlist_run_9\\run_5\\PySAM Downloaded Weather Files\\Wind\\windtoolkit_37.808582_-121.668631_60min_100m_2011.srw\n",
      "\n",
      "Starting data download for wind using 4 thread workers.\n",
      "File already exists, skipping download: c:\\Users\\gmiller\\GitHub\\SWITCH247\\match_model\\..\\MODEL_RUNS\\shortlist_run_9\\run_5\\PySAM Downloaded Weather Files\\Wind\\windtoolkit_35.11635278_-118.2948889_60min_100m_2012.srw\n",
      "File already exists, skipping download: c:\\Users\\gmiller\\GitHub\\SWITCH247\\match_model\\..\\MODEL_RUNS\\shortlist_run_9\\run_5\\PySAM Downloaded Weather Files\\Wind\\windtoolkit_34.99_-105.37_60min_100m_2012.srwFile already exists, skipping download: c:\\Users\\gmiller\\GitHub\\SWITCH247\\match_model\\..\\MODEL_RUNS\\shortlist_run_9\\run_5\\PySAM Downloaded Weather Files\\Wind\\windtoolkit_37.808582_-121.668631_60min_100m_2012.srw\n",
      "\n",
      "\n",
      "Starting data download for wind using 4 thread workers.\n",
      "File already exists, skipping download: c:\\Users\\gmiller\\GitHub\\SWITCH247\\match_model\\..\\MODEL_RUNS\\shortlist_run_9\\run_5\\PySAM Downloaded Weather Files\\Wind\\windtoolkit_35.11635278_-118.2948889_60min_100m_2013.srw\n",
      "File already exists, skipping download: c:\\Users\\gmiller\\GitHub\\SWITCH247\\match_model\\..\\MODEL_RUNS\\shortlist_run_9\\run_5\\PySAM Downloaded Weather Files\\Wind\\windtoolkit_34.99_-105.37_60min_100m_2013.srw\n",
      "File already exists, skipping download: c:\\Users\\gmiller\\GitHub\\SWITCH247\\match_model\\..\\MODEL_RUNS\\shortlist_run_9\\run_5\\PySAM Downloaded Weather Files\\Wind\\windtoolkit_37.808582_-121.668631_60min_100m_2013.srw\n",
      "\n",
      "Starting data download for wind using 4 thread workers.\n",
      "File already exists, skipping download: c:\\Users\\gmiller\\GitHub\\SWITCH247\\match_model\\..\\MODEL_RUNS\\shortlist_run_9\\run_5\\PySAM Downloaded Weather Files\\Wind\\windtoolkit_35.0575_-118.386667_60min_40m_2011.srw\n",
      "\n",
      "Starting data download for wind using 4 thread workers.\n",
      "File already exists, skipping download: c:\\Users\\gmiller\\GitHub\\SWITCH247\\match_model\\..\\MODEL_RUNS\\shortlist_run_9\\run_5\\PySAM Downloaded Weather Files\\Wind\\windtoolkit_35.0575_-118.386667_60min_40m_2012.srw\n",
      "\n",
      "Starting data download for wind using 4 thread workers.\n",
      "File already exists, skipping download: c:\\Users\\gmiller\\GitHub\\SWITCH247\\match_model\\..\\MODEL_RUNS\\shortlist_run_9\\run_5\\PySAM Downloaded Weather Files\\Wind\\windtoolkit_35.0575_-118.386667_60min_40m_2013.srw\n",
      "WARNING: Ciervo_Mountain_Solar nodal revenue greater than PPA cost\n",
      "This may lead to over-procurement of this resource\n",
      "Mean PPA cost = $26.75 per MWh\n",
      "Mean nodal revenue = $38.463 per MWh\n",
      "WARNING: Huaso_Solar nodal revenue greater than PPA cost\n",
      "This may lead to over-procurement of this resource\n",
      "Mean PPA cost = $25.45 per MWh\n",
      "Mean nodal revenue = $38.503 per MWh\n",
      "WARNING: Zeta_Solar nodal revenue greater than PPA cost\n",
      "This may lead to over-procurement of this resource\n",
      "Mean PPA cost = $25.0 per MWh\n",
      "Mean nodal revenue = $38.592 per MWh\n",
      "WARNING: Sun_Streams_Solar nodal revenue greater than PPA cost\n",
      "This may lead to over-procurement of this resource\n",
      "Mean PPA cost = $25.0 per MWh\n",
      "Mean nodal revenue = $27.287 per MWh\n",
      "WARNING: Luna_Valley_Solar nodal revenue greater than PPA cost\n",
      "This may lead to over-procurement of this resource\n",
      "Mean PPA cost = $29.95 per MWh\n",
      "Mean nodal revenue = $36.53 per MWh\n",
      "Writing inputs for tc100_ABB_RA_15pen scenario...\n",
      "Writing inputs for tc100_ABB_RA_NOpen scenario...\n",
      "Writing inputs for tc99_ABB_RA_15pen scenario...\n",
      "Writing inputs for tc99_ABB_RA_NOpen scenario...\n",
      "Writing inputs for tc95_ABB_RA_15pen scenario...\n",
      "Writing inputs for tc95_ABB_RA_NOpen scenario...\n"
     ]
    }
   ],
   "source": [
    "# check if the directory exists\n",
    "if os.path.exists(model_workspace / 'inputs'):\n",
    "    # check that an inputs version file exists\n",
    "    if os.path.exists(model_workspace / 'inputs_version.txt'):\n",
    "        # get the version number\n",
    "        with open(model_workspace / 'inputs_version.txt', 'r') as i:\n",
    "            inputs_version = i.read()\n",
    "        # get the current version number\n",
    "        version_path = Path.cwd() / 'version.py'\n",
    "        version = {}\n",
    "        with open(version_path) as f:\n",
    "            exec(f.read(), version)\n",
    "        version = version['__version__']\n",
    "        # check if the versions match\n",
    "        if version == inputs_version:\n",
    "            print(f'Input files already generated with current software version ({version})')\n",
    "        else:\n",
    "            print(f'Inputs were generated using version {inputs_version}. Current version is {version}')\n",
    "            print('Removing old files and re-generating inputs with current version. Please wait...')\n",
    "            old_files = os.listdir(model_workspace)\n",
    "            old_files.remove('model_inputs.xlsx')\n",
    "            for f in old_files:\n",
    "                try:\n",
    "                    os.remove(model_workspace / f)\n",
    "                except PermissionError:\n",
    "                    shutil.rmtree(model_workspace / f)\n",
    "            generate_input_files.generate_inputs(model_workspace)\n",
    "    else: \n",
    "        generate_input_files.generate_inputs(model_workspace)\n",
    "# if the directory does not exist, generate the input files\n",
    "else:\n",
    "    print('Generating inputs now...')\n",
    "    generate_input_files.generate_inputs(model_workspace)"
   ]
  },
  {
   "cell_type": "markdown",
   "metadata": {},
   "source": [
    "# Solve Model Scenarios"
   ]
  },
  {
   "cell_type": "markdown",
   "metadata": {},
   "source": [
    "### Option 1: Run as many parallel threads as possible\n",
    "\n",
    "If you would like to run as many scenarios in parallel as your machine can support, run the following cell. \n",
    "\n",
    "This will identify how many processor cores (n) exist on your machine, and automatically run (n-1) scenarios (or the total number of scnearios, whichever is less). This should leave at least one core of your machine open for other tasks, but we still recommend that you close all other windows/processes before starting this option."
   ]
  },
  {
   "cell_type": "code",
   "execution_count": null,
   "metadata": {},
   "outputs": [],
   "source": [
    "num_processors = mp.cpu_count()\n",
    "print(f'This machine has {num_processors} CPU cores')\n",
    "# get the number of scenarios to run\n",
    "num_scenarios = len(os.listdir(model_workspace / 'inputs'))\n",
    "print(f'There are {num_scenarios} scenarios to run')\n",
    "# determine how many threads to open\n",
    "parallel_threads = min(num_processors - 1, num_scenarios)\n",
    "print(f'Running {parallel_threads} scenarios in parallel...')\n",
    "i = 0\n",
    "while i < parallel_threads:\n",
    "    os.system(f'start cmd /k \"cd {model_runs_folder}\\{model_run_name} & activate match_model & match solve-scenarios\"') \n",
    "    time.sleep(2)\n",
    "    i += 1\n"
   ]
  },
  {
   "cell_type": "markdown",
   "metadata": {},
   "source": [
    "## Option 2: Start scenarios one at a time\n",
    "\n",
    "If you would like to only open a single solver window, run the following cell. Each time you run the following cell will open a new parallel solver."
   ]
  },
  {
   "cell_type": "code",
   "execution_count": null,
   "metadata": {},
   "outputs": [],
   "source": [
    "os.system(f'start cmd /k \"cd {model_runs_folder}\\{model_run_name} & activate match_model & match solve-scenarios\"') "
   ]
  }
 ],
 "metadata": {
  "interpreter": {
   "hash": "b1778606320a67ef539dd1b715deb330623331b463bae4e93fc5977f8bb68e72"
  },
  "kernelspec": {
   "display_name": "Python 3.8.10 64-bit ('switch_247': conda)",
   "name": "python3"
  },
  "language_info": {
   "codemirror_mode": {
    "name": "ipython",
    "version": 3
   },
   "file_extension": ".py",
   "mimetype": "text/x-python",
   "name": "python",
   "nbconvert_exporter": "python",
   "pygments_lexer": "ipython3",
   "version": "3.9.9"
  },
  "orig_nbformat": 2
 },
 "nbformat": 4,
 "nbformat_minor": 2
}
