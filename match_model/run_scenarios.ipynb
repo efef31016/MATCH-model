{
 "cells": [
  {
   "cell_type": "markdown",
   "metadata": {},
   "source": [
    "This notebook can be used to run the simulation instead of having to type the commands into the command line interface"
   ]
  },
  {
   "cell_type": "code",
   "execution_count": null,
   "metadata": {},
   "outputs": [],
   "source": [
    "# Copyright (c) 2021 The MATCH Authors. All rights reserved.\n",
    "# Licensed under the Apache License, Version 2.0, which is in the LICENSE file.\n",
    "\n",
    "import multiprocessing as mp\n",
    "import os\n",
    "from pathlib import Path\n",
    "import generate_input_files\n",
    "import shutil\n",
    "import time"
   ]
  },
  {
   "cell_type": "markdown",
   "metadata": {},
   "source": [
    "# Specify the location of your local MODEL_RUNS directory"
   ]
  },
  {
   "cell_type": "code",
   "execution_count": null,
   "metadata": {},
   "outputs": [],
   "source": [
    "# specify the location of the model runs folder you will be using, relative to the match_model directory\n",
    "# the default location is the MODEL_RUNS directory within the Git repo\n",
    "# however, if you want to save model runs in a alternate location, such as a Box folder, you could use something like:\n",
    "#model_runs_folder = '../../../Box/Supply/24x7 Time-Coincident Work/MODEL_RUNS'\n",
    "model_runs_folder = '../MODEL_RUNS'\n",
    "\n",
    "# enter the name of the folder within your MODEL_RUNS folder where the input and output files for this specific model run are located\n",
    "model_run_name = 'google_validation_2penalty'\n",
    "\n",
    "model_workspace = Path.cwd() / f'{model_runs_folder}/{model_run_name}'"
   ]
  },
  {
   "cell_type": "markdown",
   "metadata": {},
   "source": [
    "# Generate and Validate model inputs\n",
    "1. If input files do not yet exist, create them\n",
    "2. If input files exist, check that the current software version matches the version that was used to generate the inputs\n",
    "3. If the versions do not match, we need to re-generate the input files to ensure consistency"
   ]
  },
  {
   "cell_type": "code",
   "execution_count": null,
   "metadata": {},
   "outputs": [],
   "source": [
    "# check if the directory exists\n",
    "if os.path.exists(model_workspace / 'inputs'):\n",
    "    # check that an inputs version file exists\n",
    "    if os.path.exists(model_workspace / 'inputs_version.txt'):\n",
    "        # get the version number\n",
    "        with open(model_workspace / 'inputs_version.txt', 'r') as i:\n",
    "            inputs_version = i.read()\n",
    "        # get the current version number\n",
    "        version_path = Path.cwd() / 'version.py'\n",
    "        version = {}\n",
    "        with open(version_path) as f:\n",
    "            exec(f.read(), version)\n",
    "        version = version['__version__']\n",
    "        # check if the versions match\n",
    "        if version == inputs_version:\n",
    "            print(f'Input files already generated with current software version ({version})')\n",
    "        else:\n",
    "            print(f'Inputs were generated using version {inputs_version}. Current version is {version}')\n",
    "            print('Removing old files and re-generating inputs with current version. Please wait...')\n",
    "            old_files = os.listdir(model_workspace)\n",
    "            old_files.remove('model_inputs.xlsx')\n",
    "            for f in old_files:\n",
    "                try:\n",
    "                    os.remove(model_workspace / f)\n",
    "                except PermissionError:\n",
    "                    shutil.rmtree(model_workspace / f)\n",
    "            generate_input_files.generate_inputs(model_workspace)\n",
    "    else: \n",
    "        generate_input_files.generate_inputs(model_workspace)\n",
    "# if the directory does not exist, generate the input files\n",
    "else:\n",
    "    print('Generating inputs now...')\n",
    "    generate_input_files.generate_inputs(model_workspace)"
   ]
  },
  {
   "cell_type": "markdown",
   "metadata": {},
   "source": [
    "# Solve Model Scenarios"
   ]
  },
  {
   "cell_type": "markdown",
   "metadata": {},
   "source": [
    "### Identify the number of CPU cores (processors) that your computer has\n",
    "If you want to solve multiple scenarios in parallel, you should only run n-1 solvers, where n is the number of CPU cores on your machine."
   ]
  },
  {
   "cell_type": "markdown",
   "metadata": {},
   "source": [
    "The following cell will actually run the scenarios. Each time you run the following cell, it will open a new parallel solver window."
   ]
  },
  {
   "cell_type": "code",
   "execution_count": null,
   "metadata": {},
   "outputs": [],
   "source": [
    "os.system(f'start cmd /k \"cd {model_runs_folder}\\{model_run_name} & activate match_model & match solve-scenarios\"') "
   ]
  },
  {
   "cell_type": "markdown",
   "metadata": {},
   "source": [
    "### Run as many parallel threads as possible"
   ]
  },
  {
   "cell_type": "code",
   "execution_count": null,
   "metadata": {},
   "outputs": [],
   "source": [
    "num_processors = mp.cpu_count()\n",
    "print(f'This machine has {num_processors} CPU cores')\n",
    "# get the number of scenarios to run\n",
    "num_scenarios = len(os.listdir(model_workspace / 'inputs'))\n",
    "print(f'There are {num_scenarios} scenarios to run')\n",
    "# determine how many threads to open\n",
    "parallel_threads = min(num_processors - 1, num_scenarios)\n",
    "print(f'Running {parallel_threads} scenarios in parallel...')\n",
    "i = 0\n",
    "while i < parallel_threads:\n",
    "    os.system(f'start cmd /k \"cd {model_runs_folder}\\{model_run_name} & activate match_model & match solve-scenarios\"') \n",
    "    time.sleep(2)\n",
    "    i += 1\n"
   ]
  }
 ],
 "metadata": {
  "interpreter": {
   "hash": "b1778606320a67ef539dd1b715deb330623331b463bae4e93fc5977f8bb68e72"
  },
  "kernelspec": {
   "display_name": "Python 3.8.10 64-bit ('switch_247': conda)",
   "name": "python3"
  },
  "language_info": {
   "codemirror_mode": {
    "name": "ipython",
    "version": 3
   },
   "file_extension": ".py",
   "mimetype": "text/x-python",
   "name": "python",
   "nbconvert_exporter": "python",
   "pygments_lexer": "ipython3",
   "version": "3.9.9"
  },
  "orig_nbformat": 2
 },
 "nbformat": 4,
 "nbformat_minor": 2
}
