{
 "cells": [
  {
   "cell_type": "markdown",
   "metadata": {},
   "source": [
    "# Explore Model Instance\n",
    "After a model is run, this notebook can be used to explore the model instance and results, if exported as pickle files.\n",
    "\n",
    "To export the model instance as a pickle file, `--save-instance` must be added to `options.txt` (NOTE: this will be a large file!)  \n",
    "MATCH will automatically export the model results as a pickle file unless the `--no-save-solution` is specified in `options.txt`  \n",
    "\n",
    "In order to explore duals and reduced costs, `-suffixes dual rc` must be added to `options.txt`"
   ]
  },
  {
   "cell_type": "code",
   "execution_count": null,
   "metadata": {},
   "outputs": [],
   "source": [
    "# Copyright (c) 2022 The MATCH Authors. All rights reserved.\n",
    "# Licensed under the GNU AFFERO GENERAL PUBLIC LICENSE Version 3 (or later), which is in the LICENSE file.\n",
    "\n",
    "from pathlib import Path\n",
    "import pickle\n",
    "import cloudpickle\n",
    "import pyomo.environ as pyo\n",
    "import pandas as pd\n",
    "\n",
    "# specify where the pickle file is located\n",
    "model_path = \"../../MODEL_RUNS/test/outputs/scenario/\"\n",
    "\n"
   ]
  },
  {
   "cell_type": "markdown",
   "metadata": {},
   "source": [
    "# Explore Model Instance"
   ]
  },
  {
   "cell_type": "code",
   "execution_count": null,
   "metadata": {},
   "outputs": [],
   "source": [
    "# read instance file\n",
    "with open((Path.cwd() / model_path / \"instance.pickle\"), mode=\"rb\") as file:\n",
    "    instance = cloudpickle.load(file)\n"
   ]
  },
  {
   "cell_type": "code",
   "execution_count": null,
   "metadata": {},
   "outputs": [],
   "source": [
    "len(instance.GENERATION_PROJECTS)\n"
   ]
  },
  {
   "cell_type": "markdown",
   "metadata": {},
   "source": [
    "## Explore Sets"
   ]
  },
  {
   "cell_type": "code",
   "execution_count": null,
   "metadata": {},
   "outputs": [],
   "source": [
    "i = 0\n",
    "for setobject in instance.component_objects(pyo.Set, active=True):\n",
    "    nametoprint = str(str(setobject.name))\n",
    "    if \"_index\" in nametoprint:\n",
    "        pass\n",
    "    else:\n",
    "        print(\"Set \", nametoprint)\n",
    "        i += 1\n",
    "print(f\"Total Number of sets: {i}\")\n",
    "\n"
   ]
  },
  {
   "cell_type": "code",
   "execution_count": null,
   "metadata": {},
   "outputs": [],
   "source": [
    "# to examine the set\n",
    "instance.VARIANT_GROUPS.pprint()\n"
   ]
  },
  {
   "cell_type": "markdown",
   "metadata": {},
   "source": [
    "## Explore Parameters, Expressions, and Vars"
   ]
  },
  {
   "cell_type": "code",
   "execution_count": null,
   "metadata": {},
   "outputs": [],
   "source": [
    "for ExpObject in instance.component_objects(pyo.Expression, active=True):\n",
    "    nametoprint = str(str(ExpObject.name))\n",
    "    print(\"Expression \", nametoprint)\n",
    "\n"
   ]
  },
  {
   "cell_type": "code",
   "execution_count": null,
   "metadata": {},
   "outputs": [],
   "source": [
    "instance.BuildVariants.pprint()"
   ]
  },
  {
   "cell_type": "code",
   "execution_count": null,
   "metadata": {},
   "outputs": [],
   "source": [
    "instance.BuildGen[\"Luna_Valley_Storage_8hr\", 2025].pprint()"
   ]
  },
  {
   "cell_type": "code",
   "execution_count": null,
   "metadata": {},
   "outputs": [],
   "source": [
    "instance.DispatchUpperLimit[\"Chaparral_Solar\", 37].pprint()"
   ]
  },
  {
   "cell_type": "code",
   "execution_count": null,
   "metadata": {},
   "outputs": [],
   "source": [
    "pyo.value(instance.BuildGen[\"PVHYBRID_Chaparral_Springs\", 2025])"
   ]
  },
  {
   "cell_type": "code",
   "execution_count": null,
   "metadata": {},
   "outputs": [],
   "source": [
    "# print all parameters\n",
    "i = 0\n",
    "for parmobject in instance.component_objects(pyo.Param, active=True):\n",
    "    nametoprint = str(str(parmobject.name))\n",
    "    print(\"Parameter \", nametoprint)\n",
    "    i += 1\n",
    "print(f\"Total Number of parameters: {i}\")\n",
    "\n"
   ]
  },
  {
   "cell_type": "code",
   "execution_count": null,
   "metadata": {},
   "outputs": [],
   "source": [
    "instance.add_one_to_period_end.pprint()\n"
   ]
  },
  {
   "cell_type": "markdown",
   "metadata": {},
   "source": [
    "## Explore Constraints\n",
    "I might not be able to access constraint values: https://stackoverflow.com/questions/50703321/how-to-retrieve-value-of-constraint-from-pyomo"
   ]
  },
  {
   "cell_type": "code",
   "execution_count": null,
   "metadata": {},
   "outputs": [],
   "source": [
    "# list all of the constraints\n",
    "for c in instance.component_objects(pyo.Constraint, active=True):\n",
    "    print(\"Constraint\", c)\n",
    "\n"
   ]
  },
  {
   "cell_type": "code",
   "execution_count": null,
   "metadata": {},
   "outputs": [],
   "source": [
    "instance.BuildVariants_Linking_Constraint.pprint()\n"
   ]
  },
  {
   "cell_type": "code",
   "execution_count": null,
   "metadata": {},
   "outputs": [],
   "source": [
    "instance.Enforce_Single_Project_Variant.pprint()\n"
   ]
  },
  {
   "cell_type": "code",
   "execution_count": null,
   "metadata": {},
   "outputs": [],
   "source": [
    "# can get numerical values of single constraint through lower, body, upper\n",
    "c = instance.Enforce_Dispatch_Upper_Limit\n",
    "print(\"   Constraint\", c)\n",
    "i = 1\n",
    "for index in c:\n",
    "    if i < 5:\n",
    "        print(\"      \", index, c[index].upper)\n",
    "        i += 1\n",
    "    else:\n",
    "        break\n"
   ]
  },
  {
   "cell_type": "markdown",
   "metadata": {},
   "source": [
    "## Explore Slack Values"
   ]
  },
  {
   "cell_type": "code",
   "execution_count": null,
   "metadata": {},
   "outputs": [],
   "source": [
    "# https://pyomo.readthedocs.io/en/stable/working_models.html#accessing-slacks\n",
    "\n",
    "c = instance.Enforce_Single_Project_Variant\n",
    "print(\"   Constraint\", c)\n",
    "for index in c:\n",
    "    print(\"      \", index, round(c[index].lslack(), 4), round(c[index].uslack(), 4))\n"
   ]
  },
  {
   "cell_type": "code",
   "execution_count": null,
   "metadata": {},
   "outputs": [],
   "source": [
    "instance.dual[instance.Zone_Energy_Balance[(\"DLAPPGAE\", 6789)]]\n",
    "\n"
   ]
  },
  {
   "cell_type": "markdown",
   "metadata": {},
   "source": [
    "# Explore Results"
   ]
  },
  {
   "cell_type": "markdown",
   "metadata": {},
   "source": []
  },
  {
   "cell_type": "markdown",
   "metadata": {},
   "source": [
    "The SolverResults object contains four main pieces of data:\n",
    " - Problem\n",
    " - Solver\n",
    " - Solution\n",
    " - Pyomo solve time"
   ]
  },
  {
   "cell_type": "code",
   "execution_count": null,
   "metadata": {},
   "outputs": [],
   "source": [
    "# read results file\n",
    "with open((Path.cwd() / model_path / \"results.pickle\"), \"rb\") as file:\n",
    "    results = pickle.load(file)\n",
    "\n",
    "print(results.problem)\n"
   ]
  },
  {
   "cell_type": "code",
   "execution_count": null,
   "metadata": {},
   "outputs": [],
   "source": [
    "print(results.solver)\n"
   ]
  },
  {
   "cell_type": "code",
   "execution_count": null,
   "metadata": {},
   "outputs": [],
   "source": [
    "print(results.pyomo_solve_time)\n"
   ]
  },
  {
   "cell_type": "code",
   "execution_count": null,
   "metadata": {},
   "outputs": [],
   "source": [
    "print(results.solution)\n"
   ]
  },
  {
   "cell_type": "markdown",
   "metadata": {},
   "source": [
    "## Explore Reduced Costs"
   ]
  },
  {
   "cell_type": "code",
   "execution_count": null,
   "metadata": {},
   "outputs": [],
   "source": [
    "variable = \"BuildGen\"\n",
    "variable_rc = pd.DataFrame.from_dict(results.solution.Variable, orient=\"index\")\n",
    "variable_rc = variable_rc.reset_index()\n",
    "variable_rc[[\"Variable\", \"index\"]] = variable_rc[\"index\"].str.split(\"[\", expand=True)\n",
    "variable_rc[\"index\"] = variable_rc[\"index\"].str.strip(\"]\")\n",
    "\n",
    "variable_rc = variable_rc[[\"Variable\", \"index\", \"Value\", \"Rc\"]]\n",
    "\n",
    "variable_rc = variable_rc[variable_rc[\"Variable\"] == variable]\n",
    "\n",
    "# split the index into the load zone and timepoint components\n",
    "variable_rc[[\"generation_project\", \"period\"]] = variable_rc[\"index\"].str.split(\n",
    "    \",\", expand=True\n",
    ")\n",
    "variable_rc = variable_rc.drop(columns=[\"period\", \"index\"])\n",
    "\n",
    "\n",
    "variable_rc\n"
   ]
  },
  {
   "cell_type": "code",
   "execution_count": null,
   "metadata": {},
   "outputs": [],
   "source": [
    "g = \"WAVE_Calwave\"\n",
    "variable_rc.loc[variable_rc[\"generation_project\"] == g, \"Rc\"].item() / vcf.loc[\n",
    "    vcf[\"GENERATION_PROJECT\"] == g, \"variable_capacity_factor\"\n",
    "].item()\n",
    "\n"
   ]
  },
  {
   "cell_type": "code",
   "execution_count": null,
   "metadata": {},
   "outputs": [],
   "source": [
    "variable_rc.loc[variable_rc[\"generation_project\"] == g, \"Rc\"]\n",
    "\n"
   ]
  },
  {
   "cell_type": "markdown",
   "metadata": {},
   "source": [
    "## Explore Duals"
   ]
  },
  {
   "cell_type": "code",
   "execution_count": null,
   "metadata": {},
   "outputs": [],
   "source": [
    "# load the duals into a dataframe and reset the index\n",
    "constraint_duals = pd.DataFrame.from_dict(results.solution.Constraint, orient=\"index\")\n",
    "constraint_duals = constraint_duals.reset_index()\n",
    "\n",
    "# split the index into columns for the constraint name and the index value\n",
    "constraint_duals[[\"Constraint\", \"index\"]] = constraint_duals[\"index\"].str.split(\n",
    "    \"[\", expand=True\n",
    ")\n",
    "# constraint_duals['index'] = '[' + constraint_duals['index']\n",
    "constraint_duals[\"index\"] = constraint_duals[\"index\"].str.strip(\"]\")\n",
    "\n"
   ]
  },
  {
   "cell_type": "code",
   "execution_count": null,
   "metadata": {},
   "outputs": [],
   "source": [
    "constraint_duals.Constraint.unique()\n"
   ]
  },
  {
   "cell_type": "code",
   "execution_count": null,
   "metadata": {},
   "outputs": [],
   "source": [
    "constraint = \"MidtermReliabilityRequirement_Constraint\"\n",
    "# filter the constraints to the zone energy balance\n",
    "constraint_duals[constraint_duals[\"Constraint\"] == constraint]\n",
    "\n"
   ]
  },
  {
   "cell_type": "code",
   "execution_count": null,
   "metadata": {},
   "outputs": [],
   "source": [
    "constraint = \"Zone_Energy_Balance\"\n",
    "\n",
    "# load the duals into a dataframe and reset the index\n",
    "constraint_duals = pd.DataFrame.from_dict(results.solution.Constraint, orient=\"index\")\n",
    "constraint_duals = constraint_duals.reset_index()\n",
    "\n",
    "# split the index into columns for the constraint name and the index value\n",
    "constraint_duals[[\"Constraint\", \"index\"]] = constraint_duals[\"index\"].str.split(\n",
    "    \"[\", expand=True\n",
    ")\n",
    "# constraint_duals['index'] = '[' + constraint_duals['index']\n",
    "constraint_duals[\"index\"] = constraint_duals[\"index\"].str.strip(\"]\")\n",
    "\n",
    "# filter the constraints to the zone energy balance\n",
    "constraint_duals = constraint_duals[constraint_duals[\"Constraint\"] == constraint]\n",
    "\n",
    "# split the index into the load zone and timepoint components\n",
    "constraint_duals[[\"load_zone\", \"timepoint\"]] = constraint_duals[\"index\"].str.split(\n",
    "    \",\", expand=True\n",
    ")\n",
    "constraint_duals[\"timepoint\"] = constraint_duals[\"timepoint\"].astype(int)\n",
    "constraint_duals = constraint_duals.drop(columns=[\"index\"])\n",
    "\n",
    "# sort the values\n",
    "constraint_duals = constraint_duals.sort_values(by=[\"load_zone\", \"timepoint\"])\n",
    "\n",
    "# re-order columns\n",
    "constraint_duals = constraint_duals[[\"Constraint\", \"load_zone\", \"timepoint\", \"Dual\"]]\n",
    "\n",
    "\n",
    "constraint_duals\n"
   ]
  },
  {
   "cell_type": "code",
   "execution_count": null,
   "metadata": {},
   "outputs": [],
   "source": [
    "import plotly.express as px\n",
    "\n",
    "px.line(constraint_duals, x=\"timepoint\", y=\"Dual\")\n",
    "\n"
   ]
  }
 ],
 "metadata": {
  "kernelspec": {
   "display_name": "Python 3.10.2 ('match_model')",
   "language": "python",
   "name": "python3"
  },
  "language_info": {
   "codemirror_mode": {
    "name": "ipython",
    "version": 3
   },
   "file_extension": ".py",
   "mimetype": "text/x-python",
   "name": "python",
   "nbconvert_exporter": "python",
   "pygments_lexer": "ipython3",
   "version": "3.10.2"
  },
  "orig_nbformat": 4,
  "vscode": {
   "interpreter": {
    "hash": "f6c125439857860eaf254bec4650507667fadd3cebea2270ab1ea62ae354b994"
   }
  }
 },
 "nbformat": 4,
 "nbformat_minor": 2
}
