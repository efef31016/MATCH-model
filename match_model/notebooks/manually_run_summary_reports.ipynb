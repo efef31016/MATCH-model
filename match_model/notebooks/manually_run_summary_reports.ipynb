{
 "cells": [
  {
   "cell_type": "code",
   "execution_count": 1,
   "metadata": {},
   "outputs": [],
   "source": [
    "# Copyright (c) 2021 The MATCH Authors. All rights reserved.\n",
    "# Licensed under the Apache License, Version 2.0, which is in the LICENSE file.\n",
    "\n",
    "from msilib.schema import File\n",
    "import os\n",
    "import shutil\n",
    "import pandas as pd"
   ]
  },
  {
   "cell_type": "markdown",
   "metadata": {},
   "source": [
    "## Specify the filepath of the model run folder"
   ]
  },
  {
   "cell_type": "code",
   "execution_count": 2,
   "metadata": {},
   "outputs": [],
   "source": [
    "model_run_folder = '../../../../../Public/MODEL_RUNS/247_Ascend_run_3'\n",
    "#model_run_folder = '../../MODEL_RUNS/test'"
   ]
  },
  {
   "cell_type": "markdown",
   "metadata": {},
   "source": [
    "## Run summary reports for all scenarios\n",
    "This is useful if you want to re-run all of the summary reports for a completed model run using an updated summary report template. This will also generate the scenario comparison table."
   ]
  },
  {
   "cell_type": "code",
   "execution_count": 3,
   "metadata": {},
   "outputs": [
    {
     "name": "stdout",
     "output_type": "stream",
     "text": [
      "Annual100\n",
      "Annual100_2025\n",
      "BAU\n",
      "TC100\n",
      "TC100_2025\n",
      "TC90\n",
      "TC90_2025\n",
      "TC95\n",
      "TC95_2025\n",
      "TC99\n",
      "TC99_2025\n"
     ]
    }
   ],
   "source": [
    "# get a list of all scenarios\n",
    "scenarios = os.listdir(f'{model_run_folder}/outputs')\n",
    "\n",
    "for scenario in scenarios:\n",
    "    inputs_dir = f'{model_run_folder}/inputs/{scenario}'\n",
    "    outdir = f'{model_run_folder}/outputs/{scenario}'\n",
    "    print(scenario)\n",
    "\n",
    "    shutil.copy('../reporting/summary_report.ipynb', inputs_dir)\n",
    "\n",
    "    # run the notebook\n",
    "    os.system(f'jupyter nbconvert --ExecutePreprocessor.kernel_name=\"python3\" --to notebook --execute --inplace {inputs_dir}/summary_report.ipynb')\n",
    "    # convert the notebook to html and save it to the output directory\n",
    "    os.system(f'jupyter nbconvert --to html --no-input --no-prompt {inputs_dir}/summary_report.ipynb --output-dir {outdir}/../../summary_reports --output summary_report_{scenario}')\n",
    "    # delete the notebook from the inputs directory\n",
    "    os.remove(f'{inputs_dir}/summary_report.ipynb')\n",
    "\n",
    "\n",
    "i = 0\n",
    "for s in scenarios:\n",
    "    summary_file = f'{model_run_folder}/summary_reports/scenario_summary_{s}.csv'\n",
    "    capacity_file = f'{model_run_folder}/outputs/{s}/gen_cap.csv'\n",
    "\n",
    "    if i == 0:\n",
    "        summary_df = pd.read_csv(summary_file, index_col=0)\n",
    "        capacity_df = pd.read_csv(capacity_file, usecols=['generation_project','gen_tech','GenCapacity']).rename(columns={'GenCapacity':s})\n",
    "\n",
    "        i += 1\n",
    "    else:\n",
    "        summary_df2 = pd.read_csv(summary_file, index_col=0)\n",
    "        summary_df = summary_df.merge(summary_df2, how='outer', left_index=True, right_index=True)\n",
    "\n",
    "        capacity_df2 = pd.read_csv(capacity_file, usecols=['generation_project','GenCapacity']).rename(columns={'GenCapacity':s})\n",
    "        capacity_df = capacity_df.merge(capacity_df2, how='outer', on='generation_project')\n",
    "\n",
    "summary_df.to_csv(f'{model_run_folder}/summary_reports/scenario_comparison.csv', header=False)\n",
    "capacity_df.to_csv(f'{model_run_folder}/summary_reports/portfolio_comparison.csv', index=False)\n",
    "\n",
    "# delete all of the individual files\n",
    "for s in scenarios:\n",
    "    summary_file = f'{model_run_folder}/summary_reports/scenario_summary_{s}.csv'\n",
    "    os.remove(summary_file)"
   ]
  },
  {
   "cell_type": "markdown",
   "metadata": {},
   "source": [
    "# Run the summary report for a single scenario\n",
    "This is useful to test run a single summary report"
   ]
  },
  {
   "cell_type": "code",
   "execution_count": null,
   "metadata": {},
   "outputs": [],
   "source": [
    "# Specify the name of the scenario\n",
    "#############################################\n",
    "scenario = 'Emissions_HighSCC_HighRECost'\n",
    "#############################################\n",
    "\n",
    "\n",
    "inputs_dir = f'{model_run_folder}/inputs/{scenario}'\n",
    "outdir = f'{model_run_folder}/outputs/{scenario}'\n",
    "print(scenario)\n",
    "\n",
    "shutil.copy('../reporting/summary_report.ipynb', inputs_dir)\n",
    "\n",
    "# run the notebook\n",
    "os.system(f'jupyter nbconvert --ExecutePreprocessor.kernel_name=\"python3\" --to notebook --execute --inplace {inputs_dir}/summary_report.ipynb')\n",
    "# convert the notebook to html and save it to the output directory\n",
    "os.system(f'jupyter nbconvert --to html --no-input --no-prompt {inputs_dir}/summary_report.ipynb --output-dir {outdir}/../../summary_reports --output summary_report_{scenario}')\n",
    "# delete the notebook from the inputs directory\n",
    "os.remove(f'{inputs_dir}/summary_report.ipynb')"
   ]
  },
  {
   "cell_type": "markdown",
   "metadata": {},
   "source": [
    "## Run summary reports for only the scenarios where the report didn't complete\n",
    "If certain summary report notebooks did not complete while running multiple scenarios, this will identify which ones were unsuccessful and re-run them. This will also then generate the scenario comparison table"
   ]
  },
  {
   "cell_type": "code",
   "execution_count": null,
   "metadata": {},
   "outputs": [],
   "source": [
    "# get a list of all scenarios\n",
    "scenarios = os.listdir(f'{model_run_folder}/outputs')\n",
    "\n",
    "# get a list of all scenarios that don't have a scenario summary csv\n",
    "completed_scenarios = []\n",
    "for file in os.listdir(f'{model_run_folder}/summary_reports'):\n",
    "    if file.endswith('.csv'):\n",
    "        scenario_name = file.replace('scenario_summary_','').replace('.csv','')\n",
    "        completed_scenarios.append(scenario_name)\n",
    "\n",
    "# get a list of all scenarios that need to be run\n",
    "scenarios_to_run = [s for s in scenarios if s not in completed_scenarios]\n",
    "\n",
    "for scenario in scenarios_to_run:\n",
    "    inputs_dir = f'{model_run_folder}/inputs/{scenario}'\n",
    "    outdir = f'{model_run_folder}/outputs/{scenario}'\n",
    "    print(scenario)\n",
    "\n",
    "    shutil.copy('../reporting/summary_report.ipynb', inputs_dir)\n",
    "\n",
    "    # run the notebook\n",
    "    os.system(f'jupyter nbconvert --ExecutePreprocessor.kernel_name=\"python3\" --to notebook --execute --inplace {inputs_dir}/summary_report.ipynb')\n",
    "    # convert the notebook to html and save it to the output directory\n",
    "    os.system(f'jupyter nbconvert --to html --no-input --no-prompt {inputs_dir}/summary_report.ipynb --output-dir {outdir}/../../summary_reports --output summary_report_{scenario}')\n",
    "    # delete the notebook from the inputs directory\n",
    "    os.remove(f'{inputs_dir}/summary_report.ipynb')\n",
    "\n",
    "i = 0\n",
    "for s in scenarios:\n",
    "    summary_file = f'{model_run_folder}/summary_reports/scenario_summary_{s}.csv'\n",
    "    capacity_file = f'{model_run_folder}/outputs/{s}/gen_cap.csv'\n",
    "\n",
    "    if i == 0:\n",
    "        summary_df = pd.read_csv(summary_file, index_col=0)\n",
    "        capacity_df = pd.read_csv(capacity_file, usecols=['generation_project','gen_tech','GenCapacity']).rename(columns={'GenCapacity':s})\n",
    "\n",
    "        i += 1\n",
    "    else:\n",
    "        summary_df2 = pd.read_csv(summary_file, index_col=0)\n",
    "        summary_df = summary_df.merge(summary_df2, how='outer', left_index=True, right_index=True)\n",
    "\n",
    "\n",
    "        capacity_df2 = pd.read_csv(capacity_file, usecols=['generation_project','GenCapacity']).rename(columns={'GenCapacity':s})\n",
    "        capacity_df = capacity_df.merge(capacity_df2, how='outer', on='generation_project')\n",
    "\n",
    "summary_df.to_csv(f'{model_run_folder}/summary_reports/scenario_comparison.csv', header=False)\n",
    "capacity_df.to_csv(f'{model_run_folder}/summary_reports/portfolio_comparison.csv', index=False)\n",
    "\n",
    "# delete all of the individual files\n",
    "for s in scenarios:\n",
    "    summary_file = f'{model_run_folder}/summary_reports/scenario_summary_{s}.csv'\n",
    "    os.remove(summary_file)"
   ]
  }
 ],
 "metadata": {
  "interpreter": {
   "hash": "a153f6aa84c601fa5874f4a8a36cdd878fa064b87069149b95575b756f5caf23"
  },
  "kernelspec": {
   "display_name": "Python 3.9.9 ('match_model')",
   "language": "python",
   "name": "python3"
  },
  "language_info": {
   "codemirror_mode": {
    "name": "ipython",
    "version": 3
   },
   "file_extension": ".py",
   "mimetype": "text/x-python",
   "name": "python",
   "nbconvert_exporter": "python",
   "pygments_lexer": "ipython3",
   "version": "3.9.10"
  },
  "orig_nbformat": 4
 },
 "nbformat": 4,
 "nbformat_minor": 2
}
