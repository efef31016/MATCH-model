{
 "cells": [
  {
   "cell_type": "markdown",
   "metadata": {},
   "source": [
    "This notebook can be used to run the simulation instead of having to type the commands into the command line interface"
   ]
  },
  {
   "cell_type": "code",
   "execution_count": 1,
   "metadata": {},
   "outputs": [
    {
     "name": "stdout",
     "output_type": "stream",
     "text": [
      "Setting up model directory...\n",
      "Copying CBC solver to model run directory...\n",
      "Loading data from model_inputs.xlsx\n"
     ]
    },
    {
     "name": "stderr",
     "output_type": "stream",
     "text": [
      "C:\\Users\\jiao\\Desktop\\TIoCS\\MATCH-model-master\\MATCH-model\\match_model\\generate_input_files.py:537: FutureWarning: Setting an item of incompatible dtype is deprecated and will raise in a future error of pandas. Value '[0.9801495 0.995    ]' has dtype incompatible with int64, please explicitly cast to a compatible dtype first.\n",
      "  xl_gen.loc[xl_gen[\"gen_tech\"] == \"Solar_PV\", \"solar_age_degredation\"] = (\n",
      "C:\\Users\\jiao\\Desktop\\TIoCS\\MATCH-model-master\\MATCH-model\\match_model\\generate_input_files.py:304: FutureWarning: The behavior of DataFrame concatenation with empty or all-NA entries is deprecated. In a future version, this will no longer exclude empty or all-NA columns when determining the result dtypes. To retain the old behavior, exclude the relevant entries before the concat operation.\n",
      "  levelized_lrmers = pd.concat([levelized_lrmers, region_data], axis=0)\n"
     ]
    },
    {
     "name": "stdout",
     "output_type": "stream",
     "text": [
      "Generating capacity factor timeseries for set_1\n",
      "{'Resource': {'resource_height': 100}, 'Turbine': {'wind_resource_shear': 0.15, 'wind_turbine_hub_ht': 94}, 'Powercurve': {'turbine_size': 3450, 'rotor_diameter': 112, 'max_cp': 0.45, 'max_tip_speed': 80, 'max_tip_sp_ratio': 8, 'cut_in': 3, 'cut_out': 25, 'drive_train': 0}, 'Losses': {'avail_bop_loss': 0, 'avail_grid_loss': 0, 'avail_turb_loss': 0, 'ops_env_loss': 0, 'ops_grid_loss': 0, 'ops_load_loss': 0, 'ops_strategies_loss': 0}, 'Farm': {'system_capacity': 3450, 'wind_farm_xCoordinates': [0], 'wind_farm_yCoordinates': [0]}}\n",
      "====================================================================================================\n",
      "Year,Month,Day,Hour,Minute,wind speed at 100m (m/s),wind direction at 100m (deg),air temperature at 100m (C),air pressure at 100m (Pa)\n",
      "['2012', '1', '1', '0', '30', '7.48', '36.88', '15.370000000000001', '89390']\n",
      "['2012', '1', '1', '2', '30', '8.45', '36.03', '15.43', '89380']\n",
      "{'heights': [2012.0, 1.0, 1.0, 2.0, 30.0, 8.45, 36.03, 15.43, 89380.0], 'fields': []}\n",
      "====================================================================================================\n",
      "['2012', '1', '1', '0', '30', '7.48', '36.88', '15.370000000000001', '89390']\n",
      "2012\n"
     ]
    },
    {
     "ename": "ValueError",
     "evalue": "2012 required for wind data",
     "output_type": "error",
     "traceback": [
      "\u001b[1;31m---------------------------------------------------------------------------\u001b[0m",
      "\u001b[1;31mValueError\u001b[0m                                Traceback (most recent call last)",
      "Cell \u001b[1;32mIn[1], line 62\u001b[0m\n\u001b[0;32m     60\u001b[0m             generate_input_files\u001b[38;5;241m.\u001b[39mgenerate_inputs(model_workspace)\n\u001b[0;32m     61\u001b[0m     \u001b[38;5;28;01melse\u001b[39;00m:\n\u001b[1;32m---> 62\u001b[0m         \u001b[43mgenerate_input_files\u001b[49m\u001b[38;5;241;43m.\u001b[39;49m\u001b[43mgenerate_inputs\u001b[49m\u001b[43m(\u001b[49m\u001b[43mmodel_workspace\u001b[49m\u001b[43m)\u001b[49m\n\u001b[0;32m     63\u001b[0m \u001b[38;5;66;03m# if the directory does not exist, generate the input files\u001b[39;00m\n\u001b[0;32m     64\u001b[0m \u001b[38;5;28;01melse\u001b[39;00m:\n\u001b[0;32m     65\u001b[0m     \u001b[38;5;28mprint\u001b[39m(\u001b[38;5;124m\"\u001b[39m\u001b[38;5;124mGenerating inputs now...\u001b[39m\u001b[38;5;124m\"\u001b[39m)\n",
      "File \u001b[1;32m~\\Desktop\\TIoCS\\MATCH-model-master\\MATCH-model\\match_model\\generate_input_files.py:862\u001b[0m, in \u001b[0;36mgenerate_inputs\u001b[1;34m(model_workspace)\u001b[0m\n\u001b[0;32m    856\u001b[0m     df_vcf \u001b[38;5;241m=\u001b[39m df_vcf\u001b[38;5;241m.\u001b[39mmerge(\n\u001b[0;32m    857\u001b[0m         csp_vcf, how\u001b[38;5;241m=\u001b[39m\u001b[38;5;124m\"\u001b[39m\u001b[38;5;124mleft\u001b[39m\u001b[38;5;124m\"\u001b[39m, left_index\u001b[38;5;241m=\u001b[39m\u001b[38;5;28;01mTrue\u001b[39;00m, right_index\u001b[38;5;241m=\u001b[39m\u001b[38;5;28;01mTrue\u001b[39;00m\n\u001b[0;32m    858\u001b[0m     )\n\u001b[0;32m    860\u001b[0m \u001b[38;5;28;01melif\u001b[39;00m sam_function \u001b[38;5;241m==\u001b[39m \u001b[38;5;124m\"\u001b[39m\u001b[38;5;124mwindpower\u001b[39m\u001b[38;5;124m\"\u001b[39m:\n\u001b[0;32m    861\u001b[0m     \u001b[38;5;66;03m# run PySAM to simulate the solar outputs\u001b[39;00m\n\u001b[1;32m--> 862\u001b[0m     wind_vcf \u001b[38;5;241m=\u001b[39m \u001b[43msimulate_wind_generation\u001b[49m\u001b[43m(\u001b[49m\n\u001b[0;32m    863\u001b[0m \u001b[43m        \u001b[49m\u001b[43mnrel_api_key\u001b[49m\u001b[43m,\u001b[49m\n\u001b[0;32m    864\u001b[0m \u001b[43m        \u001b[49m\u001b[43mnrel_api_email\u001b[49m\u001b[43m,\u001b[49m\n\u001b[0;32m    865\u001b[0m \u001b[43m        \u001b[49m\u001b[43mresource_dict\u001b[49m\u001b[43m,\u001b[49m\n\u001b[0;32m    866\u001b[0m \u001b[43m        \u001b[49m\u001b[43mconfig_dict\u001b[49m\u001b[43m,\u001b[49m\n\u001b[0;32m    867\u001b[0m \u001b[43m        \u001b[49m\u001b[43mresource_years\u001b[49m\u001b[43m,\u001b[49m\n\u001b[0;32m    868\u001b[0m \u001b[43m        \u001b[49m\u001b[43mpysam_dir\u001b[49m\u001b[43m,\u001b[49m\n\u001b[0;32m    869\u001b[0m \u001b[43m        \u001b[49m\u001b[43mtz_offset\u001b[49m\u001b[43m,\u001b[49m\n\u001b[0;32m    870\u001b[0m \u001b[43m    \u001b[49m\u001b[43m)\u001b[49m\n\u001b[0;32m    872\u001b[0m     \u001b[38;5;66;03m# add the data to the dataframe\u001b[39;00m\n\u001b[0;32m    873\u001b[0m     df_vcf \u001b[38;5;241m=\u001b[39m df_vcf\u001b[38;5;241m.\u001b[39mmerge(\n\u001b[0;32m    874\u001b[0m         wind_vcf, how\u001b[38;5;241m=\u001b[39m\u001b[38;5;124m\"\u001b[39m\u001b[38;5;124mleft\u001b[39m\u001b[38;5;124m\"\u001b[39m, left_index\u001b[38;5;241m=\u001b[39m\u001b[38;5;28;01mTrue\u001b[39;00m, right_index\u001b[38;5;241m=\u001b[39m\u001b[38;5;28;01mTrue\u001b[39;00m\n\u001b[0;32m    875\u001b[0m     )\n",
      "File \u001b[1;32m~\\Desktop\\TIoCS\\MATCH-model-master\\MATCH-model\\match_model\\generate_input_files.py:1645\u001b[0m, in \u001b[0;36msimulate_wind_generation\u001b[1;34m(nrel_api_key, nrel_api_email, resource_dict, config_dict, resource_years, input_dir, tz_offset)\u001b[0m\n\u001b[0;32m   1641\u001b[0m wtk_path_dict \u001b[38;5;241m=\u001b[39m wtkfetcher\u001b[38;5;241m.\u001b[39mresource_file_paths_dict\n\u001b[0;32m   1643\u001b[0m \u001b[38;5;28;01mfor\u001b[39;00m filename \u001b[38;5;129;01min\u001b[39;00m wtk_path_dict:\n\u001b[1;32m-> 1645\u001b[0m     windResource \u001b[38;5;241m=\u001b[39m \u001b[43mtools\u001b[49m\u001b[38;5;241;43m.\u001b[39;49m\u001b[43mSRW_to_wind_data\u001b[49m\u001b[43m(\u001b[49m\u001b[43mwtk_path_dict\u001b[49m\u001b[43m[\u001b[49m\u001b[43mfilename\u001b[49m\u001b[43m]\u001b[49m\u001b[43m)\u001b[49m\n\u001b[0;32m   1646\u001b[0m     \u001b[38;5;66;03m# windResource = pd.read_csv(wtk_path_dict[filename])\u001b[39;00m\n\u001b[0;32m   1647\u001b[0m \n\u001b[0;32m   1648\u001b[0m     \u001b[38;5;66;03m# assign the wind resource input data to the model\u001b[39;00m\n\u001b[0;32m   1649\u001b[0m     system_model_wind\u001b[38;5;241m.\u001b[39mResource\u001b[38;5;241m.\u001b[39mwind_resource_data \u001b[38;5;241m=\u001b[39m windResource\n",
      "File \u001b[1;32mc:\\Users\\jiao\\anaconda3\\envs\\match_model\\lib\\site-packages\\PySAM\\ResourceTools.py:140\u001b[0m, in \u001b[0;36mSRW_to_wind_data\u001b[1;34m(filename)\u001b[0m\n\u001b[0;32m    138\u001b[0m     \u001b[38;5;28mprint\u001b[39m(field_name)\n\u001b[0;32m    139\u001b[0m     \u001b[38;5;28;01mif\u001b[39;00m field_name\u001b[38;5;241m.\u001b[39mlower() \u001b[38;5;129;01mnot\u001b[39;00m \u001b[38;5;129;01min\u001b[39;00m field_names:\n\u001b[1;32m--> 140\u001b[0m         \u001b[38;5;28;01mraise\u001b[39;00m \u001b[38;5;167;01mValueError\u001b[39;00m(field_name\u001b[38;5;241m.\u001b[39mlower() \u001b[38;5;241m+\u001b[39m \u001b[38;5;124m\"\u001b[39m\u001b[38;5;124m required for wind data\u001b[39m\u001b[38;5;124m\"\u001b[39m)\n\u001b[0;32m    141\u001b[0m     data_dict[\u001b[38;5;124m'\u001b[39m\u001b[38;5;124mfields\u001b[39m\u001b[38;5;124m'\u001b[39m]\u001b[38;5;241m.\u001b[39mappend(field_names\u001b[38;5;241m.\u001b[39mindex(field_name\u001b[38;5;241m.\u001b[39mlower()) \u001b[38;5;241m+\u001b[39m \u001b[38;5;241m1\u001b[39m)\n\u001b[0;32m    143\u001b[0m data_dict[\u001b[38;5;124m'\u001b[39m\u001b[38;5;124mdata\u001b[39m\u001b[38;5;124m'\u001b[39m] \u001b[38;5;241m=\u001b[39m []\n",
      "\u001b[1;31mValueError\u001b[0m: 2012 required for wind data"
     ]
    }
   ],
   "source": [
    "# Copyright (c) 2022 The MATCH Authors. All rights reserved.\n",
    "# Licensed under the GNU AFFERO GENERAL PUBLIC LICENSE Version 3 (or later), which is in the LICENSE file.\n",
    "\n",
    "import multiprocessing as mp\n",
    "import os, sys\n",
    "sys.path.append(r'C:\\Users\\jiao\\Desktop\\TIoCS\\MATCH-model-master\\MATCH-model\\match_model')\n",
    "import generate_input_files\n",
    "import shutil\n",
    "import time\n",
    "from pathlib import Path\n",
    "\n",
    "########################################################################\n",
    "model_run_location = r\"C:\\Users\\jiao\\Desktop\\TIoCS\\MATCH-model-master\\MATCH-model\\MODEL_RUNS\\example\"\n",
    "########################################################################\n",
    "\n",
    "# ensure that the filepath string uses forward slashes rather than backslashes\n",
    "model_run_location = model_run_location.replace(\"\\\\\", \"/\")\n",
    "\n",
    "# if the location is a relative filepath\n",
    "if \"../\" in model_run_location:\n",
    "    model_workspace = Path.cwd() / model_run_location\n",
    "# otherwise if it is an absoluate filepaht\n",
    "elif \":/\" in model_run_location:\n",
    "    model_workspace = Path(model_run_location)\n",
    "\n",
    "\n",
    "# 提高效率的 if...else...，對結果沒有影響，因為在執行 generate_input_files.generate_inputs 後會把原始資料存到某些模型吃到的位置，若執行過不用再抓一次原始資料\n",
    "# check if the directory exists\n",
    "if os.path.exists(model_workspace / \"inputs\"):\n",
    "    # check that an inputs version file exists\n",
    "    if os.path.exists(model_workspace / \"inputs_version.txt\"):\n",
    "        # get the version number\n",
    "        with open(model_workspace / \"inputs_version.txt\", \"r\") as i:\n",
    "            inputs_version = i.read()\n",
    "        # get the current version number\n",
    "        version_path = Path.cwd() / \"version.py\"\n",
    "        version = {}\n",
    "        with open(version_path) as f:\n",
    "            exec(f.read(), version)\n",
    "        version = version[\"__version__\"]\n",
    "        # check if the versions match\n",
    "        if version == inputs_version:\n",
    "            print(\n",
    "                f\"Input files already generated with current software version ({version})\"\n",
    "            )\n",
    "        else:\n",
    "            print(\n",
    "                f\"Inputs were generated using version {inputs_version}. Current version is {version}\"\n",
    "            )\n",
    "            print(\n",
    "                \"Removing old files and re-generating inputs with current version. Please wait...\"\n",
    "            )\n",
    "            old_files = os.listdir(model_workspace)\n",
    "            old_files.remove(\"model_inputs.xlsx\")\n",
    "            for f in old_files:\n",
    "                try:\n",
    "                    os.remove(model_workspace / f)\n",
    "                except PermissionError:\n",
    "                    shutil.rmtree(model_workspace / f)\n",
    "            generate_input_files.generate_inputs(model_workspace)\n",
    "    else:\n",
    "        generate_input_files.generate_inputs(model_workspace)\n",
    "# if the directory does not exist, generate the input files\n",
    "else:\n",
    "    print(\"Generating inputs now...\")\n",
    "    generate_input_files.generate_inputs(model_workspace)"
   ]
  },
  {
   "cell_type": "markdown",
   "metadata": {},
   "source": [
    "# Solve Model Scenarios"
   ]
  },
  {
   "cell_type": "markdown",
   "metadata": {},
   "source": [
    "### Option 1: Run as many parallel threads as possible\n",
    "\n",
    "If you would like to run as many scenarios in parallel as your machine can support, run the following cell. \n",
    "\n",
    "This will identify how many processor cores (n) exist on your machine, and automatically run (n-1) scenarios (or the total number of scnearios, whichever is less). This should leave at least one core of your machine open for other tasks, but we still recommend that you close all other windows/processes before starting this option."
   ]
  },
  {
   "cell_type": "code",
   "execution_count": null,
   "metadata": {},
   "outputs": [],
   "source": [
    "num_processors = mp.cpu_count()\n",
    "print(f\"This machine has {num_processors} CPU cores\")\n",
    "# get the number of scenarios to run\n",
    "num_scenarios = len(os.listdir(model_workspace / \"inputs\"))\n",
    "print(f\"There are {num_scenarios} scenarios to run\")\n",
    "# determine how many threads to open\n",
    "parallel_threads = min(num_processors - 1, num_scenarios)\n",
    "print(f\"Running {parallel_threads} scenarios in parallel...\")\n",
    "i = 0\n",
    "while i < parallel_threads:\n",
    "    os.system(\n",
    "        f'start cmd /k \"cd {model_run_location} & activate match_model & match solve-scenarios\"'\n",
    "    )\n",
    "    time.sleep(2)\n",
    "    i += 1"
   ]
  },
  {
   "cell_type": "markdown",
   "metadata": {},
   "source": [
    "## Option 2: Start scenarios one at a time\n",
    "\n",
    "If you would like to only open a single solver window, run the following cell. Each time you run the following cell will open a new parallel solver."
   ]
  },
  {
   "cell_type": "code",
   "execution_count": 3,
   "metadata": {},
   "outputs": [
    {
     "data": {
      "text/plain": [
       "0"
      ]
     },
     "execution_count": 3,
     "metadata": {},
     "output_type": "execute_result"
    }
   ],
   "source": [
    "os.system(\n",
    "    f'start cmd /k \"cd {model_run_location} & activate match_model & match solve-scenarios\"'\n",
    ")"
   ]
  }
 ],
 "metadata": {
  "kernelspec": {
   "display_name": "match_model",
   "language": "python",
   "name": "python3"
  },
  "language_info": {
   "codemirror_mode": {
    "name": "ipython",
    "version": 3
   },
   "file_extension": ".py",
   "mimetype": "text/x-python",
   "name": "python",
   "nbconvert_exporter": "python",
   "pygments_lexer": "ipython3",
   "version": "3.10.12"
  },
  "orig_nbformat": 2,
  "vscode": {
   "interpreter": {
    "hash": "8cecdc9c333a4ce383aca35893f636cff64c1ebdad329fede1961e67663e09e7"
   }
  }
 },
 "nbformat": 4,
 "nbformat_minor": 2
}
