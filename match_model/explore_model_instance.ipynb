{
 "cells": [
  {
   "cell_type": "markdown",
   "metadata": {},
   "source": [
    "# Explore Model Instance\n",
    "After a model is run, this notebook can be used to explore the model instance and results, if exported as pickle files.\n",
    "\n",
    "To export the model instance as a pickle file, `--save-instance` must be added to `options.txt` (NOTE: this will be a large file!)  \n",
    "MATCH will automatically export the model results as a pickle file unless the `--no-save-solution` is specified in `options.txt`  \n",
    "\n",
    "In order to explore duals and reduced costs, `-suffixes dual rc` must be added to `options.txt`"
   ]
  },
  {
   "cell_type": "code",
   "execution_count": 1,
   "metadata": {},
   "outputs": [],
   "source": [
    "from pathlib import Path\n",
    "import pickle\n",
    "import cloudpickle\n",
    "import pyomo.environ as pyo\n",
    "import pandas as pd\n",
    "\n",
    "# specify where the pickle file is located\n",
    "model_path = '../MODEL_RUNS/broken_dispatch/outputs/BAU_ABB_RA_5pen/'"
   ]
  },
  {
   "cell_type": "markdown",
   "metadata": {},
   "source": [
    "# Explore Model Instance"
   ]
  },
  {
   "cell_type": "code",
   "execution_count": 2,
   "metadata": {},
   "outputs": [],
   "source": [
    "# read instance file\n",
    "with open((Path.cwd() / model_path / 'instance.pickle'), mode='rb') as file:\n",
    "    instance = cloudpickle.load(file)"
   ]
  },
  {
   "cell_type": "code",
   "execution_count": null,
   "metadata": {},
   "outputs": [],
   "source": [
    "len(instance.GENERATION_PROJECTS)"
   ]
  },
  {
   "cell_type": "markdown",
   "metadata": {},
   "source": [
    "## Explore Sets"
   ]
  },
  {
   "cell_type": "code",
   "execution_count": null,
   "metadata": {},
   "outputs": [],
   "source": [
    "i = 0\n",
    "for setobject in instance.component_objects(pyo.Set, active=True):\n",
    "    nametoprint = str(str(setobject.name))\n",
    "    if '_index' in nametoprint:\n",
    "        pass\n",
    "    else:\n",
    "        print (\"Set \", nametoprint)  \n",
    "        i+=1\n",
    "print(f'Total Number of sets: {i}')"
   ]
  },
  {
   "cell_type": "code",
   "execution_count": null,
   "metadata": {},
   "outputs": [],
   "source": [
    "# to examine the set\n",
    "instance.GENS_BY_TECHNOLOGY.pprint()"
   ]
  },
  {
   "cell_type": "markdown",
   "metadata": {},
   "source": [
    "## Explore Parameters, Expressions, and Vars"
   ]
  },
  {
   "cell_type": "code",
   "execution_count": 3,
   "metadata": {},
   "outputs": [
    {
     "name": "stdout",
     "output_type": "stream",
     "text": [
      "Expression  GenCapacity\n",
      "Expression  GenCapacityCost\n",
      "Expression  TotalGenCapacityCost\n",
      "Expression  GenCapacityInTP\n",
      "Expression  ZoneTotalGeneratorDispatch\n",
      "Expression  GenPPACostInTP\n",
      "Expression  DispatchUpperLimit\n",
      "Expression  ExcessGen\n",
      "Expression  TotalGen\n",
      "Expression  AnnualTotalGen\n",
      "Expression  ZoneTotalExcessGen\n",
      "Expression  AnnualExcessGen\n",
      "Expression  ExcessGenPPACostInTP\n",
      "Expression  StorageEnergyCapacity\n",
      "Expression  ZoneTotalStorageDischarge\n",
      "Expression  ZoneTotalStorageCharge\n",
      "Expression  Battery_Cycle_Count\n",
      "Expression  StorageDispatchPnodeCost\n",
      "Expression  StorageNodalEnergyCostInTP\n",
      "Expression  StorageDispatchDeliveryCost\n",
      "Expression  HedgePremiumCostInTP\n",
      "Expression  total_demand_in_period\n",
      "Expression  total_generation_in_period\n",
      "Expression  total_storage_losses_in_period\n",
      "Expression  AvailableRACapacity\n",
      "Expression  AnnualRAOpenPositionCost\n",
      "Expression  RAExcess\n",
      "Expression  AnnualRAExcessValue\n",
      "Expression  AvailableFlexRACapacity\n",
      "Expression  AnnualFlexRAOpenPositionCost\n",
      "Expression  FlexRAExcess\n",
      "Expression  AnnualFlexRAExcessValue\n",
      "Expression  TotalRAOpenPositionCost\n",
      "Expression  LDESCapacity\n",
      "Expression  DLAPLoadCostInTP\n",
      "Expression  GenPnodeRevenue\n",
      "Expression  GenPnodeRevenueInTP\n",
      "Expression  ExcessGenPnodeRevenue\n",
      "Expression  ExcessGenPnodeRevenueInTP\n",
      "Expression  GenDeliveryCost\n",
      "Expression  SystemCostPerPeriod\n",
      "Expression  SystemCost\n"
     ]
    }
   ],
   "source": [
    "for ExpObject in instance.component_objects(pyo.Expression, active=True):\n",
    "    nametoprint = str(str(ExpObject.name))\n",
    "    print (\"Expression \", nametoprint) "
   ]
  },
  {
   "cell_type": "code",
   "execution_count": 12,
   "metadata": {},
   "outputs": [
    {
     "name": "stdout",
     "output_type": "stream",
     "text": [
      "{Member of BuildGen} : Size=19, Index=GEN_BLD_YRS\n",
      "    Key                       : Lower : Value : Upper : Fixed : Stale : Domain\n",
      "    ('Chaparral_Solar', 2025) :   102 : 102.0 : 102.0 : False : False : NonNegativeReals\n"
     ]
    }
   ],
   "source": [
    "instance.BuildGen['Chaparral_Solar',2025].pprint()"
   ]
  },
  {
   "cell_type": "code",
   "execution_count": 14,
   "metadata": {},
   "outputs": [
    {
     "name": "stdout",
     "output_type": "stream",
     "text": [
      "{Member of DispatchGen} : Size=122640, Index=NON_STORAGE_GEN_TPS\n",
      "    Key                     : Lower : Value              : Upper : Fixed : Stale : Domain\n",
      "    ('Chaparral_Solar', 37) :     0 : 130.08088583792997 :  None : False : False : NonNegativeReals\n"
     ]
    }
   ],
   "source": [
    "instance.DispatchGen['Chaparral_Solar',37].pprint()"
   ]
  },
  {
   "cell_type": "code",
   "execution_count": 13,
   "metadata": {},
   "outputs": [
    {
     "name": "stdout",
     "output_type": "stream",
     "text": [
      "{Member of DispatchUpperLimit} : Size=122640, Index=NON_STORAGE_GEN_TPS\n",
      "    Key                     : Expression\n",
      "    ('Chaparral_Solar', 37) : (BuildGen[Chaparral_Solar,2025])*0.99*0.44026149902499156\n"
     ]
    }
   ],
   "source": [
    "instance.DispatchUpperLimit['Chaparral_Solar',37].pprint()"
   ]
  },
  {
   "cell_type": "code",
   "execution_count": null,
   "metadata": {},
   "outputs": [],
   "source": [
    "pyo.value(instance.BuildGen['PVHYBRID_Chaparral_Springs', 2025])"
   ]
  },
  {
   "cell_type": "code",
   "execution_count": null,
   "metadata": {},
   "outputs": [],
   "source": [
    "# print all parameters\n",
    "i=0\n",
    "for parmobject in instance.component_objects(pyo.Param, active=True):\n",
    "    nametoprint = str(str(parmobject.name))\n",
    "    print (\"Parameter \", nametoprint)  \n",
    "    i+=1\n",
    "print(f'Total Number of parameters: {i}')"
   ]
  },
  {
   "cell_type": "code",
   "execution_count": null,
   "metadata": {},
   "outputs": [],
   "source": [
    "instance.add_one_to_period_end.pprint()"
   ]
  },
  {
   "cell_type": "markdown",
   "metadata": {},
   "source": [
    "## Explore Constraints\n",
    "I might not be able to access constraint values: https://stackoverflow.com/questions/50703321/how-to-retrieve-value-of-constraint-from-pyomo"
   ]
  },
  {
   "cell_type": "code",
   "execution_count": 4,
   "metadata": {},
   "outputs": [
    {
     "name": "stdout",
     "output_type": "stream",
     "text": [
      "Constraint Max_Build_Potential\n",
      "Constraint Enforce_Min_Build_Lower\n",
      "Constraint Enforce_Min_Build_Upper\n",
      "Constraint BuildVariants_Linking_Constraint\n",
      "Constraint Enforce_Single_Project_Variant\n",
      "Constraint Maximum_Annual_Curtailment\n",
      "Constraint Enforce_Dispatch_Upper_Limit\n",
      "Constraint Enforce_Minimum_Hybrid_Build\n",
      "Constraint Enforce_Maximum_Hybrid_Build\n",
      "Constraint Enforce_Fixed_Energy_Storage_Ratio\n",
      "Constraint Enforce_Storage_Discharge_Upper_Limit\n",
      "Constraint Enforce_Storage_Charge_Upper_Limit\n",
      "Constraint Limit_Storage_Simultaneous_Charge_Discharge\n",
      "Constraint Zonal_Charge_Storage_Upper_Limit\n",
      "Constraint Charge_Hybrid_Storage_Upper_Limit\n",
      "Constraint Hybrid_Discharge_Limit\n",
      "Constraint Track_State_Of_Charge\n",
      "Constraint State_Of_Charge_Upper_Limit\n",
      "Constraint Battery_Cycle_Limit\n",
      "Constraint Enforce_Annual_Renewable_Target\n",
      "Constraint RA_Purchase_Constraint\n",
      "Constraint FlexRA_Purchase_Constraint\n",
      "Constraint SellableExcessFlexRAConstraint_1\n",
      "Constraint SellableExcessFlexRAConstraint_2\n",
      "Constraint MidtermReliabilityRequirement_Constraint\n",
      "Constraint MidtermLDESRequirement_Constraint\n",
      "Constraint Zone_Energy_Balance\n"
     ]
    }
   ],
   "source": [
    "# list all of the constraints\n",
    "for c in instance.component_objects(pyo.Constraint, active=True):\n",
    "    print (\"Constraint\",c)"
   ]
  },
  {
   "cell_type": "code",
   "execution_count": 16,
   "metadata": {},
   "outputs": [
    {
     "name": "stdout",
     "output_type": "stream",
     "text": [
      "{Member of Enforce_Dispatch_Upper_Limit} : Size=122640, Index=NON_STORAGE_GEN_TPS, Active=True\n",
      "    Key                     : Lower : Body                                                                                          : Upper : Active\n",
      "    ('Chaparral_Solar', 37) :  -Inf : DispatchGen[Chaparral_Solar,37] - ((BuildGen[Chaparral_Solar,2025])*0.99*0.44026149902499156) :   0.0 :   True\n"
     ]
    }
   ],
   "source": [
    "instance.Enforce_Dispatch_Upper_Limit['Chaparral_Solar',37].pprint()"
   ]
  },
  {
   "cell_type": "code",
   "execution_count": 17,
   "metadata": {},
   "outputs": [
    {
     "name": "stdout",
     "output_type": "stream",
     "text": [
      "   Constraint Enforce_Dispatch_Upper_Limit\n",
      "       ('Bidwell_Ditch', 1) 0.0\n",
      "       ('Bidwell_Ditch', 2) 0.0\n",
      "       ('Bidwell_Ditch', 3) 0.0\n",
      "       ('Bidwell_Ditch', 4) 0.0\n"
     ]
    }
   ],
   "source": [
    "# can get numerical values of single constraint through lower, body, upper\n",
    "c = instance.Enforce_Dispatch_Upper_Limit\n",
    "print (\"   Constraint\",c)\n",
    "i = 1\n",
    "for index in c:\n",
    "    if i < 5:\n",
    "        print (\"      \", index, c[index].upper)\n",
    "        i+=1\n",
    "    else:\n",
    "        break"
   ]
  },
  {
   "cell_type": "markdown",
   "metadata": {},
   "source": [
    "## Explore Slack Values"
   ]
  },
  {
   "cell_type": "code",
   "execution_count": null,
   "metadata": {},
   "outputs": [],
   "source": [
    "# https://pyomo.readthedocs.io/en/stable/working_models.html#accessing-slacks\n",
    "\n",
    "c = instance.Zone_Energy_Balance\n",
    "print (\"   Constraint\",c)\n",
    "for index in c:\n",
    "    print (\"      \", index, round(c[index].lslack(),4), round(c[index].uslack(),4))\n"
   ]
  },
  {
   "cell_type": "code",
   "execution_count": null,
   "metadata": {},
   "outputs": [],
   "source": [
    "instance.dual[instance.Zone_Energy_Balance[('DLAPPGAE', 6789)]]"
   ]
  },
  {
   "cell_type": "markdown",
   "metadata": {},
   "source": [
    "# Explore Results"
   ]
  },
  {
   "cell_type": "markdown",
   "metadata": {},
   "source": []
  },
  {
   "cell_type": "markdown",
   "metadata": {},
   "source": [
    "The SolverResults object contains four main pieces of data:\n",
    " - Problem\n",
    " - Solver\n",
    " - Solution\n",
    " - Pyomo solve time"
   ]
  },
  {
   "cell_type": "code",
   "execution_count": 2,
   "metadata": {},
   "outputs": [
    {
     "name": "stdout",
     "output_type": "stream",
     "text": [
      "\n",
      "- Name: tmpo2u1nvmy\n",
      "  Lower bound: 250173783.56\n",
      "  Upper bound: 250180482.6772315\n",
      "  Number of objectives: 1\n",
      "  Number of constraints: 946296\n",
      "  Number of variables: 1200242\n",
      "  Number of binary variables: <undefined>\n",
      "  Number of integer variables: <undefined>\n",
      "  Number of continuous variables: <undefined>\n",
      "  Number of nonzeros: 4144877\n",
      "  Sense: minimize\n",
      "\n"
     ]
    }
   ],
   "source": [
    "# read results file\n",
    "with open((Path.cwd() / model_path / 'results.pickle'), 'rb') as file:\n",
    "    results = pickle.load(file)\n",
    "\n",
    "print(results.problem)"
   ]
  },
  {
   "cell_type": "code",
   "execution_count": null,
   "metadata": {},
   "outputs": [],
   "source": [
    "print(results.solver)"
   ]
  },
  {
   "cell_type": "code",
   "execution_count": null,
   "metadata": {},
   "outputs": [],
   "source": [
    "print(results.pyomo_solve_time)"
   ]
  },
  {
   "cell_type": "code",
   "execution_count": null,
   "metadata": {},
   "outputs": [],
   "source": [
    "print(results.solution)"
   ]
  },
  {
   "cell_type": "markdown",
   "metadata": {},
   "source": [
    "## Explore Reduced Costs"
   ]
  },
  {
   "cell_type": "code",
   "execution_count": null,
   "metadata": {},
   "outputs": [],
   "source": [
    "variable = 'BuildGen'\n",
    "variable_rc = pd.DataFrame.from_dict(results.solution.Variable, orient='index')\n",
    "variable_rc = variable_rc.reset_index()\n",
    "variable_rc[['Variable','index']] = variable_rc['index'].str.split('[', expand=True)\n",
    "variable_rc['index'] = variable_rc['index'].str.strip(']')\n",
    "\n",
    "variable_rc = variable_rc[['Variable','index','Value','Rc']]\n",
    "\n",
    "variable_rc = variable_rc[variable_rc['Variable'] == variable]\n",
    "\n",
    "# split the index into the load zone and timepoint components\n",
    "variable_rc[['generation_project','period']] = variable_rc['index'].str.split(',', expand=True)\n",
    "variable_rc = variable_rc.drop(columns=['period','index'])\n",
    "\n",
    "\"\"\"\n",
    "# load the variable capacity factor data\n",
    "vcf = pd.read_csv('../MODEL_RUNS/test_PCE/inputs/hourly_90/variable_capacity_factors.csv')\n",
    "\n",
    "# sum capacity factors by generator\n",
    "vcf = vcf.groupby('GENERATION_PROJECT').sum()[['variable_capacity_factor']].reset_index()\n",
    "\n",
    "gen_list = list(variable_rc['generation_project'].unique())\n",
    "\n",
    "for g in gen_list:\n",
    "    variable_rc.loc[variable_rc['generation_project'] == g, 'Rc'] = variable_rc.loc[variable_rc['generation_project'] == g, 'Rc'].item() / vcf.loc[vcf['GENERATION_PROJECT'] == g, 'variable_capacity_factor'].item()\n",
    "\"\"\"\n",
    "variable_rc"
   ]
  },
  {
   "cell_type": "code",
   "execution_count": null,
   "metadata": {},
   "outputs": [],
   "source": [
    "g = 'WAVE_Calwave'\n",
    "variable_rc.loc[variable_rc['generation_project'] == g, 'Rc'].item() / vcf.loc[vcf['GENERATION_PROJECT'] == g, 'variable_capacity_factor'].item()"
   ]
  },
  {
   "cell_type": "code",
   "execution_count": null,
   "metadata": {},
   "outputs": [],
   "source": [
    "variable_rc.loc[variable_rc['generation_project'] == g, 'Rc']"
   ]
  },
  {
   "cell_type": "markdown",
   "metadata": {},
   "source": [
    "## Explore Duals"
   ]
  },
  {
   "cell_type": "code",
   "execution_count": null,
   "metadata": {},
   "outputs": [],
   "source": [
    "# load the duals into a dataframe and reset the index\n",
    "constraint_duals = pd.DataFrame.from_dict(results.solution.Constraint, orient='index')\n",
    "constraint_duals = constraint_duals.reset_index()\n",
    "\n",
    "# split the index into columns for the constraint name and the index value\n",
    "constraint_duals[['Constraint','index']] = constraint_duals['index'].str.split('[', expand=True)\n",
    "#constraint_duals['index'] = '[' + constraint_duals['index']\n",
    "constraint_duals['index'] = constraint_duals['index'].str.strip(']')"
   ]
  },
  {
   "cell_type": "code",
   "execution_count": null,
   "metadata": {},
   "outputs": [],
   "source": [
    "constraint_duals.Constraint.unique()"
   ]
  },
  {
   "cell_type": "code",
   "execution_count": null,
   "metadata": {},
   "outputs": [],
   "source": [
    "constraint = 'MidtermReliabilityRequirement_Constraint'\n",
    "# filter the constraints to the zone energy balance\n",
    "constraint_duals[constraint_duals['Constraint'] == constraint]"
   ]
  },
  {
   "cell_type": "code",
   "execution_count": null,
   "metadata": {},
   "outputs": [],
   "source": [
    "constraint = 'Zone_Energy_Balance'\n",
    "\n",
    "# load the duals into a dataframe and reset the index\n",
    "constraint_duals = pd.DataFrame.from_dict(results.solution.Constraint, orient='index')\n",
    "constraint_duals = constraint_duals.reset_index()\n",
    "\n",
    "# split the index into columns for the constraint name and the index value\n",
    "constraint_duals[['Constraint','index']] = constraint_duals['index'].str.split('[', expand=True)\n",
    "#constraint_duals['index'] = '[' + constraint_duals['index']\n",
    "constraint_duals['index'] = constraint_duals['index'].str.strip(']')\n",
    "\n",
    "# filter the constraints to the zone energy balance\n",
    "constraint_duals = constraint_duals[constraint_duals['Constraint'] == constraint]\n",
    "\n",
    "# split the index into the load zone and timepoint components\n",
    "constraint_duals[['load_zone','timepoint']] = constraint_duals['index'].str.split(',', expand=True)\n",
    "constraint_duals['timepoint'] = constraint_duals['timepoint'].astype(int)\n",
    "constraint_duals = constraint_duals.drop(columns=['index'])\n",
    "\n",
    "# sort the values\n",
    "constraint_duals = constraint_duals.sort_values(by=['load_zone','timepoint'])\n",
    "\n",
    "#re-order columns\n",
    "constraint_duals = constraint_duals[['Constraint', 'load_zone','timepoint','Dual']]\n",
    "\n",
    "\n",
    "constraint_duals"
   ]
  },
  {
   "cell_type": "code",
   "execution_count": null,
   "metadata": {},
   "outputs": [],
   "source": [
    "import plotly.express as px\n",
    "\n",
    "px.line(constraint_duals, x='timepoint', y='Dual')"
   ]
  }
 ],
 "metadata": {
  "interpreter": {
   "hash": "b1778606320a67ef539dd1b715deb330623331b463bae4e93fc5977f8bb68e72"
  },
  "kernelspec": {
   "display_name": "Python 3.8.10 64-bit ('switch_247': conda)",
   "name": "python3"
  },
  "language_info": {
   "codemirror_mode": {
    "name": "ipython",
    "version": 3
   },
   "file_extension": ".py",
   "mimetype": "text/x-python",
   "name": "python",
   "nbconvert_exporter": "python",
   "pygments_lexer": "ipython3",
   "version": "3.8.10"
  },
  "orig_nbformat": 4
 },
 "nbformat": 4,
 "nbformat_minor": 2
}
